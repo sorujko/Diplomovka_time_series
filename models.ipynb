{
 "cells": [
  {
   "cell_type": "code",
   "execution_count": 2,
   "metadata": {},
   "outputs": [],
   "source": [
    "import pandas as pd"
   ]
  },
  {
   "cell_type": "code",
   "execution_count": 5,
   "metadata": {},
   "outputs": [
    {
     "data": {
      "text/html": [
       "<div>\n",
       "<style scoped>\n",
       "    .dataframe tbody tr th:only-of-type {\n",
       "        vertical-align: middle;\n",
       "    }\n",
       "\n",
       "    .dataframe tbody tr th {\n",
       "        vertical-align: top;\n",
       "    }\n",
       "\n",
       "    .dataframe thead th {\n",
       "        text-align: right;\n",
       "    }\n",
       "</style>\n",
       "<table border=\"1\" class=\"dataframe\">\n",
       "  <thead>\n",
       "    <tr style=\"text-align: right;\">\n",
       "      <th></th>\n",
       "      <th>Value</th>\n",
       "    </tr>\n",
       "    <tr>\n",
       "      <th>Year</th>\n",
       "      <th></th>\n",
       "    </tr>\n",
       "  </thead>\n",
       "  <tbody>\n",
       "    <tr>\n",
       "      <th>1990-01-01</th>\n",
       "      <td>1.291505e+10</td>\n",
       "    </tr>\n",
       "    <tr>\n",
       "      <th>1991-01-01</th>\n",
       "      <td>1.445992e+10</td>\n",
       "    </tr>\n",
       "    <tr>\n",
       "      <th>1992-01-01</th>\n",
       "      <td>1.569933e+10</td>\n",
       "    </tr>\n",
       "    <tr>\n",
       "      <th>1993-01-01</th>\n",
       "      <td>1.673797e+10</td>\n",
       "    </tr>\n",
       "    <tr>\n",
       "      <th>1994-01-01</th>\n",
       "      <td>2.042814e+10</td>\n",
       "    </tr>\n",
       "  </tbody>\n",
       "</table>\n",
       "</div>"
      ],
      "text/plain": [
       "                   Value\n",
       "Year                    \n",
       "1990-01-01  1.291505e+10\n",
       "1991-01-01  1.445992e+10\n",
       "1992-01-01  1.569933e+10\n",
       "1993-01-01  1.673797e+10\n",
       "1994-01-01  2.042814e+10"
      ]
     },
     "execution_count": 5,
     "metadata": {},
     "output_type": "execute_result"
    }
   ],
   "source": [
    "df = pd.read_parquet('data/base/Slovakia_GDP_(USD).parquet')\n",
    "df = df.set_index('Year')\n",
    "df.index = pd.to_datetime(df.index, format='%Y')\n",
    "df = df.drop('Indicator', axis = 1)\n",
    "df = df.dropna()\n",
    "df.head()"
   ]
  },
  {
   "cell_type": "markdown",
   "metadata": {},
   "source": [
    "### ACTUAL"
   ]
  },
  {
   "cell_type": "code",
   "execution_count": null,
   "metadata": {},
   "outputs": [
    {
     "name": "stderr",
     "output_type": "stream",
     "text": [
      "c:\\Users\\admin\\Desktop\\diplomovka\\Code\\Model_staff\\myenv\\Lib\\site-packages\\tqdm\\auto.py:21: TqdmWarning: IProgress not found. Please update jupyter and ipywidgets. See https://ipywidgets.readthedocs.io/en/stable/user_install.html\n",
      "  from .autonotebook import tqdm as notebook_tqdm\n"
     ]
    },
    {
     "name": "stdout",
     "output_type": "stream",
     "text": [
      "Loading parameters from best_params\\GDP per Capita (USD)\\XGBoost_Czech Republic.json...\n",
      "Loaded best parameters for Czech Republic - GDP per Capita (USD) from best_params\\GDP per Capita (USD)\\ARIMA_Czech Republic.json: {'p': 12, 'd': 2, 'q': 6}\n"
     ]
    },
    {
     "name": "stderr",
     "output_type": "stream",
     "text": [
      "c:\\Users\\admin\\Desktop\\diplomovka\\Code\\Model_staff\\myenv\\Lib\\site-packages\\statsmodels\\base\\model.py:607: ConvergenceWarning: Maximum Likelihood optimization failed to converge. Check mle_retvals\n",
      "  warnings.warn(\"Maximum Likelihood optimization failed to \"\n"
     ]
    },
    {
     "name": "stdout",
     "output_type": "stream",
     "text": [
      "Loaded best parameters for Czech Republic - GDP per Capita (USD) from best_params\\GDP per Capita (USD)\\Holt_Winters_Czech Republic.json: {'trend': 'mul', 'damped_trend': False, 'smoothing_level': 0.5, 'smoothing_slope': 0.1, 'initialization_method': None}\n"
     ]
    },
    {
     "name": "stderr",
     "output_type": "stream",
     "text": [
      "c:\\Users\\admin\\Desktop\\diplomovka\\Code\\Model_staff\\myenv\\Lib\\site-packages\\statsmodels\\tsa\\base\\tsa_model.py:473: ValueWarning: No frequency information was provided, so inferred frequency YS-JAN will be used.\n",
      "  self._init_dates(dates, freq)\n",
      "C:\\Users\\admin\\AppData\\Local\\Temp\\ipykernel_2388\\506649542.py:376: FutureWarning: the 'smoothing_slope' keyword is deprecated, use 'smoothing_trend' instead.\n",
      "  best_fitted_model = best_model.fit(\n",
      "c:\\Users\\admin\\Desktop\\diplomovka\\Code\\Model_staff\\myenv\\Lib\\site-packages\\statsmodels\\tsa\\holtwinters\\model.py:918: ConvergenceWarning: Optimization failed to converge. Check mle_retvals.\n",
      "  warnings.warn(\n"
     ]
    },
    {
     "name": "stdout",
     "output_type": "stream",
     "text": [
      "Best Parameters used for Czech Republic - GDP per Capita (USD): {'trend': 'mul', 'damped_trend': False, 'smoothing_level': 0.5, 'smoothing_slope': 0.1, 'initialization_method': None}\n",
      "Loading parameters from best_params\\GDP per Capita (USD)\\LSTM_Czech Republic.json...\n"
     ]
    },
    {
     "name": "stderr",
     "output_type": "stream",
     "text": [
      "c:\\Users\\admin\\Desktop\\diplomovka\\Code\\Model_staff\\myenv\\Lib\\site-packages\\keras\\src\\layers\\rnn\\rnn.py:200: UserWarning: Do not pass an `input_shape`/`input_dim` argument to a layer. When using Sequential models, prefer using an `Input(shape)` object as the first layer in the model instead.\n",
      "  super().__init__(**kwargs)\n",
      "c:\\Users\\admin\\Desktop\\diplomovka\\Code\\Model_staff\\myenv\\Lib\\site-packages\\keras\\src\\callbacks\\early_stopping.py:153: UserWarning: Early stopping conditioned on metric `val_loss` which is not available. Available metrics are: loss\n",
      "  current = self.get_monitor_value(logs)\n",
      "22:11:05 - cmdstanpy - INFO - Chain [1] start processing\n"
     ]
    },
    {
     "name": "stdout",
     "output_type": "stream",
     "text": [
      "Loading parameters from best_params\\GDP per Capita (USD)\\Prophet_Czech Republic.json...\n"
     ]
    },
    {
     "name": "stderr",
     "output_type": "stream",
     "text": [
      "22:11:05 - cmdstanpy - INFO - Chain [1] done processing\n",
      "c:\\Users\\admin\\Desktop\\diplomovka\\Code\\Model_staff\\myenv\\Lib\\site-packages\\prophet\\forecaster.py:1854: FutureWarning: 'Y' is deprecated and will be removed in a future version, please use 'YE' instead.\n",
      "  dates = pd.date_range(\n"
     ]
    },
    {
     "name": "stdout",
     "output_type": "stream",
     "text": [
      "Loading parameters from best_params\\GDP (USD)\\XGBoost_Czech Republic.json...\n",
      "Loaded best parameters for Czech Republic - GDP (USD) from best_params\\GDP (USD)\\ARIMA_Czech Republic.json: {'p': 10, 'd': 2, 'q': 4}\n"
     ]
    },
    {
     "name": "stderr",
     "output_type": "stream",
     "text": [
      "c:\\Users\\admin\\Desktop\\diplomovka\\Code\\Model_staff\\myenv\\Lib\\site-packages\\statsmodels\\tsa\\statespace\\sarimax.py:966: UserWarning: Non-stationary starting autoregressive parameters found. Using zeros as starting parameters.\n",
      "  warn('Non-stationary starting autoregressive parameters'\n",
      "c:\\Users\\admin\\Desktop\\diplomovka\\Code\\Model_staff\\myenv\\Lib\\site-packages\\statsmodels\\tsa\\statespace\\sarimax.py:978: UserWarning: Non-invertible starting MA parameters found. Using zeros as starting parameters.\n",
      "  warn('Non-invertible starting MA parameters found.'\n",
      "c:\\Users\\admin\\Desktop\\diplomovka\\Code\\Model_staff\\myenv\\Lib\\site-packages\\statsmodels\\base\\model.py:607: ConvergenceWarning: Maximum Likelihood optimization failed to converge. Check mle_retvals\n",
      "  warnings.warn(\"Maximum Likelihood optimization failed to \"\n"
     ]
    },
    {
     "name": "stdout",
     "output_type": "stream",
     "text": [
      "Loaded best parameters for Czech Republic - GDP (USD) from best_params\\GDP (USD)\\Holt_Winters_Czech Republic.json: {'trend': 'mul', 'damped_trend': False, 'smoothing_level': 0.5, 'smoothing_slope': 0.1, 'initialization_method': None}\n"
     ]
    },
    {
     "name": "stderr",
     "output_type": "stream",
     "text": [
      "c:\\Users\\admin\\Desktop\\diplomovka\\Code\\Model_staff\\myenv\\Lib\\site-packages\\statsmodels\\tsa\\base\\tsa_model.py:473: ValueWarning: No frequency information was provided, so inferred frequency YS-JAN will be used.\n",
      "  self._init_dates(dates, freq)\n",
      "C:\\Users\\admin\\AppData\\Local\\Temp\\ipykernel_2388\\506649542.py:376: FutureWarning: the 'smoothing_slope' keyword is deprecated, use 'smoothing_trend' instead.\n",
      "  best_fitted_model = best_model.fit(\n",
      "c:\\Users\\admin\\Desktop\\diplomovka\\Code\\Model_staff\\myenv\\Lib\\site-packages\\statsmodels\\tsa\\holtwinters\\model.py:918: ConvergenceWarning: Optimization failed to converge. Check mle_retvals.\n",
      "  warnings.warn(\n"
     ]
    },
    {
     "name": "stdout",
     "output_type": "stream",
     "text": [
      "Best Parameters used for Czech Republic - GDP (USD): {'trend': 'mul', 'damped_trend': False, 'smoothing_level': 0.5, 'smoothing_slope': 0.1, 'initialization_method': None}\n",
      "Loading parameters from best_params\\GDP (USD)\\LSTM_Czech Republic.json...\n"
     ]
    },
    {
     "name": "stderr",
     "output_type": "stream",
     "text": [
      "c:\\Users\\admin\\Desktop\\diplomovka\\Code\\Model_staff\\myenv\\Lib\\site-packages\\keras\\src\\layers\\rnn\\rnn.py:200: UserWarning: Do not pass an `input_shape`/`input_dim` argument to a layer. When using Sequential models, prefer using an `Input(shape)` object as the first layer in the model instead.\n",
      "  super().__init__(**kwargs)\n",
      "c:\\Users\\admin\\Desktop\\diplomovka\\Code\\Model_staff\\myenv\\Lib\\site-packages\\keras\\src\\callbacks\\early_stopping.py:153: UserWarning: Early stopping conditioned on metric `val_loss` which is not available. Available metrics are: loss\n",
      "  current = self.get_monitor_value(logs)\n",
      "22:11:23 - cmdstanpy - INFO - Chain [1] start processing\n"
     ]
    },
    {
     "name": "stdout",
     "output_type": "stream",
     "text": [
      "Loading parameters from best_params\\GDP (USD)\\Prophet_Czech Republic.json...\n"
     ]
    },
    {
     "name": "stderr",
     "output_type": "stream",
     "text": [
      "22:11:23 - cmdstanpy - INFO - Chain [1] done processing\n",
      "c:\\Users\\admin\\Desktop\\diplomovka\\Code\\Model_staff\\myenv\\Lib\\site-packages\\prophet\\forecaster.py:1854: FutureWarning: 'Y' is deprecated and will be removed in a future version, please use 'YE' instead.\n",
      "  dates = pd.date_range(\n"
     ]
    },
    {
     "name": "stdout",
     "output_type": "stream",
     "text": [
      "Loading parameters from best_params\\Inflation (CPI)\\XGBoost_Czech Republic.json...\n",
      "Loaded best parameters for Czech Republic - Inflation (CPI) from best_params\\Inflation (CPI)\\ARIMA_Czech Republic.json: {'p': 0, 'd': 3, 'q': 0}\n",
      "Loaded best parameters for Czech Republic - Inflation (CPI) from best_params\\Inflation (CPI)\\Holt_Winters_Czech Republic.json: {'trend': 'mul', 'damped_trend': False, 'smoothing_level': 0.8, 'smoothing_slope': 0.8, 'initialization_method': None}\n"
     ]
    },
    {
     "name": "stderr",
     "output_type": "stream",
     "text": [
      "c:\\Users\\admin\\Desktop\\diplomovka\\Code\\Model_staff\\myenv\\Lib\\site-packages\\statsmodels\\tsa\\base\\tsa_model.py:473: ValueWarning: No frequency information was provided, so inferred frequency YS-JAN will be used.\n",
      "  self._init_dates(dates, freq)\n",
      "C:\\Users\\admin\\AppData\\Local\\Temp\\ipykernel_2388\\506649542.py:376: FutureWarning: the 'smoothing_slope' keyword is deprecated, use 'smoothing_trend' instead.\n",
      "  best_fitted_model = best_model.fit(\n"
     ]
    },
    {
     "name": "stdout",
     "output_type": "stream",
     "text": [
      "Best Parameters used for Czech Republic - Inflation (CPI): {'trend': 'mul', 'damped_trend': False, 'smoothing_level': 0.8, 'smoothing_slope': 0.8, 'initialization_method': None}\n",
      "Loading parameters from best_params\\Inflation (CPI)\\LSTM_Czech Republic.json...\n"
     ]
    },
    {
     "name": "stderr",
     "output_type": "stream",
     "text": [
      "c:\\Users\\admin\\Desktop\\diplomovka\\Code\\Model_staff\\myenv\\Lib\\site-packages\\keras\\src\\layers\\rnn\\rnn.py:200: UserWarning: Do not pass an `input_shape`/`input_dim` argument to a layer. When using Sequential models, prefer using an `Input(shape)` object as the first layer in the model instead.\n",
      "  super().__init__(**kwargs)\n",
      "c:\\Users\\admin\\Desktop\\diplomovka\\Code\\Model_staff\\myenv\\Lib\\site-packages\\keras\\src\\callbacks\\early_stopping.py:153: UserWarning: Early stopping conditioned on metric `val_loss` which is not available. Available metrics are: loss\n",
      "  current = self.get_monitor_value(logs)\n",
      "22:11:37 - cmdstanpy - INFO - Chain [1] start processing\n"
     ]
    },
    {
     "name": "stdout",
     "output_type": "stream",
     "text": [
      "Loading parameters from best_params\\Inflation (CPI)\\Prophet_Czech Republic.json...\n"
     ]
    },
    {
     "name": "stderr",
     "output_type": "stream",
     "text": [
      "22:11:47 - cmdstanpy - INFO - Chain [1] done processing\n",
      "c:\\Users\\admin\\Desktop\\diplomovka\\Code\\Model_staff\\myenv\\Lib\\site-packages\\prophet\\forecaster.py:1854: FutureWarning: 'Y' is deprecated and will be removed in a future version, please use 'YE' instead.\n",
      "  dates = pd.date_range(\n"
     ]
    },
    {
     "name": "stdout",
     "output_type": "stream",
     "text": [
      "Loading parameters from best_params\\Unemployment Rate (%)\\XGBoost_Czech Republic.json...\n",
      "Loaded best parameters for Czech Republic - Unemployment Rate (%) from best_params\\Unemployment Rate (%)\\ARIMA_Czech Republic.json: {'p': 9, 'd': 1, 'q': 6}\n"
     ]
    },
    {
     "name": "stderr",
     "output_type": "stream",
     "text": [
      "c:\\Users\\admin\\Desktop\\diplomovka\\Code\\Model_staff\\myenv\\Lib\\site-packages\\statsmodels\\base\\model.py:607: ConvergenceWarning: Maximum Likelihood optimization failed to converge. Check mle_retvals\n",
      "  warnings.warn(\"Maximum Likelihood optimization failed to \"\n"
     ]
    },
    {
     "name": "stdout",
     "output_type": "stream",
     "text": [
      "Loaded best parameters for Czech Republic - Unemployment Rate (%) from best_params\\Unemployment Rate (%)\\Holt_Winters_Czech Republic.json: {'trend': 'mul', 'damped_trend': True, 'smoothing_level': None, 'smoothing_slope': 0.7, 'initialization_method': None}\n"
     ]
    },
    {
     "name": "stderr",
     "output_type": "stream",
     "text": [
      "c:\\Users\\admin\\Desktop\\diplomovka\\Code\\Model_staff\\myenv\\Lib\\site-packages\\statsmodels\\tsa\\base\\tsa_model.py:473: ValueWarning: No frequency information was provided, so inferred frequency YS-JAN will be used.\n",
      "  self._init_dates(dates, freq)\n",
      "C:\\Users\\admin\\AppData\\Local\\Temp\\ipykernel_2388\\506649542.py:376: FutureWarning: the 'smoothing_slope' keyword is deprecated, use 'smoothing_trend' instead.\n",
      "  best_fitted_model = best_model.fit(\n"
     ]
    },
    {
     "name": "stdout",
     "output_type": "stream",
     "text": [
      "Best Parameters used for Czech Republic - Unemployment Rate (%): {'trend': 'mul', 'damped_trend': True, 'smoothing_level': None, 'smoothing_slope': 0.7, 'initialization_method': None}\n",
      "Loading parameters from best_params\\Unemployment Rate (%)\\LSTM_Czech Republic.json...\n"
     ]
    },
    {
     "name": "stderr",
     "output_type": "stream",
     "text": [
      "c:\\Users\\admin\\Desktop\\diplomovka\\Code\\Model_staff\\myenv\\Lib\\site-packages\\keras\\src\\layers\\rnn\\rnn.py:200: UserWarning: Do not pass an `input_shape`/`input_dim` argument to a layer. When using Sequential models, prefer using an `Input(shape)` object as the first layer in the model instead.\n",
      "  super().__init__(**kwargs)\n",
      "c:\\Users\\admin\\Desktop\\diplomovka\\Code\\Model_staff\\myenv\\Lib\\site-packages\\keras\\src\\callbacks\\early_stopping.py:153: UserWarning: Early stopping conditioned on metric `val_loss` which is not available. Available metrics are: loss\n",
      "  current = self.get_monitor_value(logs)\n",
      "22:11:59 - cmdstanpy - INFO - Chain [1] start processing\n"
     ]
    },
    {
     "name": "stdout",
     "output_type": "stream",
     "text": [
      "Loading parameters from best_params\\Unemployment Rate (%)\\Prophet_Czech Republic.json...\n"
     ]
    },
    {
     "name": "stderr",
     "output_type": "stream",
     "text": [
      "22:12:00 - cmdstanpy - INFO - Chain [1] done processing\n",
      "c:\\Users\\admin\\Desktop\\diplomovka\\Code\\Model_staff\\myenv\\Lib\\site-packages\\prophet\\forecaster.py:1854: FutureWarning: 'Y' is deprecated and will be removed in a future version, please use 'YE' instead.\n",
      "  dates = pd.date_range(\n"
     ]
    },
    {
     "name": "stdout",
     "output_type": "stream",
     "text": [
      "Loading parameters from best_params\\GDP growth (annual %)\\XGBoost_Czech Republic.json...\n",
      "Loaded best parameters for Czech Republic - GDP growth (annual %) from best_params\\GDP growth (annual %)\\ARIMA_Czech Republic.json: {'p': 11, 'd': 0, 'q': 5}\n"
     ]
    },
    {
     "name": "stderr",
     "output_type": "stream",
     "text": [
      "c:\\Users\\admin\\Desktop\\diplomovka\\Code\\Model_staff\\myenv\\Lib\\site-packages\\statsmodels\\tsa\\statespace\\sarimax.py:966: UserWarning: Non-stationary starting autoregressive parameters found. Using zeros as starting parameters.\n",
      "  warn('Non-stationary starting autoregressive parameters'\n",
      "c:\\Users\\admin\\Desktop\\diplomovka\\Code\\Model_staff\\myenv\\Lib\\site-packages\\statsmodels\\tsa\\statespace\\sarimax.py:978: UserWarning: Non-invertible starting MA parameters found. Using zeros as starting parameters.\n",
      "  warn('Non-invertible starting MA parameters found.'\n",
      "c:\\Users\\admin\\Desktop\\diplomovka\\Code\\Model_staff\\myenv\\Lib\\site-packages\\statsmodels\\base\\model.py:607: ConvergenceWarning: Maximum Likelihood optimization failed to converge. Check mle_retvals\n",
      "  warnings.warn(\"Maximum Likelihood optimization failed to \"\n"
     ]
    },
    {
     "name": "stdout",
     "output_type": "stream",
     "text": [
      "Loaded best parameters for Czech Republic - GDP growth (annual %) from best_params\\GDP growth (annual %)\\Holt_Winters_Czech Republic.json: {'trend': 'add', 'damped_trend': True, 'smoothing_level': 0.8, 'smoothing_slope': 0.9, 'initialization_method': None}\n"
     ]
    },
    {
     "name": "stderr",
     "output_type": "stream",
     "text": [
      "c:\\Users\\admin\\Desktop\\diplomovka\\Code\\Model_staff\\myenv\\Lib\\site-packages\\statsmodels\\tsa\\base\\tsa_model.py:473: ValueWarning: No frequency information was provided, so inferred frequency YS-JAN will be used.\n",
      "  self._init_dates(dates, freq)\n",
      "C:\\Users\\admin\\AppData\\Local\\Temp\\ipykernel_2388\\506649542.py:376: FutureWarning: the 'smoothing_slope' keyword is deprecated, use 'smoothing_trend' instead.\n",
      "  best_fitted_model = best_model.fit(\n"
     ]
    },
    {
     "name": "stdout",
     "output_type": "stream",
     "text": [
      "Best Parameters used for Czech Republic - GDP growth (annual %): {'trend': 'add', 'damped_trend': True, 'smoothing_level': 0.8, 'smoothing_slope': 0.9, 'initialization_method': None}\n",
      "Loading parameters from best_params\\GDP growth (annual %)\\LSTM_Czech Republic.json...\n"
     ]
    },
    {
     "name": "stderr",
     "output_type": "stream",
     "text": [
      "c:\\Users\\admin\\Desktop\\diplomovka\\Code\\Model_staff\\myenv\\Lib\\site-packages\\keras\\src\\layers\\rnn\\rnn.py:200: UserWarning: Do not pass an `input_shape`/`input_dim` argument to a layer. When using Sequential models, prefer using an `Input(shape)` object as the first layer in the model instead.\n",
      "  super().__init__(**kwargs)\n",
      "c:\\Users\\admin\\Desktop\\diplomovka\\Code\\Model_staff\\myenv\\Lib\\site-packages\\keras\\src\\callbacks\\early_stopping.py:153: UserWarning: Early stopping conditioned on metric `val_loss` which is not available. Available metrics are: loss\n",
      "  current = self.get_monitor_value(logs)\n",
      "22:12:15 - cmdstanpy - INFO - Chain [1] start processing\n",
      "22:12:15 - cmdstanpy - INFO - Chain [1] done processing\n"
     ]
    },
    {
     "name": "stdout",
     "output_type": "stream",
     "text": [
      "Loading parameters from best_params\\GDP growth (annual %)\\Prophet_Czech Republic.json...\n"
     ]
    },
    {
     "name": "stderr",
     "output_type": "stream",
     "text": [
      "c:\\Users\\admin\\Desktop\\diplomovka\\Code\\Model_staff\\myenv\\Lib\\site-packages\\prophet\\forecaster.py:1854: FutureWarning: 'Y' is deprecated and will be removed in a future version, please use 'YE' instead.\n",
      "  dates = pd.date_range(\n"
     ]
    },
    {
     "name": "stdout",
     "output_type": "stream",
     "text": [
      "Loading parameters from best_params\\Imports of goods and services (% of GDP)\\XGBoost_Czech Republic.json...\n",
      "Loaded best parameters for Czech Republic - Imports of goods and services (% of GDP) from best_params\\Imports of goods and services (% of GDP)\\ARIMA_Czech Republic.json: {'p': 7, 'd': 0, 'q': 4}\n"
     ]
    },
    {
     "name": "stderr",
     "output_type": "stream",
     "text": [
      "c:\\Users\\admin\\Desktop\\diplomovka\\Code\\Model_staff\\myenv\\Lib\\site-packages\\statsmodels\\tsa\\statespace\\sarimax.py:966: UserWarning: Non-stationary starting autoregressive parameters found. Using zeros as starting parameters.\n",
      "  warn('Non-stationary starting autoregressive parameters'\n",
      "c:\\Users\\admin\\Desktop\\diplomovka\\Code\\Model_staff\\myenv\\Lib\\site-packages\\statsmodels\\tsa\\statespace\\sarimax.py:978: UserWarning: Non-invertible starting MA parameters found. Using zeros as starting parameters.\n",
      "  warn('Non-invertible starting MA parameters found.'\n",
      "c:\\Users\\admin\\Desktop\\diplomovka\\Code\\Model_staff\\myenv\\Lib\\site-packages\\statsmodels\\base\\model.py:607: ConvergenceWarning: Maximum Likelihood optimization failed to converge. Check mle_retvals\n",
      "  warnings.warn(\"Maximum Likelihood optimization failed to \"\n"
     ]
    },
    {
     "name": "stdout",
     "output_type": "stream",
     "text": [
      "Loaded best parameters for Czech Republic - Imports of goods and services (% of GDP) from best_params\\Imports of goods and services (% of GDP)\\Holt_Winters_Czech Republic.json: {'trend': 'mul', 'damped_trend': True, 'smoothing_level': 0.9, 'smoothing_slope': 0.6, 'initialization_method': None}\n"
     ]
    },
    {
     "name": "stderr",
     "output_type": "stream",
     "text": [
      "c:\\Users\\admin\\Desktop\\diplomovka\\Code\\Model_staff\\myenv\\Lib\\site-packages\\statsmodels\\tsa\\base\\tsa_model.py:473: ValueWarning: No frequency information was provided, so inferred frequency YS-JAN will be used.\n",
      "  self._init_dates(dates, freq)\n",
      "C:\\Users\\admin\\AppData\\Local\\Temp\\ipykernel_2388\\506649542.py:376: FutureWarning: the 'smoothing_slope' keyword is deprecated, use 'smoothing_trend' instead.\n",
      "  best_fitted_model = best_model.fit(\n"
     ]
    },
    {
     "name": "stdout",
     "output_type": "stream",
     "text": [
      "Best Parameters used for Czech Republic - Imports of goods and services (% of GDP): {'trend': 'mul', 'damped_trend': True, 'smoothing_level': 0.9, 'smoothing_slope': 0.6, 'initialization_method': None}\n",
      "Loading parameters from best_params\\Imports of goods and services (% of GDP)\\LSTM_Czech Republic.json...\n"
     ]
    },
    {
     "name": "stderr",
     "output_type": "stream",
     "text": [
      "c:\\Users\\admin\\Desktop\\diplomovka\\Code\\Model_staff\\myenv\\Lib\\site-packages\\keras\\src\\layers\\rnn\\rnn.py:200: UserWarning: Do not pass an `input_shape`/`input_dim` argument to a layer. When using Sequential models, prefer using an `Input(shape)` object as the first layer in the model instead.\n",
      "  super().__init__(**kwargs)\n",
      "c:\\Users\\admin\\Desktop\\diplomovka\\Code\\Model_staff\\myenv\\Lib\\site-packages\\keras\\src\\callbacks\\early_stopping.py:153: UserWarning: Early stopping conditioned on metric `val_loss` which is not available. Available metrics are: loss\n",
      "  current = self.get_monitor_value(logs)\n",
      "22:12:29 - cmdstanpy - INFO - Chain [1] start processing\n",
      "22:12:29 - cmdstanpy - INFO - Chain [1] done processing\n"
     ]
    },
    {
     "name": "stdout",
     "output_type": "stream",
     "text": [
      "Loading parameters from best_params\\Imports of goods and services (% of GDP)\\Prophet_Czech Republic.json...\n"
     ]
    },
    {
     "name": "stderr",
     "output_type": "stream",
     "text": [
      "c:\\Users\\admin\\Desktop\\diplomovka\\Code\\Model_staff\\myenv\\Lib\\site-packages\\prophet\\forecaster.py:1854: FutureWarning: 'Y' is deprecated and will be removed in a future version, please use 'YE' instead.\n",
      "  dates = pd.date_range(\n"
     ]
    },
    {
     "name": "stdout",
     "output_type": "stream",
     "text": [
      "Loading parameters from best_params\\Exports of goods and services (% of GDP)\\XGBoost_Czech Republic.json...\n",
      "Loaded best parameters for Czech Republic - Exports of goods and services (% of GDP) from best_params\\Exports of goods and services (% of GDP)\\ARIMA_Czech Republic.json: {'p': 4, 'd': 0, 'q': 4}\n"
     ]
    },
    {
     "name": "stderr",
     "output_type": "stream",
     "text": [
      "c:\\Users\\admin\\Desktop\\diplomovka\\Code\\Model_staff\\myenv\\Lib\\site-packages\\statsmodels\\tsa\\statespace\\sarimax.py:966: UserWarning: Non-stationary starting autoregressive parameters found. Using zeros as starting parameters.\n",
      "  warn('Non-stationary starting autoregressive parameters'\n",
      "c:\\Users\\admin\\Desktop\\diplomovka\\Code\\Model_staff\\myenv\\Lib\\site-packages\\statsmodels\\tsa\\statespace\\sarimax.py:978: UserWarning: Non-invertible starting MA parameters found. Using zeros as starting parameters.\n",
      "  warn('Non-invertible starting MA parameters found.'\n",
      "c:\\Users\\admin\\Desktop\\diplomovka\\Code\\Model_staff\\myenv\\Lib\\site-packages\\statsmodels\\base\\model.py:607: ConvergenceWarning: Maximum Likelihood optimization failed to converge. Check mle_retvals\n",
      "  warnings.warn(\"Maximum Likelihood optimization failed to \"\n"
     ]
    },
    {
     "name": "stdout",
     "output_type": "stream",
     "text": [
      "Loaded best parameters for Czech Republic - Exports of goods and services (% of GDP) from best_params\\Exports of goods and services (% of GDP)\\Holt_Winters_Czech Republic.json: {'trend': 'mul', 'damped_trend': False, 'smoothing_level': None, 'smoothing_slope': 0.8, 'initialization_method': None}\n"
     ]
    },
    {
     "name": "stderr",
     "output_type": "stream",
     "text": [
      "c:\\Users\\admin\\Desktop\\diplomovka\\Code\\Model_staff\\myenv\\Lib\\site-packages\\statsmodels\\tsa\\base\\tsa_model.py:473: ValueWarning: No frequency information was provided, so inferred frequency YS-JAN will be used.\n",
      "  self._init_dates(dates, freq)\n",
      "C:\\Users\\admin\\AppData\\Local\\Temp\\ipykernel_2388\\506649542.py:376: FutureWarning: the 'smoothing_slope' keyword is deprecated, use 'smoothing_trend' instead.\n",
      "  best_fitted_model = best_model.fit(\n"
     ]
    },
    {
     "name": "stdout",
     "output_type": "stream",
     "text": [
      "Best Parameters used for Czech Republic - Exports of goods and services (% of GDP): {'trend': 'mul', 'damped_trend': False, 'smoothing_level': None, 'smoothing_slope': 0.8, 'initialization_method': None}\n",
      "Loading parameters from best_params\\Exports of goods and services (% of GDP)\\LSTM_Czech Republic.json...\n"
     ]
    },
    {
     "name": "stderr",
     "output_type": "stream",
     "text": [
      "c:\\Users\\admin\\Desktop\\diplomovka\\Code\\Model_staff\\myenv\\Lib\\site-packages\\keras\\src\\layers\\rnn\\rnn.py:200: UserWarning: Do not pass an `input_shape`/`input_dim` argument to a layer. When using Sequential models, prefer using an `Input(shape)` object as the first layer in the model instead.\n",
      "  super().__init__(**kwargs)\n",
      "c:\\Users\\admin\\Desktop\\diplomovka\\Code\\Model_staff\\myenv\\Lib\\site-packages\\keras\\src\\callbacks\\early_stopping.py:153: UserWarning: Early stopping conditioned on metric `val_loss` which is not available. Available metrics are: loss\n",
      "  current = self.get_monitor_value(logs)\n",
      "22:12:42 - cmdstanpy - INFO - Chain [1] start processing\n"
     ]
    },
    {
     "name": "stdout",
     "output_type": "stream",
     "text": [
      "Loading parameters from best_params\\Exports of goods and services (% of GDP)\\Prophet_Czech Republic.json...\n"
     ]
    },
    {
     "name": "stderr",
     "output_type": "stream",
     "text": [
      "22:12:42 - cmdstanpy - INFO - Chain [1] done processing\n",
      "c:\\Users\\admin\\Desktop\\diplomovka\\Code\\Model_staff\\myenv\\Lib\\site-packages\\prophet\\forecaster.py:1854: FutureWarning: 'Y' is deprecated and will be removed in a future version, please use 'YE' instead.\n",
      "  dates = pd.date_range(\n"
     ]
    },
    {
     "name": "stdout",
     "output_type": "stream",
     "text": [
      "Loading parameters from best_params\\GDP per Capita (USD)\\XGBoost_Hungary.json...\n",
      "Loaded best parameters for Hungary - GDP per Capita (USD) from best_params\\GDP per Capita (USD)\\ARIMA_Hungary.json: {'p': 7, 'd': 2, 'q': 2}\n"
     ]
    },
    {
     "name": "stderr",
     "output_type": "stream",
     "text": [
      "c:\\Users\\admin\\Desktop\\diplomovka\\Code\\Model_staff\\myenv\\Lib\\site-packages\\statsmodels\\tsa\\statespace\\sarimax.py:966: UserWarning: Non-stationary starting autoregressive parameters found. Using zeros as starting parameters.\n",
      "  warn('Non-stationary starting autoregressive parameters'\n",
      "c:\\Users\\admin\\Desktop\\diplomovka\\Code\\Model_staff\\myenv\\Lib\\site-packages\\statsmodels\\base\\model.py:607: ConvergenceWarning: Maximum Likelihood optimization failed to converge. Check mle_retvals\n",
      "  warnings.warn(\"Maximum Likelihood optimization failed to \"\n"
     ]
    },
    {
     "name": "stdout",
     "output_type": "stream",
     "text": [
      "Loaded best parameters for Hungary - GDP per Capita (USD) from best_params\\GDP per Capita (USD)\\Holt_Winters_Hungary.json: {'trend': 'add', 'damped_trend': False, 'smoothing_level': 0.1, 'smoothing_slope': 0.1, 'initialization_method': None}\n"
     ]
    },
    {
     "name": "stderr",
     "output_type": "stream",
     "text": [
      "c:\\Users\\admin\\Desktop\\diplomovka\\Code\\Model_staff\\myenv\\Lib\\site-packages\\statsmodels\\tsa\\base\\tsa_model.py:473: ValueWarning: No frequency information was provided, so inferred frequency YS-JAN will be used.\n",
      "  self._init_dates(dates, freq)\n",
      "C:\\Users\\admin\\AppData\\Local\\Temp\\ipykernel_2388\\506649542.py:376: FutureWarning: the 'smoothing_slope' keyword is deprecated, use 'smoothing_trend' instead.\n",
      "  best_fitted_model = best_model.fit(\n"
     ]
    },
    {
     "name": "stdout",
     "output_type": "stream",
     "text": [
      "Best Parameters used for Hungary - GDP per Capita (USD): {'trend': 'add', 'damped_trend': False, 'smoothing_level': 0.1, 'smoothing_slope': 0.1, 'initialization_method': None}\n",
      "Loading parameters from best_params\\GDP per Capita (USD)\\LSTM_Hungary.json...\n"
     ]
    },
    {
     "name": "stderr",
     "output_type": "stream",
     "text": [
      "c:\\Users\\admin\\Desktop\\diplomovka\\Code\\Model_staff\\myenv\\Lib\\site-packages\\keras\\src\\layers\\rnn\\rnn.py:200: UserWarning: Do not pass an `input_shape`/`input_dim` argument to a layer. When using Sequential models, prefer using an `Input(shape)` object as the first layer in the model instead.\n",
      "  super().__init__(**kwargs)\n",
      "c:\\Users\\admin\\Desktop\\diplomovka\\Code\\Model_staff\\myenv\\Lib\\site-packages\\keras\\src\\callbacks\\early_stopping.py:153: UserWarning: Early stopping conditioned on metric `val_loss` which is not available. Available metrics are: loss\n",
      "  current = self.get_monitor_value(logs)\n",
      "22:12:59 - cmdstanpy - INFO - Chain [1] start processing\n"
     ]
    },
    {
     "name": "stdout",
     "output_type": "stream",
     "text": [
      "Loading parameters from best_params\\GDP per Capita (USD)\\Prophet_Hungary.json...\n"
     ]
    },
    {
     "name": "stderr",
     "output_type": "stream",
     "text": [
      "22:12:59 - cmdstanpy - INFO - Chain [1] done processing\n",
      "c:\\Users\\admin\\Desktop\\diplomovka\\Code\\Model_staff\\myenv\\Lib\\site-packages\\prophet\\forecaster.py:1854: FutureWarning: 'Y' is deprecated and will be removed in a future version, please use 'YE' instead.\n",
      "  dates = pd.date_range(\n"
     ]
    },
    {
     "name": "stdout",
     "output_type": "stream",
     "text": [
      "Loading parameters from best_params\\GDP (USD)\\XGBoost_Hungary.json...\n",
      "Loaded best parameters for Hungary - GDP (USD) from best_params\\GDP (USD)\\ARIMA_Hungary.json: {'p': 14, 'd': 1, 'q': 6}\n"
     ]
    },
    {
     "name": "stderr",
     "output_type": "stream",
     "text": [
      "c:\\Users\\admin\\Desktop\\diplomovka\\Code\\Model_staff\\myenv\\Lib\\site-packages\\statsmodels\\tsa\\statespace\\sarimax.py:966: UserWarning: Non-stationary starting autoregressive parameters found. Using zeros as starting parameters.\n",
      "  warn('Non-stationary starting autoregressive parameters'\n",
      "c:\\Users\\admin\\Desktop\\diplomovka\\Code\\Model_staff\\myenv\\Lib\\site-packages\\statsmodels\\tsa\\statespace\\sarimax.py:978: UserWarning: Non-invertible starting MA parameters found. Using zeros as starting parameters.\n",
      "  warn('Non-invertible starting MA parameters found.'\n",
      "c:\\Users\\admin\\Desktop\\diplomovka\\Code\\Model_staff\\myenv\\Lib\\site-packages\\statsmodels\\base\\model.py:607: ConvergenceWarning: Maximum Likelihood optimization failed to converge. Check mle_retvals\n",
      "  warnings.warn(\"Maximum Likelihood optimization failed to \"\n"
     ]
    },
    {
     "name": "stdout",
     "output_type": "stream",
     "text": [
      "Loaded best parameters for Hungary - GDP (USD) from best_params\\GDP (USD)\\Holt_Winters_Hungary.json: {'trend': 'mul', 'damped_trend': False, 'smoothing_level': 0.1, 'smoothing_slope': 0.2, 'initialization_method': None}\n"
     ]
    },
    {
     "name": "stderr",
     "output_type": "stream",
     "text": [
      "c:\\Users\\admin\\Desktop\\diplomovka\\Code\\Model_staff\\myenv\\Lib\\site-packages\\statsmodels\\tsa\\base\\tsa_model.py:473: ValueWarning: No frequency information was provided, so inferred frequency YS-JAN will be used.\n",
      "  self._init_dates(dates, freq)\n",
      "C:\\Users\\admin\\AppData\\Local\\Temp\\ipykernel_2388\\506649542.py:376: FutureWarning: the 'smoothing_slope' keyword is deprecated, use 'smoothing_trend' instead.\n",
      "  best_fitted_model = best_model.fit(\n",
      "c:\\Users\\admin\\Desktop\\diplomovka\\Code\\Model_staff\\myenv\\Lib\\site-packages\\statsmodels\\tsa\\holtwinters\\model.py:918: ConvergenceWarning: Optimization failed to converge. Check mle_retvals.\n",
      "  warnings.warn(\n"
     ]
    },
    {
     "name": "stdout",
     "output_type": "stream",
     "text": [
      "Best Parameters used for Hungary - GDP (USD): {'trend': 'mul', 'damped_trend': False, 'smoothing_level': 0.1, 'smoothing_slope': 0.2, 'initialization_method': None}\n",
      "Loading parameters from best_params\\GDP (USD)\\LSTM_Hungary.json...\n"
     ]
    },
    {
     "name": "stderr",
     "output_type": "stream",
     "text": [
      "c:\\Users\\admin\\Desktop\\diplomovka\\Code\\Model_staff\\myenv\\Lib\\site-packages\\keras\\src\\layers\\rnn\\rnn.py:200: UserWarning: Do not pass an `input_shape`/`input_dim` argument to a layer. When using Sequential models, prefer using an `Input(shape)` object as the first layer in the model instead.\n",
      "  super().__init__(**kwargs)\n",
      "c:\\Users\\admin\\Desktop\\diplomovka\\Code\\Model_staff\\myenv\\Lib\\site-packages\\keras\\src\\callbacks\\early_stopping.py:153: UserWarning: Early stopping conditioned on metric `val_loss` which is not available. Available metrics are: loss\n",
      "  current = self.get_monitor_value(logs)\n",
      "22:13:21 - cmdstanpy - INFO - Chain [1] start processing\n"
     ]
    },
    {
     "name": "stdout",
     "output_type": "stream",
     "text": [
      "Loading parameters from best_params\\GDP (USD)\\Prophet_Hungary.json...\n"
     ]
    },
    {
     "name": "stderr",
     "output_type": "stream",
     "text": [
      "22:13:21 - cmdstanpy - INFO - Chain [1] done processing\n",
      "c:\\Users\\admin\\Desktop\\diplomovka\\Code\\Model_staff\\myenv\\Lib\\site-packages\\prophet\\forecaster.py:1854: FutureWarning: 'Y' is deprecated and will be removed in a future version, please use 'YE' instead.\n",
      "  dates = pd.date_range(\n"
     ]
    },
    {
     "name": "stdout",
     "output_type": "stream",
     "text": [
      "Loading parameters from best_params\\Inflation (CPI)\\XGBoost_Hungary.json...\n",
      "Loaded best parameters for Hungary - Inflation (CPI) from best_params\\Inflation (CPI)\\ARIMA_Hungary.json: {'p': 3, 'd': 5, 'q': 9}\n"
     ]
    },
    {
     "name": "stderr",
     "output_type": "stream",
     "text": [
      "c:\\Users\\admin\\Desktop\\diplomovka\\Code\\Model_staff\\myenv\\Lib\\site-packages\\statsmodels\\tsa\\statespace\\sarimax.py:978: UserWarning: Non-invertible starting MA parameters found. Using zeros as starting parameters.\n",
      "  warn('Non-invertible starting MA parameters found.'\n",
      "c:\\Users\\admin\\Desktop\\diplomovka\\Code\\Model_staff\\myenv\\Lib\\site-packages\\statsmodels\\base\\model.py:607: ConvergenceWarning: Maximum Likelihood optimization failed to converge. Check mle_retvals\n",
      "  warnings.warn(\"Maximum Likelihood optimization failed to \"\n"
     ]
    },
    {
     "name": "stdout",
     "output_type": "stream",
     "text": [
      "Loaded best parameters for Hungary - Inflation (CPI) from best_params\\Inflation (CPI)\\Holt_Winters_Hungary.json: {'trend': 'add', 'damped_trend': False, 'smoothing_level': 0.1, 'smoothing_slope': 0.7, 'initialization_method': None}\n"
     ]
    },
    {
     "name": "stderr",
     "output_type": "stream",
     "text": [
      "c:\\Users\\admin\\Desktop\\diplomovka\\Code\\Model_staff\\myenv\\Lib\\site-packages\\statsmodels\\tsa\\base\\tsa_model.py:473: ValueWarning: No frequency information was provided, so inferred frequency YS-JAN will be used.\n",
      "  self._init_dates(dates, freq)\n",
      "C:\\Users\\admin\\AppData\\Local\\Temp\\ipykernel_2388\\506649542.py:376: FutureWarning: the 'smoothing_slope' keyword is deprecated, use 'smoothing_trend' instead.\n",
      "  best_fitted_model = best_model.fit(\n"
     ]
    },
    {
     "name": "stdout",
     "output_type": "stream",
     "text": [
      "Best Parameters used for Hungary - Inflation (CPI): {'trend': 'add', 'damped_trend': False, 'smoothing_level': 0.1, 'smoothing_slope': 0.7, 'initialization_method': None}\n",
      "Loading parameters from best_params\\Inflation (CPI)\\LSTM_Hungary.json...\n"
     ]
    },
    {
     "name": "stderr",
     "output_type": "stream",
     "text": [
      "c:\\Users\\admin\\Desktop\\diplomovka\\Code\\Model_staff\\myenv\\Lib\\site-packages\\keras\\src\\layers\\rnn\\rnn.py:200: UserWarning: Do not pass an `input_shape`/`input_dim` argument to a layer. When using Sequential models, prefer using an `Input(shape)` object as the first layer in the model instead.\n",
      "  super().__init__(**kwargs)\n",
      "c:\\Users\\admin\\Desktop\\diplomovka\\Code\\Model_staff\\myenv\\Lib\\site-packages\\keras\\src\\callbacks\\early_stopping.py:153: UserWarning: Early stopping conditioned on metric `val_loss` which is not available. Available metrics are: loss\n",
      "  current = self.get_monitor_value(logs)\n",
      "22:13:38 - cmdstanpy - INFO - Chain [1] start processing\n"
     ]
    },
    {
     "name": "stdout",
     "output_type": "stream",
     "text": [
      "Loading parameters from best_params\\Inflation (CPI)\\Prophet_Hungary.json...\n"
     ]
    },
    {
     "name": "stderr",
     "output_type": "stream",
     "text": [
      "22:13:39 - cmdstanpy - INFO - Chain [1] done processing\n",
      "c:\\Users\\admin\\Desktop\\diplomovka\\Code\\Model_staff\\myenv\\Lib\\site-packages\\prophet\\forecaster.py:1854: FutureWarning: 'Y' is deprecated and will be removed in a future version, please use 'YE' instead.\n",
      "  dates = pd.date_range(\n"
     ]
    },
    {
     "name": "stdout",
     "output_type": "stream",
     "text": [
      "Loading parameters from best_params\\Unemployment Rate (%)\\XGBoost_Hungary.json...\n",
      "Loaded best parameters for Hungary - Unemployment Rate (%) from best_params\\Unemployment Rate (%)\\ARIMA_Hungary.json: {'p': 1, 'd': 1, 'q': 0}\n",
      "Loaded best parameters for Hungary - Unemployment Rate (%) from best_params\\Unemployment Rate (%)\\Holt_Winters_Hungary.json: {'trend': 'mul', 'damped_trend': True, 'smoothing_level': None, 'smoothing_slope': 0.3, 'initialization_method': None}\n"
     ]
    },
    {
     "name": "stderr",
     "output_type": "stream",
     "text": [
      "c:\\Users\\admin\\Desktop\\diplomovka\\Code\\Model_staff\\myenv\\Lib\\site-packages\\statsmodels\\tsa\\base\\tsa_model.py:473: ValueWarning: No frequency information was provided, so inferred frequency YS-JAN will be used.\n",
      "  self._init_dates(dates, freq)\n",
      "C:\\Users\\admin\\AppData\\Local\\Temp\\ipykernel_2388\\506649542.py:376: FutureWarning: the 'smoothing_slope' keyword is deprecated, use 'smoothing_trend' instead.\n",
      "  best_fitted_model = best_model.fit(\n"
     ]
    },
    {
     "name": "stdout",
     "output_type": "stream",
     "text": [
      "Best Parameters used for Hungary - Unemployment Rate (%): {'trend': 'mul', 'damped_trend': True, 'smoothing_level': None, 'smoothing_slope': 0.3, 'initialization_method': None}\n",
      "Loading parameters from best_params\\Unemployment Rate (%)\\LSTM_Hungary.json...\n"
     ]
    },
    {
     "name": "stderr",
     "output_type": "stream",
     "text": [
      "c:\\Users\\admin\\Desktop\\diplomovka\\Code\\Model_staff\\myenv\\Lib\\site-packages\\keras\\src\\layers\\rnn\\rnn.py:200: UserWarning: Do not pass an `input_shape`/`input_dim` argument to a layer. When using Sequential models, prefer using an `Input(shape)` object as the first layer in the model instead.\n",
      "  super().__init__(**kwargs)\n",
      "c:\\Users\\admin\\Desktop\\diplomovka\\Code\\Model_staff\\myenv\\Lib\\site-packages\\keras\\src\\callbacks\\early_stopping.py:153: UserWarning: Early stopping conditioned on metric `val_loss` which is not available. Available metrics are: loss\n",
      "  current = self.get_monitor_value(logs)\n",
      "22:13:47 - cmdstanpy - INFO - Chain [1] start processing\n"
     ]
    },
    {
     "name": "stdout",
     "output_type": "stream",
     "text": [
      "Loading parameters from best_params\\Unemployment Rate (%)\\Prophet_Hungary.json...\n"
     ]
    },
    {
     "name": "stderr",
     "output_type": "stream",
     "text": [
      "22:13:47 - cmdstanpy - INFO - Chain [1] done processing\n",
      "c:\\Users\\admin\\Desktop\\diplomovka\\Code\\Model_staff\\myenv\\Lib\\site-packages\\prophet\\forecaster.py:1854: FutureWarning: 'Y' is deprecated and will be removed in a future version, please use 'YE' instead.\n",
      "  dates = pd.date_range(\n"
     ]
    },
    {
     "name": "stdout",
     "output_type": "stream",
     "text": [
      "Loading parameters from best_params\\GDP growth (annual %)\\XGBoost_Hungary.json...\n",
      "Loaded best parameters for Hungary - GDP growth (annual %) from best_params\\GDP growth (annual %)\\ARIMA_Hungary.json: {'p': 3, 'd': 0, 'q': 0}\n",
      "Loaded best parameters for Hungary - GDP growth (annual %) from best_params\\GDP growth (annual %)\\Holt_Winters_Hungary.json: {'trend': 'add', 'damped_trend': True, 'smoothing_level': 0.9, 'smoothing_slope': 0.4, 'initialization_method': None}\n"
     ]
    },
    {
     "name": "stderr",
     "output_type": "stream",
     "text": [
      "c:\\Users\\admin\\Desktop\\diplomovka\\Code\\Model_staff\\myenv\\Lib\\site-packages\\statsmodels\\tsa\\base\\tsa_model.py:473: ValueWarning: No frequency information was provided, so inferred frequency YS-JAN will be used.\n",
      "  self._init_dates(dates, freq)\n",
      "C:\\Users\\admin\\AppData\\Local\\Temp\\ipykernel_2388\\506649542.py:376: FutureWarning: the 'smoothing_slope' keyword is deprecated, use 'smoothing_trend' instead.\n",
      "  best_fitted_model = best_model.fit(\n"
     ]
    },
    {
     "name": "stdout",
     "output_type": "stream",
     "text": [
      "Best Parameters used for Hungary - GDP growth (annual %): {'trend': 'add', 'damped_trend': True, 'smoothing_level': 0.9, 'smoothing_slope': 0.4, 'initialization_method': None}\n",
      "Loading parameters from best_params\\GDP growth (annual %)\\LSTM_Hungary.json...\n"
     ]
    },
    {
     "name": "stderr",
     "output_type": "stream",
     "text": [
      "c:\\Users\\admin\\Desktop\\diplomovka\\Code\\Model_staff\\myenv\\Lib\\site-packages\\keras\\src\\layers\\rnn\\rnn.py:200: UserWarning: Do not pass an `input_shape`/`input_dim` argument to a layer. When using Sequential models, prefer using an `Input(shape)` object as the first layer in the model instead.\n",
      "  super().__init__(**kwargs)\n",
      "c:\\Users\\admin\\Desktop\\diplomovka\\Code\\Model_staff\\myenv\\Lib\\site-packages\\keras\\src\\callbacks\\early_stopping.py:153: UserWarning: Early stopping conditioned on metric `val_loss` which is not available. Available metrics are: loss\n",
      "  current = self.get_monitor_value(logs)\n",
      "22:14:06 - cmdstanpy - INFO - Chain [1] start processing\n"
     ]
    },
    {
     "name": "stdout",
     "output_type": "stream",
     "text": [
      "Loading parameters from best_params\\GDP growth (annual %)\\Prophet_Hungary.json...\n"
     ]
    },
    {
     "name": "stderr",
     "output_type": "stream",
     "text": [
      "22:14:06 - cmdstanpy - INFO - Chain [1] done processing\n",
      "c:\\Users\\admin\\Desktop\\diplomovka\\Code\\Model_staff\\myenv\\Lib\\site-packages\\prophet\\forecaster.py:1854: FutureWarning: 'Y' is deprecated and will be removed in a future version, please use 'YE' instead.\n",
      "  dates = pd.date_range(\n"
     ]
    },
    {
     "name": "stdout",
     "output_type": "stream",
     "text": [
      "Loading parameters from best_params\\Imports of goods and services (% of GDP)\\XGBoost_Hungary.json...\n",
      "Loaded best parameters for Hungary - Imports of goods and services (% of GDP) from best_params\\Imports of goods and services (% of GDP)\\ARIMA_Hungary.json: {'p': 9, 'd': 2, 'q': 8}\n"
     ]
    },
    {
     "name": "stderr",
     "output_type": "stream",
     "text": [
      "c:\\Users\\admin\\Desktop\\diplomovka\\Code\\Model_staff\\myenv\\Lib\\site-packages\\statsmodels\\tsa\\statespace\\sarimax.py:866: UserWarning: Too few observations to estimate starting parameters for ARMA and trend. All parameters except for variances will be set to zeros.\n",
      "  warn('Too few observations to estimate starting parameters%s.'\n",
      "c:\\Users\\admin\\Desktop\\diplomovka\\Code\\Model_staff\\myenv\\Lib\\site-packages\\statsmodels\\base\\model.py:607: ConvergenceWarning: Maximum Likelihood optimization failed to converge. Check mle_retvals\n",
      "  warnings.warn(\"Maximum Likelihood optimization failed to \"\n"
     ]
    },
    {
     "name": "stdout",
     "output_type": "stream",
     "text": [
      "Loaded best parameters for Hungary - Imports of goods and services (% of GDP) from best_params\\Imports of goods and services (% of GDP)\\Holt_Winters_Hungary.json: {'trend': 'mul', 'damped_trend': True, 'smoothing_level': None, 'smoothing_slope': None, 'initialization_method': None}\n"
     ]
    },
    {
     "name": "stderr",
     "output_type": "stream",
     "text": [
      "c:\\Users\\admin\\Desktop\\diplomovka\\Code\\Model_staff\\myenv\\Lib\\site-packages\\statsmodels\\tsa\\base\\tsa_model.py:473: ValueWarning: No frequency information was provided, so inferred frequency YS-JAN will be used.\n",
      "  self._init_dates(dates, freq)\n"
     ]
    },
    {
     "name": "stdout",
     "output_type": "stream",
     "text": [
      "Best Parameters used for Hungary - Imports of goods and services (% of GDP): {'trend': 'mul', 'damped_trend': True, 'smoothing_level': None, 'smoothing_slope': None, 'initialization_method': None}\n",
      "Loading parameters from best_params\\Imports of goods and services (% of GDP)\\LSTM_Hungary.json...\n"
     ]
    },
    {
     "name": "stderr",
     "output_type": "stream",
     "text": [
      "c:\\Users\\admin\\Desktop\\diplomovka\\Code\\Model_staff\\myenv\\Lib\\site-packages\\keras\\src\\layers\\rnn\\rnn.py:200: UserWarning: Do not pass an `input_shape`/`input_dim` argument to a layer. When using Sequential models, prefer using an `Input(shape)` object as the first layer in the model instead.\n",
      "  super().__init__(**kwargs)\n",
      "c:\\Users\\admin\\Desktop\\diplomovka\\Code\\Model_staff\\myenv\\Lib\\site-packages\\keras\\src\\callbacks\\early_stopping.py:153: UserWarning: Early stopping conditioned on metric `val_loss` which is not available. Available metrics are: loss\n",
      "  current = self.get_monitor_value(logs)\n",
      "22:14:31 - cmdstanpy - INFO - Chain [1] start processing\n"
     ]
    },
    {
     "name": "stdout",
     "output_type": "stream",
     "text": [
      "Loading parameters from best_params\\Imports of goods and services (% of GDP)\\Prophet_Hungary.json...\n"
     ]
    },
    {
     "name": "stderr",
     "output_type": "stream",
     "text": [
      "22:14:31 - cmdstanpy - INFO - Chain [1] done processing\n",
      "c:\\Users\\admin\\Desktop\\diplomovka\\Code\\Model_staff\\myenv\\Lib\\site-packages\\prophet\\forecaster.py:1854: FutureWarning: 'Y' is deprecated and will be removed in a future version, please use 'YE' instead.\n",
      "  dates = pd.date_range(\n"
     ]
    },
    {
     "name": "stdout",
     "output_type": "stream",
     "text": [
      "Loading parameters from best_params\\Exports of goods and services (% of GDP)\\XGBoost_Hungary.json...\n",
      "Loaded best parameters for Hungary - Exports of goods and services (% of GDP) from best_params\\Exports of goods and services (% of GDP)\\ARIMA_Hungary.json: {'p': 9, 'd': 3, 'q': 3}\n"
     ]
    },
    {
     "name": "stderr",
     "output_type": "stream",
     "text": [
      "c:\\Users\\admin\\Desktop\\diplomovka\\Code\\Model_staff\\myenv\\Lib\\site-packages\\statsmodels\\tsa\\statespace\\sarimax.py:978: UserWarning: Non-invertible starting MA parameters found. Using zeros as starting parameters.\n",
      "  warn('Non-invertible starting MA parameters found.'\n",
      "c:\\Users\\admin\\Desktop\\diplomovka\\Code\\Model_staff\\myenv\\Lib\\site-packages\\statsmodels\\base\\model.py:607: ConvergenceWarning: Maximum Likelihood optimization failed to converge. Check mle_retvals\n",
      "  warnings.warn(\"Maximum Likelihood optimization failed to \"\n"
     ]
    },
    {
     "name": "stdout",
     "output_type": "stream",
     "text": [
      "Loaded best parameters for Hungary - Exports of goods and services (% of GDP) from best_params\\Exports of goods and services (% of GDP)\\Holt_Winters_Hungary.json: {'trend': None, 'damped_trend': False, 'smoothing_level': 0.2, 'smoothing_slope': None, 'initialization_method': None}\n"
     ]
    },
    {
     "name": "stderr",
     "output_type": "stream",
     "text": [
      "c:\\Users\\admin\\Desktop\\diplomovka\\Code\\Model_staff\\myenv\\Lib\\site-packages\\statsmodels\\tsa\\base\\tsa_model.py:473: ValueWarning: No frequency information was provided, so inferred frequency YS-JAN will be used.\n",
      "  self._init_dates(dates, freq)\n"
     ]
    },
    {
     "name": "stdout",
     "output_type": "stream",
     "text": [
      "Best Parameters used for Hungary - Exports of goods and services (% of GDP): {'trend': None, 'damped_trend': False, 'smoothing_level': 0.2, 'smoothing_slope': None, 'initialization_method': None}\n",
      "Loading parameters from best_params\\Exports of goods and services (% of GDP)\\LSTM_Hungary.json...\n"
     ]
    },
    {
     "name": "stderr",
     "output_type": "stream",
     "text": [
      "c:\\Users\\admin\\Desktop\\diplomovka\\Code\\Model_staff\\myenv\\Lib\\site-packages\\keras\\src\\layers\\rnn\\rnn.py:200: UserWarning: Do not pass an `input_shape`/`input_dim` argument to a layer. When using Sequential models, prefer using an `Input(shape)` object as the first layer in the model instead.\n",
      "  super().__init__(**kwargs)\n",
      "c:\\Users\\admin\\Desktop\\diplomovka\\Code\\Model_staff\\myenv\\Lib\\site-packages\\keras\\src\\callbacks\\early_stopping.py:153: UserWarning: Early stopping conditioned on metric `val_loss` which is not available. Available metrics are: loss\n",
      "  current = self.get_monitor_value(logs)\n",
      "22:14:45 - cmdstanpy - INFO - Chain [1] start processing\n"
     ]
    },
    {
     "name": "stdout",
     "output_type": "stream",
     "text": [
      "Loading parameters from best_params\\Exports of goods and services (% of GDP)\\Prophet_Hungary.json...\n"
     ]
    },
    {
     "name": "stderr",
     "output_type": "stream",
     "text": [
      "22:14:45 - cmdstanpy - INFO - Chain [1] done processing\n",
      "c:\\Users\\admin\\Desktop\\diplomovka\\Code\\Model_staff\\myenv\\Lib\\site-packages\\prophet\\forecaster.py:1854: FutureWarning: 'Y' is deprecated and will be removed in a future version, please use 'YE' instead.\n",
      "  dates = pd.date_range(\n"
     ]
    },
    {
     "name": "stdout",
     "output_type": "stream",
     "text": [
      "Loading parameters from best_params\\GDP per Capita (USD)\\XGBoost_Poland.json...\n",
      "Loaded best parameters for Poland - GDP per Capita (USD) from best_params\\GDP per Capita (USD)\\ARIMA_Poland.json: {'p': 7, 'd': 4, 'q': 0}\n"
     ]
    },
    {
     "name": "stderr",
     "output_type": "stream",
     "text": [
      "c:\\Users\\admin\\Desktop\\diplomovka\\Code\\Model_staff\\myenv\\Lib\\site-packages\\statsmodels\\tsa\\statespace\\sarimax.py:966: UserWarning: Non-stationary starting autoregressive parameters found. Using zeros as starting parameters.\n",
      "  warn('Non-stationary starting autoregressive parameters'\n",
      "c:\\Users\\admin\\Desktop\\diplomovka\\Code\\Model_staff\\myenv\\Lib\\site-packages\\statsmodels\\base\\model.py:607: ConvergenceWarning: Maximum Likelihood optimization failed to converge. Check mle_retvals\n",
      "  warnings.warn(\"Maximum Likelihood optimization failed to \"\n"
     ]
    },
    {
     "name": "stdout",
     "output_type": "stream",
     "text": [
      "Loaded best parameters for Poland - GDP per Capita (USD) from best_params\\GDP per Capita (USD)\\Holt_Winters_Poland.json: {'trend': 'mul', 'damped_trend': False, 'smoothing_level': 0.6, 'smoothing_slope': 0.1, 'initialization_method': None}\n"
     ]
    },
    {
     "name": "stderr",
     "output_type": "stream",
     "text": [
      "c:\\Users\\admin\\Desktop\\diplomovka\\Code\\Model_staff\\myenv\\Lib\\site-packages\\statsmodels\\tsa\\base\\tsa_model.py:473: ValueWarning: No frequency information was provided, so inferred frequency YS-JAN will be used.\n",
      "  self._init_dates(dates, freq)\n",
      "C:\\Users\\admin\\AppData\\Local\\Temp\\ipykernel_2388\\506649542.py:376: FutureWarning: the 'smoothing_slope' keyword is deprecated, use 'smoothing_trend' instead.\n",
      "  best_fitted_model = best_model.fit(\n",
      "c:\\Users\\admin\\Desktop\\diplomovka\\Code\\Model_staff\\myenv\\Lib\\site-packages\\statsmodels\\tsa\\holtwinters\\model.py:918: ConvergenceWarning: Optimization failed to converge. Check mle_retvals.\n",
      "  warnings.warn(\n"
     ]
    },
    {
     "name": "stdout",
     "output_type": "stream",
     "text": [
      "Best Parameters used for Poland - GDP per Capita (USD): {'trend': 'mul', 'damped_trend': False, 'smoothing_level': 0.6, 'smoothing_slope': 0.1, 'initialization_method': None}\n",
      "Loading parameters from best_params\\GDP per Capita (USD)\\LSTM_Poland.json...\n"
     ]
    },
    {
     "name": "stderr",
     "output_type": "stream",
     "text": [
      "c:\\Users\\admin\\Desktop\\diplomovka\\Code\\Model_staff\\myenv\\Lib\\site-packages\\keras\\src\\layers\\rnn\\rnn.py:200: UserWarning: Do not pass an `input_shape`/`input_dim` argument to a layer. When using Sequential models, prefer using an `Input(shape)` object as the first layer in the model instead.\n",
      "  super().__init__(**kwargs)\n",
      "c:\\Users\\admin\\Desktop\\diplomovka\\Code\\Model_staff\\myenv\\Lib\\site-packages\\keras\\src\\callbacks\\early_stopping.py:153: UserWarning: Early stopping conditioned on metric `val_loss` which is not available. Available metrics are: loss\n",
      "  current = self.get_monitor_value(logs)\n",
      "22:15:00 - cmdstanpy - INFO - Chain [1] start processing\n",
      "22:15:00 - cmdstanpy - INFO - Chain [1] done processing\n"
     ]
    },
    {
     "name": "stdout",
     "output_type": "stream",
     "text": [
      "Loading parameters from best_params\\GDP per Capita (USD)\\Prophet_Poland.json...\n"
     ]
    },
    {
     "name": "stderr",
     "output_type": "stream",
     "text": [
      "c:\\Users\\admin\\Desktop\\diplomovka\\Code\\Model_staff\\myenv\\Lib\\site-packages\\prophet\\forecaster.py:1854: FutureWarning: 'Y' is deprecated and will be removed in a future version, please use 'YE' instead.\n",
      "  dates = pd.date_range(\n"
     ]
    },
    {
     "name": "stdout",
     "output_type": "stream",
     "text": [
      "Loading parameters from best_params\\GDP (USD)\\XGBoost_Poland.json...\n",
      "Loaded best parameters for Poland - GDP (USD) from best_params\\GDP (USD)\\ARIMA_Poland.json: {'p': 12, 'd': 1, 'q': 3}\n"
     ]
    },
    {
     "name": "stderr",
     "output_type": "stream",
     "text": [
      "c:\\Users\\admin\\Desktop\\diplomovka\\Code\\Model_staff\\myenv\\Lib\\site-packages\\statsmodels\\tsa\\statespace\\sarimax.py:966: UserWarning: Non-stationary starting autoregressive parameters found. Using zeros as starting parameters.\n",
      "  warn('Non-stationary starting autoregressive parameters'\n",
      "c:\\Users\\admin\\Desktop\\diplomovka\\Code\\Model_staff\\myenv\\Lib\\site-packages\\statsmodels\\base\\model.py:607: ConvergenceWarning: Maximum Likelihood optimization failed to converge. Check mle_retvals\n",
      "  warnings.warn(\"Maximum Likelihood optimization failed to \"\n"
     ]
    },
    {
     "name": "stdout",
     "output_type": "stream",
     "text": [
      "Loaded best parameters for Poland - GDP (USD) from best_params\\GDP (USD)\\Holt_Winters_Poland.json: {'trend': 'mul', 'damped_trend': False, 'smoothing_level': 0.6, 'smoothing_slope': 0.1, 'initialization_method': None}\n"
     ]
    },
    {
     "name": "stderr",
     "output_type": "stream",
     "text": [
      "c:\\Users\\admin\\Desktop\\diplomovka\\Code\\Model_staff\\myenv\\Lib\\site-packages\\statsmodels\\tsa\\base\\tsa_model.py:473: ValueWarning: No frequency information was provided, so inferred frequency YS-JAN will be used.\n",
      "  self._init_dates(dates, freq)\n",
      "C:\\Users\\admin\\AppData\\Local\\Temp\\ipykernel_2388\\506649542.py:376: FutureWarning: the 'smoothing_slope' keyword is deprecated, use 'smoothing_trend' instead.\n",
      "  best_fitted_model = best_model.fit(\n",
      "c:\\Users\\admin\\Desktop\\diplomovka\\Code\\Model_staff\\myenv\\Lib\\site-packages\\statsmodels\\tsa\\holtwinters\\model.py:918: ConvergenceWarning: Optimization failed to converge. Check mle_retvals.\n",
      "  warnings.warn(\n"
     ]
    },
    {
     "name": "stdout",
     "output_type": "stream",
     "text": [
      "Best Parameters used for Poland - GDP (USD): {'trend': 'mul', 'damped_trend': False, 'smoothing_level': 0.6, 'smoothing_slope': 0.1, 'initialization_method': None}\n",
      "Loading parameters from best_params\\GDP (USD)\\LSTM_Poland.json...\n"
     ]
    },
    {
     "name": "stderr",
     "output_type": "stream",
     "text": [
      "c:\\Users\\admin\\Desktop\\diplomovka\\Code\\Model_staff\\myenv\\Lib\\site-packages\\keras\\src\\layers\\rnn\\rnn.py:200: UserWarning: Do not pass an `input_shape`/`input_dim` argument to a layer. When using Sequential models, prefer using an `Input(shape)` object as the first layer in the model instead.\n",
      "  super().__init__(**kwargs)\n",
      "c:\\Users\\admin\\Desktop\\diplomovka\\Code\\Model_staff\\myenv\\Lib\\site-packages\\keras\\src\\callbacks\\early_stopping.py:153: UserWarning: Early stopping conditioned on metric `val_loss` which is not available. Available metrics are: loss\n",
      "  current = self.get_monitor_value(logs)\n",
      "22:15:16 - cmdstanpy - INFO - Chain [1] start processing\n",
      "22:15:16 - cmdstanpy - INFO - Chain [1] done processing\n"
     ]
    },
    {
     "name": "stdout",
     "output_type": "stream",
     "text": [
      "Loading parameters from best_params\\GDP (USD)\\Prophet_Poland.json...\n"
     ]
    },
    {
     "name": "stderr",
     "output_type": "stream",
     "text": [
      "c:\\Users\\admin\\Desktop\\diplomovka\\Code\\Model_staff\\myenv\\Lib\\site-packages\\prophet\\forecaster.py:1854: FutureWarning: 'Y' is deprecated and will be removed in a future version, please use 'YE' instead.\n",
      "  dates = pd.date_range(\n"
     ]
    },
    {
     "name": "stdout",
     "output_type": "stream",
     "text": [
      "Loading parameters from best_params\\Inflation (CPI)\\XGBoost_Poland.json...\n",
      "Loaded best parameters for Poland - Inflation (CPI) from best_params\\Inflation (CPI)\\ARIMA_Poland.json: {'p': 6, 'd': 4, 'q': 6}\n",
      "Loaded best parameters for Poland - Inflation (CPI) from best_params\\Inflation (CPI)\\Holt_Winters_Poland.json: {'trend': 'add', 'damped_trend': False, 'smoothing_level': 0.3, 'smoothing_slope': 0.2, 'initialization_method': None}\n",
      "Best Parameters used for Poland - Inflation (CPI): {'trend': 'add', 'damped_trend': False, 'smoothing_level': 0.3, 'smoothing_slope': 0.2, 'initialization_method': None}\n",
      "Loading parameters from best_params\\Inflation (CPI)\\LSTM_Poland.json...\n"
     ]
    },
    {
     "name": "stderr",
     "output_type": "stream",
     "text": [
      "c:\\Users\\admin\\Desktop\\diplomovka\\Code\\Model_staff\\myenv\\Lib\\site-packages\\statsmodels\\tsa\\base\\tsa_model.py:473: ValueWarning: No frequency information was provided, so inferred frequency YS-JAN will be used.\n",
      "  self._init_dates(dates, freq)\n",
      "C:\\Users\\admin\\AppData\\Local\\Temp\\ipykernel_2388\\506649542.py:376: FutureWarning: the 'smoothing_slope' keyword is deprecated, use 'smoothing_trend' instead.\n",
      "  best_fitted_model = best_model.fit(\n",
      "c:\\Users\\admin\\Desktop\\diplomovka\\Code\\Model_staff\\myenv\\Lib\\site-packages\\keras\\src\\layers\\rnn\\rnn.py:200: UserWarning: Do not pass an `input_shape`/`input_dim` argument to a layer. When using Sequential models, prefer using an `Input(shape)` object as the first layer in the model instead.\n",
      "  super().__init__(**kwargs)\n",
      "c:\\Users\\admin\\Desktop\\diplomovka\\Code\\Model_staff\\myenv\\Lib\\site-packages\\keras\\src\\callbacks\\early_stopping.py:153: UserWarning: Early stopping conditioned on metric `val_loss` which is not available. Available metrics are: loss\n",
      "  current = self.get_monitor_value(logs)\n",
      "22:15:35 - cmdstanpy - INFO - Chain [1] start processing\n"
     ]
    },
    {
     "name": "stdout",
     "output_type": "stream",
     "text": [
      "Loading parameters from best_params\\Inflation (CPI)\\Prophet_Poland.json...\n"
     ]
    },
    {
     "name": "stderr",
     "output_type": "stream",
     "text": [
      "22:15:35 - cmdstanpy - INFO - Chain [1] done processing\n",
      "c:\\Users\\admin\\Desktop\\diplomovka\\Code\\Model_staff\\myenv\\Lib\\site-packages\\prophet\\forecaster.py:1854: FutureWarning: 'Y' is deprecated and will be removed in a future version, please use 'YE' instead.\n",
      "  dates = pd.date_range(\n"
     ]
    },
    {
     "name": "stdout",
     "output_type": "stream",
     "text": [
      "Loading parameters from best_params\\Unemployment Rate (%)\\XGBoost_Poland.json...\n",
      "Loaded best parameters for Poland - Unemployment Rate (%) from best_params\\Unemployment Rate (%)\\ARIMA_Poland.json: {'p': 6, 'd': 2, 'q': 2}\n",
      "Loaded best parameters for Poland - Unemployment Rate (%) from best_params\\Unemployment Rate (%)\\Holt_Winters_Poland.json: {'trend': 'add', 'damped_trend': True, 'smoothing_level': None, 'smoothing_slope': 0.6, 'initialization_method': None}\n"
     ]
    },
    {
     "name": "stderr",
     "output_type": "stream",
     "text": [
      "c:\\Users\\admin\\Desktop\\diplomovka\\Code\\Model_staff\\myenv\\Lib\\site-packages\\statsmodels\\tsa\\base\\tsa_model.py:473: ValueWarning: No frequency information was provided, so inferred frequency YS-JAN will be used.\n",
      "  self._init_dates(dates, freq)\n",
      "C:\\Users\\admin\\AppData\\Local\\Temp\\ipykernel_2388\\506649542.py:376: FutureWarning: the 'smoothing_slope' keyword is deprecated, use 'smoothing_trend' instead.\n",
      "  best_fitted_model = best_model.fit(\n"
     ]
    },
    {
     "name": "stdout",
     "output_type": "stream",
     "text": [
      "Best Parameters used for Poland - Unemployment Rate (%): {'trend': 'add', 'damped_trend': True, 'smoothing_level': None, 'smoothing_slope': 0.6, 'initialization_method': None}\n",
      "Loading parameters from best_params\\Unemployment Rate (%)\\LSTM_Poland.json...\n"
     ]
    },
    {
     "name": "stderr",
     "output_type": "stream",
     "text": [
      "c:\\Users\\admin\\Desktop\\diplomovka\\Code\\Model_staff\\myenv\\Lib\\site-packages\\keras\\src\\layers\\rnn\\rnn.py:200: UserWarning: Do not pass an `input_shape`/`input_dim` argument to a layer. When using Sequential models, prefer using an `Input(shape)` object as the first layer in the model instead.\n",
      "  super().__init__(**kwargs)\n",
      "c:\\Users\\admin\\Desktop\\diplomovka\\Code\\Model_staff\\myenv\\Lib\\site-packages\\keras\\src\\callbacks\\early_stopping.py:153: UserWarning: Early stopping conditioned on metric `val_loss` which is not available. Available metrics are: loss\n",
      "  current = self.get_monitor_value(logs)\n",
      "22:15:49 - cmdstanpy - INFO - Chain [1] start processing\n",
      "22:15:49 - cmdstanpy - INFO - Chain [1] done processing\n"
     ]
    },
    {
     "name": "stdout",
     "output_type": "stream",
     "text": [
      "Loading parameters from best_params\\Unemployment Rate (%)\\Prophet_Poland.json...\n"
     ]
    },
    {
     "name": "stderr",
     "output_type": "stream",
     "text": [
      "c:\\Users\\admin\\Desktop\\diplomovka\\Code\\Model_staff\\myenv\\Lib\\site-packages\\prophet\\forecaster.py:1854: FutureWarning: 'Y' is deprecated and will be removed in a future version, please use 'YE' instead.\n",
      "  dates = pd.date_range(\n"
     ]
    },
    {
     "name": "stdout",
     "output_type": "stream",
     "text": [
      "Loading parameters from best_params\\GDP growth (annual %)\\XGBoost_Poland.json...\n",
      "Loaded best parameters for Poland - GDP growth (annual %) from best_params\\GDP growth (annual %)\\ARIMA_Poland.json: {'p': 4, 'd': 1, 'q': 3}\n"
     ]
    },
    {
     "name": "stderr",
     "output_type": "stream",
     "text": [
      "c:\\Users\\admin\\Desktop\\diplomovka\\Code\\Model_staff\\myenv\\Lib\\site-packages\\statsmodels\\base\\model.py:607: ConvergenceWarning: Maximum Likelihood optimization failed to converge. Check mle_retvals\n",
      "  warnings.warn(\"Maximum Likelihood optimization failed to \"\n"
     ]
    },
    {
     "name": "stdout",
     "output_type": "stream",
     "text": [
      "Loaded best parameters for Poland - GDP growth (annual %) from best_params\\GDP growth (annual %)\\Holt_Winters_Poland.json: {'trend': 'add', 'damped_trend': False, 'smoothing_level': 0.7, 'smoothing_slope': 0.9, 'initialization_method': None}\n"
     ]
    },
    {
     "name": "stderr",
     "output_type": "stream",
     "text": [
      "c:\\Users\\admin\\Desktop\\diplomovka\\Code\\Model_staff\\myenv\\Lib\\site-packages\\statsmodels\\tsa\\base\\tsa_model.py:473: ValueWarning: No frequency information was provided, so inferred frequency YS-JAN will be used.\n",
      "  self._init_dates(dates, freq)\n",
      "C:\\Users\\admin\\AppData\\Local\\Temp\\ipykernel_2388\\506649542.py:376: FutureWarning: the 'smoothing_slope' keyword is deprecated, use 'smoothing_trend' instead.\n",
      "  best_fitted_model = best_model.fit(\n"
     ]
    },
    {
     "name": "stdout",
     "output_type": "stream",
     "text": [
      "Best Parameters used for Poland - GDP growth (annual %): {'trend': 'add', 'damped_trend': False, 'smoothing_level': 0.7, 'smoothing_slope': 0.9, 'initialization_method': None}\n",
      "Loading parameters from best_params\\GDP growth (annual %)\\LSTM_Poland.json...\n"
     ]
    },
    {
     "name": "stderr",
     "output_type": "stream",
     "text": [
      "c:\\Users\\admin\\Desktop\\diplomovka\\Code\\Model_staff\\myenv\\Lib\\site-packages\\keras\\src\\layers\\rnn\\rnn.py:200: UserWarning: Do not pass an `input_shape`/`input_dim` argument to a layer. When using Sequential models, prefer using an `Input(shape)` object as the first layer in the model instead.\n",
      "  super().__init__(**kwargs)\n",
      "c:\\Users\\admin\\Desktop\\diplomovka\\Code\\Model_staff\\myenv\\Lib\\site-packages\\keras\\src\\callbacks\\early_stopping.py:153: UserWarning: Early stopping conditioned on metric `val_loss` which is not available. Available metrics are: loss\n",
      "  current = self.get_monitor_value(logs)\n",
      "22:16:02 - cmdstanpy - INFO - Chain [1] start processing\n"
     ]
    },
    {
     "name": "stdout",
     "output_type": "stream",
     "text": [
      "Loading parameters from best_params\\GDP growth (annual %)\\Prophet_Poland.json...\n"
     ]
    },
    {
     "name": "stderr",
     "output_type": "stream",
     "text": [
      "22:16:02 - cmdstanpy - INFO - Chain [1] done processing\n",
      "c:\\Users\\admin\\Desktop\\diplomovka\\Code\\Model_staff\\myenv\\Lib\\site-packages\\prophet\\forecaster.py:1854: FutureWarning: 'Y' is deprecated and will be removed in a future version, please use 'YE' instead.\n",
      "  dates = pd.date_range(\n"
     ]
    },
    {
     "name": "stdout",
     "output_type": "stream",
     "text": [
      "Loading parameters from best_params\\Imports of goods and services (% of GDP)\\XGBoost_Poland.json...\n",
      "Loaded best parameters for Poland - Imports of goods and services (% of GDP) from best_params\\Imports of goods and services (% of GDP)\\ARIMA_Poland.json: {'p': 12, 'd': 2, 'q': 1}\n",
      "Loaded best parameters for Poland - Imports of goods and services (% of GDP) from best_params\\Imports of goods and services (% of GDP)\\Holt_Winters_Poland.json: {'trend': 'mul', 'damped_trend': False, 'smoothing_level': 0.4, 'smoothing_slope': 0.9, 'initialization_method': None}\n"
     ]
    },
    {
     "name": "stderr",
     "output_type": "stream",
     "text": [
      "c:\\Users\\admin\\Desktop\\diplomovka\\Code\\Model_staff\\myenv\\Lib\\site-packages\\statsmodels\\tsa\\base\\tsa_model.py:473: ValueWarning: No frequency information was provided, so inferred frequency YS-JAN will be used.\n",
      "  self._init_dates(dates, freq)\n",
      "C:\\Users\\admin\\AppData\\Local\\Temp\\ipykernel_2388\\506649542.py:376: FutureWarning: the 'smoothing_slope' keyword is deprecated, use 'smoothing_trend' instead.\n",
      "  best_fitted_model = best_model.fit(\n"
     ]
    },
    {
     "name": "stdout",
     "output_type": "stream",
     "text": [
      "Best Parameters used for Poland - Imports of goods and services (% of GDP): {'trend': 'mul', 'damped_trend': False, 'smoothing_level': 0.4, 'smoothing_slope': 0.9, 'initialization_method': None}\n",
      "Loading parameters from best_params\\Imports of goods and services (% of GDP)\\LSTM_Poland.json...\n"
     ]
    },
    {
     "name": "stderr",
     "output_type": "stream",
     "text": [
      "c:\\Users\\admin\\Desktop\\diplomovka\\Code\\Model_staff\\myenv\\Lib\\site-packages\\keras\\src\\layers\\rnn\\rnn.py:200: UserWarning: Do not pass an `input_shape`/`input_dim` argument to a layer. When using Sequential models, prefer using an `Input(shape)` object as the first layer in the model instead.\n",
      "  super().__init__(**kwargs)\n",
      "c:\\Users\\admin\\Desktop\\diplomovka\\Code\\Model_staff\\myenv\\Lib\\site-packages\\keras\\src\\callbacks\\early_stopping.py:153: UserWarning: Early stopping conditioned on metric `val_loss` which is not available. Available metrics are: loss\n",
      "  current = self.get_monitor_value(logs)\n",
      "22:16:20 - cmdstanpy - INFO - Chain [1] start processing\n"
     ]
    },
    {
     "name": "stdout",
     "output_type": "stream",
     "text": [
      "Loading parameters from best_params\\Imports of goods and services (% of GDP)\\Prophet_Poland.json...\n"
     ]
    },
    {
     "name": "stderr",
     "output_type": "stream",
     "text": [
      "22:16:20 - cmdstanpy - INFO - Chain [1] done processing\n",
      "c:\\Users\\admin\\Desktop\\diplomovka\\Code\\Model_staff\\myenv\\Lib\\site-packages\\prophet\\forecaster.py:1854: FutureWarning: 'Y' is deprecated and will be removed in a future version, please use 'YE' instead.\n",
      "  dates = pd.date_range(\n"
     ]
    },
    {
     "name": "stdout",
     "output_type": "stream",
     "text": [
      "Loading parameters from best_params\\Exports of goods and services (% of GDP)\\XGBoost_Poland.json...\n",
      "Loaded best parameters for Poland - Exports of goods and services (% of GDP) from best_params\\Exports of goods and services (% of GDP)\\ARIMA_Poland.json: {'p': 12, 'd': 1, 'q': 0}\n"
     ]
    },
    {
     "name": "stderr",
     "output_type": "stream",
     "text": [
      "c:\\Users\\admin\\Desktop\\diplomovka\\Code\\Model_staff\\myenv\\Lib\\site-packages\\statsmodels\\tsa\\statespace\\sarimax.py:966: UserWarning: Non-stationary starting autoregressive parameters found. Using zeros as starting parameters.\n",
      "  warn('Non-stationary starting autoregressive parameters'\n"
     ]
    },
    {
     "name": "stdout",
     "output_type": "stream",
     "text": [
      "Loaded best parameters for Poland - Exports of goods and services (% of GDP) from best_params\\Exports of goods and services (% of GDP)\\Holt_Winters_Poland.json: {'trend': 'mul', 'damped_trend': True, 'smoothing_level': 0.1, 'smoothing_slope': 0.7, 'initialization_method': None}\n"
     ]
    },
    {
     "name": "stderr",
     "output_type": "stream",
     "text": [
      "c:\\Users\\admin\\Desktop\\diplomovka\\Code\\Model_staff\\myenv\\Lib\\site-packages\\statsmodels\\tsa\\base\\tsa_model.py:473: ValueWarning: No frequency information was provided, so inferred frequency YS-JAN will be used.\n",
      "  self._init_dates(dates, freq)\n",
      "C:\\Users\\admin\\AppData\\Local\\Temp\\ipykernel_2388\\506649542.py:376: FutureWarning: the 'smoothing_slope' keyword is deprecated, use 'smoothing_trend' instead.\n",
      "  best_fitted_model = best_model.fit(\n"
     ]
    },
    {
     "name": "stdout",
     "output_type": "stream",
     "text": [
      "Best Parameters used for Poland - Exports of goods and services (% of GDP): {'trend': 'mul', 'damped_trend': True, 'smoothing_level': 0.1, 'smoothing_slope': 0.7, 'initialization_method': None}\n",
      "Loading parameters from best_params\\Exports of goods and services (% of GDP)\\LSTM_Poland.json...\n"
     ]
    },
    {
     "name": "stderr",
     "output_type": "stream",
     "text": [
      "c:\\Users\\admin\\Desktop\\diplomovka\\Code\\Model_staff\\myenv\\Lib\\site-packages\\keras\\src\\layers\\rnn\\rnn.py:200: UserWarning: Do not pass an `input_shape`/`input_dim` argument to a layer. When using Sequential models, prefer using an `Input(shape)` object as the first layer in the model instead.\n",
      "  super().__init__(**kwargs)\n",
      "c:\\Users\\admin\\Desktop\\diplomovka\\Code\\Model_staff\\myenv\\Lib\\site-packages\\keras\\src\\callbacks\\early_stopping.py:153: UserWarning: Early stopping conditioned on metric `val_loss` which is not available. Available metrics are: loss\n",
      "  current = self.get_monitor_value(logs)\n",
      "22:16:37 - cmdstanpy - INFO - Chain [1] start processing\n"
     ]
    },
    {
     "name": "stdout",
     "output_type": "stream",
     "text": [
      "Loading parameters from best_params\\Exports of goods and services (% of GDP)\\Prophet_Poland.json...\n"
     ]
    },
    {
     "name": "stderr",
     "output_type": "stream",
     "text": [
      "22:16:37 - cmdstanpy - INFO - Chain [1] done processing\n",
      "c:\\Users\\admin\\Desktop\\diplomovka\\Code\\Model_staff\\myenv\\Lib\\site-packages\\prophet\\forecaster.py:1854: FutureWarning: 'Y' is deprecated and will be removed in a future version, please use 'YE' instead.\n",
      "  dates = pd.date_range(\n"
     ]
    },
    {
     "name": "stdout",
     "output_type": "stream",
     "text": [
      "Loading parameters from best_params\\GDP per Capita (USD)\\XGBoost_Slovakia.json...\n",
      "Loaded best parameters for Slovakia - GDP per Capita (USD) from best_params\\GDP per Capita (USD)\\ARIMA_Slovakia.json: {'p': 9, 'd': 2, 'q': 2}\n"
     ]
    },
    {
     "name": "stderr",
     "output_type": "stream",
     "text": [
      "c:\\Users\\admin\\Desktop\\diplomovka\\Code\\Model_staff\\myenv\\Lib\\site-packages\\statsmodels\\tsa\\statespace\\sarimax.py:966: UserWarning: Non-stationary starting autoregressive parameters found. Using zeros as starting parameters.\n",
      "  warn('Non-stationary starting autoregressive parameters'\n",
      "c:\\Users\\admin\\Desktop\\diplomovka\\Code\\Model_staff\\myenv\\Lib\\site-packages\\statsmodels\\base\\model.py:607: ConvergenceWarning: Maximum Likelihood optimization failed to converge. Check mle_retvals\n",
      "  warnings.warn(\"Maximum Likelihood optimization failed to \"\n"
     ]
    },
    {
     "name": "stdout",
     "output_type": "stream",
     "text": [
      "Loaded best parameters for Slovakia - GDP per Capita (USD) from best_params\\GDP per Capita (USD)\\Holt_Winters_Slovakia.json: {'trend': 'mul', 'damped_trend': True, 'smoothing_level': 0.7, 'smoothing_slope': 0.1, 'initialization_method': None}\n"
     ]
    },
    {
     "name": "stderr",
     "output_type": "stream",
     "text": [
      "c:\\Users\\admin\\Desktop\\diplomovka\\Code\\Model_staff\\myenv\\Lib\\site-packages\\statsmodels\\tsa\\base\\tsa_model.py:473: ValueWarning: No frequency information was provided, so inferred frequency YS-JAN will be used.\n",
      "  self._init_dates(dates, freq)\n",
      "C:\\Users\\admin\\AppData\\Local\\Temp\\ipykernel_2388\\506649542.py:376: FutureWarning: the 'smoothing_slope' keyword is deprecated, use 'smoothing_trend' instead.\n",
      "  best_fitted_model = best_model.fit(\n",
      "c:\\Users\\admin\\Desktop\\diplomovka\\Code\\Model_staff\\myenv\\Lib\\site-packages\\statsmodels\\tsa\\holtwinters\\model.py:918: ConvergenceWarning: Optimization failed to converge. Check mle_retvals.\n",
      "  warnings.warn(\n"
     ]
    },
    {
     "name": "stdout",
     "output_type": "stream",
     "text": [
      "Best Parameters used for Slovakia - GDP per Capita (USD): {'trend': 'mul', 'damped_trend': True, 'smoothing_level': 0.7, 'smoothing_slope': 0.1, 'initialization_method': None}\n",
      "Loading parameters from best_params\\GDP per Capita (USD)\\LSTM_Slovakia.json...\n"
     ]
    },
    {
     "name": "stderr",
     "output_type": "stream",
     "text": [
      "c:\\Users\\admin\\Desktop\\diplomovka\\Code\\Model_staff\\myenv\\Lib\\site-packages\\keras\\src\\layers\\rnn\\rnn.py:200: UserWarning: Do not pass an `input_shape`/`input_dim` argument to a layer. When using Sequential models, prefer using an `Input(shape)` object as the first layer in the model instead.\n",
      "  super().__init__(**kwargs)\n",
      "c:\\Users\\admin\\Desktop\\diplomovka\\Code\\Model_staff\\myenv\\Lib\\site-packages\\keras\\src\\callbacks\\early_stopping.py:153: UserWarning: Early stopping conditioned on metric `val_loss` which is not available. Available metrics are: loss\n",
      "  current = self.get_monitor_value(logs)\n",
      "22:16:57 - cmdstanpy - INFO - Chain [1] start processing\n",
      "22:16:57 - cmdstanpy - INFO - Chain [1] done processing\n"
     ]
    },
    {
     "name": "stdout",
     "output_type": "stream",
     "text": [
      "Loading parameters from best_params\\GDP per Capita (USD)\\Prophet_Slovakia.json...\n"
     ]
    },
    {
     "name": "stderr",
     "output_type": "stream",
     "text": [
      "c:\\Users\\admin\\Desktop\\diplomovka\\Code\\Model_staff\\myenv\\Lib\\site-packages\\prophet\\forecaster.py:1854: FutureWarning: 'Y' is deprecated and will be removed in a future version, please use 'YE' instead.\n",
      "  dates = pd.date_range(\n"
     ]
    },
    {
     "name": "stdout",
     "output_type": "stream",
     "text": [
      "Loading parameters from best_params\\GDP (USD)\\XGBoost_Slovakia.json...\n",
      "Loaded best parameters for Slovakia - GDP (USD) from best_params\\GDP (USD)\\ARIMA_Slovakia.json: {'p': 10, 'd': 1, 'q': 2}\n"
     ]
    },
    {
     "name": "stderr",
     "output_type": "stream",
     "text": [
      "c:\\Users\\admin\\Desktop\\diplomovka\\Code\\Model_staff\\myenv\\Lib\\site-packages\\statsmodels\\tsa\\statespace\\sarimax.py:966: UserWarning: Non-stationary starting autoregressive parameters found. Using zeros as starting parameters.\n",
      "  warn('Non-stationary starting autoregressive parameters'\n",
      "c:\\Users\\admin\\Desktop\\diplomovka\\Code\\Model_staff\\myenv\\Lib\\site-packages\\statsmodels\\base\\model.py:607: ConvergenceWarning: Maximum Likelihood optimization failed to converge. Check mle_retvals\n",
      "  warnings.warn(\"Maximum Likelihood optimization failed to \"\n"
     ]
    },
    {
     "name": "stdout",
     "output_type": "stream",
     "text": [
      "Loaded best parameters for Slovakia - GDP (USD) from best_params\\GDP (USD)\\Holt_Winters_Slovakia.json: {'trend': 'mul', 'damped_trend': True, 'smoothing_level': 0.8, 'smoothing_slope': 0.1, 'initialization_method': None}\n"
     ]
    },
    {
     "name": "stderr",
     "output_type": "stream",
     "text": [
      "c:\\Users\\admin\\Desktop\\diplomovka\\Code\\Model_staff\\myenv\\Lib\\site-packages\\statsmodels\\tsa\\base\\tsa_model.py:473: ValueWarning: No frequency information was provided, so inferred frequency YS-JAN will be used.\n",
      "  self._init_dates(dates, freq)\n",
      "C:\\Users\\admin\\AppData\\Local\\Temp\\ipykernel_2388\\506649542.py:376: FutureWarning: the 'smoothing_slope' keyword is deprecated, use 'smoothing_trend' instead.\n",
      "  best_fitted_model = best_model.fit(\n",
      "c:\\Users\\admin\\Desktop\\diplomovka\\Code\\Model_staff\\myenv\\Lib\\site-packages\\statsmodels\\tsa\\holtwinters\\model.py:918: ConvergenceWarning: Optimization failed to converge. Check mle_retvals.\n",
      "  warnings.warn(\n"
     ]
    },
    {
     "name": "stdout",
     "output_type": "stream",
     "text": [
      "Best Parameters used for Slovakia - GDP (USD): {'trend': 'mul', 'damped_trend': True, 'smoothing_level': 0.8, 'smoothing_slope': 0.1, 'initialization_method': None}\n",
      "Loading parameters from best_params\\GDP (USD)\\LSTM_Slovakia.json...\n"
     ]
    },
    {
     "name": "stderr",
     "output_type": "stream",
     "text": [
      "c:\\Users\\admin\\Desktop\\diplomovka\\Code\\Model_staff\\myenv\\Lib\\site-packages\\keras\\src\\layers\\rnn\\rnn.py:200: UserWarning: Do not pass an `input_shape`/`input_dim` argument to a layer. When using Sequential models, prefer using an `Input(shape)` object as the first layer in the model instead.\n",
      "  super().__init__(**kwargs)\n",
      "c:\\Users\\admin\\Desktop\\diplomovka\\Code\\Model_staff\\myenv\\Lib\\site-packages\\keras\\src\\callbacks\\early_stopping.py:153: UserWarning: Early stopping conditioned on metric `val_loss` which is not available. Available metrics are: loss\n",
      "  current = self.get_monitor_value(logs)\n",
      "22:17:16 - cmdstanpy - INFO - Chain [1] start processing\n"
     ]
    },
    {
     "name": "stdout",
     "output_type": "stream",
     "text": [
      "Loading parameters from best_params\\GDP (USD)\\Prophet_Slovakia.json...\n"
     ]
    },
    {
     "name": "stderr",
     "output_type": "stream",
     "text": [
      "22:17:17 - cmdstanpy - INFO - Chain [1] done processing\n",
      "c:\\Users\\admin\\Desktop\\diplomovka\\Code\\Model_staff\\myenv\\Lib\\site-packages\\prophet\\forecaster.py:1854: FutureWarning: 'Y' is deprecated and will be removed in a future version, please use 'YE' instead.\n",
      "  dates = pd.date_range(\n"
     ]
    },
    {
     "name": "stdout",
     "output_type": "stream",
     "text": [
      "Loading parameters from best_params\\Inflation (CPI)\\XGBoost_Slovakia.json...\n",
      "Loaded best parameters for Slovakia - Inflation (CPI) from best_params\\Inflation (CPI)\\ARIMA_Slovakia.json: {'p': 1, 'd': 3, 'q': 0}\n",
      "Loaded best parameters for Slovakia - Inflation (CPI) from best_params\\Inflation (CPI)\\Holt_Winters_Slovakia.json: {'trend': None, 'damped_trend': False, 'smoothing_level': 0.1, 'smoothing_slope': None, 'initialization_method': None}\n"
     ]
    },
    {
     "name": "stderr",
     "output_type": "stream",
     "text": [
      "c:\\Users\\admin\\Desktop\\diplomovka\\Code\\Model_staff\\myenv\\Lib\\site-packages\\statsmodels\\tsa\\base\\tsa_model.py:473: ValueWarning: No frequency information was provided, so inferred frequency YS-JAN will be used.\n",
      "  self._init_dates(dates, freq)\n"
     ]
    },
    {
     "name": "stdout",
     "output_type": "stream",
     "text": [
      "Best Parameters used for Slovakia - Inflation (CPI): {'trend': None, 'damped_trend': False, 'smoothing_level': 0.1, 'smoothing_slope': None, 'initialization_method': None}\n",
      "Loading parameters from best_params\\Inflation (CPI)\\LSTM_Slovakia.json...\n"
     ]
    },
    {
     "name": "stderr",
     "output_type": "stream",
     "text": [
      "c:\\Users\\admin\\Desktop\\diplomovka\\Code\\Model_staff\\myenv\\Lib\\site-packages\\keras\\src\\layers\\rnn\\rnn.py:200: UserWarning: Do not pass an `input_shape`/`input_dim` argument to a layer. When using Sequential models, prefer using an `Input(shape)` object as the first layer in the model instead.\n",
      "  super().__init__(**kwargs)\n",
      "c:\\Users\\admin\\Desktop\\diplomovka\\Code\\Model_staff\\myenv\\Lib\\site-packages\\keras\\src\\callbacks\\early_stopping.py:153: UserWarning: Early stopping conditioned on metric `val_loss` which is not available. Available metrics are: loss\n",
      "  current = self.get_monitor_value(logs)\n",
      "22:17:32 - cmdstanpy - INFO - Chain [1] start processing\n"
     ]
    },
    {
     "name": "stdout",
     "output_type": "stream",
     "text": [
      "Loading parameters from best_params\\Inflation (CPI)\\Prophet_Slovakia.json...\n"
     ]
    },
    {
     "name": "stderr",
     "output_type": "stream",
     "text": [
      "22:17:32 - cmdstanpy - INFO - Chain [1] done processing\n",
      "c:\\Users\\admin\\Desktop\\diplomovka\\Code\\Model_staff\\myenv\\Lib\\site-packages\\prophet\\forecaster.py:1854: FutureWarning: 'Y' is deprecated and will be removed in a future version, please use 'YE' instead.\n",
      "  dates = pd.date_range(\n"
     ]
    },
    {
     "name": "stdout",
     "output_type": "stream",
     "text": [
      "Loading parameters from best_params\\Unemployment Rate (%)\\XGBoost_Slovakia.json...\n",
      "Loaded best parameters for Slovakia - Unemployment Rate (%) from best_params\\Unemployment Rate (%)\\ARIMA_Slovakia.json: {'p': 0, 'd': 2, 'q': 4}\n",
      "Loaded best parameters for Slovakia - Unemployment Rate (%) from best_params\\Unemployment Rate (%)\\Holt_Winters_Slovakia.json: {'trend': 'mul', 'damped_trend': True, 'smoothing_level': None, 'smoothing_slope': 0.9, 'initialization_method': None}\n"
     ]
    },
    {
     "name": "stderr",
     "output_type": "stream",
     "text": [
      "c:\\Users\\admin\\Desktop\\diplomovka\\Code\\Model_staff\\myenv\\Lib\\site-packages\\statsmodels\\tsa\\base\\tsa_model.py:473: ValueWarning: No frequency information was provided, so inferred frequency YS-JAN will be used.\n",
      "  self._init_dates(dates, freq)\n",
      "C:\\Users\\admin\\AppData\\Local\\Temp\\ipykernel_2388\\506649542.py:376: FutureWarning: the 'smoothing_slope' keyword is deprecated, use 'smoothing_trend' instead.\n",
      "  best_fitted_model = best_model.fit(\n"
     ]
    },
    {
     "name": "stdout",
     "output_type": "stream",
     "text": [
      "Best Parameters used for Slovakia - Unemployment Rate (%): {'trend': 'mul', 'damped_trend': True, 'smoothing_level': None, 'smoothing_slope': 0.9, 'initialization_method': None}\n",
      "Loading parameters from best_params\\Unemployment Rate (%)\\LSTM_Slovakia.json...\n"
     ]
    },
    {
     "name": "stderr",
     "output_type": "stream",
     "text": [
      "c:\\Users\\admin\\Desktop\\diplomovka\\Code\\Model_staff\\myenv\\Lib\\site-packages\\keras\\src\\layers\\rnn\\rnn.py:200: UserWarning: Do not pass an `input_shape`/`input_dim` argument to a layer. When using Sequential models, prefer using an `Input(shape)` object as the first layer in the model instead.\n",
      "  super().__init__(**kwargs)\n",
      "c:\\Users\\admin\\Desktop\\diplomovka\\Code\\Model_staff\\myenv\\Lib\\site-packages\\keras\\src\\callbacks\\early_stopping.py:153: UserWarning: Early stopping conditioned on metric `val_loss` which is not available. Available metrics are: loss\n",
      "  current = self.get_monitor_value(logs)\n",
      "22:17:58 - cmdstanpy - INFO - Chain [1] start processing\n"
     ]
    },
    {
     "name": "stdout",
     "output_type": "stream",
     "text": [
      "Loading parameters from best_params\\Unemployment Rate (%)\\Prophet_Slovakia.json...\n"
     ]
    },
    {
     "name": "stderr",
     "output_type": "stream",
     "text": [
      "22:17:58 - cmdstanpy - INFO - Chain [1] done processing\n",
      "c:\\Users\\admin\\Desktop\\diplomovka\\Code\\Model_staff\\myenv\\Lib\\site-packages\\prophet\\forecaster.py:1854: FutureWarning: 'Y' is deprecated and will be removed in a future version, please use 'YE' instead.\n",
      "  dates = pd.date_range(\n"
     ]
    },
    {
     "name": "stdout",
     "output_type": "stream",
     "text": [
      "Loading parameters from best_params\\GDP growth (annual %)\\XGBoost_Slovakia.json...\n",
      "Loaded best parameters for Slovakia - GDP growth (annual %) from best_params\\GDP growth (annual %)\\ARIMA_Slovakia.json: {'p': 5, 'd': 1, 'q': 3}\n"
     ]
    },
    {
     "name": "stderr",
     "output_type": "stream",
     "text": [
      "c:\\Users\\admin\\Desktop\\diplomovka\\Code\\Model_staff\\myenv\\Lib\\site-packages\\statsmodels\\tsa\\statespace\\sarimax.py:966: UserWarning: Non-stationary starting autoregressive parameters found. Using zeros as starting parameters.\n",
      "  warn('Non-stationary starting autoregressive parameters'\n",
      "c:\\Users\\admin\\Desktop\\diplomovka\\Code\\Model_staff\\myenv\\Lib\\site-packages\\statsmodels\\tsa\\statespace\\sarimax.py:978: UserWarning: Non-invertible starting MA parameters found. Using zeros as starting parameters.\n",
      "  warn('Non-invertible starting MA parameters found.'\n",
      "c:\\Users\\admin\\Desktop\\diplomovka\\Code\\Model_staff\\myenv\\Lib\\site-packages\\statsmodels\\base\\model.py:607: ConvergenceWarning: Maximum Likelihood optimization failed to converge. Check mle_retvals\n",
      "  warnings.warn(\"Maximum Likelihood optimization failed to \"\n"
     ]
    },
    {
     "name": "stdout",
     "output_type": "stream",
     "text": [
      "Loaded best parameters for Slovakia - GDP growth (annual %) from best_params\\GDP growth (annual %)\\Holt_Winters_Slovakia.json: {'trend': 'add', 'damped_trend': False, 'smoothing_level': 0.7, 'smoothing_slope': 0.7, 'initialization_method': None}\n"
     ]
    },
    {
     "name": "stderr",
     "output_type": "stream",
     "text": [
      "c:\\Users\\admin\\Desktop\\diplomovka\\Code\\Model_staff\\myenv\\Lib\\site-packages\\statsmodels\\tsa\\base\\tsa_model.py:473: ValueWarning: No frequency information was provided, so inferred frequency YS-JAN will be used.\n",
      "  self._init_dates(dates, freq)\n",
      "C:\\Users\\admin\\AppData\\Local\\Temp\\ipykernel_2388\\506649542.py:376: FutureWarning: the 'smoothing_slope' keyword is deprecated, use 'smoothing_trend' instead.\n",
      "  best_fitted_model = best_model.fit(\n"
     ]
    },
    {
     "name": "stdout",
     "output_type": "stream",
     "text": [
      "Best Parameters used for Slovakia - GDP growth (annual %): {'trend': 'add', 'damped_trend': False, 'smoothing_level': 0.7, 'smoothing_slope': 0.7, 'initialization_method': None}\n",
      "Loading parameters from best_params\\GDP growth (annual %)\\LSTM_Slovakia.json...\n"
     ]
    },
    {
     "name": "stderr",
     "output_type": "stream",
     "text": [
      "c:\\Users\\admin\\Desktop\\diplomovka\\Code\\Model_staff\\myenv\\Lib\\site-packages\\keras\\src\\layers\\rnn\\rnn.py:200: UserWarning: Do not pass an `input_shape`/`input_dim` argument to a layer. When using Sequential models, prefer using an `Input(shape)` object as the first layer in the model instead.\n",
      "  super().__init__(**kwargs)\n",
      "c:\\Users\\admin\\Desktop\\diplomovka\\Code\\Model_staff\\myenv\\Lib\\site-packages\\keras\\src\\callbacks\\early_stopping.py:153: UserWarning: Early stopping conditioned on metric `val_loss` which is not available. Available metrics are: loss\n",
      "  current = self.get_monitor_value(logs)\n",
      "22:18:15 - cmdstanpy - INFO - Chain [1] start processing\n"
     ]
    },
    {
     "name": "stdout",
     "output_type": "stream",
     "text": [
      "Loading parameters from best_params\\GDP growth (annual %)\\Prophet_Slovakia.json...\n"
     ]
    },
    {
     "name": "stderr",
     "output_type": "stream",
     "text": [
      "22:18:15 - cmdstanpy - INFO - Chain [1] done processing\n",
      "c:\\Users\\admin\\Desktop\\diplomovka\\Code\\Model_staff\\myenv\\Lib\\site-packages\\prophet\\forecaster.py:1854: FutureWarning: 'Y' is deprecated and will be removed in a future version, please use 'YE' instead.\n",
      "  dates = pd.date_range(\n"
     ]
    },
    {
     "name": "stdout",
     "output_type": "stream",
     "text": [
      "Loading parameters from best_params\\Imports of goods and services (% of GDP)\\XGBoost_Slovakia.json...\n",
      "Loaded best parameters for Slovakia - Imports of goods and services (% of GDP) from best_params\\Imports of goods and services (% of GDP)\\ARIMA_Slovakia.json: {'p': 6, 'd': 3, 'q': 0}\n",
      "Loaded best parameters for Slovakia - Imports of goods and services (% of GDP) from best_params\\Imports of goods and services (% of GDP)\\Holt_Winters_Slovakia.json: {'trend': 'add', 'damped_trend': False, 'smoothing_level': 0.2, 'smoothing_slope': 0.6, 'initialization_method': None}\n"
     ]
    },
    {
     "name": "stderr",
     "output_type": "stream",
     "text": [
      "c:\\Users\\admin\\Desktop\\diplomovka\\Code\\Model_staff\\myenv\\Lib\\site-packages\\statsmodels\\tsa\\base\\tsa_model.py:473: ValueWarning: No frequency information was provided, so inferred frequency YS-JAN will be used.\n",
      "  self._init_dates(dates, freq)\n",
      "C:\\Users\\admin\\AppData\\Local\\Temp\\ipykernel_2388\\506649542.py:376: FutureWarning: the 'smoothing_slope' keyword is deprecated, use 'smoothing_trend' instead.\n",
      "  best_fitted_model = best_model.fit(\n"
     ]
    },
    {
     "name": "stdout",
     "output_type": "stream",
     "text": [
      "Best Parameters used for Slovakia - Imports of goods and services (% of GDP): {'trend': 'add', 'damped_trend': False, 'smoothing_level': 0.2, 'smoothing_slope': 0.6, 'initialization_method': None}\n",
      "Loading parameters from best_params\\Imports of goods and services (% of GDP)\\LSTM_Slovakia.json...\n"
     ]
    },
    {
     "name": "stderr",
     "output_type": "stream",
     "text": [
      "c:\\Users\\admin\\Desktop\\diplomovka\\Code\\Model_staff\\myenv\\Lib\\site-packages\\keras\\src\\layers\\rnn\\rnn.py:200: UserWarning: Do not pass an `input_shape`/`input_dim` argument to a layer. When using Sequential models, prefer using an `Input(shape)` object as the first layer in the model instead.\n",
      "  super().__init__(**kwargs)\n",
      "c:\\Users\\admin\\Desktop\\diplomovka\\Code\\Model_staff\\myenv\\Lib\\site-packages\\keras\\src\\callbacks\\early_stopping.py:153: UserWarning: Early stopping conditioned on metric `val_loss` which is not available. Available metrics are: loss\n",
      "  current = self.get_monitor_value(logs)\n",
      "22:18:31 - cmdstanpy - INFO - Chain [1] start processing\n"
     ]
    },
    {
     "name": "stdout",
     "output_type": "stream",
     "text": [
      "Loading parameters from best_params\\Imports of goods and services (% of GDP)\\Prophet_Slovakia.json...\n"
     ]
    },
    {
     "name": "stderr",
     "output_type": "stream",
     "text": [
      "22:18:32 - cmdstanpy - INFO - Chain [1] done processing\n",
      "c:\\Users\\admin\\Desktop\\diplomovka\\Code\\Model_staff\\myenv\\Lib\\site-packages\\prophet\\forecaster.py:1854: FutureWarning: 'Y' is deprecated and will be removed in a future version, please use 'YE' instead.\n",
      "  dates = pd.date_range(\n"
     ]
    },
    {
     "name": "stdout",
     "output_type": "stream",
     "text": [
      "Loading parameters from best_params\\Exports of goods and services (% of GDP)\\XGBoost_Slovakia.json...\n",
      "Loaded best parameters for Slovakia - Exports of goods and services (% of GDP) from best_params\\Exports of goods and services (% of GDP)\\ARIMA_Slovakia.json: {'p': 4, 'd': 3, 'q': 9}\n"
     ]
    },
    {
     "name": "stderr",
     "output_type": "stream",
     "text": [
      "c:\\Users\\admin\\Desktop\\diplomovka\\Code\\Model_staff\\myenv\\Lib\\site-packages\\statsmodels\\tsa\\statespace\\sarimax.py:866: UserWarning: Too few observations to estimate starting parameters for ARMA and trend. All parameters except for variances will be set to zeros.\n",
      "  warn('Too few observations to estimate starting parameters%s.'\n",
      "c:\\Users\\admin\\Desktop\\diplomovka\\Code\\Model_staff\\myenv\\Lib\\site-packages\\statsmodels\\base\\model.py:607: ConvergenceWarning: Maximum Likelihood optimization failed to converge. Check mle_retvals\n",
      "  warnings.warn(\"Maximum Likelihood optimization failed to \"\n"
     ]
    },
    {
     "name": "stdout",
     "output_type": "stream",
     "text": [
      "Loaded best parameters for Slovakia - Exports of goods and services (% of GDP) from best_params\\Exports of goods and services (% of GDP)\\Holt_Winters_Slovakia.json: {'trend': None, 'damped_trend': False, 'smoothing_level': None, 'smoothing_slope': None, 'initialization_method': None}\n"
     ]
    },
    {
     "name": "stderr",
     "output_type": "stream",
     "text": [
      "c:\\Users\\admin\\Desktop\\diplomovka\\Code\\Model_staff\\myenv\\Lib\\site-packages\\statsmodels\\tsa\\base\\tsa_model.py:473: ValueWarning: No frequency information was provided, so inferred frequency YS-JAN will be used.\n",
      "  self._init_dates(dates, freq)\n"
     ]
    },
    {
     "name": "stdout",
     "output_type": "stream",
     "text": [
      "Best Parameters used for Slovakia - Exports of goods and services (% of GDP): {'trend': None, 'damped_trend': False, 'smoothing_level': None, 'smoothing_slope': None, 'initialization_method': None}\n",
      "Loading parameters from best_params\\Exports of goods and services (% of GDP)\\LSTM_Slovakia.json...\n"
     ]
    },
    {
     "name": "stderr",
     "output_type": "stream",
     "text": [
      "c:\\Users\\admin\\Desktop\\diplomovka\\Code\\Model_staff\\myenv\\Lib\\site-packages\\keras\\src\\layers\\rnn\\rnn.py:200: UserWarning: Do not pass an `input_shape`/`input_dim` argument to a layer. When using Sequential models, prefer using an `Input(shape)` object as the first layer in the model instead.\n",
      "  super().__init__(**kwargs)\n",
      "c:\\Users\\admin\\Desktop\\diplomovka\\Code\\Model_staff\\myenv\\Lib\\site-packages\\keras\\src\\callbacks\\early_stopping.py:153: UserWarning: Early stopping conditioned on metric `val_loss` which is not available. Available metrics are: loss\n",
      "  current = self.get_monitor_value(logs)\n",
      "22:18:46 - cmdstanpy - INFO - Chain [1] start processing\n"
     ]
    },
    {
     "name": "stdout",
     "output_type": "stream",
     "text": [
      "Loading parameters from best_params\\Exports of goods and services (% of GDP)\\Prophet_Slovakia.json...\n"
     ]
    },
    {
     "name": "stderr",
     "output_type": "stream",
     "text": [
      "22:18:46 - cmdstanpy - INFO - Chain [1] done processing\n",
      "c:\\Users\\admin\\Desktop\\diplomovka\\Code\\Model_staff\\myenv\\Lib\\site-packages\\prophet\\forecaster.py:1854: FutureWarning: 'Y' is deprecated and will be removed in a future version, please use 'YE' instead.\n",
      "  dates = pd.date_range(\n"
     ]
    },
    {
     "name": "stdout",
     "output_type": "stream",
     "text": [
      "Loading parameters from best_params\\GDP per Capita (USD)\\XGBoost_Germany.json...\n",
      "Loaded best parameters for Germany - GDP per Capita (USD) from best_params\\GDP per Capita (USD)\\ARIMA_Germany.json: {'p': 1, 'd': 2, 'q': 6}\n"
     ]
    },
    {
     "name": "stderr",
     "output_type": "stream",
     "text": [
      "c:\\Users\\admin\\Desktop\\diplomovka\\Code\\Model_staff\\myenv\\Lib\\site-packages\\statsmodels\\tsa\\statespace\\sarimax.py:978: UserWarning: Non-invertible starting MA parameters found. Using zeros as starting parameters.\n",
      "  warn('Non-invertible starting MA parameters found.'\n",
      "c:\\Users\\admin\\Desktop\\diplomovka\\Code\\Model_staff\\myenv\\Lib\\site-packages\\statsmodels\\base\\model.py:607: ConvergenceWarning: Maximum Likelihood optimization failed to converge. Check mle_retvals\n",
      "  warnings.warn(\"Maximum Likelihood optimization failed to \"\n"
     ]
    },
    {
     "name": "stdout",
     "output_type": "stream",
     "text": [
      "Loaded best parameters for Germany - GDP per Capita (USD) from best_params\\GDP per Capita (USD)\\Holt_Winters_Germany.json: {'trend': 'add', 'damped_trend': False, 'smoothing_level': 0.7, 'smoothing_slope': 0.4, 'initialization_method': None}\n",
      "Best Parameters used for Germany - GDP per Capita (USD): {'trend': 'add', 'damped_trend': False, 'smoothing_level': 0.7, 'smoothing_slope': 0.4, 'initialization_method': None}\n"
     ]
    },
    {
     "name": "stderr",
     "output_type": "stream",
     "text": [
      "c:\\Users\\admin\\Desktop\\diplomovka\\Code\\Model_staff\\myenv\\Lib\\site-packages\\statsmodels\\tsa\\base\\tsa_model.py:473: ValueWarning: No frequency information was provided, so inferred frequency YS-JAN will be used.\n",
      "  self._init_dates(dates, freq)\n",
      "C:\\Users\\admin\\AppData\\Local\\Temp\\ipykernel_2388\\506649542.py:376: FutureWarning: the 'smoothing_slope' keyword is deprecated, use 'smoothing_trend' instead.\n",
      "  best_fitted_model = best_model.fit(\n"
     ]
    },
    {
     "name": "stdout",
     "output_type": "stream",
     "text": [
      "Loading parameters from best_params\\GDP per Capita (USD)\\LSTM_Germany.json...\n"
     ]
    },
    {
     "name": "stderr",
     "output_type": "stream",
     "text": [
      "c:\\Users\\admin\\Desktop\\diplomovka\\Code\\Model_staff\\myenv\\Lib\\site-packages\\keras\\src\\layers\\rnn\\rnn.py:200: UserWarning: Do not pass an `input_shape`/`input_dim` argument to a layer. When using Sequential models, prefer using an `Input(shape)` object as the first layer in the model instead.\n",
      "  super().__init__(**kwargs)\n",
      "c:\\Users\\admin\\Desktop\\diplomovka\\Code\\Model_staff\\myenv\\Lib\\site-packages\\keras\\src\\callbacks\\early_stopping.py:153: UserWarning: Early stopping conditioned on metric `val_loss` which is not available. Available metrics are: loss\n",
      "  current = self.get_monitor_value(logs)\n",
      "22:19:03 - cmdstanpy - INFO - Chain [1] start processing\n"
     ]
    },
    {
     "name": "stdout",
     "output_type": "stream",
     "text": [
      "Loading parameters from best_params\\GDP per Capita (USD)\\Prophet_Germany.json...\n"
     ]
    },
    {
     "name": "stderr",
     "output_type": "stream",
     "text": [
      "22:19:03 - cmdstanpy - INFO - Chain [1] done processing\n",
      "c:\\Users\\admin\\Desktop\\diplomovka\\Code\\Model_staff\\myenv\\Lib\\site-packages\\prophet\\forecaster.py:1854: FutureWarning: 'Y' is deprecated and will be removed in a future version, please use 'YE' instead.\n",
      "  dates = pd.date_range(\n"
     ]
    },
    {
     "name": "stdout",
     "output_type": "stream",
     "text": [
      "Loading parameters from best_params\\GDP (USD)\\XGBoost_Germany.json...\n",
      "Loaded best parameters for Germany - GDP (USD) from best_params\\GDP (USD)\\ARIMA_Germany.json: {'p': 0, 'd': 2, 'q': 5}\n"
     ]
    },
    {
     "name": "stderr",
     "output_type": "stream",
     "text": [
      "c:\\Users\\admin\\Desktop\\diplomovka\\Code\\Model_staff\\myenv\\Lib\\site-packages\\statsmodels\\tsa\\statespace\\sarimax.py:978: UserWarning: Non-invertible starting MA parameters found. Using zeros as starting parameters.\n",
      "  warn('Non-invertible starting MA parameters found.'\n"
     ]
    },
    {
     "name": "stdout",
     "output_type": "stream",
     "text": [
      "Loaded best parameters for Germany - GDP (USD) from best_params\\GDP (USD)\\Holt_Winters_Germany.json: {'trend': 'add', 'damped_trend': False, 'smoothing_level': 0.9, 'smoothing_slope': 0.3, 'initialization_method': None}\n"
     ]
    },
    {
     "name": "stderr",
     "output_type": "stream",
     "text": [
      "c:\\Users\\admin\\Desktop\\diplomovka\\Code\\Model_staff\\myenv\\Lib\\site-packages\\statsmodels\\tsa\\base\\tsa_model.py:473: ValueWarning: No frequency information was provided, so inferred frequency YS-JAN will be used.\n",
      "  self._init_dates(dates, freq)\n",
      "C:\\Users\\admin\\AppData\\Local\\Temp\\ipykernel_2388\\506649542.py:376: FutureWarning: the 'smoothing_slope' keyword is deprecated, use 'smoothing_trend' instead.\n",
      "  best_fitted_model = best_model.fit(\n"
     ]
    },
    {
     "name": "stdout",
     "output_type": "stream",
     "text": [
      "Best Parameters used for Germany - GDP (USD): {'trend': 'add', 'damped_trend': False, 'smoothing_level': 0.9, 'smoothing_slope': 0.3, 'initialization_method': None}\n",
      "Loading parameters from best_params\\GDP (USD)\\LSTM_Germany.json...\n"
     ]
    },
    {
     "name": "stderr",
     "output_type": "stream",
     "text": [
      "c:\\Users\\admin\\Desktop\\diplomovka\\Code\\Model_staff\\myenv\\Lib\\site-packages\\keras\\src\\layers\\rnn\\rnn.py:200: UserWarning: Do not pass an `input_shape`/`input_dim` argument to a layer. When using Sequential models, prefer using an `Input(shape)` object as the first layer in the model instead.\n",
      "  super().__init__(**kwargs)\n",
      "c:\\Users\\admin\\Desktop\\diplomovka\\Code\\Model_staff\\myenv\\Lib\\site-packages\\keras\\src\\callbacks\\early_stopping.py:153: UserWarning: Early stopping conditioned on metric `val_loss` which is not available. Available metrics are: loss\n",
      "  current = self.get_monitor_value(logs)\n",
      "22:19:18 - cmdstanpy - INFO - Chain [1] start processing\n",
      "22:19:18 - cmdstanpy - INFO - Chain [1] done processing\n"
     ]
    },
    {
     "name": "stdout",
     "output_type": "stream",
     "text": [
      "Loading parameters from best_params\\GDP (USD)\\Prophet_Germany.json...\n"
     ]
    },
    {
     "name": "stderr",
     "output_type": "stream",
     "text": [
      "c:\\Users\\admin\\Desktop\\diplomovka\\Code\\Model_staff\\myenv\\Lib\\site-packages\\prophet\\forecaster.py:1854: FutureWarning: 'Y' is deprecated and will be removed in a future version, please use 'YE' instead.\n",
      "  dates = pd.date_range(\n"
     ]
    },
    {
     "name": "stdout",
     "output_type": "stream",
     "text": [
      "Loading parameters from best_params\\Inflation (CPI)\\XGBoost_Germany.json...\n",
      "Loaded best parameters for Germany - Inflation (CPI) from best_params\\Inflation (CPI)\\ARIMA_Germany.json: {'p': 12, 'd': 5, 'q': 1}\n"
     ]
    },
    {
     "name": "stderr",
     "output_type": "stream",
     "text": [
      "c:\\Users\\admin\\Desktop\\diplomovka\\Code\\Model_staff\\myenv\\Lib\\site-packages\\statsmodels\\tsa\\statespace\\sarimax.py:966: UserWarning: Non-stationary starting autoregressive parameters found. Using zeros as starting parameters.\n",
      "  warn('Non-stationary starting autoregressive parameters'\n",
      "c:\\Users\\admin\\Desktop\\diplomovka\\Code\\Model_staff\\myenv\\Lib\\site-packages\\statsmodels\\tsa\\statespace\\sarimax.py:978: UserWarning: Non-invertible starting MA parameters found. Using zeros as starting parameters.\n",
      "  warn('Non-invertible starting MA parameters found.'\n",
      "c:\\Users\\admin\\Desktop\\diplomovka\\Code\\Model_staff\\myenv\\Lib\\site-packages\\statsmodels\\base\\model.py:607: ConvergenceWarning: Maximum Likelihood optimization failed to converge. Check mle_retvals\n",
      "  warnings.warn(\"Maximum Likelihood optimization failed to \"\n"
     ]
    },
    {
     "name": "stdout",
     "output_type": "stream",
     "text": [
      "Loaded best parameters for Germany - Inflation (CPI) from best_params\\Inflation (CPI)\\Holt_Winters_Germany.json: {'trend': 'add', 'damped_trend': False, 'smoothing_level': None, 'smoothing_slope': 0.8, 'initialization_method': None}\n"
     ]
    },
    {
     "name": "stderr",
     "output_type": "stream",
     "text": [
      "c:\\Users\\admin\\Desktop\\diplomovka\\Code\\Model_staff\\myenv\\Lib\\site-packages\\statsmodels\\tsa\\base\\tsa_model.py:473: ValueWarning: No frequency information was provided, so inferred frequency YS-JAN will be used.\n",
      "  self._init_dates(dates, freq)\n",
      "C:\\Users\\admin\\AppData\\Local\\Temp\\ipykernel_2388\\506649542.py:376: FutureWarning: the 'smoothing_slope' keyword is deprecated, use 'smoothing_trend' instead.\n",
      "  best_fitted_model = best_model.fit(\n"
     ]
    },
    {
     "name": "stdout",
     "output_type": "stream",
     "text": [
      "Best Parameters used for Germany - Inflation (CPI): {'trend': 'add', 'damped_trend': False, 'smoothing_level': None, 'smoothing_slope': 0.8, 'initialization_method': None}\n",
      "Loading parameters from best_params\\Inflation (CPI)\\LSTM_Germany.json...\n"
     ]
    },
    {
     "name": "stderr",
     "output_type": "stream",
     "text": [
      "c:\\Users\\admin\\Desktop\\diplomovka\\Code\\Model_staff\\myenv\\Lib\\site-packages\\keras\\src\\layers\\rnn\\rnn.py:200: UserWarning: Do not pass an `input_shape`/`input_dim` argument to a layer. When using Sequential models, prefer using an `Input(shape)` object as the first layer in the model instead.\n",
      "  super().__init__(**kwargs)\n",
      "c:\\Users\\admin\\Desktop\\diplomovka\\Code\\Model_staff\\myenv\\Lib\\site-packages\\keras\\src\\callbacks\\early_stopping.py:153: UserWarning: Early stopping conditioned on metric `val_loss` which is not available. Available metrics are: loss\n",
      "  current = self.get_monitor_value(logs)\n",
      "22:19:32 - cmdstanpy - INFO - Chain [1] start processing\n"
     ]
    },
    {
     "name": "stdout",
     "output_type": "stream",
     "text": [
      "Loading parameters from best_params\\Inflation (CPI)\\Prophet_Germany.json...\n"
     ]
    },
    {
     "name": "stderr",
     "output_type": "stream",
     "text": [
      "22:19:32 - cmdstanpy - INFO - Chain [1] done processing\n",
      "c:\\Users\\admin\\Desktop\\diplomovka\\Code\\Model_staff\\myenv\\Lib\\site-packages\\prophet\\forecaster.py:1854: FutureWarning: 'Y' is deprecated and will be removed in a future version, please use 'YE' instead.\n",
      "  dates = pd.date_range(\n"
     ]
    },
    {
     "name": "stdout",
     "output_type": "stream",
     "text": [
      "Loading parameters from best_params\\Unemployment Rate (%)\\XGBoost_Germany.json...\n",
      "Loaded best parameters for Germany - Unemployment Rate (%) from best_params\\Unemployment Rate (%)\\ARIMA_Germany.json: {'p': 9, 'd': 1, 'q': 0}\n",
      "Loaded best parameters for Germany - Unemployment Rate (%) from best_params\\Unemployment Rate (%)\\Holt_Winters_Germany.json: {'trend': 'add', 'damped_trend': False, 'smoothing_level': 0.3, 'smoothing_slope': 0.8, 'initialization_method': None}\n"
     ]
    },
    {
     "name": "stderr",
     "output_type": "stream",
     "text": [
      "c:\\Users\\admin\\Desktop\\diplomovka\\Code\\Model_staff\\myenv\\Lib\\site-packages\\statsmodels\\tsa\\base\\tsa_model.py:473: ValueWarning: No frequency information was provided, so inferred frequency YS-JAN will be used.\n",
      "  self._init_dates(dates, freq)\n",
      "C:\\Users\\admin\\AppData\\Local\\Temp\\ipykernel_2388\\506649542.py:376: FutureWarning: the 'smoothing_slope' keyword is deprecated, use 'smoothing_trend' instead.\n",
      "  best_fitted_model = best_model.fit(\n"
     ]
    },
    {
     "name": "stdout",
     "output_type": "stream",
     "text": [
      "Best Parameters used for Germany - Unemployment Rate (%): {'trend': 'add', 'damped_trend': False, 'smoothing_level': 0.3, 'smoothing_slope': 0.8, 'initialization_method': None}\n",
      "Loading parameters from best_params\\Unemployment Rate (%)\\LSTM_Germany.json...\n"
     ]
    },
    {
     "name": "stderr",
     "output_type": "stream",
     "text": [
      "c:\\Users\\admin\\Desktop\\diplomovka\\Code\\Model_staff\\myenv\\Lib\\site-packages\\keras\\src\\layers\\rnn\\rnn.py:200: UserWarning: Do not pass an `input_shape`/`input_dim` argument to a layer. When using Sequential models, prefer using an `Input(shape)` object as the first layer in the model instead.\n",
      "  super().__init__(**kwargs)\n",
      "c:\\Users\\admin\\Desktop\\diplomovka\\Code\\Model_staff\\myenv\\Lib\\site-packages\\keras\\src\\callbacks\\early_stopping.py:153: UserWarning: Early stopping conditioned on metric `val_loss` which is not available. Available metrics are: loss\n",
      "  current = self.get_monitor_value(logs)\n",
      "22:19:44 - cmdstanpy - INFO - Chain [1] start processing\n"
     ]
    },
    {
     "name": "stdout",
     "output_type": "stream",
     "text": [
      "Loading parameters from best_params\\Unemployment Rate (%)\\Prophet_Germany.json...\n"
     ]
    },
    {
     "name": "stderr",
     "output_type": "stream",
     "text": [
      "22:19:45 - cmdstanpy - INFO - Chain [1] done processing\n",
      "c:\\Users\\admin\\Desktop\\diplomovka\\Code\\Model_staff\\myenv\\Lib\\site-packages\\prophet\\forecaster.py:1854: FutureWarning: 'Y' is deprecated and will be removed in a future version, please use 'YE' instead.\n",
      "  dates = pd.date_range(\n"
     ]
    },
    {
     "name": "stdout",
     "output_type": "stream",
     "text": [
      "Loading parameters from best_params\\GDP growth (annual %)\\XGBoost_Germany.json...\n",
      "Loaded best parameters for Germany - GDP growth (annual %) from best_params\\GDP growth (annual %)\\ARIMA_Germany.json: {'p': 4, 'd': 3, 'q': 9}\n"
     ]
    },
    {
     "name": "stderr",
     "output_type": "stream",
     "text": [
      "c:\\Users\\admin\\Desktop\\diplomovka\\Code\\Model_staff\\myenv\\Lib\\site-packages\\statsmodels\\tsa\\statespace\\sarimax.py:978: UserWarning: Non-invertible starting MA parameters found. Using zeros as starting parameters.\n",
      "  warn('Non-invertible starting MA parameters found.'\n",
      "c:\\Users\\admin\\Desktop\\diplomovka\\Code\\Model_staff\\myenv\\Lib\\site-packages\\statsmodels\\base\\model.py:607: ConvergenceWarning: Maximum Likelihood optimization failed to converge. Check mle_retvals\n",
      "  warnings.warn(\"Maximum Likelihood optimization failed to \"\n"
     ]
    },
    {
     "name": "stdout",
     "output_type": "stream",
     "text": [
      "Loaded best parameters for Germany - GDP growth (annual %) from best_params\\GDP growth (annual %)\\Holt_Winters_Germany.json: {'trend': 'add', 'damped_trend': False, 'smoothing_level': 0.6, 'smoothing_slope': None, 'initialization_method': None}\n"
     ]
    },
    {
     "name": "stderr",
     "output_type": "stream",
     "text": [
      "c:\\Users\\admin\\Desktop\\diplomovka\\Code\\Model_staff\\myenv\\Lib\\site-packages\\statsmodels\\tsa\\base\\tsa_model.py:473: ValueWarning: No frequency information was provided, so inferred frequency YS-JAN will be used.\n",
      "  self._init_dates(dates, freq)\n"
     ]
    },
    {
     "name": "stdout",
     "output_type": "stream",
     "text": [
      "Best Parameters used for Germany - GDP growth (annual %): {'trend': 'add', 'damped_trend': False, 'smoothing_level': 0.6, 'smoothing_slope': None, 'initialization_method': None}\n",
      "Loading parameters from best_params\\GDP growth (annual %)\\LSTM_Germany.json...\n"
     ]
    },
    {
     "name": "stderr",
     "output_type": "stream",
     "text": [
      "c:\\Users\\admin\\Desktop\\diplomovka\\Code\\Model_staff\\myenv\\Lib\\site-packages\\keras\\src\\layers\\rnn\\rnn.py:200: UserWarning: Do not pass an `input_shape`/`input_dim` argument to a layer. When using Sequential models, prefer using an `Input(shape)` object as the first layer in the model instead.\n",
      "  super().__init__(**kwargs)\n",
      "c:\\Users\\admin\\Desktop\\diplomovka\\Code\\Model_staff\\myenv\\Lib\\site-packages\\keras\\src\\callbacks\\early_stopping.py:153: UserWarning: Early stopping conditioned on metric `val_loss` which is not available. Available metrics are: loss\n",
      "  current = self.get_monitor_value(logs)\n",
      "22:20:04 - cmdstanpy - INFO - Chain [1] start processing\n",
      "22:20:04 - cmdstanpy - INFO - Chain [1] done processing\n"
     ]
    },
    {
     "name": "stdout",
     "output_type": "stream",
     "text": [
      "Loading parameters from best_params\\GDP growth (annual %)\\Prophet_Germany.json...\n"
     ]
    },
    {
     "name": "stderr",
     "output_type": "stream",
     "text": [
      "c:\\Users\\admin\\Desktop\\diplomovka\\Code\\Model_staff\\myenv\\Lib\\site-packages\\prophet\\forecaster.py:1854: FutureWarning: 'Y' is deprecated and will be removed in a future version, please use 'YE' instead.\n",
      "  dates = pd.date_range(\n"
     ]
    },
    {
     "name": "stdout",
     "output_type": "stream",
     "text": [
      "Loading parameters from best_params\\Imports of goods and services (% of GDP)\\XGBoost_Germany.json...\n",
      "Loaded best parameters for Germany - Imports of goods and services (% of GDP) from best_params\\Imports of goods and services (% of GDP)\\ARIMA_Germany.json: {'p': 13, 'd': 2, 'q': 3}\n"
     ]
    },
    {
     "name": "stderr",
     "output_type": "stream",
     "text": [
      "c:\\Users\\admin\\Desktop\\diplomovka\\Code\\Model_staff\\myenv\\Lib\\site-packages\\statsmodels\\tsa\\statespace\\sarimax.py:966: UserWarning: Non-stationary starting autoregressive parameters found. Using zeros as starting parameters.\n",
      "  warn('Non-stationary starting autoregressive parameters'\n",
      "c:\\Users\\admin\\Desktop\\diplomovka\\Code\\Model_staff\\myenv\\Lib\\site-packages\\statsmodels\\base\\model.py:607: ConvergenceWarning: Maximum Likelihood optimization failed to converge. Check mle_retvals\n",
      "  warnings.warn(\"Maximum Likelihood optimization failed to \"\n"
     ]
    },
    {
     "name": "stdout",
     "output_type": "stream",
     "text": [
      "Loaded best parameters for Germany - Imports of goods and services (% of GDP) from best_params\\Imports of goods and services (% of GDP)\\Holt_Winters_Germany.json: {'trend': 'add', 'damped_trend': True, 'smoothing_level': 0.1, 'smoothing_slope': 0.1, 'initialization_method': None}\n",
      "Best Parameters used for Germany - Imports of goods and services (% of GDP): {'trend': 'add', 'damped_trend': True, 'smoothing_level': 0.1, 'smoothing_slope': 0.1, 'initialization_method': None}\n",
      "Loading parameters from best_params\\Imports of goods and services (% of GDP)\\LSTM_Germany.json...\n"
     ]
    },
    {
     "name": "stderr",
     "output_type": "stream",
     "text": [
      "c:\\Users\\admin\\Desktop\\diplomovka\\Code\\Model_staff\\myenv\\Lib\\site-packages\\statsmodels\\tsa\\base\\tsa_model.py:473: ValueWarning: No frequency information was provided, so inferred frequency YS-JAN will be used.\n",
      "  self._init_dates(dates, freq)\n",
      "C:\\Users\\admin\\AppData\\Local\\Temp\\ipykernel_2388\\506649542.py:376: FutureWarning: the 'smoothing_slope' keyword is deprecated, use 'smoothing_trend' instead.\n",
      "  best_fitted_model = best_model.fit(\n",
      "c:\\Users\\admin\\Desktop\\diplomovka\\Code\\Model_staff\\myenv\\Lib\\site-packages\\keras\\src\\layers\\rnn\\rnn.py:200: UserWarning: Do not pass an `input_shape`/`input_dim` argument to a layer. When using Sequential models, prefer using an `Input(shape)` object as the first layer in the model instead.\n",
      "  super().__init__(**kwargs)\n",
      "c:\\Users\\admin\\Desktop\\diplomovka\\Code\\Model_staff\\myenv\\Lib\\site-packages\\keras\\src\\callbacks\\early_stopping.py:153: UserWarning: Early stopping conditioned on metric `val_loss` which is not available. Available metrics are: loss\n",
      "  current = self.get_monitor_value(logs)\n",
      "22:20:19 - cmdstanpy - INFO - Chain [1] start processing\n"
     ]
    },
    {
     "name": "stdout",
     "output_type": "stream",
     "text": [
      "Loading parameters from best_params\\Imports of goods and services (% of GDP)\\Prophet_Germany.json...\n"
     ]
    },
    {
     "name": "stderr",
     "output_type": "stream",
     "text": [
      "22:20:19 - cmdstanpy - INFO - Chain [1] done processing\n",
      "c:\\Users\\admin\\Desktop\\diplomovka\\Code\\Model_staff\\myenv\\Lib\\site-packages\\prophet\\forecaster.py:1854: FutureWarning: 'Y' is deprecated and will be removed in a future version, please use 'YE' instead.\n",
      "  dates = pd.date_range(\n"
     ]
    },
    {
     "name": "stdout",
     "output_type": "stream",
     "text": [
      "Loading parameters from best_params\\Exports of goods and services (% of GDP)\\XGBoost_Germany.json...\n",
      "Loaded best parameters for Germany - Exports of goods and services (% of GDP) from best_params\\Exports of goods and services (% of GDP)\\ARIMA_Germany.json: {'p': 12, 'd': 1, 'q': 3}\n"
     ]
    },
    {
     "name": "stderr",
     "output_type": "stream",
     "text": [
      "c:\\Users\\admin\\Desktop\\diplomovka\\Code\\Model_staff\\myenv\\Lib\\site-packages\\statsmodels\\tsa\\statespace\\sarimax.py:966: UserWarning: Non-stationary starting autoregressive parameters found. Using zeros as starting parameters.\n",
      "  warn('Non-stationary starting autoregressive parameters'\n",
      "c:\\Users\\admin\\Desktop\\diplomovka\\Code\\Model_staff\\myenv\\Lib\\site-packages\\statsmodels\\base\\model.py:607: ConvergenceWarning: Maximum Likelihood optimization failed to converge. Check mle_retvals\n",
      "  warnings.warn(\"Maximum Likelihood optimization failed to \"\n"
     ]
    },
    {
     "name": "stdout",
     "output_type": "stream",
     "text": [
      "Loaded best parameters for Germany - Exports of goods and services (% of GDP) from best_params\\Exports of goods and services (% of GDP)\\Holt_Winters_Germany.json: {'trend': 'add', 'damped_trend': False, 'smoothing_level': 0.2, 'smoothing_slope': 0.9, 'initialization_method': None}\n"
     ]
    },
    {
     "name": "stderr",
     "output_type": "stream",
     "text": [
      "c:\\Users\\admin\\Desktop\\diplomovka\\Code\\Model_staff\\myenv\\Lib\\site-packages\\statsmodels\\tsa\\base\\tsa_model.py:473: ValueWarning: No frequency information was provided, so inferred frequency YS-JAN will be used.\n",
      "  self._init_dates(dates, freq)\n",
      "C:\\Users\\admin\\AppData\\Local\\Temp\\ipykernel_2388\\506649542.py:376: FutureWarning: the 'smoothing_slope' keyword is deprecated, use 'smoothing_trend' instead.\n",
      "  best_fitted_model = best_model.fit(\n"
     ]
    },
    {
     "name": "stdout",
     "output_type": "stream",
     "text": [
      "Best Parameters used for Germany - Exports of goods and services (% of GDP): {'trend': 'add', 'damped_trend': False, 'smoothing_level': 0.2, 'smoothing_slope': 0.9, 'initialization_method': None}\n",
      "Loading parameters from best_params\\Exports of goods and services (% of GDP)\\LSTM_Germany.json...\n"
     ]
    },
    {
     "name": "stderr",
     "output_type": "stream",
     "text": [
      "c:\\Users\\admin\\Desktop\\diplomovka\\Code\\Model_staff\\myenv\\Lib\\site-packages\\keras\\src\\layers\\rnn\\rnn.py:200: UserWarning: Do not pass an `input_shape`/`input_dim` argument to a layer. When using Sequential models, prefer using an `Input(shape)` object as the first layer in the model instead.\n",
      "  super().__init__(**kwargs)\n",
      "c:\\Users\\admin\\Desktop\\diplomovka\\Code\\Model_staff\\myenv\\Lib\\site-packages\\keras\\src\\callbacks\\early_stopping.py:153: UserWarning: Early stopping conditioned on metric `val_loss` which is not available. Available metrics are: loss\n",
      "  current = self.get_monitor_value(logs)\n",
      "22:20:32 - cmdstanpy - INFO - Chain [1] start processing\n",
      "22:20:32 - cmdstanpy - INFO - Chain [1] done processing\n"
     ]
    },
    {
     "name": "stdout",
     "output_type": "stream",
     "text": [
      "Loading parameters from best_params\\Exports of goods and services (% of GDP)\\Prophet_Germany.json...\n"
     ]
    },
    {
     "name": "stderr",
     "output_type": "stream",
     "text": [
      "c:\\Users\\admin\\Desktop\\diplomovka\\Code\\Model_staff\\myenv\\Lib\\site-packages\\prophet\\forecaster.py:1854: FutureWarning: 'Y' is deprecated and will be removed in a future version, please use 'YE' instead.\n",
      "  dates = pd.date_range(\n"
     ]
    },
    {
     "name": "stdout",
     "output_type": "stream",
     "text": [
      "Loading parameters from best_params\\GDP per Capita (USD)\\XGBoost_Austria.json...\n",
      "Loaded best parameters for Austria - GDP per Capita (USD) from best_params\\GDP per Capita (USD)\\ARIMA_Austria.json: {'p': 0, 'd': 2, 'q': 7}\n"
     ]
    },
    {
     "name": "stderr",
     "output_type": "stream",
     "text": [
      "c:\\Users\\admin\\Desktop\\diplomovka\\Code\\Model_staff\\myenv\\Lib\\site-packages\\statsmodels\\tsa\\statespace\\sarimax.py:978: UserWarning: Non-invertible starting MA parameters found. Using zeros as starting parameters.\n",
      "  warn('Non-invertible starting MA parameters found.'\n",
      "c:\\Users\\admin\\Desktop\\diplomovka\\Code\\Model_staff\\myenv\\Lib\\site-packages\\statsmodels\\base\\model.py:607: ConvergenceWarning: Maximum Likelihood optimization failed to converge. Check mle_retvals\n",
      "  warnings.warn(\"Maximum Likelihood optimization failed to \"\n"
     ]
    },
    {
     "name": "stdout",
     "output_type": "stream",
     "text": [
      "Loaded best parameters for Austria - GDP per Capita (USD) from best_params\\GDP per Capita (USD)\\Holt_Winters_Austria.json: {'trend': 'mul', 'damped_trend': True, 'smoothing_level': None, 'smoothing_slope': 0.4, 'initialization_method': None}\n"
     ]
    },
    {
     "name": "stderr",
     "output_type": "stream",
     "text": [
      "c:\\Users\\admin\\Desktop\\diplomovka\\Code\\Model_staff\\myenv\\Lib\\site-packages\\statsmodels\\tsa\\base\\tsa_model.py:473: ValueWarning: No frequency information was provided, so inferred frequency YS-JAN will be used.\n",
      "  self._init_dates(dates, freq)\n",
      "C:\\Users\\admin\\AppData\\Local\\Temp\\ipykernel_2388\\506649542.py:376: FutureWarning: the 'smoothing_slope' keyword is deprecated, use 'smoothing_trend' instead.\n",
      "  best_fitted_model = best_model.fit(\n",
      "c:\\Users\\admin\\Desktop\\diplomovka\\Code\\Model_staff\\myenv\\Lib\\site-packages\\statsmodels\\tsa\\holtwinters\\model.py:918: ConvergenceWarning: Optimization failed to converge. Check mle_retvals.\n",
      "  warnings.warn(\n"
     ]
    },
    {
     "name": "stdout",
     "output_type": "stream",
     "text": [
      "Best Parameters used for Austria - GDP per Capita (USD): {'trend': 'mul', 'damped_trend': True, 'smoothing_level': None, 'smoothing_slope': 0.4, 'initialization_method': None}\n",
      "Loading parameters from best_params\\GDP per Capita (USD)\\LSTM_Austria.json...\n"
     ]
    },
    {
     "name": "stderr",
     "output_type": "stream",
     "text": [
      "c:\\Users\\admin\\Desktop\\diplomovka\\Code\\Model_staff\\myenv\\Lib\\site-packages\\keras\\src\\layers\\rnn\\rnn.py:200: UserWarning: Do not pass an `input_shape`/`input_dim` argument to a layer. When using Sequential models, prefer using an `Input(shape)` object as the first layer in the model instead.\n",
      "  super().__init__(**kwargs)\n",
      "c:\\Users\\admin\\Desktop\\diplomovka\\Code\\Model_staff\\myenv\\Lib\\site-packages\\keras\\src\\callbacks\\early_stopping.py:153: UserWarning: Early stopping conditioned on metric `val_loss` which is not available. Available metrics are: loss\n",
      "  current = self.get_monitor_value(logs)\n",
      "22:20:47 - cmdstanpy - INFO - Chain [1] start processing\n",
      "22:20:47 - cmdstanpy - INFO - Chain [1] done processing\n"
     ]
    },
    {
     "name": "stdout",
     "output_type": "stream",
     "text": [
      "Loading parameters from best_params\\GDP per Capita (USD)\\Prophet_Austria.json...\n"
     ]
    },
    {
     "name": "stderr",
     "output_type": "stream",
     "text": [
      "c:\\Users\\admin\\Desktop\\diplomovka\\Code\\Model_staff\\myenv\\Lib\\site-packages\\prophet\\forecaster.py:1854: FutureWarning: 'Y' is deprecated and will be removed in a future version, please use 'YE' instead.\n",
      "  dates = pd.date_range(\n"
     ]
    },
    {
     "name": "stdout",
     "output_type": "stream",
     "text": [
      "Loading parameters from best_params\\GDP (USD)\\XGBoost_Austria.json...\n",
      "Loaded best parameters for Austria - GDP (USD) from best_params\\GDP (USD)\\ARIMA_Austria.json: {'p': 0, 'd': 2, 'q': 5}\n"
     ]
    },
    {
     "name": "stderr",
     "output_type": "stream",
     "text": [
      "c:\\Users\\admin\\Desktop\\diplomovka\\Code\\Model_staff\\myenv\\Lib\\site-packages\\statsmodels\\tsa\\statespace\\sarimax.py:978: UserWarning: Non-invertible starting MA parameters found. Using zeros as starting parameters.\n",
      "  warn('Non-invertible starting MA parameters found.'\n"
     ]
    },
    {
     "name": "stdout",
     "output_type": "stream",
     "text": [
      "Loaded best parameters for Austria - GDP (USD) from best_params\\GDP (USD)\\Holt_Winters_Austria.json: {'trend': 'mul', 'damped_trend': False, 'smoothing_level': 0.9, 'smoothing_slope': 0.4, 'initialization_method': None}\n"
     ]
    },
    {
     "name": "stderr",
     "output_type": "stream",
     "text": [
      "c:\\Users\\admin\\Desktop\\diplomovka\\Code\\Model_staff\\myenv\\Lib\\site-packages\\statsmodels\\tsa\\base\\tsa_model.py:473: ValueWarning: No frequency information was provided, so inferred frequency YS-JAN will be used.\n",
      "  self._init_dates(dates, freq)\n",
      "C:\\Users\\admin\\AppData\\Local\\Temp\\ipykernel_2388\\506649542.py:376: FutureWarning: the 'smoothing_slope' keyword is deprecated, use 'smoothing_trend' instead.\n",
      "  best_fitted_model = best_model.fit(\n",
      "c:\\Users\\admin\\Desktop\\diplomovka\\Code\\Model_staff\\myenv\\Lib\\site-packages\\statsmodels\\tsa\\holtwinters\\model.py:918: ConvergenceWarning: Optimization failed to converge. Check mle_retvals.\n",
      "  warnings.warn(\n"
     ]
    },
    {
     "name": "stdout",
     "output_type": "stream",
     "text": [
      "Best Parameters used for Austria - GDP (USD): {'trend': 'mul', 'damped_trend': False, 'smoothing_level': 0.9, 'smoothing_slope': 0.4, 'initialization_method': None}\n",
      "Loading parameters from best_params\\GDP (USD)\\LSTM_Austria.json...\n"
     ]
    },
    {
     "name": "stderr",
     "output_type": "stream",
     "text": [
      "c:\\Users\\admin\\Desktop\\diplomovka\\Code\\Model_staff\\myenv\\Lib\\site-packages\\keras\\src\\layers\\rnn\\rnn.py:200: UserWarning: Do not pass an `input_shape`/`input_dim` argument to a layer. When using Sequential models, prefer using an `Input(shape)` object as the first layer in the model instead.\n",
      "  super().__init__(**kwargs)\n",
      "c:\\Users\\admin\\Desktop\\diplomovka\\Code\\Model_staff\\myenv\\Lib\\site-packages\\keras\\src\\callbacks\\early_stopping.py:153: UserWarning: Early stopping conditioned on metric `val_loss` which is not available. Available metrics are: loss\n",
      "  current = self.get_monitor_value(logs)\n",
      "22:21:04 - cmdstanpy - INFO - Chain [1] start processing\n",
      "22:21:04 - cmdstanpy - INFO - Chain [1] done processing\n"
     ]
    },
    {
     "name": "stdout",
     "output_type": "stream",
     "text": [
      "Loading parameters from best_params\\GDP (USD)\\Prophet_Austria.json...\n"
     ]
    },
    {
     "name": "stderr",
     "output_type": "stream",
     "text": [
      "c:\\Users\\admin\\Desktop\\diplomovka\\Code\\Model_staff\\myenv\\Lib\\site-packages\\prophet\\forecaster.py:1854: FutureWarning: 'Y' is deprecated and will be removed in a future version, please use 'YE' instead.\n",
      "  dates = pd.date_range(\n"
     ]
    },
    {
     "name": "stdout",
     "output_type": "stream",
     "text": [
      "Loading parameters from best_params\\Inflation (CPI)\\XGBoost_Austria.json...\n",
      "Loaded best parameters for Austria - Inflation (CPI) from best_params\\Inflation (CPI)\\ARIMA_Austria.json: {'p': 6, 'd': 4, 'q': 2}\n"
     ]
    },
    {
     "name": "stderr",
     "output_type": "stream",
     "text": [
      "c:\\Users\\admin\\Desktop\\diplomovka\\Code\\Model_staff\\myenv\\Lib\\site-packages\\statsmodels\\tsa\\statespace\\sarimax.py:978: UserWarning: Non-invertible starting MA parameters found. Using zeros as starting parameters.\n",
      "  warn('Non-invertible starting MA parameters found.'\n"
     ]
    },
    {
     "name": "stdout",
     "output_type": "stream",
     "text": [
      "Loaded best parameters for Austria - Inflation (CPI) from best_params\\Inflation (CPI)\\Holt_Winters_Austria.json: {'trend': 'mul', 'damped_trend': False, 'smoothing_level': None, 'smoothing_slope': 0.3, 'initialization_method': None}\n"
     ]
    },
    {
     "name": "stderr",
     "output_type": "stream",
     "text": [
      "c:\\Users\\admin\\Desktop\\diplomovka\\Code\\Model_staff\\myenv\\Lib\\site-packages\\statsmodels\\tsa\\base\\tsa_model.py:473: ValueWarning: No frequency information was provided, so inferred frequency YS-JAN will be used.\n",
      "  self._init_dates(dates, freq)\n",
      "C:\\Users\\admin\\AppData\\Local\\Temp\\ipykernel_2388\\506649542.py:376: FutureWarning: the 'smoothing_slope' keyword is deprecated, use 'smoothing_trend' instead.\n",
      "  best_fitted_model = best_model.fit(\n"
     ]
    },
    {
     "name": "stdout",
     "output_type": "stream",
     "text": [
      "Best Parameters used for Austria - Inflation (CPI): {'trend': 'mul', 'damped_trend': False, 'smoothing_level': None, 'smoothing_slope': 0.3, 'initialization_method': None}\n",
      "Loading parameters from best_params\\Inflation (CPI)\\LSTM_Austria.json...\n"
     ]
    },
    {
     "name": "stderr",
     "output_type": "stream",
     "text": [
      "c:\\Users\\admin\\Desktop\\diplomovka\\Code\\Model_staff\\myenv\\Lib\\site-packages\\keras\\src\\layers\\rnn\\rnn.py:200: UserWarning: Do not pass an `input_shape`/`input_dim` argument to a layer. When using Sequential models, prefer using an `Input(shape)` object as the first layer in the model instead.\n",
      "  super().__init__(**kwargs)\n",
      "c:\\Users\\admin\\Desktop\\diplomovka\\Code\\Model_staff\\myenv\\Lib\\site-packages\\keras\\src\\callbacks\\early_stopping.py:153: UserWarning: Early stopping conditioned on metric `val_loss` which is not available. Available metrics are: loss\n",
      "  current = self.get_monitor_value(logs)\n",
      "22:21:23 - cmdstanpy - INFO - Chain [1] start processing\n"
     ]
    },
    {
     "name": "stdout",
     "output_type": "stream",
     "text": [
      "Loading parameters from best_params\\Inflation (CPI)\\Prophet_Austria.json...\n"
     ]
    },
    {
     "name": "stderr",
     "output_type": "stream",
     "text": [
      "22:21:23 - cmdstanpy - INFO - Chain [1] done processing\n",
      "c:\\Users\\admin\\Desktop\\diplomovka\\Code\\Model_staff\\myenv\\Lib\\site-packages\\prophet\\forecaster.py:1854: FutureWarning: 'Y' is deprecated and will be removed in a future version, please use 'YE' instead.\n",
      "  dates = pd.date_range(\n"
     ]
    },
    {
     "name": "stdout",
     "output_type": "stream",
     "text": [
      "Loading parameters from best_params\\Unemployment Rate (%)\\XGBoost_Austria.json...\n",
      "Loaded best parameters for Austria - Unemployment Rate (%) from best_params\\Unemployment Rate (%)\\ARIMA_Austria.json: {'p': 0, 'd': 0, 'q': 9}\n"
     ]
    },
    {
     "name": "stderr",
     "output_type": "stream",
     "text": [
      "c:\\Users\\admin\\Desktop\\diplomovka\\Code\\Model_staff\\myenv\\Lib\\site-packages\\statsmodels\\tsa\\statespace\\sarimax.py:866: UserWarning: Too few observations to estimate starting parameters for ARMA and trend. All parameters except for variances will be set to zeros.\n",
      "  warn('Too few observations to estimate starting parameters%s.'\n",
      "c:\\Users\\admin\\Desktop\\diplomovka\\Code\\Model_staff\\myenv\\Lib\\site-packages\\statsmodels\\base\\model.py:607: ConvergenceWarning: Maximum Likelihood optimization failed to converge. Check mle_retvals\n",
      "  warnings.warn(\"Maximum Likelihood optimization failed to \"\n"
     ]
    },
    {
     "name": "stdout",
     "output_type": "stream",
     "text": [
      "Loaded best parameters for Austria - Unemployment Rate (%) from best_params\\Unemployment Rate (%)\\Holt_Winters_Austria.json: {'trend': 'mul', 'damped_trend': True, 'smoothing_level': 0.1, 'smoothing_slope': 0.3, 'initialization_method': None}\n"
     ]
    },
    {
     "name": "stderr",
     "output_type": "stream",
     "text": [
      "c:\\Users\\admin\\Desktop\\diplomovka\\Code\\Model_staff\\myenv\\Lib\\site-packages\\statsmodels\\tsa\\base\\tsa_model.py:473: ValueWarning: No frequency information was provided, so inferred frequency YS-JAN will be used.\n",
      "  self._init_dates(dates, freq)\n",
      "C:\\Users\\admin\\AppData\\Local\\Temp\\ipykernel_2388\\506649542.py:376: FutureWarning: the 'smoothing_slope' keyword is deprecated, use 'smoothing_trend' instead.\n",
      "  best_fitted_model = best_model.fit(\n"
     ]
    },
    {
     "name": "stdout",
     "output_type": "stream",
     "text": [
      "Best Parameters used for Austria - Unemployment Rate (%): {'trend': 'mul', 'damped_trend': True, 'smoothing_level': 0.1, 'smoothing_slope': 0.3, 'initialization_method': None}\n",
      "Loading parameters from best_params\\Unemployment Rate (%)\\LSTM_Austria.json...\n"
     ]
    },
    {
     "name": "stderr",
     "output_type": "stream",
     "text": [
      "c:\\Users\\admin\\Desktop\\diplomovka\\Code\\Model_staff\\myenv\\Lib\\site-packages\\keras\\src\\layers\\rnn\\rnn.py:200: UserWarning: Do not pass an `input_shape`/`input_dim` argument to a layer. When using Sequential models, prefer using an `Input(shape)` object as the first layer in the model instead.\n",
      "  super().__init__(**kwargs)\n",
      "c:\\Users\\admin\\Desktop\\diplomovka\\Code\\Model_staff\\myenv\\Lib\\site-packages\\keras\\src\\callbacks\\early_stopping.py:153: UserWarning: Early stopping conditioned on metric `val_loss` which is not available. Available metrics are: loss\n",
      "  current = self.get_monitor_value(logs)\n",
      "22:21:34 - cmdstanpy - INFO - Chain [1] start processing\n"
     ]
    },
    {
     "name": "stdout",
     "output_type": "stream",
     "text": [
      "Loading parameters from best_params\\Unemployment Rate (%)\\Prophet_Austria.json...\n"
     ]
    },
    {
     "name": "stderr",
     "output_type": "stream",
     "text": [
      "22:21:34 - cmdstanpy - INFO - Chain [1] done processing\n",
      "c:\\Users\\admin\\Desktop\\diplomovka\\Code\\Model_staff\\myenv\\Lib\\site-packages\\prophet\\forecaster.py:1854: FutureWarning: 'Y' is deprecated and will be removed in a future version, please use 'YE' instead.\n",
      "  dates = pd.date_range(\n"
     ]
    },
    {
     "name": "stdout",
     "output_type": "stream",
     "text": [
      "Loading parameters from best_params\\GDP growth (annual %)\\XGBoost_Austria.json...\n",
      "Loaded best parameters for Austria - GDP growth (annual %) from best_params\\GDP growth (annual %)\\ARIMA_Austria.json: {'p': 2, 'd': 1, 'q': 1}\n",
      "Loaded best parameters for Austria - GDP growth (annual %) from best_params\\GDP growth (annual %)\\Holt_Winters_Austria.json: {'trend': 'add', 'damped_trend': True, 'smoothing_level': 0.1, 'smoothing_slope': 0.3, 'initialization_method': None}\n"
     ]
    },
    {
     "name": "stderr",
     "output_type": "stream",
     "text": [
      "c:\\Users\\admin\\Desktop\\diplomovka\\Code\\Model_staff\\myenv\\Lib\\site-packages\\statsmodels\\tsa\\base\\tsa_model.py:473: ValueWarning: No frequency information was provided, so inferred frequency YS-JAN will be used.\n",
      "  self._init_dates(dates, freq)\n",
      "C:\\Users\\admin\\AppData\\Local\\Temp\\ipykernel_2388\\506649542.py:376: FutureWarning: the 'smoothing_slope' keyword is deprecated, use 'smoothing_trend' instead.\n",
      "  best_fitted_model = best_model.fit(\n"
     ]
    },
    {
     "name": "stdout",
     "output_type": "stream",
     "text": [
      "Best Parameters used for Austria - GDP growth (annual %): {'trend': 'add', 'damped_trend': True, 'smoothing_level': 0.1, 'smoothing_slope': 0.3, 'initialization_method': None}\n",
      "Loading parameters from best_params\\GDP growth (annual %)\\LSTM_Austria.json...\n"
     ]
    },
    {
     "name": "stderr",
     "output_type": "stream",
     "text": [
      "c:\\Users\\admin\\Desktop\\diplomovka\\Code\\Model_staff\\myenv\\Lib\\site-packages\\keras\\src\\layers\\rnn\\rnn.py:200: UserWarning: Do not pass an `input_shape`/`input_dim` argument to a layer. When using Sequential models, prefer using an `Input(shape)` object as the first layer in the model instead.\n",
      "  super().__init__(**kwargs)\n",
      "c:\\Users\\admin\\Desktop\\diplomovka\\Code\\Model_staff\\myenv\\Lib\\site-packages\\keras\\src\\callbacks\\early_stopping.py:153: UserWarning: Early stopping conditioned on metric `val_loss` which is not available. Available metrics are: loss\n",
      "  current = self.get_monitor_value(logs)\n",
      "22:21:51 - cmdstanpy - INFO - Chain [1] start processing\n",
      "22:21:51 - cmdstanpy - INFO - Chain [1] done processing\n"
     ]
    },
    {
     "name": "stdout",
     "output_type": "stream",
     "text": [
      "Loading parameters from best_params\\GDP growth (annual %)\\Prophet_Austria.json...\n"
     ]
    },
    {
     "name": "stderr",
     "output_type": "stream",
     "text": [
      "c:\\Users\\admin\\Desktop\\diplomovka\\Code\\Model_staff\\myenv\\Lib\\site-packages\\prophet\\forecaster.py:1854: FutureWarning: 'Y' is deprecated and will be removed in a future version, please use 'YE' instead.\n",
      "  dates = pd.date_range(\n"
     ]
    },
    {
     "name": "stdout",
     "output_type": "stream",
     "text": [
      "Loading parameters from best_params\\Imports of goods and services (% of GDP)\\XGBoost_Austria.json...\n",
      "Loaded best parameters for Austria - Imports of goods and services (% of GDP) from best_params\\Imports of goods and services (% of GDP)\\ARIMA_Austria.json: {'p': 7, 'd': 2, 'q': 6}\n"
     ]
    },
    {
     "name": "stderr",
     "output_type": "stream",
     "text": [
      "c:\\Users\\admin\\Desktop\\diplomovka\\Code\\Model_staff\\myenv\\Lib\\site-packages\\statsmodels\\tsa\\statespace\\sarimax.py:966: UserWarning: Non-stationary starting autoregressive parameters found. Using zeros as starting parameters.\n",
      "  warn('Non-stationary starting autoregressive parameters'\n",
      "c:\\Users\\admin\\Desktop\\diplomovka\\Code\\Model_staff\\myenv\\Lib\\site-packages\\statsmodels\\tsa\\statespace\\sarimax.py:978: UserWarning: Non-invertible starting MA parameters found. Using zeros as starting parameters.\n",
      "  warn('Non-invertible starting MA parameters found.'\n",
      "c:\\Users\\admin\\Desktop\\diplomovka\\Code\\Model_staff\\myenv\\Lib\\site-packages\\statsmodels\\base\\model.py:607: ConvergenceWarning: Maximum Likelihood optimization failed to converge. Check mle_retvals\n",
      "  warnings.warn(\"Maximum Likelihood optimization failed to \"\n"
     ]
    },
    {
     "name": "stdout",
     "output_type": "stream",
     "text": [
      "Loaded best parameters for Austria - Imports of goods and services (% of GDP) from best_params\\Imports of goods and services (% of GDP)\\Holt_Winters_Austria.json: {'trend': 'add', 'damped_trend': False, 'smoothing_level': 0.1, 'smoothing_slope': 0.1, 'initialization_method': None}\n"
     ]
    },
    {
     "name": "stderr",
     "output_type": "stream",
     "text": [
      "c:\\Users\\admin\\Desktop\\diplomovka\\Code\\Model_staff\\myenv\\Lib\\site-packages\\statsmodels\\tsa\\base\\tsa_model.py:473: ValueWarning: No frequency information was provided, so inferred frequency YS-JAN will be used.\n",
      "  self._init_dates(dates, freq)\n",
      "C:\\Users\\admin\\AppData\\Local\\Temp\\ipykernel_2388\\506649542.py:376: FutureWarning: the 'smoothing_slope' keyword is deprecated, use 'smoothing_trend' instead.\n",
      "  best_fitted_model = best_model.fit(\n"
     ]
    },
    {
     "name": "stdout",
     "output_type": "stream",
     "text": [
      "Best Parameters used for Austria - Imports of goods and services (% of GDP): {'trend': 'add', 'damped_trend': False, 'smoothing_level': 0.1, 'smoothing_slope': 0.1, 'initialization_method': None}\n",
      "Loading parameters from best_params\\Imports of goods and services (% of GDP)\\LSTM_Austria.json...\n"
     ]
    },
    {
     "name": "stderr",
     "output_type": "stream",
     "text": [
      "c:\\Users\\admin\\Desktop\\diplomovka\\Code\\Model_staff\\myenv\\Lib\\site-packages\\keras\\src\\layers\\rnn\\rnn.py:200: UserWarning: Do not pass an `input_shape`/`input_dim` argument to a layer. When using Sequential models, prefer using an `Input(shape)` object as the first layer in the model instead.\n",
      "  super().__init__(**kwargs)\n",
      "c:\\Users\\admin\\Desktop\\diplomovka\\Code\\Model_staff\\myenv\\Lib\\site-packages\\keras\\src\\callbacks\\early_stopping.py:153: UserWarning: Early stopping conditioned on metric `val_loss` which is not available. Available metrics are: loss\n",
      "  current = self.get_monitor_value(logs)\n",
      "22:22:04 - cmdstanpy - INFO - Chain [1] start processing\n",
      "22:22:04 - cmdstanpy - INFO - Chain [1] done processing\n"
     ]
    },
    {
     "name": "stdout",
     "output_type": "stream",
     "text": [
      "Loading parameters from best_params\\Imports of goods and services (% of GDP)\\Prophet_Austria.json...\n"
     ]
    },
    {
     "name": "stderr",
     "output_type": "stream",
     "text": [
      "c:\\Users\\admin\\Desktop\\diplomovka\\Code\\Model_staff\\myenv\\Lib\\site-packages\\prophet\\forecaster.py:1854: FutureWarning: 'Y' is deprecated and will be removed in a future version, please use 'YE' instead.\n",
      "  dates = pd.date_range(\n"
     ]
    },
    {
     "name": "stdout",
     "output_type": "stream",
     "text": [
      "Loading parameters from best_params\\Exports of goods and services (% of GDP)\\XGBoost_Austria.json...\n",
      "Loaded best parameters for Austria - Exports of goods and services (% of GDP) from best_params\\Exports of goods and services (% of GDP)\\ARIMA_Austria.json: {'p': 8, 'd': 1, 'q': 4}\n"
     ]
    },
    {
     "name": "stderr",
     "output_type": "stream",
     "text": [
      "c:\\Users\\admin\\Desktop\\diplomovka\\Code\\Model_staff\\myenv\\Lib\\site-packages\\statsmodels\\tsa\\statespace\\sarimax.py:966: UserWarning: Non-stationary starting autoregressive parameters found. Using zeros as starting parameters.\n",
      "  warn('Non-stationary starting autoregressive parameters'\n",
      "c:\\Users\\admin\\Desktop\\diplomovka\\Code\\Model_staff\\myenv\\Lib\\site-packages\\statsmodels\\tsa\\statespace\\sarimax.py:978: UserWarning: Non-invertible starting MA parameters found. Using zeros as starting parameters.\n",
      "  warn('Non-invertible starting MA parameters found.'\n",
      "c:\\Users\\admin\\Desktop\\diplomovka\\Code\\Model_staff\\myenv\\Lib\\site-packages\\statsmodels\\base\\model.py:607: ConvergenceWarning: Maximum Likelihood optimization failed to converge. Check mle_retvals\n",
      "  warnings.warn(\"Maximum Likelihood optimization failed to \"\n"
     ]
    },
    {
     "name": "stdout",
     "output_type": "stream",
     "text": [
      "Loaded best parameters for Austria - Exports of goods and services (% of GDP) from best_params\\Exports of goods and services (% of GDP)\\Holt_Winters_Austria.json: {'trend': 'mul', 'damped_trend': False, 'smoothing_level': 0.3, 'smoothing_slope': 0.6, 'initialization_method': None}\n"
     ]
    },
    {
     "name": "stderr",
     "output_type": "stream",
     "text": [
      "c:\\Users\\admin\\Desktop\\diplomovka\\Code\\Model_staff\\myenv\\Lib\\site-packages\\statsmodels\\tsa\\base\\tsa_model.py:473: ValueWarning: No frequency information was provided, so inferred frequency YS-JAN will be used.\n",
      "  self._init_dates(dates, freq)\n",
      "C:\\Users\\admin\\AppData\\Local\\Temp\\ipykernel_2388\\506649542.py:376: FutureWarning: the 'smoothing_slope' keyword is deprecated, use 'smoothing_trend' instead.\n",
      "  best_fitted_model = best_model.fit(\n"
     ]
    },
    {
     "name": "stdout",
     "output_type": "stream",
     "text": [
      "Best Parameters used for Austria - Exports of goods and services (% of GDP): {'trend': 'mul', 'damped_trend': False, 'smoothing_level': 0.3, 'smoothing_slope': 0.6, 'initialization_method': None}\n",
      "Loading parameters from best_params\\Exports of goods and services (% of GDP)\\LSTM_Austria.json...\n"
     ]
    },
    {
     "name": "stderr",
     "output_type": "stream",
     "text": [
      "c:\\Users\\admin\\Desktop\\diplomovka\\Code\\Model_staff\\myenv\\Lib\\site-packages\\keras\\src\\layers\\rnn\\rnn.py:200: UserWarning: Do not pass an `input_shape`/`input_dim` argument to a layer. When using Sequential models, prefer using an `Input(shape)` object as the first layer in the model instead.\n",
      "  super().__init__(**kwargs)\n",
      "c:\\Users\\admin\\Desktop\\diplomovka\\Code\\Model_staff\\myenv\\Lib\\site-packages\\keras\\src\\callbacks\\early_stopping.py:153: UserWarning: Early stopping conditioned on metric `val_loss` which is not available. Available metrics are: loss\n",
      "  current = self.get_monitor_value(logs)\n",
      "22:22:18 - cmdstanpy - INFO - Chain [1] start processing\n"
     ]
    },
    {
     "name": "stdout",
     "output_type": "stream",
     "text": [
      "Loading parameters from best_params\\Exports of goods and services (% of GDP)\\Prophet_Austria.json...\n"
     ]
    },
    {
     "name": "stderr",
     "output_type": "stream",
     "text": [
      "22:22:18 - cmdstanpy - INFO - Chain [1] done processing\n",
      "c:\\Users\\admin\\Desktop\\diplomovka\\Code\\Model_staff\\myenv\\Lib\\site-packages\\prophet\\forecaster.py:1854: FutureWarning: 'Y' is deprecated and will be removed in a future version, please use 'YE' instead.\n",
      "  dates = pd.date_range(\n"
     ]
    },
    {
     "name": "stdout",
     "output_type": "stream",
     "text": [
      "Loading parameters from best_params\\GDP per Capita (USD)\\XGBoost_France.json...\n",
      "Loaded best parameters for France - GDP per Capita (USD) from best_params\\GDP per Capita (USD)\\ARIMA_France.json: {'p': 0, 'd': 1, 'q': 7}\n"
     ]
    },
    {
     "name": "stderr",
     "output_type": "stream",
     "text": [
      "c:\\Users\\admin\\Desktop\\diplomovka\\Code\\Model_staff\\myenv\\Lib\\site-packages\\statsmodels\\base\\model.py:607: ConvergenceWarning: Maximum Likelihood optimization failed to converge. Check mle_retvals\n",
      "  warnings.warn(\"Maximum Likelihood optimization failed to \"\n"
     ]
    },
    {
     "name": "stdout",
     "output_type": "stream",
     "text": [
      "Loaded best parameters for France - GDP per Capita (USD) from best_params\\GDP per Capita (USD)\\Holt_Winters_France.json: {'trend': None, 'damped_trend': False, 'smoothing_level': 0.8, 'smoothing_slope': None, 'initialization_method': None}\n"
     ]
    },
    {
     "name": "stderr",
     "output_type": "stream",
     "text": [
      "c:\\Users\\admin\\Desktop\\diplomovka\\Code\\Model_staff\\myenv\\Lib\\site-packages\\statsmodels\\tsa\\base\\tsa_model.py:473: ValueWarning: No frequency information was provided, so inferred frequency YS-JAN will be used.\n",
      "  self._init_dates(dates, freq)\n"
     ]
    },
    {
     "name": "stdout",
     "output_type": "stream",
     "text": [
      "Best Parameters used for France - GDP per Capita (USD): {'trend': None, 'damped_trend': False, 'smoothing_level': 0.8, 'smoothing_slope': None, 'initialization_method': None}\n",
      "Loading parameters from best_params\\GDP per Capita (USD)\\LSTM_France.json...\n"
     ]
    },
    {
     "name": "stderr",
     "output_type": "stream",
     "text": [
      "c:\\Users\\admin\\Desktop\\diplomovka\\Code\\Model_staff\\myenv\\Lib\\site-packages\\keras\\src\\layers\\rnn\\rnn.py:200: UserWarning: Do not pass an `input_shape`/`input_dim` argument to a layer. When using Sequential models, prefer using an `Input(shape)` object as the first layer in the model instead.\n",
      "  super().__init__(**kwargs)\n",
      "c:\\Users\\admin\\Desktop\\diplomovka\\Code\\Model_staff\\myenv\\Lib\\site-packages\\keras\\src\\callbacks\\early_stopping.py:153: UserWarning: Early stopping conditioned on metric `val_loss` which is not available. Available metrics are: loss\n",
      "  current = self.get_monitor_value(logs)\n",
      "22:22:33 - cmdstanpy - INFO - Chain [1] start processing\n",
      "22:22:33 - cmdstanpy - INFO - Chain [1] done processing\n"
     ]
    },
    {
     "name": "stdout",
     "output_type": "stream",
     "text": [
      "Loading parameters from best_params\\GDP per Capita (USD)\\Prophet_France.json...\n"
     ]
    },
    {
     "name": "stderr",
     "output_type": "stream",
     "text": [
      "c:\\Users\\admin\\Desktop\\diplomovka\\Code\\Model_staff\\myenv\\Lib\\site-packages\\prophet\\forecaster.py:1854: FutureWarning: 'Y' is deprecated and will be removed in a future version, please use 'YE' instead.\n",
      "  dates = pd.date_range(\n"
     ]
    },
    {
     "name": "stdout",
     "output_type": "stream",
     "text": [
      "Loading parameters from best_params\\GDP (USD)\\XGBoost_France.json...\n",
      "Loaded best parameters for France - GDP (USD) from best_params\\GDP (USD)\\ARIMA_France.json: {'p': 2, 'd': 2, 'q': 0}\n",
      "Loaded best parameters for France - GDP (USD) from best_params\\GDP (USD)\\Holt_Winters_France.json: {'trend': 'add', 'damped_trend': False, 'smoothing_level': 0.9, 'smoothing_slope': 0.4, 'initialization_method': None}\n"
     ]
    },
    {
     "name": "stderr",
     "output_type": "stream",
     "text": [
      "c:\\Users\\admin\\Desktop\\diplomovka\\Code\\Model_staff\\myenv\\Lib\\site-packages\\statsmodels\\tsa\\base\\tsa_model.py:473: ValueWarning: No frequency information was provided, so inferred frequency YS-JAN will be used.\n",
      "  self._init_dates(dates, freq)\n",
      "C:\\Users\\admin\\AppData\\Local\\Temp\\ipykernel_2388\\506649542.py:376: FutureWarning: the 'smoothing_slope' keyword is deprecated, use 'smoothing_trend' instead.\n",
      "  best_fitted_model = best_model.fit(\n"
     ]
    },
    {
     "name": "stdout",
     "output_type": "stream",
     "text": [
      "Best Parameters used for France - GDP (USD): {'trend': 'add', 'damped_trend': False, 'smoothing_level': 0.9, 'smoothing_slope': 0.4, 'initialization_method': None}\n",
      "Loading parameters from best_params\\GDP (USD)\\LSTM_France.json...\n"
     ]
    },
    {
     "name": "stderr",
     "output_type": "stream",
     "text": [
      "c:\\Users\\admin\\Desktop\\diplomovka\\Code\\Model_staff\\myenv\\Lib\\site-packages\\keras\\src\\layers\\rnn\\rnn.py:200: UserWarning: Do not pass an `input_shape`/`input_dim` argument to a layer. When using Sequential models, prefer using an `Input(shape)` object as the first layer in the model instead.\n",
      "  super().__init__(**kwargs)\n",
      "c:\\Users\\admin\\Desktop\\diplomovka\\Code\\Model_staff\\myenv\\Lib\\site-packages\\keras\\src\\callbacks\\early_stopping.py:153: UserWarning: Early stopping conditioned on metric `val_loss` which is not available. Available metrics are: loss\n",
      "  current = self.get_monitor_value(logs)\n",
      "22:22:52 - cmdstanpy - INFO - Chain [1] start processing\n"
     ]
    },
    {
     "name": "stdout",
     "output_type": "stream",
     "text": [
      "Loading parameters from best_params\\GDP (USD)\\Prophet_France.json...\n"
     ]
    },
    {
     "name": "stderr",
     "output_type": "stream",
     "text": [
      "22:22:52 - cmdstanpy - INFO - Chain [1] done processing\n",
      "c:\\Users\\admin\\Desktop\\diplomovka\\Code\\Model_staff\\myenv\\Lib\\site-packages\\prophet\\forecaster.py:1854: FutureWarning: 'Y' is deprecated and will be removed in a future version, please use 'YE' instead.\n",
      "  dates = pd.date_range(\n"
     ]
    },
    {
     "name": "stdout",
     "output_type": "stream",
     "text": [
      "Loading parameters from best_params\\Inflation (CPI)\\XGBoost_France.json...\n",
      "Loaded best parameters for France - Inflation (CPI) from best_params\\Inflation (CPI)\\ARIMA_France.json: {'p': 11, 'd': 4, 'q': 0}\n",
      "Loaded best parameters for France - Inflation (CPI) from best_params\\Inflation (CPI)\\Holt_Winters_France.json: {'trend': 'mul', 'damped_trend': False, 'smoothing_level': 0.7, 'smoothing_slope': 0.9, 'initialization_method': None}\n"
     ]
    },
    {
     "name": "stderr",
     "output_type": "stream",
     "text": [
      "c:\\Users\\admin\\Desktop\\diplomovka\\Code\\Model_staff\\myenv\\Lib\\site-packages\\statsmodels\\tsa\\base\\tsa_model.py:473: ValueWarning: No frequency information was provided, so inferred frequency YS-JAN will be used.\n",
      "  self._init_dates(dates, freq)\n",
      "C:\\Users\\admin\\AppData\\Local\\Temp\\ipykernel_2388\\506649542.py:376: FutureWarning: the 'smoothing_slope' keyword is deprecated, use 'smoothing_trend' instead.\n",
      "  best_fitted_model = best_model.fit(\n"
     ]
    },
    {
     "name": "stdout",
     "output_type": "stream",
     "text": [
      "Best Parameters used for France - Inflation (CPI): {'trend': 'mul', 'damped_trend': False, 'smoothing_level': 0.7, 'smoothing_slope': 0.9, 'initialization_method': None}\n",
      "Loading parameters from best_params\\Inflation (CPI)\\LSTM_France.json...\n"
     ]
    },
    {
     "name": "stderr",
     "output_type": "stream",
     "text": [
      "c:\\Users\\admin\\Desktop\\diplomovka\\Code\\Model_staff\\myenv\\Lib\\site-packages\\keras\\src\\layers\\rnn\\rnn.py:200: UserWarning: Do not pass an `input_shape`/`input_dim` argument to a layer. When using Sequential models, prefer using an `Input(shape)` object as the first layer in the model instead.\n",
      "  super().__init__(**kwargs)\n",
      "c:\\Users\\admin\\Desktop\\diplomovka\\Code\\Model_staff\\myenv\\Lib\\site-packages\\keras\\src\\callbacks\\early_stopping.py:153: UserWarning: Early stopping conditioned on metric `val_loss` which is not available. Available metrics are: loss\n",
      "  current = self.get_monitor_value(logs)\n",
      "22:23:06 - cmdstanpy - INFO - Chain [1] start processing\n"
     ]
    },
    {
     "name": "stdout",
     "output_type": "stream",
     "text": [
      "Loading parameters from best_params\\Inflation (CPI)\\Prophet_France.json...\n"
     ]
    },
    {
     "name": "stderr",
     "output_type": "stream",
     "text": [
      "22:23:06 - cmdstanpy - INFO - Chain [1] done processing\n",
      "c:\\Users\\admin\\Desktop\\diplomovka\\Code\\Model_staff\\myenv\\Lib\\site-packages\\prophet\\forecaster.py:1854: FutureWarning: 'Y' is deprecated and will be removed in a future version, please use 'YE' instead.\n",
      "  dates = pd.date_range(\n"
     ]
    },
    {
     "name": "stdout",
     "output_type": "stream",
     "text": [
      "Loading parameters from best_params\\Unemployment Rate (%)\\XGBoost_France.json...\n",
      "Loaded best parameters for France - Unemployment Rate (%) from best_params\\Unemployment Rate (%)\\ARIMA_France.json: {'p': 9, 'd': 2, 'q': 2}\n"
     ]
    },
    {
     "name": "stderr",
     "output_type": "stream",
     "text": [
      "c:\\Users\\admin\\Desktop\\diplomovka\\Code\\Model_staff\\myenv\\Lib\\site-packages\\statsmodels\\base\\model.py:607: ConvergenceWarning: Maximum Likelihood optimization failed to converge. Check mle_retvals\n",
      "  warnings.warn(\"Maximum Likelihood optimization failed to \"\n"
     ]
    },
    {
     "name": "stdout",
     "output_type": "stream",
     "text": [
      "Loaded best parameters for France - Unemployment Rate (%) from best_params\\Unemployment Rate (%)\\Holt_Winters_France.json: {'trend': 'add', 'damped_trend': False, 'smoothing_level': 0.1, 'smoothing_slope': 0.1, 'initialization_method': None}\n",
      "Best Parameters used for France - Unemployment Rate (%): {'trend': 'add', 'damped_trend': False, 'smoothing_level': 0.1, 'smoothing_slope': 0.1, 'initialization_method': None}\n",
      "Loading parameters from best_params\\Unemployment Rate (%)\\LSTM_France.json...\n"
     ]
    },
    {
     "name": "stderr",
     "output_type": "stream",
     "text": [
      "c:\\Users\\admin\\Desktop\\diplomovka\\Code\\Model_staff\\myenv\\Lib\\site-packages\\statsmodels\\tsa\\base\\tsa_model.py:473: ValueWarning: No frequency information was provided, so inferred frequency YS-JAN will be used.\n",
      "  self._init_dates(dates, freq)\n",
      "C:\\Users\\admin\\AppData\\Local\\Temp\\ipykernel_2388\\506649542.py:376: FutureWarning: the 'smoothing_slope' keyword is deprecated, use 'smoothing_trend' instead.\n",
      "  best_fitted_model = best_model.fit(\n",
      "c:\\Users\\admin\\Desktop\\diplomovka\\Code\\Model_staff\\myenv\\Lib\\site-packages\\keras\\src\\layers\\rnn\\rnn.py:200: UserWarning: Do not pass an `input_shape`/`input_dim` argument to a layer. When using Sequential models, prefer using an `Input(shape)` object as the first layer in the model instead.\n",
      "  super().__init__(**kwargs)\n",
      "c:\\Users\\admin\\Desktop\\diplomovka\\Code\\Model_staff\\myenv\\Lib\\site-packages\\keras\\src\\callbacks\\early_stopping.py:153: UserWarning: Early stopping conditioned on metric `val_loss` which is not available. Available metrics are: loss\n",
      "  current = self.get_monitor_value(logs)\n",
      "22:23:17 - cmdstanpy - INFO - Chain [1] start processing\n",
      "22:23:17 - cmdstanpy - INFO - Chain [1] done processing\n"
     ]
    },
    {
     "name": "stdout",
     "output_type": "stream",
     "text": [
      "Loading parameters from best_params\\Unemployment Rate (%)\\Prophet_France.json...\n"
     ]
    },
    {
     "name": "stderr",
     "output_type": "stream",
     "text": [
      "c:\\Users\\admin\\Desktop\\diplomovka\\Code\\Model_staff\\myenv\\Lib\\site-packages\\prophet\\forecaster.py:1854: FutureWarning: 'Y' is deprecated and will be removed in a future version, please use 'YE' instead.\n",
      "  dates = pd.date_range(\n"
     ]
    },
    {
     "name": "stdout",
     "output_type": "stream",
     "text": [
      "Loading parameters from best_params\\GDP growth (annual %)\\XGBoost_France.json...\n",
      "Loaded best parameters for France - GDP growth (annual %) from best_params\\GDP growth (annual %)\\ARIMA_France.json: {'p': 8, 'd': 1, 'q': 2}\n"
     ]
    },
    {
     "name": "stderr",
     "output_type": "stream",
     "text": [
      "c:\\Users\\admin\\Desktop\\diplomovka\\Code\\Model_staff\\myenv\\Lib\\site-packages\\statsmodels\\base\\model.py:607: ConvergenceWarning: Maximum Likelihood optimization failed to converge. Check mle_retvals\n",
      "  warnings.warn(\"Maximum Likelihood optimization failed to \"\n"
     ]
    },
    {
     "name": "stdout",
     "output_type": "stream",
     "text": [
      "Loaded best parameters for France - GDP growth (annual %) from best_params\\GDP growth (annual %)\\Holt_Winters_France.json: {'trend': None, 'damped_trend': False, 'smoothing_level': 0.8, 'smoothing_slope': None, 'initialization_method': None}\n"
     ]
    },
    {
     "name": "stderr",
     "output_type": "stream",
     "text": [
      "c:\\Users\\admin\\Desktop\\diplomovka\\Code\\Model_staff\\myenv\\Lib\\site-packages\\statsmodels\\tsa\\base\\tsa_model.py:473: ValueWarning: No frequency information was provided, so inferred frequency YS-JAN will be used.\n",
      "  self._init_dates(dates, freq)\n"
     ]
    },
    {
     "name": "stdout",
     "output_type": "stream",
     "text": [
      "Best Parameters used for France - GDP growth (annual %): {'trend': None, 'damped_trend': False, 'smoothing_level': 0.8, 'smoothing_slope': None, 'initialization_method': None}\n",
      "Loading parameters from best_params\\GDP growth (annual %)\\LSTM_France.json...\n"
     ]
    },
    {
     "name": "stderr",
     "output_type": "stream",
     "text": [
      "c:\\Users\\admin\\Desktop\\diplomovka\\Code\\Model_staff\\myenv\\Lib\\site-packages\\keras\\src\\layers\\rnn\\rnn.py:200: UserWarning: Do not pass an `input_shape`/`input_dim` argument to a layer. When using Sequential models, prefer using an `Input(shape)` object as the first layer in the model instead.\n",
      "  super().__init__(**kwargs)\n",
      "c:\\Users\\admin\\Desktop\\diplomovka\\Code\\Model_staff\\myenv\\Lib\\site-packages\\keras\\src\\callbacks\\early_stopping.py:153: UserWarning: Early stopping conditioned on metric `val_loss` which is not available. Available metrics are: loss\n",
      "  current = self.get_monitor_value(logs)\n",
      "22:23:34 - cmdstanpy - INFO - Chain [1] start processing\n"
     ]
    },
    {
     "name": "stdout",
     "output_type": "stream",
     "text": [
      "Loading parameters from best_params\\GDP growth (annual %)\\Prophet_France.json...\n"
     ]
    },
    {
     "name": "stderr",
     "output_type": "stream",
     "text": [
      "22:23:34 - cmdstanpy - INFO - Chain [1] done processing\n",
      "c:\\Users\\admin\\Desktop\\diplomovka\\Code\\Model_staff\\myenv\\Lib\\site-packages\\prophet\\forecaster.py:1854: FutureWarning: 'Y' is deprecated and will be removed in a future version, please use 'YE' instead.\n",
      "  dates = pd.date_range(\n"
     ]
    },
    {
     "name": "stdout",
     "output_type": "stream",
     "text": [
      "Loading parameters from best_params\\Imports of goods and services (% of GDP)\\XGBoost_France.json...\n",
      "Loaded best parameters for France - Imports of goods and services (% of GDP) from best_params\\Imports of goods and services (% of GDP)\\ARIMA_France.json: {'p': 0, 'd': 3, 'q': 9}\n"
     ]
    },
    {
     "name": "stderr",
     "output_type": "stream",
     "text": [
      "c:\\Users\\admin\\Desktop\\diplomovka\\Code\\Model_staff\\myenv\\Lib\\site-packages\\statsmodels\\tsa\\statespace\\sarimax.py:978: UserWarning: Non-invertible starting MA parameters found. Using zeros as starting parameters.\n",
      "  warn('Non-invertible starting MA parameters found.'\n",
      "c:\\Users\\admin\\Desktop\\diplomovka\\Code\\Model_staff\\myenv\\Lib\\site-packages\\statsmodels\\base\\model.py:607: ConvergenceWarning: Maximum Likelihood optimization failed to converge. Check mle_retvals\n",
      "  warnings.warn(\"Maximum Likelihood optimization failed to \"\n"
     ]
    },
    {
     "name": "stdout",
     "output_type": "stream",
     "text": [
      "Loaded best parameters for France - Imports of goods and services (% of GDP) from best_params\\Imports of goods and services (% of GDP)\\Holt_Winters_France.json: {'trend': 'add', 'damped_trend': False, 'smoothing_level': 0.2, 'smoothing_slope': 0.3, 'initialization_method': None}\n"
     ]
    },
    {
     "name": "stderr",
     "output_type": "stream",
     "text": [
      "c:\\Users\\admin\\Desktop\\diplomovka\\Code\\Model_staff\\myenv\\Lib\\site-packages\\statsmodels\\tsa\\base\\tsa_model.py:473: ValueWarning: No frequency information was provided, so inferred frequency YS-JAN will be used.\n",
      "  self._init_dates(dates, freq)\n",
      "C:\\Users\\admin\\AppData\\Local\\Temp\\ipykernel_2388\\506649542.py:376: FutureWarning: the 'smoothing_slope' keyword is deprecated, use 'smoothing_trend' instead.\n",
      "  best_fitted_model = best_model.fit(\n"
     ]
    },
    {
     "name": "stdout",
     "output_type": "stream",
     "text": [
      "Best Parameters used for France - Imports of goods and services (% of GDP): {'trend': 'add', 'damped_trend': False, 'smoothing_level': 0.2, 'smoothing_slope': 0.3, 'initialization_method': None}\n",
      "Loading parameters from best_params\\Imports of goods and services (% of GDP)\\LSTM_France.json...\n"
     ]
    },
    {
     "name": "stderr",
     "output_type": "stream",
     "text": [
      "c:\\Users\\admin\\Desktop\\diplomovka\\Code\\Model_staff\\myenv\\Lib\\site-packages\\keras\\src\\layers\\rnn\\rnn.py:200: UserWarning: Do not pass an `input_shape`/`input_dim` argument to a layer. When using Sequential models, prefer using an `Input(shape)` object as the first layer in the model instead.\n",
      "  super().__init__(**kwargs)\n",
      "c:\\Users\\admin\\Desktop\\diplomovka\\Code\\Model_staff\\myenv\\Lib\\site-packages\\keras\\src\\callbacks\\early_stopping.py:153: UserWarning: Early stopping conditioned on metric `val_loss` which is not available. Available metrics are: loss\n",
      "  current = self.get_monitor_value(logs)\n",
      "22:23:49 - cmdstanpy - INFO - Chain [1] start processing\n"
     ]
    },
    {
     "name": "stdout",
     "output_type": "stream",
     "text": [
      "Loading parameters from best_params\\Imports of goods and services (% of GDP)\\Prophet_France.json...\n"
     ]
    },
    {
     "name": "stderr",
     "output_type": "stream",
     "text": [
      "22:23:50 - cmdstanpy - INFO - Chain [1] done processing\n",
      "c:\\Users\\admin\\Desktop\\diplomovka\\Code\\Model_staff\\myenv\\Lib\\site-packages\\prophet\\forecaster.py:1854: FutureWarning: 'Y' is deprecated and will be removed in a future version, please use 'YE' instead.\n",
      "  dates = pd.date_range(\n"
     ]
    },
    {
     "name": "stdout",
     "output_type": "stream",
     "text": [
      "Loading parameters from best_params\\Exports of goods and services (% of GDP)\\XGBoost_France.json...\n",
      "Loaded best parameters for France - Exports of goods and services (% of GDP) from best_params\\Exports of goods and services (% of GDP)\\ARIMA_France.json: {'p': 9, 'd': 2, 'q': 4}\n"
     ]
    },
    {
     "name": "stderr",
     "output_type": "stream",
     "text": [
      "c:\\Users\\admin\\Desktop\\diplomovka\\Code\\Model_staff\\myenv\\Lib\\site-packages\\statsmodels\\tsa\\statespace\\sarimax.py:966: UserWarning: Non-stationary starting autoregressive parameters found. Using zeros as starting parameters.\n",
      "  warn('Non-stationary starting autoregressive parameters'\n",
      "c:\\Users\\admin\\Desktop\\diplomovka\\Code\\Model_staff\\myenv\\Lib\\site-packages\\statsmodels\\tsa\\statespace\\sarimax.py:978: UserWarning: Non-invertible starting MA parameters found. Using zeros as starting parameters.\n",
      "  warn('Non-invertible starting MA parameters found.'\n",
      "c:\\Users\\admin\\Desktop\\diplomovka\\Code\\Model_staff\\myenv\\Lib\\site-packages\\statsmodels\\base\\model.py:607: ConvergenceWarning: Maximum Likelihood optimization failed to converge. Check mle_retvals\n",
      "  warnings.warn(\"Maximum Likelihood optimization failed to \"\n"
     ]
    },
    {
     "name": "stdout",
     "output_type": "stream",
     "text": [
      "Loaded best parameters for France - Exports of goods and services (% of GDP) from best_params\\Exports of goods and services (% of GDP)\\Holt_Winters_France.json: {'trend': 'add', 'damped_trend': False, 'smoothing_level': 0.1, 'smoothing_slope': None, 'initialization_method': None}\n"
     ]
    },
    {
     "name": "stderr",
     "output_type": "stream",
     "text": [
      "c:\\Users\\admin\\Desktop\\diplomovka\\Code\\Model_staff\\myenv\\Lib\\site-packages\\statsmodels\\tsa\\base\\tsa_model.py:473: ValueWarning: No frequency information was provided, so inferred frequency YS-JAN will be used.\n",
      "  self._init_dates(dates, freq)\n"
     ]
    },
    {
     "name": "stdout",
     "output_type": "stream",
     "text": [
      "Best Parameters used for France - Exports of goods and services (% of GDP): {'trend': 'add', 'damped_trend': False, 'smoothing_level': 0.1, 'smoothing_slope': None, 'initialization_method': None}\n",
      "Loading parameters from best_params\\Exports of goods and services (% of GDP)\\LSTM_France.json...\n"
     ]
    },
    {
     "name": "stderr",
     "output_type": "stream",
     "text": [
      "c:\\Users\\admin\\Desktop\\diplomovka\\Code\\Model_staff\\myenv\\Lib\\site-packages\\keras\\src\\layers\\rnn\\rnn.py:200: UserWarning: Do not pass an `input_shape`/`input_dim` argument to a layer. When using Sequential models, prefer using an `Input(shape)` object as the first layer in the model instead.\n",
      "  super().__init__(**kwargs)\n",
      "c:\\Users\\admin\\Desktop\\diplomovka\\Code\\Model_staff\\myenv\\Lib\\site-packages\\keras\\src\\callbacks\\early_stopping.py:153: UserWarning: Early stopping conditioned on metric `val_loss` which is not available. Available metrics are: loss\n",
      "  current = self.get_monitor_value(logs)\n",
      "22:24:15 - cmdstanpy - INFO - Chain [1] start processing\n"
     ]
    },
    {
     "name": "stdout",
     "output_type": "stream",
     "text": [
      "Loading parameters from best_params\\Exports of goods and services (% of GDP)\\Prophet_France.json...\n"
     ]
    },
    {
     "name": "stderr",
     "output_type": "stream",
     "text": [
      "22:24:15 - cmdstanpy - INFO - Chain [1] done processing\n",
      "c:\\Users\\admin\\Desktop\\diplomovka\\Code\\Model_staff\\myenv\\Lib\\site-packages\\prophet\\forecaster.py:1854: FutureWarning: 'Y' is deprecated and will be removed in a future version, please use 'YE' instead.\n",
      "  dates = pd.date_range(\n"
     ]
    },
    {
     "name": "stdout",
     "output_type": "stream",
     "text": [
      "Loading parameters from best_params\\GDP per Capita (USD)\\XGBoost_Italy.json...\n",
      "Loaded best parameters for Italy - GDP per Capita (USD) from best_params\\GDP per Capita (USD)\\ARIMA_Italy.json: {'p': 1, 'd': 1, 'q': 0}\n",
      "Loaded best parameters for Italy - GDP per Capita (USD) from best_params\\GDP per Capita (USD)\\Holt_Winters_Italy.json: {'trend': 'mul', 'damped_trend': True, 'smoothing_level': None, 'smoothing_slope': 0.4, 'initialization_method': None}\n"
     ]
    },
    {
     "name": "stderr",
     "output_type": "stream",
     "text": [
      "c:\\Users\\admin\\Desktop\\diplomovka\\Code\\Model_staff\\myenv\\Lib\\site-packages\\statsmodels\\tsa\\base\\tsa_model.py:473: ValueWarning: No frequency information was provided, so inferred frequency YS-JAN will be used.\n",
      "  self._init_dates(dates, freq)\n",
      "C:\\Users\\admin\\AppData\\Local\\Temp\\ipykernel_2388\\506649542.py:376: FutureWarning: the 'smoothing_slope' keyword is deprecated, use 'smoothing_trend' instead.\n",
      "  best_fitted_model = best_model.fit(\n",
      "c:\\Users\\admin\\Desktop\\diplomovka\\Code\\Model_staff\\myenv\\Lib\\site-packages\\statsmodels\\tsa\\holtwinters\\model.py:918: ConvergenceWarning: Optimization failed to converge. Check mle_retvals.\n",
      "  warnings.warn(\n"
     ]
    },
    {
     "name": "stdout",
     "output_type": "stream",
     "text": [
      "Best Parameters used for Italy - GDP per Capita (USD): {'trend': 'mul', 'damped_trend': True, 'smoothing_level': None, 'smoothing_slope': 0.4, 'initialization_method': None}\n",
      "Loading parameters from best_params\\GDP per Capita (USD)\\LSTM_Italy.json...\n"
     ]
    },
    {
     "name": "stderr",
     "output_type": "stream",
     "text": [
      "c:\\Users\\admin\\Desktop\\diplomovka\\Code\\Model_staff\\myenv\\Lib\\site-packages\\keras\\src\\layers\\rnn\\rnn.py:200: UserWarning: Do not pass an `input_shape`/`input_dim` argument to a layer. When using Sequential models, prefer using an `Input(shape)` object as the first layer in the model instead.\n",
      "  super().__init__(**kwargs)\n",
      "c:\\Users\\admin\\Desktop\\diplomovka\\Code\\Model_staff\\myenv\\Lib\\site-packages\\keras\\src\\callbacks\\early_stopping.py:153: UserWarning: Early stopping conditioned on metric `val_loss` which is not available. Available metrics are: loss\n",
      "  current = self.get_monitor_value(logs)\n",
      "22:24:30 - cmdstanpy - INFO - Chain [1] start processing\n",
      "22:24:30 - cmdstanpy - INFO - Chain [1] done processing\n"
     ]
    },
    {
     "name": "stdout",
     "output_type": "stream",
     "text": [
      "Loading parameters from best_params\\GDP per Capita (USD)\\Prophet_Italy.json...\n"
     ]
    },
    {
     "name": "stderr",
     "output_type": "stream",
     "text": [
      "c:\\Users\\admin\\Desktop\\diplomovka\\Code\\Model_staff\\myenv\\Lib\\site-packages\\prophet\\forecaster.py:1854: FutureWarning: 'Y' is deprecated and will be removed in a future version, please use 'YE' instead.\n",
      "  dates = pd.date_range(\n"
     ]
    },
    {
     "name": "stdout",
     "output_type": "stream",
     "text": [
      "Loading parameters from best_params\\GDP (USD)\\XGBoost_Italy.json...\n",
      "Loaded best parameters for Italy - GDP (USD) from best_params\\GDP (USD)\\ARIMA_Italy.json: {'p': 1, 'd': 1, 'q': 0}\n",
      "Loaded best parameters for Italy - GDP (USD) from best_params\\GDP (USD)\\Holt_Winters_Italy.json: {'trend': None, 'damped_trend': False, 'smoothing_level': 0.3, 'smoothing_slope': None, 'initialization_method': None}\n"
     ]
    },
    {
     "name": "stderr",
     "output_type": "stream",
     "text": [
      "c:\\Users\\admin\\Desktop\\diplomovka\\Code\\Model_staff\\myenv\\Lib\\site-packages\\statsmodels\\tsa\\base\\tsa_model.py:473: ValueWarning: No frequency information was provided, so inferred frequency YS-JAN will be used.\n",
      "  self._init_dates(dates, freq)\n"
     ]
    },
    {
     "name": "stdout",
     "output_type": "stream",
     "text": [
      "Best Parameters used for Italy - GDP (USD): {'trend': None, 'damped_trend': False, 'smoothing_level': 0.3, 'smoothing_slope': None, 'initialization_method': None}\n",
      "Loading parameters from best_params\\GDP (USD)\\LSTM_Italy.json...\n"
     ]
    },
    {
     "name": "stderr",
     "output_type": "stream",
     "text": [
      "c:\\Users\\admin\\Desktop\\diplomovka\\Code\\Model_staff\\myenv\\Lib\\site-packages\\keras\\src\\layers\\rnn\\rnn.py:200: UserWarning: Do not pass an `input_shape`/`input_dim` argument to a layer. When using Sequential models, prefer using an `Input(shape)` object as the first layer in the model instead.\n",
      "  super().__init__(**kwargs)\n",
      "c:\\Users\\admin\\Desktop\\diplomovka\\Code\\Model_staff\\myenv\\Lib\\site-packages\\keras\\src\\callbacks\\early_stopping.py:153: UserWarning: Early stopping conditioned on metric `val_loss` which is not available. Available metrics are: loss\n",
      "  current = self.get_monitor_value(logs)\n",
      "22:24:52 - cmdstanpy - INFO - Chain [1] start processing\n"
     ]
    },
    {
     "name": "stdout",
     "output_type": "stream",
     "text": [
      "Loading parameters from best_params\\GDP (USD)\\Prophet_Italy.json...\n"
     ]
    },
    {
     "name": "stderr",
     "output_type": "stream",
     "text": [
      "22:24:52 - cmdstanpy - INFO - Chain [1] done processing\n",
      "c:\\Users\\admin\\Desktop\\diplomovka\\Code\\Model_staff\\myenv\\Lib\\site-packages\\prophet\\forecaster.py:1854: FutureWarning: 'Y' is deprecated and will be removed in a future version, please use 'YE' instead.\n",
      "  dates = pd.date_range(\n"
     ]
    },
    {
     "name": "stdout",
     "output_type": "stream",
     "text": [
      "Loading parameters from best_params\\Inflation (CPI)\\XGBoost_Italy.json...\n",
      "Loaded best parameters for Italy - Inflation (CPI) from best_params\\Inflation (CPI)\\ARIMA_Italy.json: {'p': 6, 'd': 5, 'q': 4}\n"
     ]
    },
    {
     "name": "stderr",
     "output_type": "stream",
     "text": [
      "c:\\Users\\admin\\Desktop\\diplomovka\\Code\\Model_staff\\myenv\\Lib\\site-packages\\statsmodels\\tsa\\statespace\\sarimax.py:978: UserWarning: Non-invertible starting MA parameters found. Using zeros as starting parameters.\n",
      "  warn('Non-invertible starting MA parameters found.'\n",
      "c:\\Users\\admin\\Desktop\\diplomovka\\Code\\Model_staff\\myenv\\Lib\\site-packages\\statsmodels\\base\\model.py:607: ConvergenceWarning: Maximum Likelihood optimization failed to converge. Check mle_retvals\n",
      "  warnings.warn(\"Maximum Likelihood optimization failed to \"\n"
     ]
    },
    {
     "name": "stdout",
     "output_type": "stream",
     "text": [
      "Loaded best parameters for Italy - Inflation (CPI) from best_params\\Inflation (CPI)\\Holt_Winters_Italy.json: {'trend': 'add', 'damped_trend': False, 'smoothing_level': 0.1, 'smoothing_slope': 0.3, 'initialization_method': None}\n"
     ]
    },
    {
     "name": "stderr",
     "output_type": "stream",
     "text": [
      "c:\\Users\\admin\\Desktop\\diplomovka\\Code\\Model_staff\\myenv\\Lib\\site-packages\\statsmodels\\tsa\\base\\tsa_model.py:473: ValueWarning: No frequency information was provided, so inferred frequency YS-JAN will be used.\n",
      "  self._init_dates(dates, freq)\n",
      "C:\\Users\\admin\\AppData\\Local\\Temp\\ipykernel_2388\\506649542.py:376: FutureWarning: the 'smoothing_slope' keyword is deprecated, use 'smoothing_trend' instead.\n",
      "  best_fitted_model = best_model.fit(\n"
     ]
    },
    {
     "name": "stdout",
     "output_type": "stream",
     "text": [
      "Best Parameters used for Italy - Inflation (CPI): {'trend': 'add', 'damped_trend': False, 'smoothing_level': 0.1, 'smoothing_slope': 0.3, 'initialization_method': None}\n",
      "Loading parameters from best_params\\Inflation (CPI)\\LSTM_Italy.json...\n"
     ]
    },
    {
     "name": "stderr",
     "output_type": "stream",
     "text": [
      "c:\\Users\\admin\\Desktop\\diplomovka\\Code\\Model_staff\\myenv\\Lib\\site-packages\\keras\\src\\layers\\rnn\\rnn.py:200: UserWarning: Do not pass an `input_shape`/`input_dim` argument to a layer. When using Sequential models, prefer using an `Input(shape)` object as the first layer in the model instead.\n",
      "  super().__init__(**kwargs)\n",
      "c:\\Users\\admin\\Desktop\\diplomovka\\Code\\Model_staff\\myenv\\Lib\\site-packages\\keras\\src\\callbacks\\early_stopping.py:153: UserWarning: Early stopping conditioned on metric `val_loss` which is not available. Available metrics are: loss\n",
      "  current = self.get_monitor_value(logs)\n",
      "22:25:11 - cmdstanpy - INFO - Chain [1] start processing\n"
     ]
    },
    {
     "name": "stdout",
     "output_type": "stream",
     "text": [
      "Loading parameters from best_params\\Inflation (CPI)\\Prophet_Italy.json...\n"
     ]
    },
    {
     "name": "stderr",
     "output_type": "stream",
     "text": [
      "22:25:11 - cmdstanpy - INFO - Chain [1] done processing\n",
      "c:\\Users\\admin\\Desktop\\diplomovka\\Code\\Model_staff\\myenv\\Lib\\site-packages\\prophet\\forecaster.py:1854: FutureWarning: 'Y' is deprecated and will be removed in a future version, please use 'YE' instead.\n",
      "  dates = pd.date_range(\n"
     ]
    },
    {
     "name": "stdout",
     "output_type": "stream",
     "text": [
      "Loading parameters from best_params\\Unemployment Rate (%)\\XGBoost_Italy.json...\n",
      "Loaded best parameters for Italy - Unemployment Rate (%) from best_params\\Unemployment Rate (%)\\ARIMA_Italy.json: {'p': 5, 'd': 0, 'q': 0}\n",
      "Loaded best parameters for Italy - Unemployment Rate (%) from best_params\\Unemployment Rate (%)\\Holt_Winters_Italy.json: {'trend': 'add', 'damped_trend': False, 'smoothing_level': 0.8, 'smoothing_slope': 0.9, 'initialization_method': None}\n"
     ]
    },
    {
     "name": "stderr",
     "output_type": "stream",
     "text": [
      "c:\\Users\\admin\\Desktop\\diplomovka\\Code\\Model_staff\\myenv\\Lib\\site-packages\\statsmodels\\tsa\\base\\tsa_model.py:473: ValueWarning: No frequency information was provided, so inferred frequency YS-JAN will be used.\n",
      "  self._init_dates(dates, freq)\n",
      "C:\\Users\\admin\\AppData\\Local\\Temp\\ipykernel_2388\\506649542.py:376: FutureWarning: the 'smoothing_slope' keyword is deprecated, use 'smoothing_trend' instead.\n",
      "  best_fitted_model = best_model.fit(\n"
     ]
    },
    {
     "name": "stdout",
     "output_type": "stream",
     "text": [
      "Best Parameters used for Italy - Unemployment Rate (%): {'trend': 'add', 'damped_trend': False, 'smoothing_level': 0.8, 'smoothing_slope': 0.9, 'initialization_method': None}\n",
      "Loading parameters from best_params\\Unemployment Rate (%)\\LSTM_Italy.json...\n"
     ]
    },
    {
     "name": "stderr",
     "output_type": "stream",
     "text": [
      "c:\\Users\\admin\\Desktop\\diplomovka\\Code\\Model_staff\\myenv\\Lib\\site-packages\\keras\\src\\layers\\rnn\\rnn.py:200: UserWarning: Do not pass an `input_shape`/`input_dim` argument to a layer. When using Sequential models, prefer using an `Input(shape)` object as the first layer in the model instead.\n",
      "  super().__init__(**kwargs)\n",
      "c:\\Users\\admin\\Desktop\\diplomovka\\Code\\Model_staff\\myenv\\Lib\\site-packages\\keras\\src\\callbacks\\early_stopping.py:153: UserWarning: Early stopping conditioned on metric `val_loss` which is not available. Available metrics are: loss\n",
      "  current = self.get_monitor_value(logs)\n",
      "22:25:28 - cmdstanpy - INFO - Chain [1] start processing\n"
     ]
    },
    {
     "name": "stdout",
     "output_type": "stream",
     "text": [
      "Loading parameters from best_params\\Unemployment Rate (%)\\Prophet_Italy.json...\n"
     ]
    },
    {
     "name": "stderr",
     "output_type": "stream",
     "text": [
      "22:25:29 - cmdstanpy - INFO - Chain [1] done processing\n",
      "c:\\Users\\admin\\Desktop\\diplomovka\\Code\\Model_staff\\myenv\\Lib\\site-packages\\prophet\\forecaster.py:1854: FutureWarning: 'Y' is deprecated and will be removed in a future version, please use 'YE' instead.\n",
      "  dates = pd.date_range(\n"
     ]
    },
    {
     "name": "stdout",
     "output_type": "stream",
     "text": [
      "Loading parameters from best_params\\GDP growth (annual %)\\XGBoost_Italy.json...\n",
      "Loaded best parameters for Italy - GDP growth (annual %) from best_params\\GDP growth (annual %)\\ARIMA_Italy.json: {'p': 13, 'd': 0, 'q': 6}\n"
     ]
    },
    {
     "name": "stderr",
     "output_type": "stream",
     "text": [
      "c:\\Users\\admin\\Desktop\\diplomovka\\Code\\Model_staff\\myenv\\Lib\\site-packages\\statsmodels\\tsa\\statespace\\sarimax.py:966: UserWarning: Non-stationary starting autoregressive parameters found. Using zeros as starting parameters.\n",
      "  warn('Non-stationary starting autoregressive parameters'\n",
      "c:\\Users\\admin\\Desktop\\diplomovka\\Code\\Model_staff\\myenv\\Lib\\site-packages\\statsmodels\\tsa\\statespace\\sarimax.py:978: UserWarning: Non-invertible starting MA parameters found. Using zeros as starting parameters.\n",
      "  warn('Non-invertible starting MA parameters found.'\n",
      "c:\\Users\\admin\\Desktop\\diplomovka\\Code\\Model_staff\\myenv\\Lib\\site-packages\\statsmodels\\base\\model.py:607: ConvergenceWarning: Maximum Likelihood optimization failed to converge. Check mle_retvals\n",
      "  warnings.warn(\"Maximum Likelihood optimization failed to \"\n"
     ]
    },
    {
     "name": "stdout",
     "output_type": "stream",
     "text": [
      "Loaded best parameters for Italy - GDP growth (annual %) from best_params\\GDP growth (annual %)\\Holt_Winters_Italy.json: {'trend': 'add', 'damped_trend': False, 'smoothing_level': 0.6, 'smoothing_slope': 0.6, 'initialization_method': None}\n"
     ]
    },
    {
     "name": "stderr",
     "output_type": "stream",
     "text": [
      "c:\\Users\\admin\\Desktop\\diplomovka\\Code\\Model_staff\\myenv\\Lib\\site-packages\\statsmodels\\tsa\\base\\tsa_model.py:473: ValueWarning: No frequency information was provided, so inferred frequency YS-JAN will be used.\n",
      "  self._init_dates(dates, freq)\n",
      "C:\\Users\\admin\\AppData\\Local\\Temp\\ipykernel_2388\\506649542.py:376: FutureWarning: the 'smoothing_slope' keyword is deprecated, use 'smoothing_trend' instead.\n",
      "  best_fitted_model = best_model.fit(\n"
     ]
    },
    {
     "name": "stdout",
     "output_type": "stream",
     "text": [
      "Best Parameters used for Italy - GDP growth (annual %): {'trend': 'add', 'damped_trend': False, 'smoothing_level': 0.6, 'smoothing_slope': 0.6, 'initialization_method': None}\n",
      "Loading parameters from best_params\\GDP growth (annual %)\\LSTM_Italy.json...\n"
     ]
    },
    {
     "name": "stderr",
     "output_type": "stream",
     "text": [
      "c:\\Users\\admin\\Desktop\\diplomovka\\Code\\Model_staff\\myenv\\Lib\\site-packages\\keras\\src\\layers\\rnn\\rnn.py:200: UserWarning: Do not pass an `input_shape`/`input_dim` argument to a layer. When using Sequential models, prefer using an `Input(shape)` object as the first layer in the model instead.\n",
      "  super().__init__(**kwargs)\n",
      "c:\\Users\\admin\\Desktop\\diplomovka\\Code\\Model_staff\\myenv\\Lib\\site-packages\\keras\\src\\callbacks\\early_stopping.py:153: UserWarning: Early stopping conditioned on metric `val_loss` which is not available. Available metrics are: loss\n",
      "  current = self.get_monitor_value(logs)\n",
      "22:25:44 - cmdstanpy - INFO - Chain [1] start processing\n"
     ]
    },
    {
     "name": "stdout",
     "output_type": "stream",
     "text": [
      "Loading parameters from best_params\\GDP growth (annual %)\\Prophet_Italy.json...\n"
     ]
    },
    {
     "name": "stderr",
     "output_type": "stream",
     "text": [
      "22:25:44 - cmdstanpy - INFO - Chain [1] done processing\n",
      "c:\\Users\\admin\\Desktop\\diplomovka\\Code\\Model_staff\\myenv\\Lib\\site-packages\\prophet\\forecaster.py:1854: FutureWarning: 'Y' is deprecated and will be removed in a future version, please use 'YE' instead.\n",
      "  dates = pd.date_range(\n"
     ]
    },
    {
     "name": "stdout",
     "output_type": "stream",
     "text": [
      "Loading parameters from best_params\\Imports of goods and services (% of GDP)\\XGBoost_Italy.json...\n",
      "Loaded best parameters for Italy - Imports of goods and services (% of GDP) from best_params\\Imports of goods and services (% of GDP)\\ARIMA_Italy.json: {'p': 12, 'd': 2, 'q': 7}\n"
     ]
    },
    {
     "name": "stderr",
     "output_type": "stream",
     "text": [
      "c:\\Users\\admin\\Desktop\\diplomovka\\Code\\Model_staff\\myenv\\Lib\\site-packages\\statsmodels\\tsa\\statespace\\sarimax.py:966: UserWarning: Non-stationary starting autoregressive parameters found. Using zeros as starting parameters.\n",
      "  warn('Non-stationary starting autoregressive parameters'\n",
      "c:\\Users\\admin\\Desktop\\diplomovka\\Code\\Model_staff\\myenv\\Lib\\site-packages\\statsmodels\\tsa\\statespace\\sarimax.py:978: UserWarning: Non-invertible starting MA parameters found. Using zeros as starting parameters.\n",
      "  warn('Non-invertible starting MA parameters found.'\n",
      "c:\\Users\\admin\\Desktop\\diplomovka\\Code\\Model_staff\\myenv\\Lib\\site-packages\\statsmodels\\base\\model.py:607: ConvergenceWarning: Maximum Likelihood optimization failed to converge. Check mle_retvals\n",
      "  warnings.warn(\"Maximum Likelihood optimization failed to \"\n"
     ]
    },
    {
     "name": "stdout",
     "output_type": "stream",
     "text": [
      "Loaded best parameters for Italy - Imports of goods and services (% of GDP) from best_params\\Imports of goods and services (% of GDP)\\Holt_Winters_Italy.json: {'trend': 'mul', 'damped_trend': False, 'smoothing_level': 0.1, 'smoothing_slope': 0.1, 'initialization_method': None}\n"
     ]
    },
    {
     "name": "stderr",
     "output_type": "stream",
     "text": [
      "c:\\Users\\admin\\Desktop\\diplomovka\\Code\\Model_staff\\myenv\\Lib\\site-packages\\statsmodels\\tsa\\base\\tsa_model.py:473: ValueWarning: No frequency information was provided, so inferred frequency YS-JAN will be used.\n",
      "  self._init_dates(dates, freq)\n",
      "C:\\Users\\admin\\AppData\\Local\\Temp\\ipykernel_2388\\506649542.py:376: FutureWarning: the 'smoothing_slope' keyword is deprecated, use 'smoothing_trend' instead.\n",
      "  best_fitted_model = best_model.fit(\n",
      "c:\\Users\\admin\\Desktop\\diplomovka\\Code\\Model_staff\\myenv\\Lib\\site-packages\\statsmodels\\tsa\\holtwinters\\model.py:84: RuntimeWarning: overflow encountered in matmul\n",
      "  return err.T @ err\n"
     ]
    },
    {
     "name": "stdout",
     "output_type": "stream",
     "text": [
      "Best Parameters used for Italy - Imports of goods and services (% of GDP): {'trend': 'mul', 'damped_trend': False, 'smoothing_level': 0.1, 'smoothing_slope': 0.1, 'initialization_method': None}\n",
      "Loading parameters from best_params\\Imports of goods and services (% of GDP)\\LSTM_Italy.json...\n"
     ]
    },
    {
     "name": "stderr",
     "output_type": "stream",
     "text": [
      "c:\\Users\\admin\\Desktop\\diplomovka\\Code\\Model_staff\\myenv\\Lib\\site-packages\\keras\\src\\layers\\rnn\\rnn.py:200: UserWarning: Do not pass an `input_shape`/`input_dim` argument to a layer. When using Sequential models, prefer using an `Input(shape)` object as the first layer in the model instead.\n",
      "  super().__init__(**kwargs)\n",
      "c:\\Users\\admin\\Desktop\\diplomovka\\Code\\Model_staff\\myenv\\Lib\\site-packages\\keras\\src\\callbacks\\early_stopping.py:153: UserWarning: Early stopping conditioned on metric `val_loss` which is not available. Available metrics are: loss\n",
      "  current = self.get_monitor_value(logs)\n",
      "22:25:59 - cmdstanpy - INFO - Chain [1] start processing\n",
      "22:25:59 - cmdstanpy - INFO - Chain [1] done processing\n"
     ]
    },
    {
     "name": "stdout",
     "output_type": "stream",
     "text": [
      "Loading parameters from best_params\\Imports of goods and services (% of GDP)\\Prophet_Italy.json...\n"
     ]
    },
    {
     "name": "stderr",
     "output_type": "stream",
     "text": [
      "c:\\Users\\admin\\Desktop\\diplomovka\\Code\\Model_staff\\myenv\\Lib\\site-packages\\prophet\\forecaster.py:1854: FutureWarning: 'Y' is deprecated and will be removed in a future version, please use 'YE' instead.\n",
      "  dates = pd.date_range(\n"
     ]
    },
    {
     "name": "stdout",
     "output_type": "stream",
     "text": [
      "Loading parameters from best_params\\Exports of goods and services (% of GDP)\\XGBoost_Italy.json...\n",
      "Loaded best parameters for Italy - Exports of goods and services (% of GDP) from best_params\\Exports of goods and services (% of GDP)\\ARIMA_Italy.json: {'p': 2, 'd': 3, 'q': 6}\n"
     ]
    },
    {
     "name": "stderr",
     "output_type": "stream",
     "text": [
      "c:\\Users\\admin\\Desktop\\diplomovka\\Code\\Model_staff\\myenv\\Lib\\site-packages\\statsmodels\\tsa\\statespace\\sarimax.py:978: UserWarning: Non-invertible starting MA parameters found. Using zeros as starting parameters.\n",
      "  warn('Non-invertible starting MA parameters found.'\n",
      "c:\\Users\\admin\\Desktop\\diplomovka\\Code\\Model_staff\\myenv\\Lib\\site-packages\\statsmodels\\base\\model.py:607: ConvergenceWarning: Maximum Likelihood optimization failed to converge. Check mle_retvals\n",
      "  warnings.warn(\"Maximum Likelihood optimization failed to \"\n"
     ]
    },
    {
     "name": "stdout",
     "output_type": "stream",
     "text": [
      "Loaded best parameters for Italy - Exports of goods and services (% of GDP) from best_params\\Exports of goods and services (% of GDP)\\Holt_Winters_Italy.json: {'trend': 'add', 'damped_trend': False, 'smoothing_level': 0.6, 'smoothing_slope': 0.3, 'initialization_method': None}\n"
     ]
    },
    {
     "name": "stderr",
     "output_type": "stream",
     "text": [
      "c:\\Users\\admin\\Desktop\\diplomovka\\Code\\Model_staff\\myenv\\Lib\\site-packages\\statsmodels\\tsa\\base\\tsa_model.py:473: ValueWarning: No frequency information was provided, so inferred frequency YS-JAN will be used.\n",
      "  self._init_dates(dates, freq)\n",
      "C:\\Users\\admin\\AppData\\Local\\Temp\\ipykernel_2388\\506649542.py:376: FutureWarning: the 'smoothing_slope' keyword is deprecated, use 'smoothing_trend' instead.\n",
      "  best_fitted_model = best_model.fit(\n"
     ]
    },
    {
     "name": "stdout",
     "output_type": "stream",
     "text": [
      "Best Parameters used for Italy - Exports of goods and services (% of GDP): {'trend': 'add', 'damped_trend': False, 'smoothing_level': 0.6, 'smoothing_slope': 0.3, 'initialization_method': None}\n",
      "Loading parameters from best_params\\Exports of goods and services (% of GDP)\\LSTM_Italy.json...\n"
     ]
    },
    {
     "name": "stderr",
     "output_type": "stream",
     "text": [
      "c:\\Users\\admin\\Desktop\\diplomovka\\Code\\Model_staff\\myenv\\Lib\\site-packages\\keras\\src\\layers\\rnn\\rnn.py:200: UserWarning: Do not pass an `input_shape`/`input_dim` argument to a layer. When using Sequential models, prefer using an `Input(shape)` object as the first layer in the model instead.\n",
      "  super().__init__(**kwargs)\n",
      "c:\\Users\\admin\\Desktop\\diplomovka\\Code\\Model_staff\\myenv\\Lib\\site-packages\\keras\\src\\callbacks\\early_stopping.py:153: UserWarning: Early stopping conditioned on metric `val_loss` which is not available. Available metrics are: loss\n",
      "  current = self.get_monitor_value(logs)\n",
      "22:26:16 - cmdstanpy - INFO - Chain [1] start processing\n"
     ]
    },
    {
     "name": "stdout",
     "output_type": "stream",
     "text": [
      "Loading parameters from best_params\\Exports of goods and services (% of GDP)\\Prophet_Italy.json...\n"
     ]
    },
    {
     "name": "stderr",
     "output_type": "stream",
     "text": [
      "22:26:17 - cmdstanpy - INFO - Chain [1] done processing\n",
      "c:\\Users\\admin\\Desktop\\diplomovka\\Code\\Model_staff\\myenv\\Lib\\site-packages\\prophet\\forecaster.py:1854: FutureWarning: 'Y' is deprecated and will be removed in a future version, please use 'YE' instead.\n",
      "  dates = pd.date_range(\n"
     ]
    },
    {
     "name": "stdout",
     "output_type": "stream",
     "text": [
      "Log file saved to data/final\\log_files\\model_error_log_2025-02-17--22-26.csv\n",
      "Country rankings saved to data/final\\country_rankings\\model_rankings_by_country_2025-02-17--22-26.csv\n",
      "Indicator rankings saved to data/final\\indicator_rankings\\model_rankings_by_indicator_2025-02-17--22-26.csv\n",
      "Overall rankings saved to data/final\\overall_rankings\\model_rankings_overall_2025-02-17--22-26.csv\n"
     ]
    }
   ],
   "source": [
    "import os\n",
    "import json\n",
    "import pandas as pd\n",
    "import numpy as np\n",
    "import xgboost as xgb\n",
    "from statsmodels.tsa.arima.model import ARIMA\n",
    "from prophet import Prophet\n",
    "from sklearn.metrics import mean_squared_error\n",
    "from sklearn.model_selection import GridSearchCV\n",
    "from sklearn.feature_selection import RFE\n",
    "from statsmodels.tsa.holtwinters import ExponentialSmoothing\n",
    "from tensorflow.keras.models import Sequential\n",
    "from tensorflow.keras.layers import LSTM, Dense , Dropout\n",
    "from sklearn.preprocessing import MinMaxScaler\n",
    "from keras.optimizers import Adam\n",
    "from keras.callbacks import EarlyStopping\n",
    "import matplotlib.pyplot as plt\n",
    "from sklearn.model_selection import ParameterGrid\n",
    "\n",
    "\n",
    "def save_plot(train, test_y, predictions, country, indicator, model_name):\n",
    "    \"\"\"Function to save the plot in both Indicators and Countries folders.\"\"\"\n",
    "\n",
    "    model_colors = {\n",
    "    \"ARIMA\": \"blue\",\n",
    "    \"Holt_Winters\": \"yellow\",\n",
    "    \"LSTM\": \"black\",\n",
    "    \"XGBoost\": \"pink\",\n",
    "    \"Prophet\": \"brown\"\n",
    "}\n",
    "\n",
    "    # Plotting predicted vs actual\n",
    "    plt.figure(figsize=(10, 6))\n",
    "    if model_name == \"Prophet\":\n",
    "        plt.plot(train['ds'], train['y'], label='Train Data', color='green', linestyle='--')\n",
    "        plt.plot(test_y['ds'], test_y['y'], label='Actual', color='red', linestyle='--')\n",
    "        plt.plot(test_y['ds'], predictions, label=f'Predicted({model_name})', color=f'{model_colors[\"Prophet\"]}', \n",
    "                 linestyle='-', marker='o')\n",
    "    else:\n",
    "        plt.plot(train.index, train, label='Train Data', color='green', linestyle='--')\n",
    "        plt.plot(test_y.index, test_y, label='Actual', color='red', linestyle='--')\n",
    "        plt.plot(test_y.index, predictions, label=f'Predicted({model_name})', color=f'{model_colors[model_name]}', \n",
    "                 linestyle='-', marker='o')\n",
    "    \n",
    "\n",
    "    \n",
    "    plt.title(f'Predicted({model_name}) vs Actual for {country} - {indicator}')\n",
    "    plt.xlabel('Year')\n",
    "    plt.ylabel('Value')\n",
    "    plt.legend()\n",
    "\n",
    "    # Create subfolder for the indicator if it doesn't exist\n",
    "    indicator_folder = os.path.join('images', 'model_plot', 'Indicators', indicator)\n",
    "    os.makedirs(indicator_folder, exist_ok=True)\n",
    "    \n",
    "    # Save the plot in the Indicators folder with dynamic model name\n",
    "    plot_filename_indicator = os.path.join(indicator_folder, f'{model_name}_{country.replace(\" \", \"_\")}_{indicator.replace(\" \", \"_\")}.png')\n",
    "    plt.savefig(plot_filename_indicator)\n",
    "\n",
    "    # Create subfolder for the country if it doesn't exist\n",
    "    country_folder = os.path.join('images', 'model_plot', 'Countries', country)\n",
    "    os.makedirs(country_folder, exist_ok=True)\n",
    "    \n",
    "    # Save the same plot in the Countries folder with dynamic model name\n",
    "    plot_filename_country = os.path.join(country_folder, f'{model_name}_{country.replace(\" \", \"_\")}_{indicator.replace(\" \", \"_\")}.png')\n",
    "    plt.savefig(plot_filename_country)\n",
    "\n",
    "    plt.close()\n",
    "\n",
    "def train_xgboost(train_x, train_y, test_x, test_y, country, indicator):\n",
    "    params_dir = os.path.join(\"best_params\", indicator)\n",
    "    params_file = os.path.join(params_dir, f\"XGBoost_{country}.json\")\n",
    "    best_params = None\n",
    "\n",
    "    # Check if the parameter file exists\n",
    "    if os.path.exists(params_file):\n",
    "        print(f\"Loading parameters from {params_file}...\")\n",
    "        with open(params_file, \"r\") as f:\n",
    "            best_params = json.load(f)\n",
    "    else:\n",
    "        print(\"No saved parameters found, performing grid search...\")\n",
    "\n",
    "        # Define the parameter grid for GridSearchCV\n",
    "        param_grid = {\n",
    "            'n_estimators': [50, 100, 600, 700, 800, 900, 1000],\n",
    "            'learning_rate': [0.01, 0.05],\n",
    "            'max_depth': [3, 4, 5, 6]\n",
    "        }\n",
    "\n",
    "        # Initialize the XGBoost regressor\n",
    "        model = xgb.XGBRegressor(objective='reg:squarederror')\n",
    "\n",
    "        # Perform GridSearchCV to find the best hyperparameters\n",
    "        grid_search = GridSearchCV(model, param_grid, cv=3, scoring='neg_mean_squared_error', n_jobs=-1, verbose=0)\n",
    "        grid_search.fit(train_x, train_y)\n",
    "\n",
    "        # Get the best parameters and save them to JSON\n",
    "        best_params = grid_search.best_params_\n",
    "        os.makedirs(params_dir, exist_ok=True)\n",
    "        with open(params_file, \"w\") as f:\n",
    "            json.dump(best_params, f, indent=4)\n",
    "\n",
    "    # Train the best model using the loaded or selected parameters\n",
    "    best_model = xgb.XGBRegressor(\n",
    "        n_estimators=best_params['n_estimators'],\n",
    "        learning_rate=best_params['learning_rate'],\n",
    "        max_depth=best_params['max_depth'],\n",
    "        objective='reg:squarederror'\n",
    "    )\n",
    "\n",
    "    # Perform Recursive Feature Elimination (RFE)\n",
    "    top_n_features = 4\n",
    "    selector = RFE(estimator=best_model, n_features_to_select=top_n_features)\n",
    "    selector = selector.fit(train_x, train_y)\n",
    "\n",
    "    # Get selected feature names\n",
    "    selected_features = train_x.columns[selector.support_]\n",
    "\n",
    "    # Save selected features to JSON\n",
    "    features_file = os.path.join(params_dir, f\"SelectedFeatures_{country}.json\")\n",
    "    with open(features_file, \"w\") as f:\n",
    "        json.dump(selected_features.tolist(), f, indent=4)\n",
    "\n",
    "    # Transform data based on selected features\n",
    "    selected_train_x = selector.transform(train_x)\n",
    "    selected_test_x = selector.transform(test_x)\n",
    "\n",
    "    # Train the model again with the selected features\n",
    "    best_model.fit(selected_train_x, train_y)\n",
    "\n",
    "    # Make predictions on the test set using the selected features\n",
    "    predictions = best_model.predict(selected_test_x)\n",
    "\n",
    "    # Save the plot\n",
    "    save_plot(train_y, test_y, predictions, country, indicator, model_name=\"XGBoost\")\n",
    "\n",
    "    # Calculate the RMSE on the test set\n",
    "    return np.sqrt(mean_squared_error(test_y, predictions)), predictions\n",
    "\n",
    "\n",
    "def train_arima(train_y, test_y, country, indicator):\n",
    "    # Ensure the time index is correctly set\n",
    "    train_y.index = pd.date_range(start=train_y.index[0], periods=len(train_y), freq='YE')  # Assuming yearly data\n",
    "    test_y.index = pd.date_range(start=test_y.index[0], periods=len(test_y), freq='YE')\n",
    "\n",
    "    # Define paths for saving/loading best parameters\n",
    "    params_dir = os.path.join(\"best_params\", indicator)\n",
    "    params_file = os.path.join(params_dir, f\"ARIMA_{country}.json\")\n",
    "    best_params = None\n",
    "\n",
    "    # Check if the best parameters JSON file exists\n",
    "    if os.path.exists(params_file):\n",
    "        with open(params_file, \"r\") as f:\n",
    "            best_params = json.load(f)\n",
    "        print(f\"Loaded best parameters for {country} - {indicator} from {params_file}: {best_params}\")\n",
    "    else:\n",
    "        # Run the grid search if no parameters file exists\n",
    "        print(f\"No pre-existing parameters for {country} - {indicator}. Running grid search.\")\n",
    "        best_rmse = float('inf')\n",
    "        best_order = None\n",
    "        best_predictions = None\n",
    "\n",
    "        # Perform grid search over ARIMA orders (p, d, q)\n",
    "        for p in range(15):\n",
    "            for d in range(6):\n",
    "                for q in range(10):\n",
    "                    try:\n",
    "                        # Fit the ARIMA model\n",
    "                        model = ARIMA(train_y, order=(p, d, q))\n",
    "                        model_fit = model.fit()\n",
    "\n",
    "                        # Forecast and calculate RMSE\n",
    "                        predictions = model_fit.forecast(steps=len(test_y))\n",
    "                        rmse = np.sqrt(mean_squared_error(test_y, predictions))\n",
    "\n",
    "                        # Track the best parameters\n",
    "                        if rmse < best_rmse:\n",
    "                            best_rmse = rmse\n",
    "                            best_order = (p, d, q)\n",
    "                            best_predictions = predictions\n",
    "                    except Exception as e:\n",
    "                        print(f\"Error with parameters: p={p}, d={d}, q={q}. Error: {e}\")\n",
    "                        continue\n",
    "\n",
    "        # Save the best parameters to JSON for future use\n",
    "        if best_order is not None:\n",
    "            best_params = {\n",
    "                \"p\": best_order[0],\n",
    "                \"d\": best_order[1],\n",
    "                \"q\": best_order[2]\n",
    "            }\n",
    "            os.makedirs(params_dir, exist_ok=True)\n",
    "            with open(params_file, \"w\") as f:\n",
    "                json.dump(best_params, f, indent=4)\n",
    "            print(f\"Saved best parameters for {country} - {indicator} to {params_file}: {best_params}\")\n",
    "\n",
    "    # Train the final model using the best parameters (loaded or discovered)\n",
    "    if best_params is not None:\n",
    "        best_order = (best_params[\"p\"], best_params[\"d\"], best_params[\"q\"])\n",
    "        model = ARIMA(train_y, order=best_order)\n",
    "        model_fit = model.fit()\n",
    "\n",
    "        # Forecast using the final model\n",
    "        best_predictions = model_fit.forecast(steps=len(test_y))\n",
    "\n",
    "    # Save the predictions plot\n",
    "    if best_predictions is not None:\n",
    "        save_plot(train_y, test_y, best_predictions, country, indicator, model_name=\"ARIMA\")\n",
    "\n",
    "    return np.sqrt(mean_squared_error(test_y, best_predictions)), best_predictions\n",
    "\n",
    "\n",
    "def train_prophet(train_df, test_y, country, indicator):\n",
    "    params_dir = os.path.join(\"best_params\", indicator)\n",
    "    params_file = os.path.join(params_dir, f\"Prophet_{country}.json\")\n",
    "    best_params = None\n",
    "\n",
    "    # Check if the parameter file exists\n",
    "    if os.path.exists(params_file):\n",
    "        print(f\"Loading parameters from {params_file}...\")\n",
    "        with open(params_file, \"r\") as f:\n",
    "            best_params = json.load(f)\n",
    "    else:\n",
    "        print(\"No saved parameters found, performing grid search...\")\n",
    "        param_grid = {\n",
    "            'changepoint_prior_scale': [0.01, 0.05, 0.1, 0.2, 0.5],\n",
    "            'seasonality_mode': ['additive', 'multiplicative'],\n",
    "            'changepoint_range': [0.8, 0.9, 1],  # Range of the history for changepoint detection\n",
    "            'n_changepoints': [15, 20, 25, 30],  # Number of changepoints\n",
    "            'yearly_seasonality': [True, False]  # Adding the toggle for yearly seasonality\n",
    "        }\n",
    "\n",
    "        best_rmse = float('inf')\n",
    "\n",
    "        for changepoint_prior in param_grid['changepoint_prior_scale']:\n",
    "            for seasonality_mode in param_grid['seasonality_mode']:\n",
    "                for changepoint_range in param_grid['changepoint_range']:\n",
    "                    for n_changepoints in param_grid['n_changepoints']:\n",
    "                        for yearly_seasonality in param_grid['yearly_seasonality']:\n",
    "                            try:\n",
    "                                model = Prophet(\n",
    "                                    yearly_seasonality=yearly_seasonality,\n",
    "                                    weekly_seasonality=False,\n",
    "                                    daily_seasonality=False,\n",
    "                                    changepoint_prior_scale=changepoint_prior,\n",
    "                                    seasonality_mode=seasonality_mode,\n",
    "                                    changepoint_range=changepoint_range,\n",
    "                                    n_changepoints=n_changepoints\n",
    "                                )\n",
    "                                model.fit(train_df)\n",
    "\n",
    "                                future = model.make_future_dataframe(periods=len(test_y['y']), freq='Y')\n",
    "                                forecast = model.predict(future)\n",
    "                                predictions = forecast['yhat'].iloc[-len(test_y['y']):].values\n",
    "                                rmse = np.sqrt(mean_squared_error(test_y['y'], predictions))\n",
    "\n",
    "                                if rmse < best_rmse:\n",
    "                                    best_rmse = rmse\n",
    "                                    best_params = {\n",
    "                                        'changepoint_prior_scale': changepoint_prior,\n",
    "                                        'seasonality_mode': seasonality_mode,\n",
    "                                        'changepoint_range': changepoint_range,\n",
    "                                        'n_changepoints': n_changepoints,\n",
    "                                        'yearly_seasonality': yearly_seasonality\n",
    "                                    }\n",
    "                            except Exception as e:\n",
    "                                print(f\"Error with parameters: changepoint_prior={changepoint_prior}, \"\n",
    "                                      f\"seasonality_mode={seasonality_mode}, changepoint_range={changepoint_range}, \"\n",
    "                                      f\"n_changepoints={n_changepoints}, yearly_seasonality={yearly_seasonality}. Error: {e}\")\n",
    "                                continue\n",
    "\n",
    "        # Save the best parameters to JSON if found\n",
    "        if best_params:\n",
    "            os.makedirs(params_dir, exist_ok=True)\n",
    "            with open(params_file, \"w\") as f:\n",
    "                json.dump(best_params, f, indent=4)\n",
    "\n",
    "    # Train the best model using loaded or selected parameters\n",
    "    if best_params:\n",
    "        best_model = Prophet(\n",
    "            yearly_seasonality=best_params['yearly_seasonality'],\n",
    "            weekly_seasonality=False,\n",
    "            daily_seasonality=False,\n",
    "            changepoint_prior_scale=best_params['changepoint_prior_scale'],\n",
    "            seasonality_mode=best_params['seasonality_mode'],\n",
    "            changepoint_range=best_params['changepoint_range'],\n",
    "            n_changepoints=best_params['n_changepoints']\n",
    "        )\n",
    "        best_model.fit(train_df)\n",
    "        future = best_model.make_future_dataframe(periods=len(test_y['y']), freq='Y')\n",
    "        forecast = best_model.predict(future)\n",
    "        predictions = forecast['yhat'].iloc[-len(test_y['y']):].values\n",
    "\n",
    "        # Call the save_plot function to save the plot\n",
    "        save_plot(train_df, test_y, predictions, country, indicator, model_name=\"Prophet\")\n",
    "\n",
    "        return np.sqrt(mean_squared_error(test_y['y'], predictions)), predictions\n",
    "    else:\n",
    "        print(\"No suitable parameters found.\")\n",
    "        return None, None\n",
    "\n",
    "def train_holt_winters(train, test_y, country, indicator):\n",
    "    params_dir = os.path.join(\"best_params\", indicator)\n",
    "    params_file = os.path.join(params_dir, f\"Holt_Winters_{country}.json\")\n",
    "    best_params = None\n",
    "\n",
    "    # Check if the best parameters JSON file exists\n",
    "    if os.path.exists(params_file):\n",
    "        with open(params_file, \"r\") as f:\n",
    "            best_params = json.load(f)\n",
    "        print(f\"Loaded best parameters for {country} - {indicator} from {params_file}: {best_params}\")\n",
    "    else:\n",
    "        # If not, run the grid search\n",
    "        print(f\"No pre-existing parameters for {country} - {indicator}. Running grid search.\")\n",
    "        param_grid = {\n",
    "            'trend': [None, 'add', 'mul'],  # Focus on trend options\n",
    "            'damped': [True, False],       # Damped trend\n",
    "            'smoothing_level': [None, 0.1,0.2, 0.3,0.4, 0.5,0.6, 0.7,0.8, 0.9],  # Smoothing for level\n",
    "            'smoothing_slope': [None, 0.1,0.2, 0.3,0.4, 0.5,0.6, 0.7,0.8, 0.9],  # Smoothing for trend\n",
    "            'initialization_method': [None],\n",
    "        }\n",
    "\n",
    "        best_rmse = float('inf')\n",
    "        for trend in param_grid['trend']:\n",
    "            for damped in param_grid['damped']:\n",
    "                for alpha in param_grid['smoothing_level']:\n",
    "                    for beta in param_grid['smoothing_slope']:\n",
    "                        for init_level in param_grid['initialization_method']:\n",
    "                            try:\n",
    "                                # Initialize model\n",
    "                                model = ExponentialSmoothing(\n",
    "                                    train,\n",
    "                                    trend=trend,\n",
    "                                    damped_trend=damped,\n",
    "                                    seasonal=None\n",
    "                                )\n",
    "                                # Fit model with specific smoothing parameters\n",
    "                                fitted_model = model.fit(\n",
    "                                    smoothing_level=alpha,\n",
    "                                    smoothing_slope=beta,\n",
    "                                    initial_level=init_level,\n",
    "                                    optimized=True\n",
    "                                )\n",
    "                                # Forecast and calculate RMSE\n",
    "                                predictions = fitted_model.forecast(len(test_y))\n",
    "                                rmse = np.sqrt(mean_squared_error(test_y, predictions))\n",
    "\n",
    "                                # Track the best parameters\n",
    "                                if rmse < best_rmse:\n",
    "                                    best_rmse = rmse\n",
    "                                    best_params = {\n",
    "                                        \"trend\": trend,\n",
    "                                        \"damped_trend\": damped,\n",
    "                                        \"smoothing_level\": alpha,\n",
    "                                        \"smoothing_slope\": beta,\n",
    "                                        \"initialization_method\": init_level\n",
    "                                    }\n",
    "                            except Exception as e:\n",
    "                                # Log errors for debugging\n",
    "                                #print(f\"Error with parameters: trend={trend}, damped={damped}, \"\n",
    "                                #      f\"alpha={alpha}, beta={beta}. Error: {e}\")\n",
    "                                continue\n",
    "\n",
    "        # Save the best parameters to JSON for future use\n",
    "        os.makedirs(params_dir, exist_ok=True)\n",
    "        with open(params_file, \"w\") as f:\n",
    "            json.dump(best_params, f, indent=4)\n",
    "        print(f\"Saved best parameters for {country} - {indicator} to {params_file}: {best_params}\")\n",
    "\n",
    "    # Train the final model using the best parameters (loaded or discovered)\n",
    "    best_model = ExponentialSmoothing(\n",
    "        train,\n",
    "        trend=best_params[\"trend\"],\n",
    "        damped_trend=best_params[\"damped_trend\"]\n",
    "    )\n",
    "    best_fitted_model = best_model.fit(\n",
    "        smoothing_level=best_params[\"smoothing_level\"],\n",
    "        smoothing_slope=best_params[\"smoothing_slope\"],\n",
    "        optimized=True\n",
    "    )\n",
    "    predictions = best_fitted_model.forecast(len(test_y))\n",
    "\n",
    "    # Call the save_plot function to save the plot\n",
    "    save_plot(train, test_y, predictions, country, indicator, model_name=\"Holt_Winters\")\n",
    "\n",
    "    print(f\"Best Parameters used for {country} - {indicator}: {best_params}\")\n",
    "    return np.sqrt(mean_squared_error(test_y, predictions)), predictions\n",
    "\n",
    "\n",
    "\n",
    "def create_sequences(data, seq_length):\n",
    "    sequences = []\n",
    "    labels = []\n",
    "    for i in range(len(data) - seq_length):\n",
    "        sequences.append(data[i:i + seq_length])\n",
    "        labels.append(data[i + seq_length])\n",
    "    return np.array(sequences), np.array(labels)\n",
    "\n",
    "\n",
    "def train_lstm(train, test_y, country, indicator, epochs=50, batch_size=16):\n",
    "    # Define directories for saving/loading parameters\n",
    "    params_dir = os.path.join(\"best_params\", indicator)\n",
    "    params_file = os.path.join(params_dir, f\"LSTM_{country}.json\")\n",
    "    best_params = None\n",
    "\n",
    "    # Check if the parameter file exists\n",
    "    if os.path.exists(params_file):\n",
    "        print(f\"Loading parameters from {params_file}...\")\n",
    "        with open(params_file, \"r\") as f:\n",
    "            best_params = json.load(f)\n",
    "    else:\n",
    "        print(\"No saved parameters found, performing grid search...\")\n",
    "\n",
    "        # Define the hyperparameters grid\n",
    "        param_grid = {\n",
    "            'lstm_units': [50, 100],\n",
    "            'activation': ['relu'],\n",
    "            'dropout_rate': [0.3, 0.5],\n",
    "            'optimizer': ['adam'],\n",
    "            'learning_rate': [0.001, 0.01],\n",
    "            'sequence_length': [5, 10],\n",
    "            'batch_size': [16, 32]\n",
    "        }\n",
    "\n",
    "        # Dictionary to map optimizer names to optimizer classes\n",
    "        optimizer_dict = {\n",
    "            'adam': Adam,\n",
    "        }\n",
    "\n",
    "        best_rmse = float('inf')\n",
    "        best_predictions = None\n",
    "\n",
    "        # Iterate through all possible hyperparameter combinations\n",
    "        grid = ParameterGrid(param_grid)\n",
    "        for params in grid:\n",
    "\n",
    "            # Create sequences with the current sequence length\n",
    "            seq_length = params['sequence_length']\n",
    "            scaler = MinMaxScaler()\n",
    "            train_scaled = scaler.fit_transform(train.values.reshape(-1, 1))\n",
    "            test_scaled = scaler.transform(test_y.values.reshape(-1, 1))\n",
    "\n",
    "            X_train, y_train = create_sequences(train_scaled, seq_length)\n",
    "\n",
    "            # Define LSTM model with current parameters\n",
    "            model = Sequential([\n",
    "                LSTM(params['lstm_units'], activation=params['activation'], return_sequences=True, input_shape=(seq_length, 1)),\n",
    "                Dropout(params['dropout_rate']),\n",
    "                LSTM(params['lstm_units'], activation=params['activation']),\n",
    "                Dropout(params['dropout_rate']),\n",
    "                Dense(1)\n",
    "            ])\n",
    "\n",
    "            # Compile model with current optimizer and learning rate\n",
    "            model.compile(optimizer=optimizer_dict[params['optimizer']](learning_rate=params['learning_rate']), loss='mse')\n",
    "            early_stop = EarlyStopping(monitor='val_loss', patience=10, restore_best_weights=True)\n",
    "\n",
    "            model.fit(X_train, y_train, epochs=epochs, batch_size=params['batch_size'], verbose=0, callbacks=[early_stop])\n",
    "\n",
    "            # Rolling prediction on test set\n",
    "            predictions = []\n",
    "            input_seq = train_scaled[-seq_length:].tolist()  # Start with last known sequence\n",
    "\n",
    "            for _ in range(len(test_y)):\n",
    "                X_input = np.array(input_seq[-seq_length:]).reshape(1, seq_length, 1)\n",
    "                y_pred = model.predict(X_input, verbose=0).flatten()[0]\n",
    "                predictions.append(y_pred)\n",
    "                input_seq.append([y_pred])\n",
    "\n",
    "            # Convert predictions back to original scale\n",
    "            predictions = scaler.inverse_transform(np.array(predictions).reshape(-1, 1)).flatten()\n",
    "\n",
    "            # Calculate RMSE\n",
    "            rmse = np.sqrt(mean_squared_error(test_y, predictions))\n",
    "\n",
    "            # Track the best model and parameters\n",
    "            if rmse < best_rmse:\n",
    "                best_rmse = rmse\n",
    "                best_params = params\n",
    "                best_predictions = predictions\n",
    "\n",
    "        # Save the best parameters to JSON\n",
    "        os.makedirs(params_dir, exist_ok=True)\n",
    "        with open(params_file, \"w\") as f:\n",
    "            json.dump(best_params, f, indent=4)\n",
    "\n",
    "    # Prepare data with the best sequence length\n",
    "\n",
    "    optimizer_dict = {\n",
    "            'adam': Adam,\n",
    "        }\n",
    "    seq_length = best_params['sequence_length']\n",
    "    scaler = MinMaxScaler()\n",
    "    train_scaled = scaler.fit_transform(train.values.reshape(-1, 1))\n",
    "    test_scaled = scaler.transform(test_y.values.reshape(-1, 1))\n",
    "\n",
    "    X_train, y_train = create_sequences(train_scaled, seq_length)\n",
    "\n",
    "    # Define and compile the final model\n",
    "    model = Sequential([\n",
    "        LSTM(best_params['lstm_units'], activation=best_params['activation'], return_sequences=True, input_shape=(seq_length, 1)),\n",
    "        Dropout(best_params['dropout_rate']),\n",
    "        LSTM(best_params['lstm_units'], activation=best_params['activation']),\n",
    "        Dropout(best_params['dropout_rate']),\n",
    "        Dense(1)\n",
    "    ])\n",
    "    model.compile(optimizer=optimizer_dict[best_params['optimizer']](learning_rate=best_params['learning_rate']), loss='mse')\n",
    "    early_stop = EarlyStopping(monitor='val_loss', patience=10, restore_best_weights=True)\n",
    "\n",
    "    model.fit(X_train, y_train, epochs=epochs, batch_size=best_params['batch_size'], verbose=0, callbacks=[early_stop])\n",
    "\n",
    "    # Rolling prediction on the test set\n",
    "    predictions = []\n",
    "    input_seq = train_scaled[-seq_length:].tolist()\n",
    "\n",
    "    for _ in range(len(test_y)):\n",
    "        X_input = np.array(input_seq[-seq_length:]).reshape(1, seq_length, 1)\n",
    "        y_pred = model.predict(X_input, verbose=0).flatten()[0]\n",
    "        predictions.append(y_pred)\n",
    "        input_seq.append([y_pred])\n",
    "\n",
    "    predictions = scaler.inverse_transform(np.array(predictions).reshape(-1, 1)).flatten()\n",
    "\n",
    "    # Save the plot\n",
    "    save_plot(train, test_y, predictions, country, indicator, model_name=\"LSTM\")\n",
    "\n",
    "    # Return RMSE and predictions\n",
    "    return np.sqrt(mean_squared_error(test_y, predictions)), predictions\n",
    "\n",
    "\n",
    "with open(\"countries.json\", \"r\") as f:\n",
    "    country_names = json.load(f)\n",
    "\n",
    "with open(\"indicators.json\", \"r\") as f:\n",
    "    indicators = json.load(f)\n",
    "\n",
    "data_folder = \"data/base\"\n",
    "model_errors_rmse = {}\n",
    "log_data = []\n",
    "country_indicators_plots = {}\n",
    "for country, country_code in country_names.items():\n",
    "    for indicator, indicator_code in indicators.items():\n",
    "        filename = f\"{country.replace(' ', '_')}_{indicator.replace(' ', '_')}.parquet\"\n",
    "        filepath = os.path.join(data_folder, filename)\n",
    "        \n",
    "        if os.path.exists(filepath):\n",
    "            df = pd.read_parquet(filepath)\n",
    "            if 'Year' in df.columns and 'Value' in df.columns:\n",
    "                df = df.set_index('Year').sort_index()\n",
    "                df.index = pd.to_datetime(df.index, format='%Y')\n",
    "                df = df.dropna()\n",
    "                df = df.drop('Indicator', axis = 1)\n",
    "                df_original = df.copy()\n",
    "                \n",
    "                for lag in range(1, 4):  \n",
    "                    df[f'lag_{lag}'] = df['Value'].shift(lag)\n",
    "                \n",
    "                df['expanding_mean'] = df['Value'].expanding().mean()\n",
    "                df['expanding_std'] = df['Value'].expanding().std()\n",
    "                df['expanding_max'] = df['Value'].expanding().max()\n",
    "                df['expanding_min'] = df['Value'].expanding().min()\n",
    "                \n",
    "                window_size = 3  \n",
    "                df['rolling_mean_3'] = df['Value'].rolling(window=window_size, min_periods=1).mean()\n",
    "                df['rolling_std_3'] = df['Value'].rolling(window=window_size, min_periods=1).std()\n",
    "                df['rolling_max_3'] = df['Value'].rolling(window=window_size, min_periods=1).max()\n",
    "                df['rolling_min_3'] = df['Value'].rolling(window=window_size, min_periods=1).min()\n",
    "\n",
    "                window_size = 5  \n",
    "                df['rolling_mean_5'] = df['Value'].rolling(window=window_size, min_periods=1).mean()\n",
    "                df['rolling_std_5'] = df['Value'].rolling(window=window_size, min_periods=1).std()\n",
    "                df['rolling_max_5'] = df['Value'].rolling(window=window_size, min_periods=1).max()\n",
    "                df['rolling_min_5'] = df['Value'].rolling(window=window_size, min_periods=1).min()\n",
    "\n",
    "                window_size = 4  \n",
    "                df['rolling_mean_4'] = df['Value'].rolling(window=window_size, min_periods=1).mean()\n",
    "                df['rolling_std_4'] = df['Value'].rolling(window=window_size, min_periods=1).std()\n",
    "                df['rolling_max_4'] = df['Value'].rolling(window=window_size, min_periods=1).max()\n",
    "                df['rolling_min_4'] = df['Value'].rolling(window=window_size, min_periods=1).min()\n",
    "\n",
    "                window_size = 2  \n",
    "                df['rolling_mean_2'] = df['Value'].rolling(window=window_size, min_periods=1).mean()\n",
    "                df['rolling_std_2'] = df['Value'].rolling(window=window_size, min_periods=1).std()\n",
    "                df['rolling_max_2'] = df['Value'].rolling(window=window_size, min_periods=1).max()\n",
    "                df['rolling_min_2'] = df['Value'].rolling(window=window_size, min_periods=1).min()\n",
    "                \n",
    "                \n",
    "                #df = df.dropna()\n",
    "                train_size = int(len(df) * 0.8)\n",
    "                \n",
    "                train_xgb, test_xgb = df.iloc[:train_size], df.iloc[train_size:]\n",
    "                feature_columns = ['rolling_mean_2', 'rolling_std_2', 'rolling_max_2', 'rolling_min_2', \n",
    "                                   'rolling_mean_3', 'rolling_std_3', 'rolling_max_3', 'rolling_min_3',\n",
    "                                   'rolling_mean_4', 'rolling_std_4', 'rolling_max_4', 'rolling_min_4',\n",
    "                                   'rolling_mean_5', 'rolling_std_5', 'rolling_max_5', 'rolling_min_5', \n",
    "                                   'expanding_mean', 'expanding_std', 'expanding_max', 'expanding_min',\n",
    "                                   'lag_1', 'lag_2', 'lag_3',]\n",
    "                train_x, train_y = train_xgb[feature_columns], train_xgb['Value']\n",
    "                test_x, test_y = test_xgb[feature_columns], test_xgb['Value']\n",
    "                \n",
    "                model_errors_rmse[(country, indicator)] = {}\n",
    "                model_errors_rmse[(country, indicator)]['XGBoost'], xgb_pred = train_xgboost(train_x, train_y, test_x, test_y , country,indicator)\n",
    "                model_errors_rmse[(country, indicator)]['ARIMA'],arime_pred = train_arima(df_original.iloc[:train_size]['Value'], \n",
    "                                                                               df_original.iloc[train_size:]['Value'], \n",
    "                                                                               country,indicator)\n",
    "                model_errors_rmse[(country, indicator)]['Holt-Winters'] , es_pred = train_holt_winters(df_original.iloc[:train_size]['Value'], \n",
    "                                                                                             df_original.iloc[train_size:]['Value'],\n",
    "                                                                                             country,indicator)\n",
    "                model_errors_rmse[(country, indicator)]['LSTM'] , lstm_pred = train_lstm(df_original.iloc[:train_size]['Value'], \n",
    "                                                                             df_original.iloc[train_size:]['Value'],\n",
    "                                                                             country,indicator)\n",
    "\n",
    "\n",
    "                prophet_train_df = df_original.iloc[:train_size].reset_index().rename(columns={'Year': 'ds', 'Value': 'y'})\n",
    "                prophet_test_df = df_original.iloc[train_size:].reset_index().rename(columns={'Year': 'ds', 'Value': 'y'})\n",
    "                prophet_train_df['ds'] = pd.to_datetime(prophet_train_df['ds'])\n",
    "                prophet_test_df['ds'] = pd.to_datetime(prophet_test_df['ds'])\n",
    "                model_errors_rmse[(country, indicator)]['Prophet'] , prop_error = train_prophet(prophet_train_df, prophet_test_df,\n",
    "                                                                                   country,indicator)\n",
    "                \n",
    "                sorted_models = sorted(model_errors_rmse[(country, indicator)].items(), key=lambda x: x[1])\n",
    "                log_current_data = []\n",
    "                for rank, (model_name, rmse) in enumerate(sorted_models, start=1):\n",
    "                    log_data.append([country, indicator, model_name, rmse, rank])\n",
    "                    log_current_data.append([country, indicator, model_name, rmse, rank])\n",
    "\n",
    "                \n",
    "                model_ranks = {(entry[0], entry[1], entry[2]): entry[4] for entry in log_current_data}\n",
    "                plt.figure(figsize=(10, 6))\n",
    "                plt.plot(df_original.iloc[:train_size].index, df_original.iloc[:train_size]['Value'], \n",
    "                         label='Train Data', color='green', linestyle='--')\n",
    "                plt.plot(df_original.iloc[train_size:].index, df_original.iloc[train_size:]['Value'],\n",
    "                          label='Test Data', color='red', linestyle='--')\n",
    "                \n",
    "                plt.plot(df_original.iloc[train_size:].index, arime_pred, \n",
    "                         label=f'ARIMA ({model_ranks.get((country, indicator, \"ARIMA\"), \"N/A\")})', \n",
    "                         color='blue', linestyle='-', marker='o')\n",
    "                \n",
    "                plt.plot(df_original.iloc[train_size:].index, es_pred, \n",
    "                          label=f'Holt-Winters ({model_ranks.get((country, indicator, \"Holt-Winters\"), \"N/A\")})',\n",
    "                         color='yellow',linestyle='-', marker='o')\n",
    "                \n",
    "                plt.plot(df_original.iloc[train_size:].index, lstm_pred, \n",
    "                         label=f'LSTM ({model_ranks.get((country, indicator, \"LSTM\"), \"N/A\")})', \n",
    "                         color='black', linestyle='-', marker='o')\n",
    "                \n",
    "                plt.plot(df_original.iloc[train_size:].index, xgb_pred, \n",
    "                         label=f'XGBoost ({model_ranks.get((country, indicator, \"XGBoost\"), \"N/A\")})', \n",
    "                         color='pink', linestyle='-', marker='o')\n",
    "                \n",
    "                plt.plot(df_original.iloc[train_size:].index, prop_error, \n",
    "                         label=f'Prophet ({model_ranks.get((country, indicator, \"Prophet\"), \"N/A\")})', \n",
    "                         color='brown', linestyle='-', marker='o')\n",
    "                \n",
    "                \n",
    "                plt.title(f'Predicted vs Actual for {country} - {indicator}')\n",
    "                plt.xlabel('Year')\n",
    "                plt.ylabel('Value')\n",
    "                plt.legend()\n",
    "\n",
    "                # Create subfolder for the indicator if it doesn't exist\n",
    "                indicator_folder = os.path.join('images', 'model_plot', 'Indicators', indicator)\n",
    "                os.makedirs(indicator_folder, exist_ok=True)\n",
    "                \n",
    "                # Save the plot in the Indicators folder with dynamic model name\n",
    "                plot_filename_indicator = os.path.join(indicator_folder, f'AllModels_{country.replace(\" \", \"_\")}_{indicator.replace(\" \", \"_\")}.png')\n",
    "                plt.savefig(plot_filename_indicator)\n",
    "\n",
    "                # Create subfolder for the country if it doesn't exist\n",
    "                country_folder = os.path.join('images', 'model_plot', 'Countries', country)\n",
    "                os.makedirs(country_folder, exist_ok=True)\n",
    "                \n",
    "                # Save the same plot in the Countries folder with dynamic model name\n",
    "                plot_filename_country = os.path.join(country_folder, f'AllModels_{country.replace(\" \", \"_\")}_{indicator.replace(\" \", \"_\")}.png')\n",
    "                plt.savefig(plot_filename_country)\n",
    "\n",
    "                \n",
    "                #plt.savefig(f'Predicted vs Actual for {country} - {indicator}')\n",
    "\n",
    "                if country not in country_indicators_plots:\n",
    "                    country_indicators_plots[country] = []\n",
    "                country_indicators_plots[country].append(plt.gcf())\n",
    "                plt.close()\n",
    "\n",
    "# After collecting all plots for each country, create a combined plot\n",
    "for country, plots in country_indicators_plots.items():\n",
    "    n_plots = len(plots)\n",
    "    n_cols = 2  # Set number of columns in the grid\n",
    "    n_rows = (n_plots + 1) // n_cols  # Calculate required number of rows\n",
    "    \n",
    "    plt.figure(figsize=(15, 5 * n_rows))  # Adjust figure size for grid layout\n",
    "    for i, plot in enumerate(plots, start=1):\n",
    "        plt.subplot(n_rows, n_cols, i)\n",
    "        \n",
    "        # Copy each plot's data by extracting from the original plot and plotting again\n",
    "        for ax in plot.get_axes():  # Iterate through all axes in the current plot\n",
    "            for line in ax.get_lines():  # Get lines (or other elements) from the original plot\n",
    "                plt.plot(line.get_xdata(), line.get_ydata(), label=line.get_label(), color=line.get_color(), linestyle=line.get_linestyle(), marker=line.get_marker())\n",
    "        \n",
    "        indicator_name = list(indicators.keys())[i - 1]\n",
    "        plt.title(f'{country} - {indicator_name}')\n",
    "        plt.xlabel('Year')\n",
    "        plt.ylabel('Value')\n",
    "        plt.legend()\n",
    "\n",
    "    # Save the combined plot\n",
    "    country_folder = os.path.join('images', 'model_plot', 'Countries', country)\n",
    "    os.makedirs(country_folder, exist_ok=True)\n",
    "    plot_filename_country = os.path.join(country_folder, f'{country.replace(\" \", \"_\")}_all_indicators.png')\n",
    "    plt.tight_layout()\n",
    "    plt.savefig(plot_filename_country)\n",
    "    plt.close()\n",
    "\n",
    "# Create a dictionary to store all indicator plots for later use\n",
    "indicator_plots = {indicator: [] for indicator in indicators.keys()}\n",
    "\n",
    "# After collecting all plots for each country, create a combined plot for each indicator\n",
    "for country, plots in country_indicators_plots.items():\n",
    "    for i, plot in enumerate(plots, start=1):\n",
    "        indicator_name = list(indicators.keys())[i - 1]\n",
    "        \n",
    "        # Append each plot to the corresponding indicator's list\n",
    "        indicator_plots[indicator_name].append(plot)\n",
    "\n",
    "# Now create a combined plot for all countries for each indicator\n",
    "for indicator, plots in indicator_plots.items():\n",
    "    n_plots = len(plots)\n",
    "    n_cols = 2  # Set number of columns in the grid\n",
    "    n_rows = (n_plots + 1) // n_cols  # Calculate required number of rows\n",
    "    \n",
    "    plt.figure(figsize=(15, 5 * n_rows))  # Adjust figure size for grid layout\n",
    "    for i, plot in enumerate(plots, start=1):\n",
    "        plt.subplot(n_rows, n_cols, i)\n",
    "        \n",
    "        # Copy each plot's data by extracting from the original plot and plotting again\n",
    "        for ax in plot.get_axes():  # Iterate through all axes in the current plot\n",
    "            for line in ax.get_lines():  # Get lines (or other elements) from the original plot\n",
    "                plt.plot(line.get_xdata(), line.get_ydata(), label=line.get_label(), color=line.get_color(), linestyle=line.get_linestyle(), marker=line.get_marker())\n",
    "        \n",
    "        plt.title(f'{indicator} - {list(country_names)[i-1]}')\n",
    "        plt.xlabel('Year')\n",
    "        plt.ylabel('Value')\n",
    "        plt.legend()\n",
    "\n",
    "    # Save the combined plot for the indicator across all countries\n",
    "    indicator_folder = os.path.join('images', 'model_plot', 'Indicators', indicator)\n",
    "    os.makedirs(indicator_folder, exist_ok=True)\n",
    "    plot_filename_indicator = os.path.join(indicator_folder, f'All_Countries_{indicator.replace(\" \", \"_\")}.png')\n",
    "    plt.tight_layout()\n",
    "    plt.savefig(plot_filename_indicator)\n",
    "    plt.close()\n",
    "\n",
    "from datetime import datetime\n",
    "\n",
    "log_df = pd.DataFrame(log_data, columns=['Country', 'Indicator', 'Model', 'RMSE', 'Rank'])\n",
    "\n",
    "# Generate timestamp\n",
    "timestamp = datetime.now().strftime(\"%Y-%m-%d--%H-%M\")\n",
    "\n",
    "# Define base folder\n",
    "base_folder = \"data/final\"\n",
    "\n",
    "# Ensure subfolders exist\n",
    "subfolders = {\n",
    "    \"log\": \"log_files\",\n",
    "    \"country_rankings\": \"country_rankings\",\n",
    "    \"indicator_rankings\": \"indicator_rankings\",\n",
    "    \"overall_rankings\": \"overall_rankings\"\n",
    "}\n",
    "\n",
    "for subfolder in subfolders.values():\n",
    "    os.makedirs(os.path.join(base_folder, subfolder), exist_ok=True)\n",
    "\n",
    "# Save the log DataFrame\n",
    "log_file_path = os.path.join(base_folder, subfolders[\"log\"], f\"model_error_log_{timestamp}.csv\")\n",
    "log_df.to_csv(log_file_path, index=False)\n",
    "print(f\"Log file saved to {log_file_path}\")\n",
    "\n",
    "# Create the pivot DataFrame for country rankings\n",
    "pivot_country_df = log_df.pivot_table(index=['Country', 'Model'], \n",
    "                                      columns='Rank', \n",
    "                                      aggfunc='size', \n",
    "                                      fill_value=0)\n",
    "\n",
    "# Rename columns to reflect the rank (1, 2, 3, etc.)\n",
    "pivot_country_df.columns = ['1', '2', '3', '4', '5']\n",
    "\n",
    "# Reset index for clear visibility\n",
    "pivot_country_df.reset_index(inplace=True)\n",
    "country_file_path = os.path.join(base_folder, subfolders[\"country_rankings\"], f\"model_rankings_by_country_{timestamp}.csv\")\n",
    "pivot_country_df.to_csv(country_file_path, index=False)\n",
    "print(f\"Country rankings saved to {country_file_path}\")\n",
    "\n",
    "# Create the pivot DataFrame for indicator rankings\n",
    "pivot_df = log_df.pivot_table(index=['Indicator', 'Model'], \n",
    "                              columns='Rank', \n",
    "                              aggfunc='size', \n",
    "                              fill_value=0)\n",
    "\n",
    "# Rename columns to reflect the rank (1, 2, 3, etc.)\n",
    "pivot_df.columns = ['1', '2', '3', '4', '5']\n",
    "\n",
    "# Reset index for clear visibility\n",
    "pivot_df.reset_index(inplace=True)\n",
    "indicator_file_path = os.path.join(base_folder, subfolders[\"indicator_rankings\"], f\"model_rankings_by_indicator_{timestamp}.csv\")\n",
    "pivot_df.to_csv(indicator_file_path, index=False)\n",
    "print(f\"Indicator rankings saved to {indicator_file_path}\")\n",
    "\n",
    "# Create the overall pivot DataFrame for model rankings\n",
    "overall_df = log_df.pivot_table(index=['Model'], \n",
    "                                columns='Rank', \n",
    "                                aggfunc='size', \n",
    "                                fill_value=0)\n",
    "\n",
    "# Rename columns to reflect the rank (1, 2, 3, etc.)\n",
    "overall_df.columns = ['1', '2', '3', '4', '5']\n",
    "\n",
    "# Reset index for clear visibility\n",
    "overall_df.reset_index(inplace=True)\n",
    "overall_file_path = os.path.join(base_folder, subfolders[\"overall_rankings\"], f\"model_rankings_overall_{timestamp}.csv\")\n",
    "overall_df.to_csv(overall_file_path, index=False)\n",
    "print(f\"Overall rankings saved to {overall_file_path}\")\n"
   ]
  },
  {
   "cell_type": "markdown",
   "metadata": {},
   "source": [
    "### TESTS"
   ]
  },
  {
   "cell_type": "code",
   "execution_count": null,
   "metadata": {},
   "outputs": [
    {
     "data": {
      "text/html": [
       "<div>\n",
       "<style scoped>\n",
       "    .dataframe tbody tr th:only-of-type {\n",
       "        vertical-align: middle;\n",
       "    }\n",
       "\n",
       "    .dataframe tbody tr th {\n",
       "        vertical-align: top;\n",
       "    }\n",
       "\n",
       "    .dataframe thead th {\n",
       "        text-align: right;\n",
       "    }\n",
       "</style>\n",
       "<table border=\"1\" class=\"dataframe\">\n",
       "  <thead>\n",
       "    <tr style=\"text-align: right;\">\n",
       "      <th></th>\n",
       "      <th>Country</th>\n",
       "      <th>Model</th>\n",
       "      <th>1</th>\n",
       "      <th>2</th>\n",
       "      <th>3</th>\n",
       "      <th>4</th>\n",
       "      <th>5</th>\n",
       "    </tr>\n",
       "  </thead>\n",
       "  <tbody>\n",
       "    <tr>\n",
       "      <th>0</th>\n",
       "      <td>Austria</td>\n",
       "      <td>ARIMA</td>\n",
       "      <td>3</td>\n",
       "      <td>4</td>\n",
       "      <td>0</td>\n",
       "      <td>0</td>\n",
       "      <td>0</td>\n",
       "    </tr>\n",
       "    <tr>\n",
       "      <th>1</th>\n",
       "      <td>Austria</td>\n",
       "      <td>Holt-Winters</td>\n",
       "      <td>1</td>\n",
       "      <td>2</td>\n",
       "      <td>3</td>\n",
       "      <td>1</td>\n",
       "      <td>0</td>\n",
       "    </tr>\n",
       "    <tr>\n",
       "      <th>2</th>\n",
       "      <td>Austria</td>\n",
       "      <td>LSTM</td>\n",
       "      <td>0</td>\n",
       "      <td>0</td>\n",
       "      <td>1</td>\n",
       "      <td>1</td>\n",
       "      <td>5</td>\n",
       "    </tr>\n",
       "    <tr>\n",
       "      <th>3</th>\n",
       "      <td>Austria</td>\n",
       "      <td>Prophet</td>\n",
       "      <td>0</td>\n",
       "      <td>1</td>\n",
       "      <td>3</td>\n",
       "      <td>1</td>\n",
       "      <td>2</td>\n",
       "    </tr>\n",
       "    <tr>\n",
       "      <th>4</th>\n",
       "      <td>Austria</td>\n",
       "      <td>XGBoost</td>\n",
       "      <td>3</td>\n",
       "      <td>0</td>\n",
       "      <td>0</td>\n",
       "      <td>4</td>\n",
       "      <td>0</td>\n",
       "    </tr>\n",
       "    <tr>\n",
       "      <th>5</th>\n",
       "      <td>Czech Republic</td>\n",
       "      <td>ARIMA</td>\n",
       "      <td>4</td>\n",
       "      <td>3</td>\n",
       "      <td>0</td>\n",
       "      <td>0</td>\n",
       "      <td>0</td>\n",
       "    </tr>\n",
       "    <tr>\n",
       "      <th>6</th>\n",
       "      <td>Czech Republic</td>\n",
       "      <td>Holt-Winters</td>\n",
       "      <td>0</td>\n",
       "      <td>2</td>\n",
       "      <td>5</td>\n",
       "      <td>0</td>\n",
       "      <td>0</td>\n",
       "    </tr>\n",
       "    <tr>\n",
       "      <th>7</th>\n",
       "      <td>Czech Republic</td>\n",
       "      <td>LSTM</td>\n",
       "      <td>0</td>\n",
       "      <td>0</td>\n",
       "      <td>0</td>\n",
       "      <td>1</td>\n",
       "      <td>6</td>\n",
       "    </tr>\n",
       "    <tr>\n",
       "      <th>8</th>\n",
       "      <td>Czech Republic</td>\n",
       "      <td>Prophet</td>\n",
       "      <td>1</td>\n",
       "      <td>0</td>\n",
       "      <td>2</td>\n",
       "      <td>4</td>\n",
       "      <td>0</td>\n",
       "    </tr>\n",
       "    <tr>\n",
       "      <th>9</th>\n",
       "      <td>Czech Republic</td>\n",
       "      <td>XGBoost</td>\n",
       "      <td>2</td>\n",
       "      <td>2</td>\n",
       "      <td>0</td>\n",
       "      <td>2</td>\n",
       "      <td>1</td>\n",
       "    </tr>\n",
       "    <tr>\n",
       "      <th>10</th>\n",
       "      <td>France</td>\n",
       "      <td>ARIMA</td>\n",
       "      <td>2</td>\n",
       "      <td>3</td>\n",
       "      <td>2</td>\n",
       "      <td>0</td>\n",
       "      <td>0</td>\n",
       "    </tr>\n",
       "    <tr>\n",
       "      <th>11</th>\n",
       "      <td>France</td>\n",
       "      <td>Holt-Winters</td>\n",
       "      <td>2</td>\n",
       "      <td>0</td>\n",
       "      <td>4</td>\n",
       "      <td>1</td>\n",
       "      <td>0</td>\n",
       "    </tr>\n",
       "    <tr>\n",
       "      <th>12</th>\n",
       "      <td>France</td>\n",
       "      <td>LSTM</td>\n",
       "      <td>0</td>\n",
       "      <td>0</td>\n",
       "      <td>0</td>\n",
       "      <td>1</td>\n",
       "      <td>6</td>\n",
       "    </tr>\n",
       "    <tr>\n",
       "      <th>13</th>\n",
       "      <td>France</td>\n",
       "      <td>Prophet</td>\n",
       "      <td>0</td>\n",
       "      <td>2</td>\n",
       "      <td>1</td>\n",
       "      <td>4</td>\n",
       "      <td>0</td>\n",
       "    </tr>\n",
       "    <tr>\n",
       "      <th>14</th>\n",
       "      <td>France</td>\n",
       "      <td>XGBoost</td>\n",
       "      <td>3</td>\n",
       "      <td>2</td>\n",
       "      <td>0</td>\n",
       "      <td>1</td>\n",
       "      <td>1</td>\n",
       "    </tr>\n",
       "    <tr>\n",
       "      <th>15</th>\n",
       "      <td>Germany</td>\n",
       "      <td>ARIMA</td>\n",
       "      <td>3</td>\n",
       "      <td>3</td>\n",
       "      <td>1</td>\n",
       "      <td>0</td>\n",
       "      <td>0</td>\n",
       "    </tr>\n",
       "    <tr>\n",
       "      <th>16</th>\n",
       "      <td>Germany</td>\n",
       "      <td>Holt-Winters</td>\n",
       "      <td>1</td>\n",
       "      <td>4</td>\n",
       "      <td>2</td>\n",
       "      <td>0</td>\n",
       "      <td>0</td>\n",
       "    </tr>\n",
       "    <tr>\n",
       "      <th>17</th>\n",
       "      <td>Germany</td>\n",
       "      <td>LSTM</td>\n",
       "      <td>0</td>\n",
       "      <td>0</td>\n",
       "      <td>0</td>\n",
       "      <td>3</td>\n",
       "      <td>4</td>\n",
       "    </tr>\n",
       "    <tr>\n",
       "      <th>18</th>\n",
       "      <td>Germany</td>\n",
       "      <td>Prophet</td>\n",
       "      <td>0</td>\n",
       "      <td>0</td>\n",
       "      <td>3</td>\n",
       "      <td>2</td>\n",
       "      <td>2</td>\n",
       "    </tr>\n",
       "    <tr>\n",
       "      <th>19</th>\n",
       "      <td>Germany</td>\n",
       "      <td>XGBoost</td>\n",
       "      <td>3</td>\n",
       "      <td>0</td>\n",
       "      <td>1</td>\n",
       "      <td>2</td>\n",
       "      <td>1</td>\n",
       "    </tr>\n",
       "    <tr>\n",
       "      <th>20</th>\n",
       "      <td>Hungary</td>\n",
       "      <td>ARIMA</td>\n",
       "      <td>4</td>\n",
       "      <td>3</td>\n",
       "      <td>0</td>\n",
       "      <td>0</td>\n",
       "      <td>0</td>\n",
       "    </tr>\n",
       "    <tr>\n",
       "      <th>21</th>\n",
       "      <td>Hungary</td>\n",
       "      <td>Holt-Winters</td>\n",
       "      <td>1</td>\n",
       "      <td>2</td>\n",
       "      <td>3</td>\n",
       "      <td>1</td>\n",
       "      <td>0</td>\n",
       "    </tr>\n",
       "    <tr>\n",
       "      <th>22</th>\n",
       "      <td>Hungary</td>\n",
       "      <td>LSTM</td>\n",
       "      <td>0</td>\n",
       "      <td>0</td>\n",
       "      <td>0</td>\n",
       "      <td>1</td>\n",
       "      <td>6</td>\n",
       "    </tr>\n",
       "    <tr>\n",
       "      <th>23</th>\n",
       "      <td>Hungary</td>\n",
       "      <td>Prophet</td>\n",
       "      <td>0</td>\n",
       "      <td>1</td>\n",
       "      <td>4</td>\n",
       "      <td>2</td>\n",
       "      <td>0</td>\n",
       "    </tr>\n",
       "    <tr>\n",
       "      <th>24</th>\n",
       "      <td>Hungary</td>\n",
       "      <td>XGBoost</td>\n",
       "      <td>2</td>\n",
       "      <td>1</td>\n",
       "      <td>0</td>\n",
       "      <td>3</td>\n",
       "      <td>1</td>\n",
       "    </tr>\n",
       "    <tr>\n",
       "      <th>25</th>\n",
       "      <td>Italy</td>\n",
       "      <td>ARIMA</td>\n",
       "      <td>2</td>\n",
       "      <td>4</td>\n",
       "      <td>1</td>\n",
       "      <td>0</td>\n",
       "      <td>0</td>\n",
       "    </tr>\n",
       "    <tr>\n",
       "      <th>26</th>\n",
       "      <td>Italy</td>\n",
       "      <td>Holt-Winters</td>\n",
       "      <td>1</td>\n",
       "      <td>2</td>\n",
       "      <td>4</td>\n",
       "      <td>0</td>\n",
       "      <td>0</td>\n",
       "    </tr>\n",
       "    <tr>\n",
       "      <th>27</th>\n",
       "      <td>Italy</td>\n",
       "      <td>LSTM</td>\n",
       "      <td>0</td>\n",
       "      <td>0</td>\n",
       "      <td>0</td>\n",
       "      <td>2</td>\n",
       "      <td>5</td>\n",
       "    </tr>\n",
       "    <tr>\n",
       "      <th>28</th>\n",
       "      <td>Italy</td>\n",
       "      <td>Prophet</td>\n",
       "      <td>0</td>\n",
       "      <td>0</td>\n",
       "      <td>2</td>\n",
       "      <td>4</td>\n",
       "      <td>1</td>\n",
       "    </tr>\n",
       "    <tr>\n",
       "      <th>29</th>\n",
       "      <td>Italy</td>\n",
       "      <td>XGBoost</td>\n",
       "      <td>4</td>\n",
       "      <td>1</td>\n",
       "      <td>0</td>\n",
       "      <td>1</td>\n",
       "      <td>1</td>\n",
       "    </tr>\n",
       "    <tr>\n",
       "      <th>30</th>\n",
       "      <td>Poland</td>\n",
       "      <td>ARIMA</td>\n",
       "      <td>3</td>\n",
       "      <td>3</td>\n",
       "      <td>1</td>\n",
       "      <td>0</td>\n",
       "      <td>0</td>\n",
       "    </tr>\n",
       "    <tr>\n",
       "      <th>31</th>\n",
       "      <td>Poland</td>\n",
       "      <td>Holt-Winters</td>\n",
       "      <td>2</td>\n",
       "      <td>2</td>\n",
       "      <td>2</td>\n",
       "      <td>1</td>\n",
       "      <td>0</td>\n",
       "    </tr>\n",
       "    <tr>\n",
       "      <th>32</th>\n",
       "      <td>Poland</td>\n",
       "      <td>LSTM</td>\n",
       "      <td>0</td>\n",
       "      <td>0</td>\n",
       "      <td>1</td>\n",
       "      <td>3</td>\n",
       "      <td>3</td>\n",
       "    </tr>\n",
       "    <tr>\n",
       "      <th>33</th>\n",
       "      <td>Poland</td>\n",
       "      <td>Prophet</td>\n",
       "      <td>1</td>\n",
       "      <td>1</td>\n",
       "      <td>3</td>\n",
       "      <td>2</td>\n",
       "      <td>0</td>\n",
       "    </tr>\n",
       "    <tr>\n",
       "      <th>34</th>\n",
       "      <td>Poland</td>\n",
       "      <td>XGBoost</td>\n",
       "      <td>1</td>\n",
       "      <td>1</td>\n",
       "      <td>0</td>\n",
       "      <td>1</td>\n",
       "      <td>4</td>\n",
       "    </tr>\n",
       "    <tr>\n",
       "      <th>35</th>\n",
       "      <td>Slovakia</td>\n",
       "      <td>ARIMA</td>\n",
       "      <td>4</td>\n",
       "      <td>3</td>\n",
       "      <td>0</td>\n",
       "      <td>0</td>\n",
       "      <td>0</td>\n",
       "    </tr>\n",
       "    <tr>\n",
       "      <th>36</th>\n",
       "      <td>Slovakia</td>\n",
       "      <td>Holt-Winters</td>\n",
       "      <td>2</td>\n",
       "      <td>2</td>\n",
       "      <td>3</td>\n",
       "      <td>0</td>\n",
       "      <td>0</td>\n",
       "    </tr>\n",
       "    <tr>\n",
       "      <th>37</th>\n",
       "      <td>Slovakia</td>\n",
       "      <td>LSTM</td>\n",
       "      <td>0</td>\n",
       "      <td>0</td>\n",
       "      <td>0</td>\n",
       "      <td>4</td>\n",
       "      <td>3</td>\n",
       "    </tr>\n",
       "    <tr>\n",
       "      <th>38</th>\n",
       "      <td>Slovakia</td>\n",
       "      <td>Prophet</td>\n",
       "      <td>0</td>\n",
       "      <td>1</td>\n",
       "      <td>4</td>\n",
       "      <td>1</td>\n",
       "      <td>1</td>\n",
       "    </tr>\n",
       "    <tr>\n",
       "      <th>39</th>\n",
       "      <td>Slovakia</td>\n",
       "      <td>XGBoost</td>\n",
       "      <td>1</td>\n",
       "      <td>1</td>\n",
       "      <td>0</td>\n",
       "      <td>2</td>\n",
       "      <td>3</td>\n",
       "    </tr>\n",
       "  </tbody>\n",
       "</table>\n",
       "</div>"
      ],
      "text/plain": [
       "           Country         Model  1  2  3  4  5\n",
       "0          Austria         ARIMA  3  4  0  0  0\n",
       "1          Austria  Holt-Winters  1  2  3  1  0\n",
       "2          Austria          LSTM  0  0  1  1  5\n",
       "3          Austria       Prophet  0  1  3  1  2\n",
       "4          Austria       XGBoost  3  0  0  4  0\n",
       "5   Czech Republic         ARIMA  4  3  0  0  0\n",
       "6   Czech Republic  Holt-Winters  0  2  5  0  0\n",
       "7   Czech Republic          LSTM  0  0  0  1  6\n",
       "8   Czech Republic       Prophet  1  0  2  4  0\n",
       "9   Czech Republic       XGBoost  2  2  0  2  1\n",
       "10          France         ARIMA  2  3  2  0  0\n",
       "11          France  Holt-Winters  2  0  4  1  0\n",
       "12          France          LSTM  0  0  0  1  6\n",
       "13          France       Prophet  0  2  1  4  0\n",
       "14          France       XGBoost  3  2  0  1  1\n",
       "15         Germany         ARIMA  3  3  1  0  0\n",
       "16         Germany  Holt-Winters  1  4  2  0  0\n",
       "17         Germany          LSTM  0  0  0  3  4\n",
       "18         Germany       Prophet  0  0  3  2  2\n",
       "19         Germany       XGBoost  3  0  1  2  1\n",
       "20         Hungary         ARIMA  4  3  0  0  0\n",
       "21         Hungary  Holt-Winters  1  2  3  1  0\n",
       "22         Hungary          LSTM  0  0  0  1  6\n",
       "23         Hungary       Prophet  0  1  4  2  0\n",
       "24         Hungary       XGBoost  2  1  0  3  1\n",
       "25           Italy         ARIMA  2  4  1  0  0\n",
       "26           Italy  Holt-Winters  1  2  4  0  0\n",
       "27           Italy          LSTM  0  0  0  2  5\n",
       "28           Italy       Prophet  0  0  2  4  1\n",
       "29           Italy       XGBoost  4  1  0  1  1\n",
       "30          Poland         ARIMA  3  3  1  0  0\n",
       "31          Poland  Holt-Winters  2  2  2  1  0\n",
       "32          Poland          LSTM  0  0  1  3  3\n",
       "33          Poland       Prophet  1  1  3  2  0\n",
       "34          Poland       XGBoost  1  1  0  1  4\n",
       "35        Slovakia         ARIMA  4  3  0  0  0\n",
       "36        Slovakia  Holt-Winters  2  2  3  0  0\n",
       "37        Slovakia          LSTM  0  0  0  4  3\n",
       "38        Slovakia       Prophet  0  1  4  1  1\n",
       "39        Slovakia       XGBoost  1  1  0  2  3"
      ]
     },
     "execution_count": 6,
     "metadata": {},
     "output_type": "execute_result"
    }
   ],
   "source": [
    "\n",
    "\"\"\"\n",
    "# Create the pivot DataFrame, where rows are indicator-model pairs, and columns are the ranks (1, 2, 3)\n",
    "pivot_country_df = log_df.pivot_table(index=['Country', 'Model'], \n",
    "                              columns='Rank', \n",
    "                              aggfunc='size', \n",
    "                              fill_value=0)\n",
    "\n",
    "# Rename columns to reflect the rank (1, 2, 3)\n",
    "pivot_country_df.columns = ['1', '2', '3','4','5']\n",
    "\n",
    "# Reset index for clear visibility\n",
    "pivot_country_df.reset_index(inplace=True)\n",
    "#pivot_country_df.to_csv(\"model_rankings_by_country_with_models.csv\", index=False)\n",
    "\"\"\"\n",
    "pivot_country_df"
   ]
  },
  {
   "cell_type": "code",
   "execution_count": null,
   "metadata": {},
   "outputs": [
    {
     "data": {
      "text/html": [
       "<div>\n",
       "<style scoped>\n",
       "    .dataframe tbody tr th:only-of-type {\n",
       "        vertical-align: middle;\n",
       "    }\n",
       "\n",
       "    .dataframe tbody tr th {\n",
       "        vertical-align: top;\n",
       "    }\n",
       "\n",
       "    .dataframe thead th {\n",
       "        text-align: right;\n",
       "    }\n",
       "</style>\n",
       "<table border=\"1\" class=\"dataframe\">\n",
       "  <thead>\n",
       "    <tr style=\"text-align: right;\">\n",
       "      <th></th>\n",
       "      <th>Indicator</th>\n",
       "      <th>Model</th>\n",
       "      <th>1</th>\n",
       "      <th>2</th>\n",
       "      <th>3</th>\n",
       "      <th>4</th>\n",
       "      <th>5</th>\n",
       "    </tr>\n",
       "  </thead>\n",
       "  <tbody>\n",
       "    <tr>\n",
       "      <th>0</th>\n",
       "      <td>Exports of goods and services (% of GDP)</td>\n",
       "      <td>ARIMA</td>\n",
       "      <td>5</td>\n",
       "      <td>2</td>\n",
       "      <td>1</td>\n",
       "      <td>0</td>\n",
       "      <td>0</td>\n",
       "    </tr>\n",
       "    <tr>\n",
       "      <th>1</th>\n",
       "      <td>Exports of goods and services (% of GDP)</td>\n",
       "      <td>Holt-Winters</td>\n",
       "      <td>0</td>\n",
       "      <td>2</td>\n",
       "      <td>4</td>\n",
       "      <td>2</td>\n",
       "      <td>0</td>\n",
       "    </tr>\n",
       "    <tr>\n",
       "      <th>2</th>\n",
       "      <td>Exports of goods and services (% of GDP)</td>\n",
       "      <td>LSTM</td>\n",
       "      <td>0</td>\n",
       "      <td>0</td>\n",
       "      <td>1</td>\n",
       "      <td>2</td>\n",
       "      <td>5</td>\n",
       "    </tr>\n",
       "    <tr>\n",
       "      <th>3</th>\n",
       "      <td>Exports of goods and services (% of GDP)</td>\n",
       "      <td>Prophet</td>\n",
       "      <td>2</td>\n",
       "      <td>2</td>\n",
       "      <td>2</td>\n",
       "      <td>1</td>\n",
       "      <td>1</td>\n",
       "    </tr>\n",
       "    <tr>\n",
       "      <th>4</th>\n",
       "      <td>Exports of goods and services (% of GDP)</td>\n",
       "      <td>XGBoost</td>\n",
       "      <td>1</td>\n",
       "      <td>2</td>\n",
       "      <td>0</td>\n",
       "      <td>3</td>\n",
       "      <td>2</td>\n",
       "    </tr>\n",
       "    <tr>\n",
       "      <th>5</th>\n",
       "      <td>GDP (USD)</td>\n",
       "      <td>ARIMA</td>\n",
       "      <td>3</td>\n",
       "      <td>4</td>\n",
       "      <td>1</td>\n",
       "      <td>0</td>\n",
       "      <td>0</td>\n",
       "    </tr>\n",
       "    <tr>\n",
       "      <th>6</th>\n",
       "      <td>GDP (USD)</td>\n",
       "      <td>Holt-Winters</td>\n",
       "      <td>4</td>\n",
       "      <td>3</td>\n",
       "      <td>1</td>\n",
       "      <td>0</td>\n",
       "      <td>0</td>\n",
       "    </tr>\n",
       "    <tr>\n",
       "      <th>7</th>\n",
       "      <td>GDP (USD)</td>\n",
       "      <td>LSTM</td>\n",
       "      <td>0</td>\n",
       "      <td>0</td>\n",
       "      <td>0</td>\n",
       "      <td>3</td>\n",
       "      <td>5</td>\n",
       "    </tr>\n",
       "    <tr>\n",
       "      <th>8</th>\n",
       "      <td>GDP (USD)</td>\n",
       "      <td>Prophet</td>\n",
       "      <td>0</td>\n",
       "      <td>0</td>\n",
       "      <td>6</td>\n",
       "      <td>2</td>\n",
       "      <td>0</td>\n",
       "    </tr>\n",
       "    <tr>\n",
       "      <th>9</th>\n",
       "      <td>GDP (USD)</td>\n",
       "      <td>XGBoost</td>\n",
       "      <td>1</td>\n",
       "      <td>1</td>\n",
       "      <td>0</td>\n",
       "      <td>3</td>\n",
       "      <td>3</td>\n",
       "    </tr>\n",
       "    <tr>\n",
       "      <th>10</th>\n",
       "      <td>GDP growth (annual %)</td>\n",
       "      <td>ARIMA</td>\n",
       "      <td>3</td>\n",
       "      <td>5</td>\n",
       "      <td>0</td>\n",
       "      <td>0</td>\n",
       "      <td>0</td>\n",
       "    </tr>\n",
       "    <tr>\n",
       "      <th>11</th>\n",
       "      <td>GDP growth (annual %)</td>\n",
       "      <td>Holt-Winters</td>\n",
       "      <td>0</td>\n",
       "      <td>0</td>\n",
       "      <td>7</td>\n",
       "      <td>1</td>\n",
       "      <td>0</td>\n",
       "    </tr>\n",
       "    <tr>\n",
       "      <th>12</th>\n",
       "      <td>GDP growth (annual %)</td>\n",
       "      <td>LSTM</td>\n",
       "      <td>0</td>\n",
       "      <td>0</td>\n",
       "      <td>1</td>\n",
       "      <td>1</td>\n",
       "      <td>6</td>\n",
       "    </tr>\n",
       "    <tr>\n",
       "      <th>13</th>\n",
       "      <td>GDP growth (annual %)</td>\n",
       "      <td>Prophet</td>\n",
       "      <td>0</td>\n",
       "      <td>1</td>\n",
       "      <td>0</td>\n",
       "      <td>5</td>\n",
       "      <td>2</td>\n",
       "    </tr>\n",
       "    <tr>\n",
       "      <th>14</th>\n",
       "      <td>GDP growth (annual %)</td>\n",
       "      <td>XGBoost</td>\n",
       "      <td>5</td>\n",
       "      <td>2</td>\n",
       "      <td>0</td>\n",
       "      <td>1</td>\n",
       "      <td>0</td>\n",
       "    </tr>\n",
       "    <tr>\n",
       "      <th>15</th>\n",
       "      <td>GDP per Capita (USD)</td>\n",
       "      <td>ARIMA</td>\n",
       "      <td>3</td>\n",
       "      <td>5</td>\n",
       "      <td>0</td>\n",
       "      <td>0</td>\n",
       "      <td>0</td>\n",
       "    </tr>\n",
       "    <tr>\n",
       "      <th>16</th>\n",
       "      <td>GDP per Capita (USD)</td>\n",
       "      <td>Holt-Winters</td>\n",
       "      <td>3</td>\n",
       "      <td>3</td>\n",
       "      <td>2</td>\n",
       "      <td>0</td>\n",
       "      <td>0</td>\n",
       "    </tr>\n",
       "    <tr>\n",
       "      <th>17</th>\n",
       "      <td>GDP per Capita (USD)</td>\n",
       "      <td>LSTM</td>\n",
       "      <td>0</td>\n",
       "      <td>0</td>\n",
       "      <td>0</td>\n",
       "      <td>4</td>\n",
       "      <td>4</td>\n",
       "    </tr>\n",
       "    <tr>\n",
       "      <th>18</th>\n",
       "      <td>GDP per Capita (USD)</td>\n",
       "      <td>Prophet</td>\n",
       "      <td>0</td>\n",
       "      <td>0</td>\n",
       "      <td>6</td>\n",
       "      <td>2</td>\n",
       "      <td>0</td>\n",
       "    </tr>\n",
       "    <tr>\n",
       "      <th>19</th>\n",
       "      <td>GDP per Capita (USD)</td>\n",
       "      <td>XGBoost</td>\n",
       "      <td>2</td>\n",
       "      <td>0</td>\n",
       "      <td>0</td>\n",
       "      <td>2</td>\n",
       "      <td>4</td>\n",
       "    </tr>\n",
       "    <tr>\n",
       "      <th>20</th>\n",
       "      <td>Imports of goods and services (% of GDP)</td>\n",
       "      <td>ARIMA</td>\n",
       "      <td>6</td>\n",
       "      <td>1</td>\n",
       "      <td>1</td>\n",
       "      <td>0</td>\n",
       "      <td>0</td>\n",
       "    </tr>\n",
       "    <tr>\n",
       "      <th>21</th>\n",
       "      <td>Imports of goods and services (% of GDP)</td>\n",
       "      <td>Holt-Winters</td>\n",
       "      <td>1</td>\n",
       "      <td>4</td>\n",
       "      <td>3</td>\n",
       "      <td>0</td>\n",
       "      <td>0</td>\n",
       "    </tr>\n",
       "    <tr>\n",
       "      <th>22</th>\n",
       "      <td>Imports of goods and services (% of GDP)</td>\n",
       "      <td>LSTM</td>\n",
       "      <td>0</td>\n",
       "      <td>0</td>\n",
       "      <td>0</td>\n",
       "      <td>3</td>\n",
       "      <td>5</td>\n",
       "    </tr>\n",
       "    <tr>\n",
       "      <th>23</th>\n",
       "      <td>Imports of goods and services (% of GDP)</td>\n",
       "      <td>Prophet</td>\n",
       "      <td>0</td>\n",
       "      <td>3</td>\n",
       "      <td>3</td>\n",
       "      <td>2</td>\n",
       "      <td>0</td>\n",
       "    </tr>\n",
       "    <tr>\n",
       "      <th>24</th>\n",
       "      <td>Imports of goods and services (% of GDP)</td>\n",
       "      <td>XGBoost</td>\n",
       "      <td>1</td>\n",
       "      <td>0</td>\n",
       "      <td>1</td>\n",
       "      <td>3</td>\n",
       "      <td>3</td>\n",
       "    </tr>\n",
       "    <tr>\n",
       "      <th>25</th>\n",
       "      <td>Inflation (CPI)</td>\n",
       "      <td>ARIMA</td>\n",
       "      <td>0</td>\n",
       "      <td>7</td>\n",
       "      <td>1</td>\n",
       "      <td>0</td>\n",
       "      <td>0</td>\n",
       "    </tr>\n",
       "    <tr>\n",
       "      <th>26</th>\n",
       "      <td>Inflation (CPI)</td>\n",
       "      <td>Holt-Winters</td>\n",
       "      <td>0</td>\n",
       "      <td>1</td>\n",
       "      <td>7</td>\n",
       "      <td>0</td>\n",
       "      <td>0</td>\n",
       "    </tr>\n",
       "    <tr>\n",
       "      <th>27</th>\n",
       "      <td>Inflation (CPI)</td>\n",
       "      <td>LSTM</td>\n",
       "      <td>0</td>\n",
       "      <td>0</td>\n",
       "      <td>0</td>\n",
       "      <td>2</td>\n",
       "      <td>6</td>\n",
       "    </tr>\n",
       "    <tr>\n",
       "      <th>28</th>\n",
       "      <td>Inflation (CPI)</td>\n",
       "      <td>Prophet</td>\n",
       "      <td>0</td>\n",
       "      <td>0</td>\n",
       "      <td>0</td>\n",
       "      <td>6</td>\n",
       "      <td>2</td>\n",
       "    </tr>\n",
       "    <tr>\n",
       "      <th>29</th>\n",
       "      <td>Inflation (CPI)</td>\n",
       "      <td>XGBoost</td>\n",
       "      <td>8</td>\n",
       "      <td>0</td>\n",
       "      <td>0</td>\n",
       "      <td>0</td>\n",
       "      <td>0</td>\n",
       "    </tr>\n",
       "    <tr>\n",
       "      <th>30</th>\n",
       "      <td>Unemployment Rate (%)</td>\n",
       "      <td>ARIMA</td>\n",
       "      <td>5</td>\n",
       "      <td>2</td>\n",
       "      <td>1</td>\n",
       "      <td>0</td>\n",
       "      <td>0</td>\n",
       "    </tr>\n",
       "    <tr>\n",
       "      <th>31</th>\n",
       "      <td>Unemployment Rate (%)</td>\n",
       "      <td>Holt-Winters</td>\n",
       "      <td>2</td>\n",
       "      <td>3</td>\n",
       "      <td>2</td>\n",
       "      <td>1</td>\n",
       "      <td>0</td>\n",
       "    </tr>\n",
       "    <tr>\n",
       "      <th>32</th>\n",
       "      <td>Unemployment Rate (%)</td>\n",
       "      <td>LSTM</td>\n",
       "      <td>0</td>\n",
       "      <td>0</td>\n",
       "      <td>0</td>\n",
       "      <td>1</td>\n",
       "      <td>7</td>\n",
       "    </tr>\n",
       "    <tr>\n",
       "      <th>33</th>\n",
       "      <td>Unemployment Rate (%)</td>\n",
       "      <td>Prophet</td>\n",
       "      <td>0</td>\n",
       "      <td>0</td>\n",
       "      <td>5</td>\n",
       "      <td>2</td>\n",
       "      <td>1</td>\n",
       "    </tr>\n",
       "    <tr>\n",
       "      <th>34</th>\n",
       "      <td>Unemployment Rate (%)</td>\n",
       "      <td>XGBoost</td>\n",
       "      <td>1</td>\n",
       "      <td>3</td>\n",
       "      <td>0</td>\n",
       "      <td>4</td>\n",
       "      <td>0</td>\n",
       "    </tr>\n",
       "  </tbody>\n",
       "</table>\n",
       "</div>"
      ],
      "text/plain": [
       "                                   Indicator         Model  1  2  3  4  5\n",
       "0   Exports of goods and services (% of GDP)         ARIMA  5  2  1  0  0\n",
       "1   Exports of goods and services (% of GDP)  Holt-Winters  0  2  4  2  0\n",
       "2   Exports of goods and services (% of GDP)          LSTM  0  0  1  2  5\n",
       "3   Exports of goods and services (% of GDP)       Prophet  2  2  2  1  1\n",
       "4   Exports of goods and services (% of GDP)       XGBoost  1  2  0  3  2\n",
       "5                                  GDP (USD)         ARIMA  3  4  1  0  0\n",
       "6                                  GDP (USD)  Holt-Winters  4  3  1  0  0\n",
       "7                                  GDP (USD)          LSTM  0  0  0  3  5\n",
       "8                                  GDP (USD)       Prophet  0  0  6  2  0\n",
       "9                                  GDP (USD)       XGBoost  1  1  0  3  3\n",
       "10                     GDP growth (annual %)         ARIMA  3  5  0  0  0\n",
       "11                     GDP growth (annual %)  Holt-Winters  0  0  7  1  0\n",
       "12                     GDP growth (annual %)          LSTM  0  0  1  1  6\n",
       "13                     GDP growth (annual %)       Prophet  0  1  0  5  2\n",
       "14                     GDP growth (annual %)       XGBoost  5  2  0  1  0\n",
       "15                      GDP per Capita (USD)         ARIMA  3  5  0  0  0\n",
       "16                      GDP per Capita (USD)  Holt-Winters  3  3  2  0  0\n",
       "17                      GDP per Capita (USD)          LSTM  0  0  0  4  4\n",
       "18                      GDP per Capita (USD)       Prophet  0  0  6  2  0\n",
       "19                      GDP per Capita (USD)       XGBoost  2  0  0  2  4\n",
       "20  Imports of goods and services (% of GDP)         ARIMA  6  1  1  0  0\n",
       "21  Imports of goods and services (% of GDP)  Holt-Winters  1  4  3  0  0\n",
       "22  Imports of goods and services (% of GDP)          LSTM  0  0  0  3  5\n",
       "23  Imports of goods and services (% of GDP)       Prophet  0  3  3  2  0\n",
       "24  Imports of goods and services (% of GDP)       XGBoost  1  0  1  3  3\n",
       "25                           Inflation (CPI)         ARIMA  0  7  1  0  0\n",
       "26                           Inflation (CPI)  Holt-Winters  0  1  7  0  0\n",
       "27                           Inflation (CPI)          LSTM  0  0  0  2  6\n",
       "28                           Inflation (CPI)       Prophet  0  0  0  6  2\n",
       "29                           Inflation (CPI)       XGBoost  8  0  0  0  0\n",
       "30                     Unemployment Rate (%)         ARIMA  5  2  1  0  0\n",
       "31                     Unemployment Rate (%)  Holt-Winters  2  3  2  1  0\n",
       "32                     Unemployment Rate (%)          LSTM  0  0  0  1  7\n",
       "33                     Unemployment Rate (%)       Prophet  0  0  5  2  1\n",
       "34                     Unemployment Rate (%)       XGBoost  1  3  0  4  0"
      ]
     },
     "execution_count": 5,
     "metadata": {},
     "output_type": "execute_result"
    }
   ],
   "source": [
    "\"\"\"\n",
    "# Create the pivot DataFrame, where rows are indicator-model pairs, and columns are the ranks (1, 2, 3)\n",
    "pivot_df = log_df.pivot_table(index=['Indicator', 'Model'], \n",
    "                              columns='Rank', \n",
    "                              aggfunc='size', \n",
    "                              fill_value=0)\n",
    "\n",
    "# Rename columns to reflect the rank (1, 2, 3)\n",
    "pivot_df.columns = ['1', '2', '3','4','5']\n",
    "\n",
    "# Reset index for clear visibility\n",
    "pivot_df.reset_index(inplace=True)\n",
    "#pivot_df.to_csv(\"model_rankings_by_indicator_with_models.csv\", index=False)\n",
    "\"\"\"\n",
    "pivot_df"
   ]
  },
  {
   "cell_type": "code",
   "execution_count": null,
   "metadata": {},
   "outputs": [
    {
     "data": {
      "text/html": [
       "<div>\n",
       "<style scoped>\n",
       "    .dataframe tbody tr th:only-of-type {\n",
       "        vertical-align: middle;\n",
       "    }\n",
       "\n",
       "    .dataframe tbody tr th {\n",
       "        vertical-align: top;\n",
       "    }\n",
       "\n",
       "    .dataframe thead th {\n",
       "        text-align: right;\n",
       "    }\n",
       "</style>\n",
       "<table border=\"1\" class=\"dataframe\">\n",
       "  <thead>\n",
       "    <tr style=\"text-align: right;\">\n",
       "      <th></th>\n",
       "      <th>Model</th>\n",
       "      <th>1</th>\n",
       "      <th>2</th>\n",
       "      <th>3</th>\n",
       "      <th>4</th>\n",
       "      <th>5</th>\n",
       "    </tr>\n",
       "  </thead>\n",
       "  <tbody>\n",
       "    <tr>\n",
       "      <th>0</th>\n",
       "      <td>ARIMA</td>\n",
       "      <td>25</td>\n",
       "      <td>26</td>\n",
       "      <td>5</td>\n",
       "      <td>0</td>\n",
       "      <td>0</td>\n",
       "    </tr>\n",
       "    <tr>\n",
       "      <th>1</th>\n",
       "      <td>Holt-Winters</td>\n",
       "      <td>10</td>\n",
       "      <td>16</td>\n",
       "      <td>26</td>\n",
       "      <td>4</td>\n",
       "      <td>0</td>\n",
       "    </tr>\n",
       "    <tr>\n",
       "      <th>2</th>\n",
       "      <td>LSTM</td>\n",
       "      <td>0</td>\n",
       "      <td>0</td>\n",
       "      <td>2</td>\n",
       "      <td>16</td>\n",
       "      <td>38</td>\n",
       "    </tr>\n",
       "    <tr>\n",
       "      <th>3</th>\n",
       "      <td>Prophet</td>\n",
       "      <td>2</td>\n",
       "      <td>6</td>\n",
       "      <td>22</td>\n",
       "      <td>20</td>\n",
       "      <td>6</td>\n",
       "    </tr>\n",
       "    <tr>\n",
       "      <th>4</th>\n",
       "      <td>XGBoost</td>\n",
       "      <td>19</td>\n",
       "      <td>8</td>\n",
       "      <td>1</td>\n",
       "      <td>16</td>\n",
       "      <td>12</td>\n",
       "    </tr>\n",
       "  </tbody>\n",
       "</table>\n",
       "</div>"
      ],
      "text/plain": [
       "          Model   1   2   3   4   5\n",
       "0         ARIMA  25  26   5   0   0\n",
       "1  Holt-Winters  10  16  26   4   0\n",
       "2          LSTM   0   0   2  16  38\n",
       "3       Prophet   2   6  22  20   6\n",
       "4       XGBoost  19   8   1  16  12"
      ]
     },
     "execution_count": 4,
     "metadata": {},
     "output_type": "execute_result"
    }
   ],
   "source": [
    "\"\"\"\n",
    "# Create the pivot DataFrame, where rows are indicator-model pairs, and columns are the ranks (1, 2, 3)\n",
    "overall_df = log_df.pivot_table(index=['Model'], \n",
    "                              columns='Rank', \n",
    "                              aggfunc='size', \n",
    "                              fill_value=0)\n",
    "\n",
    "# Rename columns to reflect the rank (1, 2, 3)\n",
    "overall_df.columns = ['1', '2', '3','4','5']\n",
    "\n",
    "# Reset index for clear visibility\n",
    "overall_df.reset_index(inplace=True)\n",
    "#overall_df.to_csv(\"model_rankings_overall_placements.csv\", index=False)\n",
    "\"\"\"\n",
    "overall_df"
   ]
  }
 ],
 "metadata": {
  "kernelspec": {
   "display_name": "myenv",
   "language": "python",
   "name": "python3"
  },
  "language_info": {
   "codemirror_mode": {
    "name": "ipython",
    "version": 3
   },
   "file_extension": ".py",
   "mimetype": "text/x-python",
   "name": "python",
   "nbconvert_exporter": "python",
   "pygments_lexer": "ipython3",
   "version": "3.12.8"
  }
 },
 "nbformat": 4,
 "nbformat_minor": 2
}
