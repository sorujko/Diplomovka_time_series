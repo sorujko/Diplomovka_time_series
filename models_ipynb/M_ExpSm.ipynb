{
 "cells": [
  {
   "cell_type": "markdown",
   "metadata": {},
   "source": [
    "### ACTUAL"
   ]
  },
  {
   "cell_type": "code",
   "execution_count": null,
   "metadata": {},
   "outputs": [],
   "source": [
    "import os\n",
    "import json\n",
    "import pandas as pd\n",
    "import numpy as np\n",
    "\n",
    "from sklearn.metrics import mean_squared_error\n",
    "\n",
    "from statsmodels.tsa.holtwinters import ExponentialSmoothing\n",
    "\n",
    "\n",
    "\n",
    "import matplotlib.pyplot as plt\n",
    "\n",
    "def save_plot(train, test_y, predictions, country, indicator, model_name):\n",
    "    \"\"\"Function to save the plot in both Indicators and Countries folders.\"\"\"\n",
    "\n",
    "    model_colors = {\n",
    "    \"ARIMA\": \"blue\",\n",
    "    \"Holt_Winters\": \"yellow\",\n",
    "    \"LSTM\": \"black\",\n",
    "    \"XGBoost\": \"pink\",\n",
    "    \"Prophet\": \"brown\"\n",
    "}\n",
    "\n",
    "    # Plotting predicted vs actual\n",
    "    plt.figure(figsize=(10, 6))\n",
    "    if model_name == \"Prophet\":\n",
    "        plt.plot(train['ds'], train['y'], label='Train Data', color='green', linestyle='--')\n",
    "        plt.plot(test_y['ds'], test_y['y'], label='Actual', color='red', linestyle='--')\n",
    "        plt.plot(test_y['ds'], predictions, label=f'Predicted({model_name})', color=f'{model_colors[\"Prophet\"]}', \n",
    "                 linestyle='-', marker='o')\n",
    "    else:\n",
    "        plt.plot(train.index, train, label='Train Data', color='green', linestyle='--')\n",
    "        plt.plot(test_y.index, test_y, label='Actual', color='red', linestyle='--')\n",
    "        plt.plot(test_y.index, predictions, label=f'Predicted({model_name})', color=f'{model_colors[model_name]}', \n",
    "                 linestyle='-', marker='o')\n",
    "    \n",
    "\n",
    "    \n",
    "    plt.title(f'Predicted({model_name}) vs Actual for {country} - {indicator}')\n",
    "    plt.xlabel('Year')\n",
    "    plt.ylabel('Value')\n",
    "    plt.legend()\n",
    "\n",
    "    # Create subfolder for the indicator if it doesn't exist\n",
    "    indicator_folder = os.path.join('../images', 'model_plot', 'Indicators', indicator)\n",
    "    os.makedirs(indicator_folder, exist_ok=True)\n",
    "    \n",
    "    # Save the plot in the Indicators folder with dynamic model name\n",
    "    plot_filename_indicator = os.path.join(indicator_folder, f'{model_name}_{country.replace(\" \", \"_\")}_{indicator.replace(\" \", \"_\")}.png')\n",
    "    plt.savefig(plot_filename_indicator)\n",
    "\n",
    "    # Create subfolder for the country if it doesn't exist\n",
    "    country_folder = os.path.join('../images', 'model_plot', 'Countries', country)\n",
    "    os.makedirs(country_folder, exist_ok=True)\n",
    "    \n",
    "    # Save the same plot in the Countries folder with dynamic model name\n",
    "    plot_filename_country = os.path.join(country_folder, f'{model_name}_{country.replace(\" \", \"_\")}_{indicator.replace(\" \", \"_\")}.png')\n",
    "    plt.savefig(plot_filename_country)\n",
    "\n",
    "    plt.close()\n",
    "\n",
    "\n",
    "def train_holt_winters(train, test_y, country, indicator):\n",
    "    params_dir = os.path.join(\"../best_params\", indicator)\n",
    "    params_file = os.path.join(params_dir, f\"Holt_Winters_{country}.json\")\n",
    "    best_params = None\n",
    "\n",
    "    # Check if the best parameters JSON file exists\n",
    "    if os.path.exists(params_file):\n",
    "        with open(params_file, \"r\") as f:\n",
    "            best_params = json.load(f)\n",
    "        print(f\"Loaded best parameters for {country} - {indicator} from {params_file}: {best_params}\")\n",
    "    else:\n",
    "        # If not, run the grid search\n",
    "        print(f\"No pre-existing parameters for {country} - {indicator}. Running grid search.\")\n",
    "        param_grid = {\n",
    "            'trend': [None, 'add', 'mul'],  # Focus on trend options\n",
    "            'damped': [True, False],       # Damped trend\n",
    "            'smoothing_level': [None, 0.1, 0.3, 0.5, 0.7, 0.9],  # Smoothing for level\n",
    "            'smoothing_slope': [None, 0.1, 0.3, 0.5, 0.7, 0.9],  # Smoothing for trend\n",
    "            'initialization_method': [None],\n",
    "        }\n",
    "\n",
    "        best_rmse = float('inf')\n",
    "        for trend in param_grid['trend']:\n",
    "            for damped in param_grid['damped']:\n",
    "                for alpha in param_grid['smoothing_level']:\n",
    "                    for beta in param_grid['smoothing_slope']:\n",
    "                        for init_level in param_grid['initialization_method']:\n",
    "                            try:\n",
    "                                # Initialize model\n",
    "                                model = ExponentialSmoothing(\n",
    "                                    train,\n",
    "                                    trend=trend,\n",
    "                                    damped_trend=damped,\n",
    "                                    seasonal=None\n",
    "                                )\n",
    "                                # Fit model with specific smoothing parameters\n",
    "                                fitted_model = model.fit(\n",
    "                                    smoothing_level=alpha,\n",
    "                                    smoothing_slope=beta,\n",
    "                                    initial_level=init_level,\n",
    "                                    optimized=True\n",
    "                                )\n",
    "                                # Forecast and calculate RMSE\n",
    "                                predictions = fitted_model.forecast(len(test_y))\n",
    "                                rmse = np.sqrt(mean_squared_error(test_y, predictions))\n",
    "\n",
    "                                # Track the best parameters\n",
    "                                if rmse < best_rmse:\n",
    "                                    best_rmse = rmse\n",
    "                                    best_params = {\n",
    "                                        \"trend\": trend,\n",
    "                                        \"damped_trend\": damped,\n",
    "                                        \"smoothing_level\": alpha,\n",
    "                                        \"smoothing_slope\": beta,\n",
    "                                        \"initialization_method\": init_level\n",
    "                                    }\n",
    "                            except Exception as e:\n",
    "                                # Log errors for debugging\n",
    "                                print(f\"Error with parameters: trend={trend}, damped={damped}, \"\n",
    "                                      f\"alpha={alpha}, beta={beta}. Error: {e}\")\n",
    "                                continue\n",
    "\n",
    "        # Save the best parameters to JSON for future use\n",
    "        os.makedirs(params_dir, exist_ok=True)\n",
    "        with open(params_file, \"w\") as f:\n",
    "            json.dump(best_params, f, indent=4)\n",
    "        print(f\"Saved best parameters for {country} - {indicator} to {params_file}: {best_params}\")\n",
    "\n",
    "    # Train the final model using the best parameters (loaded or discovered)\n",
    "    best_model = ExponentialSmoothing(\n",
    "        train,\n",
    "        trend=best_params[\"trend\"],\n",
    "        damped_trend=best_params[\"damped_trend\"]\n",
    "    )\n",
    "    best_fitted_model = best_model.fit(\n",
    "        smoothing_level=best_params[\"smoothing_level\"],\n",
    "        smoothing_slope=best_params[\"smoothing_slope\"],\n",
    "        optimized=True\n",
    "    )\n",
    "    predictions = best_fitted_model.forecast(len(test_y))\n",
    "\n",
    "    # Call the save_plot function to save the plot\n",
    "    save_plot(train, test_y, predictions, country, indicator, model_name=\"Holt_Winters\")\n",
    "\n",
    "    print(f\"Best Parameters used for {country} - {indicator}: {best_params}\")\n",
    "    return np.sqrt(mean_squared_error(test_y, predictions)), predictions\n",
    "\n",
    "\n",
    "\n",
    "\n",
    "with open(\"../countries.json\", \"r\") as f:\n",
    "    country_names = json.load(f)\n",
    "\n",
    "with open(\"../indicators.json\", \"r\") as f:\n",
    "    indicators = json.load(f)\n",
    "\n",
    "data_folder = \"../data/base\"\n",
    "model_errors_rmse = {}\n",
    "log_data = []\n",
    "country_indicators_plots = {}\n",
    "for country, country_code in country_names.items():\n",
    "    for indicator, indicator_code in indicators.items():\n",
    "        filename = f\"{country.replace(' ', '_')}_{indicator.replace(' ', '_')}.parquet\"\n",
    "        filepath = os.path.join(data_folder, filename)\n",
    "        \n",
    "        if os.path.exists(filepath):\n",
    "            df = pd.read_parquet(filepath)\n",
    "            if 'Year' in df.columns and 'Value' in df.columns:\n",
    "                df = df.set_index('Year').sort_index()\n",
    "                df.index = pd.to_datetime(df.index, format='%Y')\n",
    "                df = df.dropna()\n",
    "                df = df.drop('Indicator', axis = 1)\n",
    "                df_original = df.copy()\n",
    "\n",
    "                \n",
    "                \n",
    "                #df = df.dropna()\n",
    "                train_size = int(len(df) * 0.8)\n",
    "\n",
    "\n",
    "                \n",
    "                model_errors_rmse[(country, indicator)] = {}\n",
    "\n",
    "                model_errors_rmse[(country, indicator)]['Holt-Winters'] , es_pred = train_holt_winters(df_original.iloc[:train_size]['Value'], \n",
    "                                                                                             df_original.iloc[train_size:]['Value'],\n",
    "                                                                                             country,indicator)\n",
    "\n",
    "\n",
    "                \n",
    "                sorted_models = sorted(model_errors_rmse[(country, indicator)].items(), key=lambda x: x[1])\n",
    "                log_current_data = []\n",
    "                for rank, (model_name, rmse) in enumerate(sorted_models, start=1):\n",
    "                    log_data.append([country, indicator, model_name, rmse, rank])\n",
    "                    log_current_data.append([country, indicator, model_name, rmse, rank])\n",
    "\n",
    "\n",
    "\n",
    "\n",
    "from datetime import datetime\n",
    "model =\"ExponentialSmoothing\"\n",
    "log_dir = f\"../data/{model}_train\"\n",
    "os.makedirs(log_dir, exist_ok=True)\n",
    "\n",
    "timestamp = datetime.now().strftime(\"%Y-%m-%d--%H-%M\")\n",
    "log_filename = os.path.join(log_dir, f\"{model}_error_log_{timestamp}.csv\")\n",
    "\n",
    "log_df = pd.DataFrame(log_data, columns=['Country', 'Indicator', 'Model', 'RMSE', 'Rank'])\n",
    "log_df.to_csv(log_filename, index=False)\n"
   ]
  },
  {
   "cell_type": "markdown",
   "metadata": {},
   "source": [
    "### TEST"
   ]
  },
  {
   "cell_type": "code",
   "execution_count": 6,
   "metadata": {},
   "outputs": [
    {
     "name": "stdout",
     "output_type": "stream",
     "text": [
      "Loaded best parameters for Czech Republic - GDP per Capita (USD) from ../best_params\\GDP per Capita (USD)\\Holt_Winters_Czech Republic.json: {'trend': 'mul', 'damped_trend': False, 'smoothing_level': 0.5, 'smoothing_slope': 0.1, 'initialization_method': None}\n"
     ]
    },
    {
     "name": "stderr",
     "output_type": "stream",
     "text": [
      "c:\\Users\\admin\\Desktop\\diplomovka\\Code\\Model_staff\\myenv\\Lib\\site-packages\\statsmodels\\tsa\\base\\tsa_model.py:473: ValueWarning: No frequency information was provided, so inferred frequency YS-JAN will be used.\n",
      "  self._init_dates(dates, freq)\n",
      "C:\\Users\\admin\\AppData\\Local\\Temp\\ipykernel_7612\\3673667026.py:138: FutureWarning: the 'smoothing_slope' keyword is deprecated, use 'smoothing_trend' instead.\n",
      "  best_fitted_model = best_model.fit(\n",
      "c:\\Users\\admin\\Desktop\\diplomovka\\Code\\Model_staff\\myenv\\Lib\\site-packages\\statsmodels\\tsa\\holtwinters\\model.py:918: ConvergenceWarning: Optimization failed to converge. Check mle_retvals.\n",
      "  warnings.warn(\n"
     ]
    },
    {
     "name": "stdout",
     "output_type": "stream",
     "text": [
      "Best Parameters used for Czech Republic - GDP per Capita (USD): {'trend': 'mul', 'damped_trend': False, 'smoothing_level': 0.5, 'smoothing_slope': 0.1, 'initialization_method': None}\n",
      "Loaded best parameters for Czech Republic - GDP (USD) from ../best_params\\GDP (USD)\\Holt_Winters_Czech Republic.json: {'trend': 'mul', 'damped_trend': False, 'smoothing_level': 0.5, 'smoothing_slope': 0.1, 'initialization_method': None}\n"
     ]
    },
    {
     "name": "stderr",
     "output_type": "stream",
     "text": [
      "c:\\Users\\admin\\Desktop\\diplomovka\\Code\\Model_staff\\myenv\\Lib\\site-packages\\statsmodels\\tsa\\base\\tsa_model.py:473: ValueWarning: No frequency information was provided, so inferred frequency YS-JAN will be used.\n",
      "  self._init_dates(dates, freq)\n",
      "C:\\Users\\admin\\AppData\\Local\\Temp\\ipykernel_7612\\3673667026.py:138: FutureWarning: the 'smoothing_slope' keyword is deprecated, use 'smoothing_trend' instead.\n",
      "  best_fitted_model = best_model.fit(\n",
      "c:\\Users\\admin\\Desktop\\diplomovka\\Code\\Model_staff\\myenv\\Lib\\site-packages\\statsmodels\\tsa\\holtwinters\\model.py:918: ConvergenceWarning: Optimization failed to converge. Check mle_retvals.\n",
      "  warnings.warn(\n"
     ]
    },
    {
     "name": "stdout",
     "output_type": "stream",
     "text": [
      "Best Parameters used for Czech Republic - GDP (USD): {'trend': 'mul', 'damped_trend': False, 'smoothing_level': 0.5, 'smoothing_slope': 0.1, 'initialization_method': None}\n",
      "Loaded best parameters for Czech Republic - Inflation (CPI) from ../best_params\\Inflation (CPI)\\Holt_Winters_Czech Republic.json: {'trend': 'mul', 'damped_trend': True, 'smoothing_level': 0.9, 'smoothing_slope': 0.9, 'initialization_method': None}\n"
     ]
    },
    {
     "name": "stderr",
     "output_type": "stream",
     "text": [
      "c:\\Users\\admin\\Desktop\\diplomovka\\Code\\Model_staff\\myenv\\Lib\\site-packages\\statsmodels\\tsa\\base\\tsa_model.py:473: ValueWarning: No frequency information was provided, so inferred frequency YS-JAN will be used.\n",
      "  self._init_dates(dates, freq)\n",
      "C:\\Users\\admin\\AppData\\Local\\Temp\\ipykernel_7612\\3673667026.py:138: FutureWarning: the 'smoothing_slope' keyword is deprecated, use 'smoothing_trend' instead.\n",
      "  best_fitted_model = best_model.fit(\n"
     ]
    },
    {
     "name": "stdout",
     "output_type": "stream",
     "text": [
      "Best Parameters used for Czech Republic - Inflation (CPI): {'trend': 'mul', 'damped_trend': True, 'smoothing_level': 0.9, 'smoothing_slope': 0.9, 'initialization_method': None}\n",
      "Loaded best parameters for Czech Republic - Unemployment Rate (%) from ../best_params\\Unemployment Rate (%)\\Holt_Winters_Czech Republic.json: {'trend': 'mul', 'damped_trend': True, 'smoothing_level': None, 'smoothing_slope': 0.7, 'initialization_method': None}\n"
     ]
    },
    {
     "name": "stderr",
     "output_type": "stream",
     "text": [
      "c:\\Users\\admin\\Desktop\\diplomovka\\Code\\Model_staff\\myenv\\Lib\\site-packages\\statsmodels\\tsa\\base\\tsa_model.py:473: ValueWarning: No frequency information was provided, so inferred frequency YS-JAN will be used.\n",
      "  self._init_dates(dates, freq)\n",
      "C:\\Users\\admin\\AppData\\Local\\Temp\\ipykernel_7612\\3673667026.py:138: FutureWarning: the 'smoothing_slope' keyword is deprecated, use 'smoothing_trend' instead.\n",
      "  best_fitted_model = best_model.fit(\n"
     ]
    },
    {
     "name": "stdout",
     "output_type": "stream",
     "text": [
      "Best Parameters used for Czech Republic - Unemployment Rate (%): {'trend': 'mul', 'damped_trend': True, 'smoothing_level': None, 'smoothing_slope': 0.7, 'initialization_method': None}\n",
      "Loaded best parameters for Czech Republic - GDP growth (annual %) from ../best_params\\GDP growth (annual %)\\Holt_Winters_Czech Republic.json: {'trend': 'add', 'damped_trend': True, 'smoothing_level': 0.9, 'smoothing_slope': 0.7, 'initialization_method': None}\n"
     ]
    },
    {
     "name": "stderr",
     "output_type": "stream",
     "text": [
      "c:\\Users\\admin\\Desktop\\diplomovka\\Code\\Model_staff\\myenv\\Lib\\site-packages\\statsmodels\\tsa\\base\\tsa_model.py:473: ValueWarning: No frequency information was provided, so inferred frequency YS-JAN will be used.\n",
      "  self._init_dates(dates, freq)\n",
      "C:\\Users\\admin\\AppData\\Local\\Temp\\ipykernel_7612\\3673667026.py:138: FutureWarning: the 'smoothing_slope' keyword is deprecated, use 'smoothing_trend' instead.\n",
      "  best_fitted_model = best_model.fit(\n"
     ]
    },
    {
     "name": "stdout",
     "output_type": "stream",
     "text": [
      "Best Parameters used for Czech Republic - GDP growth (annual %): {'trend': 'add', 'damped_trend': True, 'smoothing_level': 0.9, 'smoothing_slope': 0.7, 'initialization_method': None}\n",
      "Loaded best parameters for Czech Republic - Imports of goods and services (% of GDP) from ../best_params\\Imports of goods and services (% of GDP)\\Holt_Winters_Czech Republic.json: {'trend': 'mul', 'damped_trend': True, 'smoothing_level': 0.7, 'smoothing_slope': 0.9, 'initialization_method': None}\n"
     ]
    },
    {
     "name": "stderr",
     "output_type": "stream",
     "text": [
      "c:\\Users\\admin\\Desktop\\diplomovka\\Code\\Model_staff\\myenv\\Lib\\site-packages\\statsmodels\\tsa\\base\\tsa_model.py:473: ValueWarning: No frequency information was provided, so inferred frequency YS-JAN will be used.\n",
      "  self._init_dates(dates, freq)\n",
      "C:\\Users\\admin\\AppData\\Local\\Temp\\ipykernel_7612\\3673667026.py:138: FutureWarning: the 'smoothing_slope' keyword is deprecated, use 'smoothing_trend' instead.\n",
      "  best_fitted_model = best_model.fit(\n"
     ]
    },
    {
     "name": "stdout",
     "output_type": "stream",
     "text": [
      "Best Parameters used for Czech Republic - Imports of goods and services (% of GDP): {'trend': 'mul', 'damped_trend': True, 'smoothing_level': 0.7, 'smoothing_slope': 0.9, 'initialization_method': None}\n",
      "Loaded best parameters for Czech Republic - Exports of goods and services (% of GDP) from ../best_params\\Exports of goods and services (% of GDP)\\Holt_Winters_Czech Republic.json: {'trend': 'mul', 'damped_trend': False, 'smoothing_level': 0.7, 'smoothing_slope': 0.9, 'initialization_method': None}\n"
     ]
    },
    {
     "name": "stderr",
     "output_type": "stream",
     "text": [
      "c:\\Users\\admin\\Desktop\\diplomovka\\Code\\Model_staff\\myenv\\Lib\\site-packages\\statsmodels\\tsa\\base\\tsa_model.py:473: ValueWarning: No frequency information was provided, so inferred frequency YS-JAN will be used.\n",
      "  self._init_dates(dates, freq)\n",
      "C:\\Users\\admin\\AppData\\Local\\Temp\\ipykernel_7612\\3673667026.py:138: FutureWarning: the 'smoothing_slope' keyword is deprecated, use 'smoothing_trend' instead.\n",
      "  best_fitted_model = best_model.fit(\n"
     ]
    },
    {
     "name": "stdout",
     "output_type": "stream",
     "text": [
      "Best Parameters used for Czech Republic - Exports of goods and services (% of GDP): {'trend': 'mul', 'damped_trend': False, 'smoothing_level': 0.7, 'smoothing_slope': 0.9, 'initialization_method': None}\n",
      "Loaded best parameters for Hungary - GDP per Capita (USD) from ../best_params\\GDP per Capita (USD)\\Holt_Winters_Hungary.json: {'trend': 'add', 'damped_trend': False, 'smoothing_level': 0.1, 'smoothing_slope': 0.1, 'initialization_method': None}\n"
     ]
    },
    {
     "name": "stderr",
     "output_type": "stream",
     "text": [
      "c:\\Users\\admin\\Desktop\\diplomovka\\Code\\Model_staff\\myenv\\Lib\\site-packages\\statsmodels\\tsa\\base\\tsa_model.py:473: ValueWarning: No frequency information was provided, so inferred frequency YS-JAN will be used.\n",
      "  self._init_dates(dates, freq)\n",
      "C:\\Users\\admin\\AppData\\Local\\Temp\\ipykernel_7612\\3673667026.py:138: FutureWarning: the 'smoothing_slope' keyword is deprecated, use 'smoothing_trend' instead.\n",
      "  best_fitted_model = best_model.fit(\n"
     ]
    },
    {
     "name": "stdout",
     "output_type": "stream",
     "text": [
      "Best Parameters used for Hungary - GDP per Capita (USD): {'trend': 'add', 'damped_trend': False, 'smoothing_level': 0.1, 'smoothing_slope': 0.1, 'initialization_method': None}\n",
      "Loaded best parameters for Hungary - GDP (USD) from ../best_params\\GDP (USD)\\Holt_Winters_Hungary.json: {'trend': 'add', 'damped_trend': False, 'smoothing_level': 0.1, 'smoothing_slope': 0.1, 'initialization_method': None}\n"
     ]
    },
    {
     "name": "stderr",
     "output_type": "stream",
     "text": [
      "c:\\Users\\admin\\Desktop\\diplomovka\\Code\\Model_staff\\myenv\\Lib\\site-packages\\statsmodels\\tsa\\base\\tsa_model.py:473: ValueWarning: No frequency information was provided, so inferred frequency YS-JAN will be used.\n",
      "  self._init_dates(dates, freq)\n",
      "C:\\Users\\admin\\AppData\\Local\\Temp\\ipykernel_7612\\3673667026.py:138: FutureWarning: the 'smoothing_slope' keyword is deprecated, use 'smoothing_trend' instead.\n",
      "  best_fitted_model = best_model.fit(\n"
     ]
    },
    {
     "name": "stdout",
     "output_type": "stream",
     "text": [
      "Best Parameters used for Hungary - GDP (USD): {'trend': 'add', 'damped_trend': False, 'smoothing_level': 0.1, 'smoothing_slope': 0.1, 'initialization_method': None}\n",
      "Loaded best parameters for Hungary - Inflation (CPI) from ../best_params\\Inflation (CPI)\\Holt_Winters_Hungary.json: {'trend': 'add', 'damped_trend': False, 'smoothing_level': 0.1, 'smoothing_slope': 0.7, 'initialization_method': None}\n"
     ]
    },
    {
     "name": "stderr",
     "output_type": "stream",
     "text": [
      "c:\\Users\\admin\\Desktop\\diplomovka\\Code\\Model_staff\\myenv\\Lib\\site-packages\\statsmodels\\tsa\\base\\tsa_model.py:473: ValueWarning: No frequency information was provided, so inferred frequency YS-JAN will be used.\n",
      "  self._init_dates(dates, freq)\n",
      "C:\\Users\\admin\\AppData\\Local\\Temp\\ipykernel_7612\\3673667026.py:138: FutureWarning: the 'smoothing_slope' keyword is deprecated, use 'smoothing_trend' instead.\n",
      "  best_fitted_model = best_model.fit(\n"
     ]
    },
    {
     "name": "stdout",
     "output_type": "stream",
     "text": [
      "Best Parameters used for Hungary - Inflation (CPI): {'trend': 'add', 'damped_trend': False, 'smoothing_level': 0.1, 'smoothing_slope': 0.7, 'initialization_method': None}\n",
      "Loaded best parameters for Hungary - Unemployment Rate (%) from ../best_params\\Unemployment Rate (%)\\Holt_Winters_Hungary.json: {'trend': 'mul', 'damped_trend': True, 'smoothing_level': None, 'smoothing_slope': 0.3, 'initialization_method': None}\n"
     ]
    },
    {
     "name": "stderr",
     "output_type": "stream",
     "text": [
      "c:\\Users\\admin\\Desktop\\diplomovka\\Code\\Model_staff\\myenv\\Lib\\site-packages\\statsmodels\\tsa\\base\\tsa_model.py:473: ValueWarning: No frequency information was provided, so inferred frequency YS-JAN will be used.\n",
      "  self._init_dates(dates, freq)\n",
      "C:\\Users\\admin\\AppData\\Local\\Temp\\ipykernel_7612\\3673667026.py:138: FutureWarning: the 'smoothing_slope' keyword is deprecated, use 'smoothing_trend' instead.\n",
      "  best_fitted_model = best_model.fit(\n"
     ]
    },
    {
     "name": "stdout",
     "output_type": "stream",
     "text": [
      "Best Parameters used for Hungary - Unemployment Rate (%): {'trend': 'mul', 'damped_trend': True, 'smoothing_level': None, 'smoothing_slope': 0.3, 'initialization_method': None}\n",
      "Loaded best parameters for Hungary - GDP growth (annual %) from ../best_params\\GDP growth (annual %)\\Holt_Winters_Hungary.json: {'trend': 'add', 'damped_trend': True, 'smoothing_level': 0.9, 'smoothing_slope': 0.3, 'initialization_method': None}\n"
     ]
    },
    {
     "name": "stderr",
     "output_type": "stream",
     "text": [
      "c:\\Users\\admin\\Desktop\\diplomovka\\Code\\Model_staff\\myenv\\Lib\\site-packages\\statsmodels\\tsa\\base\\tsa_model.py:473: ValueWarning: No frequency information was provided, so inferred frequency YS-JAN will be used.\n",
      "  self._init_dates(dates, freq)\n",
      "C:\\Users\\admin\\AppData\\Local\\Temp\\ipykernel_7612\\3673667026.py:138: FutureWarning: the 'smoothing_slope' keyword is deprecated, use 'smoothing_trend' instead.\n",
      "  best_fitted_model = best_model.fit(\n"
     ]
    },
    {
     "name": "stdout",
     "output_type": "stream",
     "text": [
      "Best Parameters used for Hungary - GDP growth (annual %): {'trend': 'add', 'damped_trend': True, 'smoothing_level': 0.9, 'smoothing_slope': 0.3, 'initialization_method': None}\n",
      "Loaded best parameters for Hungary - Imports of goods and services (% of GDP) from ../best_params\\Imports of goods and services (% of GDP)\\Holt_Winters_Hungary.json: {'trend': 'mul', 'damped_trend': True, 'smoothing_level': None, 'smoothing_slope': None, 'initialization_method': None}\n"
     ]
    },
    {
     "name": "stderr",
     "output_type": "stream",
     "text": [
      "c:\\Users\\admin\\Desktop\\diplomovka\\Code\\Model_staff\\myenv\\Lib\\site-packages\\statsmodels\\tsa\\base\\tsa_model.py:473: ValueWarning: No frequency information was provided, so inferred frequency YS-JAN will be used.\n",
      "  self._init_dates(dates, freq)\n"
     ]
    },
    {
     "name": "stdout",
     "output_type": "stream",
     "text": [
      "Best Parameters used for Hungary - Imports of goods and services (% of GDP): {'trend': 'mul', 'damped_trend': True, 'smoothing_level': None, 'smoothing_slope': None, 'initialization_method': None}\n",
      "Loaded best parameters for Hungary - Exports of goods and services (% of GDP) from ../best_params\\Exports of goods and services (% of GDP)\\Holt_Winters_Hungary.json: {'trend': 'mul', 'damped_trend': False, 'smoothing_level': 0.9, 'smoothing_slope': 0.9, 'initialization_method': None}\n"
     ]
    },
    {
     "name": "stderr",
     "output_type": "stream",
     "text": [
      "c:\\Users\\admin\\Desktop\\diplomovka\\Code\\Model_staff\\myenv\\Lib\\site-packages\\statsmodels\\tsa\\base\\tsa_model.py:473: ValueWarning: No frequency information was provided, so inferred frequency YS-JAN will be used.\n",
      "  self._init_dates(dates, freq)\n",
      "C:\\Users\\admin\\AppData\\Local\\Temp\\ipykernel_7612\\3673667026.py:138: FutureWarning: the 'smoothing_slope' keyword is deprecated, use 'smoothing_trend' instead.\n",
      "  best_fitted_model = best_model.fit(\n"
     ]
    },
    {
     "name": "stdout",
     "output_type": "stream",
     "text": [
      "Best Parameters used for Hungary - Exports of goods and services (% of GDP): {'trend': 'mul', 'damped_trend': False, 'smoothing_level': 0.9, 'smoothing_slope': 0.9, 'initialization_method': None}\n",
      "Loaded best parameters for Poland - GDP per Capita (USD) from ../best_params\\GDP per Capita (USD)\\Holt_Winters_Poland.json: {'trend': 'mul', 'damped_trend': True, 'smoothing_level': 0.5, 'smoothing_slope': 0.1, 'initialization_method': None}\n"
     ]
    },
    {
     "name": "stderr",
     "output_type": "stream",
     "text": [
      "c:\\Users\\admin\\Desktop\\diplomovka\\Code\\Model_staff\\myenv\\Lib\\site-packages\\statsmodels\\tsa\\base\\tsa_model.py:473: ValueWarning: No frequency information was provided, so inferred frequency YS-JAN will be used.\n",
      "  self._init_dates(dates, freq)\n",
      "C:\\Users\\admin\\AppData\\Local\\Temp\\ipykernel_7612\\3673667026.py:138: FutureWarning: the 'smoothing_slope' keyword is deprecated, use 'smoothing_trend' instead.\n",
      "  best_fitted_model = best_model.fit(\n",
      "c:\\Users\\admin\\Desktop\\diplomovka\\Code\\Model_staff\\myenv\\Lib\\site-packages\\statsmodels\\tsa\\holtwinters\\model.py:918: ConvergenceWarning: Optimization failed to converge. Check mle_retvals.\n",
      "  warnings.warn(\n"
     ]
    },
    {
     "name": "stdout",
     "output_type": "stream",
     "text": [
      "Best Parameters used for Poland - GDP per Capita (USD): {'trend': 'mul', 'damped_trend': True, 'smoothing_level': 0.5, 'smoothing_slope': 0.1, 'initialization_method': None}\n",
      "Loaded best parameters for Poland - GDP (USD) from ../best_params\\GDP (USD)\\Holt_Winters_Poland.json: {'trend': 'mul', 'damped_trend': False, 'smoothing_level': 0.7, 'smoothing_slope': 0.1, 'initialization_method': None}\n"
     ]
    },
    {
     "name": "stderr",
     "output_type": "stream",
     "text": [
      "c:\\Users\\admin\\Desktop\\diplomovka\\Code\\Model_staff\\myenv\\Lib\\site-packages\\statsmodels\\tsa\\base\\tsa_model.py:473: ValueWarning: No frequency information was provided, so inferred frequency YS-JAN will be used.\n",
      "  self._init_dates(dates, freq)\n",
      "C:\\Users\\admin\\AppData\\Local\\Temp\\ipykernel_7612\\3673667026.py:138: FutureWarning: the 'smoothing_slope' keyword is deprecated, use 'smoothing_trend' instead.\n",
      "  best_fitted_model = best_model.fit(\n",
      "c:\\Users\\admin\\Desktop\\diplomovka\\Code\\Model_staff\\myenv\\Lib\\site-packages\\statsmodels\\tsa\\holtwinters\\model.py:918: ConvergenceWarning: Optimization failed to converge. Check mle_retvals.\n",
      "  warnings.warn(\n"
     ]
    },
    {
     "name": "stdout",
     "output_type": "stream",
     "text": [
      "Best Parameters used for Poland - GDP (USD): {'trend': 'mul', 'damped_trend': False, 'smoothing_level': 0.7, 'smoothing_slope': 0.1, 'initialization_method': None}\n",
      "Loaded best parameters for Poland - Inflation (CPI) from ../best_params\\Inflation (CPI)\\Holt_Winters_Poland.json: {'trend': 'add', 'damped_trend': False, 'smoothing_level': 0.5, 'smoothing_slope': 0.5, 'initialization_method': None}\n"
     ]
    },
    {
     "name": "stderr",
     "output_type": "stream",
     "text": [
      "c:\\Users\\admin\\Desktop\\diplomovka\\Code\\Model_staff\\myenv\\Lib\\site-packages\\statsmodels\\tsa\\base\\tsa_model.py:473: ValueWarning: No frequency information was provided, so inferred frequency YS-JAN will be used.\n",
      "  self._init_dates(dates, freq)\n",
      "C:\\Users\\admin\\AppData\\Local\\Temp\\ipykernel_7612\\3673667026.py:138: FutureWarning: the 'smoothing_slope' keyword is deprecated, use 'smoothing_trend' instead.\n",
      "  best_fitted_model = best_model.fit(\n"
     ]
    },
    {
     "name": "stdout",
     "output_type": "stream",
     "text": [
      "Best Parameters used for Poland - Inflation (CPI): {'trend': 'add', 'damped_trend': False, 'smoothing_level': 0.5, 'smoothing_slope': 0.5, 'initialization_method': None}\n",
      "Loaded best parameters for Poland - Unemployment Rate (%) from ../best_params\\Unemployment Rate (%)\\Holt_Winters_Poland.json: {'trend': 'add', 'damped_trend': True, 'smoothing_level': None, 'smoothing_slope': 0.7, 'initialization_method': None}\n"
     ]
    },
    {
     "name": "stderr",
     "output_type": "stream",
     "text": [
      "c:\\Users\\admin\\Desktop\\diplomovka\\Code\\Model_staff\\myenv\\Lib\\site-packages\\statsmodels\\tsa\\base\\tsa_model.py:473: ValueWarning: No frequency information was provided, so inferred frequency YS-JAN will be used.\n",
      "  self._init_dates(dates, freq)\n",
      "C:\\Users\\admin\\AppData\\Local\\Temp\\ipykernel_7612\\3673667026.py:138: FutureWarning: the 'smoothing_slope' keyword is deprecated, use 'smoothing_trend' instead.\n",
      "  best_fitted_model = best_model.fit(\n"
     ]
    },
    {
     "name": "stdout",
     "output_type": "stream",
     "text": [
      "Best Parameters used for Poland - Unemployment Rate (%): {'trend': 'add', 'damped_trend': True, 'smoothing_level': None, 'smoothing_slope': 0.7, 'initialization_method': None}\n",
      "Loaded best parameters for Poland - GDP growth (annual %) from ../best_params\\GDP growth (annual %)\\Holt_Winters_Poland.json: {'trend': 'add', 'damped_trend': False, 'smoothing_level': 0.7, 'smoothing_slope': 0.9, 'initialization_method': None}\n"
     ]
    },
    {
     "name": "stderr",
     "output_type": "stream",
     "text": [
      "c:\\Users\\admin\\Desktop\\diplomovka\\Code\\Model_staff\\myenv\\Lib\\site-packages\\statsmodels\\tsa\\base\\tsa_model.py:473: ValueWarning: No frequency information was provided, so inferred frequency YS-JAN will be used.\n",
      "  self._init_dates(dates, freq)\n",
      "C:\\Users\\admin\\AppData\\Local\\Temp\\ipykernel_7612\\3673667026.py:138: FutureWarning: the 'smoothing_slope' keyword is deprecated, use 'smoothing_trend' instead.\n",
      "  best_fitted_model = best_model.fit(\n"
     ]
    },
    {
     "name": "stdout",
     "output_type": "stream",
     "text": [
      "Best Parameters used for Poland - GDP growth (annual %): {'trend': 'add', 'damped_trend': False, 'smoothing_level': 0.7, 'smoothing_slope': 0.9, 'initialization_method': None}\n",
      "Loaded best parameters for Poland - Imports of goods and services (% of GDP) from ../best_params\\Imports of goods and services (% of GDP)\\Holt_Winters_Poland.json: {'trend': 'mul', 'damped_trend': False, 'smoothing_level': 0.5, 'smoothing_slope': 0.7, 'initialization_method': None}\n"
     ]
    },
    {
     "name": "stderr",
     "output_type": "stream",
     "text": [
      "c:\\Users\\admin\\Desktop\\diplomovka\\Code\\Model_staff\\myenv\\Lib\\site-packages\\statsmodels\\tsa\\base\\tsa_model.py:473: ValueWarning: No frequency information was provided, so inferred frequency YS-JAN will be used.\n",
      "  self._init_dates(dates, freq)\n",
      "C:\\Users\\admin\\AppData\\Local\\Temp\\ipykernel_7612\\3673667026.py:138: FutureWarning: the 'smoothing_slope' keyword is deprecated, use 'smoothing_trend' instead.\n",
      "  best_fitted_model = best_model.fit(\n"
     ]
    },
    {
     "name": "stdout",
     "output_type": "stream",
     "text": [
      "Best Parameters used for Poland - Imports of goods and services (% of GDP): {'trend': 'mul', 'damped_trend': False, 'smoothing_level': 0.5, 'smoothing_slope': 0.7, 'initialization_method': None}\n",
      "Loaded best parameters for Poland - Exports of goods and services (% of GDP) from ../best_params\\Exports of goods and services (% of GDP)\\Holt_Winters_Poland.json: {'trend': 'mul', 'damped_trend': True, 'smoothing_level': 0.1, 'smoothing_slope': 0.7, 'initialization_method': None}\n"
     ]
    },
    {
     "name": "stderr",
     "output_type": "stream",
     "text": [
      "c:\\Users\\admin\\Desktop\\diplomovka\\Code\\Model_staff\\myenv\\Lib\\site-packages\\statsmodels\\tsa\\base\\tsa_model.py:473: ValueWarning: No frequency information was provided, so inferred frequency YS-JAN will be used.\n",
      "  self._init_dates(dates, freq)\n",
      "C:\\Users\\admin\\AppData\\Local\\Temp\\ipykernel_7612\\3673667026.py:138: FutureWarning: the 'smoothing_slope' keyword is deprecated, use 'smoothing_trend' instead.\n",
      "  best_fitted_model = best_model.fit(\n"
     ]
    },
    {
     "name": "stdout",
     "output_type": "stream",
     "text": [
      "Best Parameters used for Poland - Exports of goods and services (% of GDP): {'trend': 'mul', 'damped_trend': True, 'smoothing_level': 0.1, 'smoothing_slope': 0.7, 'initialization_method': None}\n",
      "Loaded best parameters for Slovakia - GDP per Capita (USD) from ../best_params\\GDP per Capita (USD)\\Holt_Winters_Slovakia.json: {'trend': 'mul', 'damped_trend': True, 'smoothing_level': 0.7, 'smoothing_slope': 0.1, 'initialization_method': None}\n"
     ]
    },
    {
     "name": "stderr",
     "output_type": "stream",
     "text": [
      "c:\\Users\\admin\\Desktop\\diplomovka\\Code\\Model_staff\\myenv\\Lib\\site-packages\\statsmodels\\tsa\\base\\tsa_model.py:473: ValueWarning: No frequency information was provided, so inferred frequency YS-JAN will be used.\n",
      "  self._init_dates(dates, freq)\n",
      "C:\\Users\\admin\\AppData\\Local\\Temp\\ipykernel_7612\\3673667026.py:138: FutureWarning: the 'smoothing_slope' keyword is deprecated, use 'smoothing_trend' instead.\n",
      "  best_fitted_model = best_model.fit(\n",
      "c:\\Users\\admin\\Desktop\\diplomovka\\Code\\Model_staff\\myenv\\Lib\\site-packages\\statsmodels\\tsa\\holtwinters\\model.py:918: ConvergenceWarning: Optimization failed to converge. Check mle_retvals.\n",
      "  warnings.warn(\n"
     ]
    },
    {
     "name": "stdout",
     "output_type": "stream",
     "text": [
      "Best Parameters used for Slovakia - GDP per Capita (USD): {'trend': 'mul', 'damped_trend': True, 'smoothing_level': 0.7, 'smoothing_slope': 0.1, 'initialization_method': None}\n",
      "Loaded best parameters for Slovakia - GDP (USD) from ../best_params\\GDP (USD)\\Holt_Winters_Slovakia.json: {'trend': 'mul', 'damped_trend': True, 'smoothing_level': 0.7, 'smoothing_slope': 0.1, 'initialization_method': None}\n"
     ]
    },
    {
     "name": "stderr",
     "output_type": "stream",
     "text": [
      "c:\\Users\\admin\\Desktop\\diplomovka\\Code\\Model_staff\\myenv\\Lib\\site-packages\\statsmodels\\tsa\\base\\tsa_model.py:473: ValueWarning: No frequency information was provided, so inferred frequency YS-JAN will be used.\n",
      "  self._init_dates(dates, freq)\n",
      "C:\\Users\\admin\\AppData\\Local\\Temp\\ipykernel_7612\\3673667026.py:138: FutureWarning: the 'smoothing_slope' keyword is deprecated, use 'smoothing_trend' instead.\n",
      "  best_fitted_model = best_model.fit(\n",
      "c:\\Users\\admin\\Desktop\\diplomovka\\Code\\Model_staff\\myenv\\Lib\\site-packages\\statsmodels\\tsa\\holtwinters\\model.py:918: ConvergenceWarning: Optimization failed to converge. Check mle_retvals.\n",
      "  warnings.warn(\n"
     ]
    },
    {
     "name": "stdout",
     "output_type": "stream",
     "text": [
      "Best Parameters used for Slovakia - GDP (USD): {'trend': 'mul', 'damped_trend': True, 'smoothing_level': 0.7, 'smoothing_slope': 0.1, 'initialization_method': None}\n",
      "Loaded best parameters for Slovakia - Inflation (CPI) from ../best_params\\Inflation (CPI)\\Holt_Winters_Slovakia.json: {'trend': None, 'damped_trend': False, 'smoothing_level': 0.1, 'smoothing_slope': None, 'initialization_method': None}\n"
     ]
    },
    {
     "name": "stderr",
     "output_type": "stream",
     "text": [
      "c:\\Users\\admin\\Desktop\\diplomovka\\Code\\Model_staff\\myenv\\Lib\\site-packages\\statsmodels\\tsa\\base\\tsa_model.py:473: ValueWarning: No frequency information was provided, so inferred frequency YS-JAN will be used.\n",
      "  self._init_dates(dates, freq)\n"
     ]
    },
    {
     "name": "stdout",
     "output_type": "stream",
     "text": [
      "Best Parameters used for Slovakia - Inflation (CPI): {'trend': None, 'damped_trend': False, 'smoothing_level': 0.1, 'smoothing_slope': None, 'initialization_method': None}\n",
      "Loaded best parameters for Slovakia - Unemployment Rate (%) from ../best_params\\Unemployment Rate (%)\\Holt_Winters_Slovakia.json: {'trend': 'mul', 'damped_trend': True, 'smoothing_level': None, 'smoothing_slope': 0.9, 'initialization_method': None}\n"
     ]
    },
    {
     "name": "stderr",
     "output_type": "stream",
     "text": [
      "c:\\Users\\admin\\Desktop\\diplomovka\\Code\\Model_staff\\myenv\\Lib\\site-packages\\statsmodels\\tsa\\base\\tsa_model.py:473: ValueWarning: No frequency information was provided, so inferred frequency YS-JAN will be used.\n",
      "  self._init_dates(dates, freq)\n",
      "C:\\Users\\admin\\AppData\\Local\\Temp\\ipykernel_7612\\3673667026.py:138: FutureWarning: the 'smoothing_slope' keyword is deprecated, use 'smoothing_trend' instead.\n",
      "  best_fitted_model = best_model.fit(\n"
     ]
    },
    {
     "name": "stdout",
     "output_type": "stream",
     "text": [
      "Best Parameters used for Slovakia - Unemployment Rate (%): {'trend': 'mul', 'damped_trend': True, 'smoothing_level': None, 'smoothing_slope': 0.9, 'initialization_method': None}\n",
      "Loaded best parameters for Slovakia - GDP growth (annual %) from ../best_params\\GDP growth (annual %)\\Holt_Winters_Slovakia.json: {'trend': 'add', 'damped_trend': False, 'smoothing_level': 0.7, 'smoothing_slope': 0.7, 'initialization_method': None}\n"
     ]
    },
    {
     "name": "stderr",
     "output_type": "stream",
     "text": [
      "c:\\Users\\admin\\Desktop\\diplomovka\\Code\\Model_staff\\myenv\\Lib\\site-packages\\statsmodels\\tsa\\base\\tsa_model.py:473: ValueWarning: No frequency information was provided, so inferred frequency YS-JAN will be used.\n",
      "  self._init_dates(dates, freq)\n",
      "C:\\Users\\admin\\AppData\\Local\\Temp\\ipykernel_7612\\3673667026.py:138: FutureWarning: the 'smoothing_slope' keyword is deprecated, use 'smoothing_trend' instead.\n",
      "  best_fitted_model = best_model.fit(\n"
     ]
    },
    {
     "name": "stdout",
     "output_type": "stream",
     "text": [
      "Best Parameters used for Slovakia - GDP growth (annual %): {'trend': 'add', 'damped_trend': False, 'smoothing_level': 0.7, 'smoothing_slope': 0.7, 'initialization_method': None}\n",
      "Loaded best parameters for Slovakia - Imports of goods and services (% of GDP) from ../best_params\\Imports of goods and services (% of GDP)\\Holt_Winters_Slovakia.json: {'trend': 'add', 'damped_trend': False, 'smoothing_level': 0.5, 'smoothing_slope': 0.9, 'initialization_method': None}\n"
     ]
    },
    {
     "name": "stderr",
     "output_type": "stream",
     "text": [
      "c:\\Users\\admin\\Desktop\\diplomovka\\Code\\Model_staff\\myenv\\Lib\\site-packages\\statsmodels\\tsa\\base\\tsa_model.py:473: ValueWarning: No frequency information was provided, so inferred frequency YS-JAN will be used.\n",
      "  self._init_dates(dates, freq)\n",
      "C:\\Users\\admin\\AppData\\Local\\Temp\\ipykernel_7612\\3673667026.py:138: FutureWarning: the 'smoothing_slope' keyword is deprecated, use 'smoothing_trend' instead.\n",
      "  best_fitted_model = best_model.fit(\n"
     ]
    },
    {
     "name": "stdout",
     "output_type": "stream",
     "text": [
      "Best Parameters used for Slovakia - Imports of goods and services (% of GDP): {'trend': 'add', 'damped_trend': False, 'smoothing_level': 0.5, 'smoothing_slope': 0.9, 'initialization_method': None}\n",
      "Loaded best parameters for Slovakia - Exports of goods and services (% of GDP) from ../best_params\\Exports of goods and services (% of GDP)\\Holt_Winters_Slovakia.json: {'trend': None, 'damped_trend': False, 'smoothing_level': None, 'smoothing_slope': None, 'initialization_method': None}\n"
     ]
    },
    {
     "name": "stderr",
     "output_type": "stream",
     "text": [
      "c:\\Users\\admin\\Desktop\\diplomovka\\Code\\Model_staff\\myenv\\Lib\\site-packages\\statsmodels\\tsa\\base\\tsa_model.py:473: ValueWarning: No frequency information was provided, so inferred frequency YS-JAN will be used.\n",
      "  self._init_dates(dates, freq)\n"
     ]
    },
    {
     "name": "stdout",
     "output_type": "stream",
     "text": [
      "Best Parameters used for Slovakia - Exports of goods and services (% of GDP): {'trend': None, 'damped_trend': False, 'smoothing_level': None, 'smoothing_slope': None, 'initialization_method': None}\n",
      "Loaded best parameters for Germany - GDP per Capita (USD) from ../best_params\\GDP per Capita (USD)\\Holt_Winters_Germany.json: {'trend': 'add', 'damped_trend': True, 'smoothing_level': 0.9, 'smoothing_slope': 0.3, 'initialization_method': None}\n"
     ]
    },
    {
     "name": "stderr",
     "output_type": "stream",
     "text": [
      "c:\\Users\\admin\\Desktop\\diplomovka\\Code\\Model_staff\\myenv\\Lib\\site-packages\\statsmodels\\tsa\\base\\tsa_model.py:473: ValueWarning: No frequency information was provided, so inferred frequency YS-JAN will be used.\n",
      "  self._init_dates(dates, freq)\n",
      "C:\\Users\\admin\\AppData\\Local\\Temp\\ipykernel_7612\\3673667026.py:138: FutureWarning: the 'smoothing_slope' keyword is deprecated, use 'smoothing_trend' instead.\n",
      "  best_fitted_model = best_model.fit(\n",
      "c:\\Users\\admin\\Desktop\\diplomovka\\Code\\Model_staff\\myenv\\Lib\\site-packages\\statsmodels\\tsa\\holtwinters\\model.py:918: ConvergenceWarning: Optimization failed to converge. Check mle_retvals.\n",
      "  warnings.warn(\n"
     ]
    },
    {
     "name": "stdout",
     "output_type": "stream",
     "text": [
      "Best Parameters used for Germany - GDP per Capita (USD): {'trend': 'add', 'damped_trend': True, 'smoothing_level': 0.9, 'smoothing_slope': 0.3, 'initialization_method': None}\n",
      "Loaded best parameters for Germany - GDP (USD) from ../best_params\\GDP (USD)\\Holt_Winters_Germany.json: {'trend': 'add', 'damped_trend': False, 'smoothing_level': 0.9, 'smoothing_slope': 0.3, 'initialization_method': None}\n"
     ]
    },
    {
     "name": "stderr",
     "output_type": "stream",
     "text": [
      "c:\\Users\\admin\\Desktop\\diplomovka\\Code\\Model_staff\\myenv\\Lib\\site-packages\\statsmodels\\tsa\\base\\tsa_model.py:473: ValueWarning: No frequency information was provided, so inferred frequency YS-JAN will be used.\n",
      "  self._init_dates(dates, freq)\n",
      "C:\\Users\\admin\\AppData\\Local\\Temp\\ipykernel_7612\\3673667026.py:138: FutureWarning: the 'smoothing_slope' keyword is deprecated, use 'smoothing_trend' instead.\n",
      "  best_fitted_model = best_model.fit(\n"
     ]
    },
    {
     "name": "stdout",
     "output_type": "stream",
     "text": [
      "Best Parameters used for Germany - GDP (USD): {'trend': 'add', 'damped_trend': False, 'smoothing_level': 0.9, 'smoothing_slope': 0.3, 'initialization_method': None}\n",
      "Loaded best parameters for Germany - Inflation (CPI) from ../best_params\\Inflation (CPI)\\Holt_Winters_Germany.json: {'trend': 'add', 'damped_trend': False, 'smoothing_level': None, 'smoothing_slope': 0.9, 'initialization_method': None}\n"
     ]
    },
    {
     "name": "stderr",
     "output_type": "stream",
     "text": [
      "c:\\Users\\admin\\Desktop\\diplomovka\\Code\\Model_staff\\myenv\\Lib\\site-packages\\statsmodels\\tsa\\base\\tsa_model.py:473: ValueWarning: No frequency information was provided, so inferred frequency YS-JAN will be used.\n",
      "  self._init_dates(dates, freq)\n",
      "C:\\Users\\admin\\AppData\\Local\\Temp\\ipykernel_7612\\3673667026.py:138: FutureWarning: the 'smoothing_slope' keyword is deprecated, use 'smoothing_trend' instead.\n",
      "  best_fitted_model = best_model.fit(\n"
     ]
    },
    {
     "name": "stdout",
     "output_type": "stream",
     "text": [
      "Best Parameters used for Germany - Inflation (CPI): {'trend': 'add', 'damped_trend': False, 'smoothing_level': None, 'smoothing_slope': 0.9, 'initialization_method': None}\n",
      "Loaded best parameters for Germany - Unemployment Rate (%) from ../best_params\\Unemployment Rate (%)\\Holt_Winters_Germany.json: {'trend': 'mul', 'damped_trend': True, 'smoothing_level': None, 'smoothing_slope': 0.5, 'initialization_method': None}\n"
     ]
    },
    {
     "name": "stderr",
     "output_type": "stream",
     "text": [
      "c:\\Users\\admin\\Desktop\\diplomovka\\Code\\Model_staff\\myenv\\Lib\\site-packages\\statsmodels\\tsa\\base\\tsa_model.py:473: ValueWarning: No frequency information was provided, so inferred frequency YS-JAN will be used.\n",
      "  self._init_dates(dates, freq)\n",
      "C:\\Users\\admin\\AppData\\Local\\Temp\\ipykernel_7612\\3673667026.py:138: FutureWarning: the 'smoothing_slope' keyword is deprecated, use 'smoothing_trend' instead.\n",
      "  best_fitted_model = best_model.fit(\n"
     ]
    },
    {
     "name": "stdout",
     "output_type": "stream",
     "text": [
      "Best Parameters used for Germany - Unemployment Rate (%): {'trend': 'mul', 'damped_trend': True, 'smoothing_level': None, 'smoothing_slope': 0.5, 'initialization_method': None}\n",
      "Loaded best parameters for Germany - GDP growth (annual %) from ../best_params\\GDP growth (annual %)\\Holt_Winters_Germany.json: {'trend': 'add', 'damped_trend': False, 'smoothing_level': 0.7, 'smoothing_slope': None, 'initialization_method': None}\n"
     ]
    },
    {
     "name": "stderr",
     "output_type": "stream",
     "text": [
      "c:\\Users\\admin\\Desktop\\diplomovka\\Code\\Model_staff\\myenv\\Lib\\site-packages\\statsmodels\\tsa\\base\\tsa_model.py:473: ValueWarning: No frequency information was provided, so inferred frequency YS-JAN will be used.\n",
      "  self._init_dates(dates, freq)\n"
     ]
    },
    {
     "name": "stdout",
     "output_type": "stream",
     "text": [
      "Best Parameters used for Germany - GDP growth (annual %): {'trend': 'add', 'damped_trend': False, 'smoothing_level': 0.7, 'smoothing_slope': None, 'initialization_method': None}\n",
      "Loaded best parameters for Germany - Imports of goods and services (% of GDP) from ../best_params\\Imports of goods and services (% of GDP)\\Holt_Winters_Germany.json: {'trend': 'add', 'damped_trend': True, 'smoothing_level': 0.1, 'smoothing_slope': 0.1, 'initialization_method': None}\n"
     ]
    },
    {
     "name": "stderr",
     "output_type": "stream",
     "text": [
      "c:\\Users\\admin\\Desktop\\diplomovka\\Code\\Model_staff\\myenv\\Lib\\site-packages\\statsmodels\\tsa\\base\\tsa_model.py:473: ValueWarning: No frequency information was provided, so inferred frequency YS-JAN will be used.\n",
      "  self._init_dates(dates, freq)\n",
      "C:\\Users\\admin\\AppData\\Local\\Temp\\ipykernel_7612\\3673667026.py:138: FutureWarning: the 'smoothing_slope' keyword is deprecated, use 'smoothing_trend' instead.\n",
      "  best_fitted_model = best_model.fit(\n"
     ]
    },
    {
     "name": "stdout",
     "output_type": "stream",
     "text": [
      "Best Parameters used for Germany - Imports of goods and services (% of GDP): {'trend': 'add', 'damped_trend': True, 'smoothing_level': 0.1, 'smoothing_slope': 0.1, 'initialization_method': None}\n",
      "Loaded best parameters for Germany - Exports of goods and services (% of GDP) from ../best_params\\Exports of goods and services (% of GDP)\\Holt_Winters_Germany.json: {'trend': None, 'damped_trend': False, 'smoothing_level': 0.9, 'smoothing_slope': None, 'initialization_method': None}\n"
     ]
    },
    {
     "name": "stderr",
     "output_type": "stream",
     "text": [
      "c:\\Users\\admin\\Desktop\\diplomovka\\Code\\Model_staff\\myenv\\Lib\\site-packages\\statsmodels\\tsa\\base\\tsa_model.py:473: ValueWarning: No frequency information was provided, so inferred frequency YS-JAN will be used.\n",
      "  self._init_dates(dates, freq)\n"
     ]
    },
    {
     "name": "stdout",
     "output_type": "stream",
     "text": [
      "Best Parameters used for Germany - Exports of goods and services (% of GDP): {'trend': None, 'damped_trend': False, 'smoothing_level': 0.9, 'smoothing_slope': None, 'initialization_method': None}\n",
      "Loaded best parameters for Austria - GDP per Capita (USD) from ../best_params\\GDP per Capita (USD)\\Holt_Winters_Austria.json: {'trend': 'mul', 'damped_trend': False, 'smoothing_level': 0.7, 'smoothing_slope': 0.5, 'initialization_method': None}\n"
     ]
    },
    {
     "name": "stderr",
     "output_type": "stream",
     "text": [
      "c:\\Users\\admin\\Desktop\\diplomovka\\Code\\Model_staff\\myenv\\Lib\\site-packages\\statsmodels\\tsa\\base\\tsa_model.py:473: ValueWarning: No frequency information was provided, so inferred frequency YS-JAN will be used.\n",
      "  self._init_dates(dates, freq)\n",
      "C:\\Users\\admin\\AppData\\Local\\Temp\\ipykernel_7612\\3673667026.py:138: FutureWarning: the 'smoothing_slope' keyword is deprecated, use 'smoothing_trend' instead.\n",
      "  best_fitted_model = best_model.fit(\n"
     ]
    },
    {
     "name": "stdout",
     "output_type": "stream",
     "text": [
      "Best Parameters used for Austria - GDP per Capita (USD): {'trend': 'mul', 'damped_trend': False, 'smoothing_level': 0.7, 'smoothing_slope': 0.5, 'initialization_method': None}\n",
      "Loaded best parameters for Austria - GDP (USD) from ../best_params\\GDP (USD)\\Holt_Winters_Austria.json: {'trend': 'add', 'damped_trend': True, 'smoothing_level': None, 'smoothing_slope': 0.3, 'initialization_method': None}\n"
     ]
    },
    {
     "name": "stderr",
     "output_type": "stream",
     "text": [
      "c:\\Users\\admin\\Desktop\\diplomovka\\Code\\Model_staff\\myenv\\Lib\\site-packages\\statsmodels\\tsa\\base\\tsa_model.py:473: ValueWarning: No frequency information was provided, so inferred frequency YS-JAN will be used.\n",
      "  self._init_dates(dates, freq)\n",
      "C:\\Users\\admin\\AppData\\Local\\Temp\\ipykernel_7612\\3673667026.py:138: FutureWarning: the 'smoothing_slope' keyword is deprecated, use 'smoothing_trend' instead.\n",
      "  best_fitted_model = best_model.fit(\n",
      "c:\\Users\\admin\\Desktop\\diplomovka\\Code\\Model_staff\\myenv\\Lib\\site-packages\\statsmodels\\tsa\\holtwinters\\model.py:918: ConvergenceWarning: Optimization failed to converge. Check mle_retvals.\n",
      "  warnings.warn(\n"
     ]
    },
    {
     "name": "stdout",
     "output_type": "stream",
     "text": [
      "Best Parameters used for Austria - GDP (USD): {'trend': 'add', 'damped_trend': True, 'smoothing_level': None, 'smoothing_slope': 0.3, 'initialization_method': None}\n",
      "Loaded best parameters for Austria - Inflation (CPI) from ../best_params\\Inflation (CPI)\\Holt_Winters_Austria.json: {'trend': 'mul', 'damped_trend': False, 'smoothing_level': None, 'smoothing_slope': 0.3, 'initialization_method': None}\n",
      "Best Parameters used for Austria - Inflation (CPI): {'trend': 'mul', 'damped_trend': False, 'smoothing_level': None, 'smoothing_slope': 0.3, 'initialization_method': None}\n",
      "Loaded best parameters for Austria - Unemployment Rate (%) from ../best_params\\Unemployment Rate (%)\\Holt_Winters_Austria.json: {'trend': 'mul', 'damped_trend': True, 'smoothing_level': 0.1, 'smoothing_slope': 0.3, 'initialization_method': None}\n"
     ]
    },
    {
     "name": "stderr",
     "output_type": "stream",
     "text": [
      "c:\\Users\\admin\\Desktop\\diplomovka\\Code\\Model_staff\\myenv\\Lib\\site-packages\\statsmodels\\tsa\\base\\tsa_model.py:473: ValueWarning: No frequency information was provided, so inferred frequency YS-JAN will be used.\n",
      "  self._init_dates(dates, freq)\n",
      "C:\\Users\\admin\\AppData\\Local\\Temp\\ipykernel_7612\\3673667026.py:138: FutureWarning: the 'smoothing_slope' keyword is deprecated, use 'smoothing_trend' instead.\n",
      "  best_fitted_model = best_model.fit(\n",
      "c:\\Users\\admin\\Desktop\\diplomovka\\Code\\Model_staff\\myenv\\Lib\\site-packages\\statsmodels\\tsa\\base\\tsa_model.py:473: ValueWarning: No frequency information was provided, so inferred frequency YS-JAN will be used.\n",
      "  self._init_dates(dates, freq)\n",
      "C:\\Users\\admin\\AppData\\Local\\Temp\\ipykernel_7612\\3673667026.py:138: FutureWarning: the 'smoothing_slope' keyword is deprecated, use 'smoothing_trend' instead.\n",
      "  best_fitted_model = best_model.fit(\n"
     ]
    },
    {
     "name": "stdout",
     "output_type": "stream",
     "text": [
      "Best Parameters used for Austria - Unemployment Rate (%): {'trend': 'mul', 'damped_trend': True, 'smoothing_level': 0.1, 'smoothing_slope': 0.3, 'initialization_method': None}\n",
      "Loaded best parameters for Austria - GDP growth (annual %) from ../best_params\\GDP growth (annual %)\\Holt_Winters_Austria.json: {'trend': 'add', 'damped_trend': True, 'smoothing_level': 0.1, 'smoothing_slope': 0.3, 'initialization_method': None}\n"
     ]
    },
    {
     "name": "stderr",
     "output_type": "stream",
     "text": [
      "c:\\Users\\admin\\Desktop\\diplomovka\\Code\\Model_staff\\myenv\\Lib\\site-packages\\statsmodels\\tsa\\base\\tsa_model.py:473: ValueWarning: No frequency information was provided, so inferred frequency YS-JAN will be used.\n",
      "  self._init_dates(dates, freq)\n",
      "C:\\Users\\admin\\AppData\\Local\\Temp\\ipykernel_7612\\3673667026.py:138: FutureWarning: the 'smoothing_slope' keyword is deprecated, use 'smoothing_trend' instead.\n",
      "  best_fitted_model = best_model.fit(\n"
     ]
    },
    {
     "name": "stdout",
     "output_type": "stream",
     "text": [
      "Best Parameters used for Austria - GDP growth (annual %): {'trend': 'add', 'damped_trend': True, 'smoothing_level': 0.1, 'smoothing_slope': 0.3, 'initialization_method': None}\n",
      "Loaded best parameters for Austria - Imports of goods and services (% of GDP) from ../best_params\\Imports of goods and services (% of GDP)\\Holt_Winters_Austria.json: {'trend': 'add', 'damped_trend': False, 'smoothing_level': 0.1, 'smoothing_slope': 0.1, 'initialization_method': None}\n"
     ]
    },
    {
     "name": "stderr",
     "output_type": "stream",
     "text": [
      "c:\\Users\\admin\\Desktop\\diplomovka\\Code\\Model_staff\\myenv\\Lib\\site-packages\\statsmodels\\tsa\\base\\tsa_model.py:473: ValueWarning: No frequency information was provided, so inferred frequency YS-JAN will be used.\n",
      "  self._init_dates(dates, freq)\n",
      "C:\\Users\\admin\\AppData\\Local\\Temp\\ipykernel_7612\\3673667026.py:138: FutureWarning: the 'smoothing_slope' keyword is deprecated, use 'smoothing_trend' instead.\n",
      "  best_fitted_model = best_model.fit(\n"
     ]
    },
    {
     "name": "stdout",
     "output_type": "stream",
     "text": [
      "Best Parameters used for Austria - Imports of goods and services (% of GDP): {'trend': 'add', 'damped_trend': False, 'smoothing_level': 0.1, 'smoothing_slope': 0.1, 'initialization_method': None}\n",
      "Loaded best parameters for Austria - Exports of goods and services (% of GDP) from ../best_params\\Exports of goods and services (% of GDP)\\Holt_Winters_Austria.json: {'trend': 'add', 'damped_trend': False, 'smoothing_level': 0.3, 'smoothing_slope': 0.5, 'initialization_method': None}\n"
     ]
    },
    {
     "name": "stderr",
     "output_type": "stream",
     "text": [
      "c:\\Users\\admin\\Desktop\\diplomovka\\Code\\Model_staff\\myenv\\Lib\\site-packages\\statsmodels\\tsa\\base\\tsa_model.py:473: ValueWarning: No frequency information was provided, so inferred frequency YS-JAN will be used.\n",
      "  self._init_dates(dates, freq)\n",
      "C:\\Users\\admin\\AppData\\Local\\Temp\\ipykernel_7612\\3673667026.py:138: FutureWarning: the 'smoothing_slope' keyword is deprecated, use 'smoothing_trend' instead.\n",
      "  best_fitted_model = best_model.fit(\n"
     ]
    },
    {
     "name": "stdout",
     "output_type": "stream",
     "text": [
      "Best Parameters used for Austria - Exports of goods and services (% of GDP): {'trend': 'add', 'damped_trend': False, 'smoothing_level': 0.3, 'smoothing_slope': 0.5, 'initialization_method': None}\n",
      "Loaded best parameters for France - GDP per Capita (USD) from ../best_params\\GDP per Capita (USD)\\Holt_Winters_France.json: {'trend': None, 'damped_trend': False, 'smoothing_level': 0.7, 'smoothing_slope': None, 'initialization_method': None}\n"
     ]
    },
    {
     "name": "stderr",
     "output_type": "stream",
     "text": [
      "c:\\Users\\admin\\Desktop\\diplomovka\\Code\\Model_staff\\myenv\\Lib\\site-packages\\statsmodels\\tsa\\base\\tsa_model.py:473: ValueWarning: No frequency information was provided, so inferred frequency YS-JAN will be used.\n",
      "  self._init_dates(dates, freq)\n"
     ]
    },
    {
     "name": "stdout",
     "output_type": "stream",
     "text": [
      "Best Parameters used for France - GDP per Capita (USD): {'trend': None, 'damped_trend': False, 'smoothing_level': 0.7, 'smoothing_slope': None, 'initialization_method': None}\n",
      "Loaded best parameters for France - GDP (USD) from ../best_params\\GDP (USD)\\Holt_Winters_France.json: {'trend': 'mul', 'damped_trend': False, 'smoothing_level': 0.7, 'smoothing_slope': 0.5, 'initialization_method': None}\n"
     ]
    },
    {
     "name": "stderr",
     "output_type": "stream",
     "text": [
      "c:\\Users\\admin\\Desktop\\diplomovka\\Code\\Model_staff\\myenv\\Lib\\site-packages\\statsmodels\\tsa\\base\\tsa_model.py:473: ValueWarning: No frequency information was provided, so inferred frequency YS-JAN will be used.\n",
      "  self._init_dates(dates, freq)\n",
      "C:\\Users\\admin\\AppData\\Local\\Temp\\ipykernel_7612\\3673667026.py:138: FutureWarning: the 'smoothing_slope' keyword is deprecated, use 'smoothing_trend' instead.\n",
      "  best_fitted_model = best_model.fit(\n",
      "c:\\Users\\admin\\Desktop\\diplomovka\\Code\\Model_staff\\myenv\\Lib\\site-packages\\statsmodels\\tsa\\holtwinters\\model.py:918: ConvergenceWarning: Optimization failed to converge. Check mle_retvals.\n",
      "  warnings.warn(\n"
     ]
    },
    {
     "name": "stdout",
     "output_type": "stream",
     "text": [
      "Best Parameters used for France - GDP (USD): {'trend': 'mul', 'damped_trend': False, 'smoothing_level': 0.7, 'smoothing_slope': 0.5, 'initialization_method': None}\n",
      "Loaded best parameters for France - Inflation (CPI) from ../best_params\\Inflation (CPI)\\Holt_Winters_France.json: {'trend': 'mul', 'damped_trend': False, 'smoothing_level': 0.7, 'smoothing_slope': 0.9, 'initialization_method': None}\n"
     ]
    },
    {
     "name": "stderr",
     "output_type": "stream",
     "text": [
      "c:\\Users\\admin\\Desktop\\diplomovka\\Code\\Model_staff\\myenv\\Lib\\site-packages\\statsmodels\\tsa\\base\\tsa_model.py:473: ValueWarning: No frequency information was provided, so inferred frequency YS-JAN will be used.\n",
      "  self._init_dates(dates, freq)\n",
      "C:\\Users\\admin\\AppData\\Local\\Temp\\ipykernel_7612\\3673667026.py:138: FutureWarning: the 'smoothing_slope' keyword is deprecated, use 'smoothing_trend' instead.\n",
      "  best_fitted_model = best_model.fit(\n"
     ]
    },
    {
     "name": "stdout",
     "output_type": "stream",
     "text": [
      "Best Parameters used for France - Inflation (CPI): {'trend': 'mul', 'damped_trend': False, 'smoothing_level': 0.7, 'smoothing_slope': 0.9, 'initialization_method': None}\n",
      "Loaded best parameters for France - Unemployment Rate (%) from ../best_params\\Unemployment Rate (%)\\Holt_Winters_France.json: {'trend': 'add', 'damped_trend': False, 'smoothing_level': 0.1, 'smoothing_slope': 0.1, 'initialization_method': None}\n"
     ]
    },
    {
     "name": "stderr",
     "output_type": "stream",
     "text": [
      "c:\\Users\\admin\\Desktop\\diplomovka\\Code\\Model_staff\\myenv\\Lib\\site-packages\\statsmodels\\tsa\\base\\tsa_model.py:473: ValueWarning: No frequency information was provided, so inferred frequency YS-JAN will be used.\n",
      "  self._init_dates(dates, freq)\n",
      "C:\\Users\\admin\\AppData\\Local\\Temp\\ipykernel_7612\\3673667026.py:138: FutureWarning: the 'smoothing_slope' keyword is deprecated, use 'smoothing_trend' instead.\n",
      "  best_fitted_model = best_model.fit(\n"
     ]
    },
    {
     "name": "stdout",
     "output_type": "stream",
     "text": [
      "Best Parameters used for France - Unemployment Rate (%): {'trend': 'add', 'damped_trend': False, 'smoothing_level': 0.1, 'smoothing_slope': 0.1, 'initialization_method': None}\n",
      "Loaded best parameters for France - GDP growth (annual %) from ../best_params\\GDP growth (annual %)\\Holt_Winters_France.json: {'trend': 'add', 'damped_trend': True, 'smoothing_level': 0.1, 'smoothing_slope': None, 'initialization_method': None}\n"
     ]
    },
    {
     "name": "stderr",
     "output_type": "stream",
     "text": [
      "c:\\Users\\admin\\Desktop\\diplomovka\\Code\\Model_staff\\myenv\\Lib\\site-packages\\statsmodels\\tsa\\base\\tsa_model.py:473: ValueWarning: No frequency information was provided, so inferred frequency YS-JAN will be used.\n",
      "  self._init_dates(dates, freq)\n"
     ]
    },
    {
     "name": "stdout",
     "output_type": "stream",
     "text": [
      "Best Parameters used for France - GDP growth (annual %): {'trend': 'add', 'damped_trend': True, 'smoothing_level': 0.1, 'smoothing_slope': None, 'initialization_method': None}\n",
      "Loaded best parameters for France - Imports of goods and services (% of GDP) from ../best_params\\Imports of goods and services (% of GDP)\\Holt_Winters_France.json: {'trend': 'mul', 'damped_trend': False, 'smoothing_level': 0.1, 'smoothing_slope': None, 'initialization_method': None}\n"
     ]
    },
    {
     "name": "stderr",
     "output_type": "stream",
     "text": [
      "c:\\Users\\admin\\Desktop\\diplomovka\\Code\\Model_staff\\myenv\\Lib\\site-packages\\statsmodels\\tsa\\base\\tsa_model.py:473: ValueWarning: No frequency information was provided, so inferred frequency YS-JAN will be used.\n",
      "  self._init_dates(dates, freq)\n"
     ]
    },
    {
     "name": "stdout",
     "output_type": "stream",
     "text": [
      "Best Parameters used for France - Imports of goods and services (% of GDP): {'trend': 'mul', 'damped_trend': False, 'smoothing_level': 0.1, 'smoothing_slope': None, 'initialization_method': None}\n",
      "Loaded best parameters for France - Exports of goods and services (% of GDP) from ../best_params\\Exports of goods and services (% of GDP)\\Holt_Winters_France.json: {'trend': 'add', 'damped_trend': False, 'smoothing_level': 0.1, 'smoothing_slope': None, 'initialization_method': None}\n"
     ]
    },
    {
     "name": "stderr",
     "output_type": "stream",
     "text": [
      "c:\\Users\\admin\\Desktop\\diplomovka\\Code\\Model_staff\\myenv\\Lib\\site-packages\\statsmodels\\tsa\\base\\tsa_model.py:473: ValueWarning: No frequency information was provided, so inferred frequency YS-JAN will be used.\n",
      "  self._init_dates(dates, freq)\n"
     ]
    },
    {
     "name": "stdout",
     "output_type": "stream",
     "text": [
      "Best Parameters used for France - Exports of goods and services (% of GDP): {'trend': 'add', 'damped_trend': False, 'smoothing_level': 0.1, 'smoothing_slope': None, 'initialization_method': None}\n",
      "Loaded best parameters for Italy - GDP per Capita (USD) from ../best_params\\GDP per Capita (USD)\\Holt_Winters_Italy.json: {'trend': None, 'damped_trend': False, 'smoothing_level': 0.3, 'smoothing_slope': None, 'initialization_method': None}\n"
     ]
    },
    {
     "name": "stderr",
     "output_type": "stream",
     "text": [
      "c:\\Users\\admin\\Desktop\\diplomovka\\Code\\Model_staff\\myenv\\Lib\\site-packages\\statsmodels\\tsa\\base\\tsa_model.py:473: ValueWarning: No frequency information was provided, so inferred frequency YS-JAN will be used.\n",
      "  self._init_dates(dates, freq)\n"
     ]
    },
    {
     "name": "stdout",
     "output_type": "stream",
     "text": [
      "Best Parameters used for Italy - GDP per Capita (USD): {'trend': None, 'damped_trend': False, 'smoothing_level': 0.3, 'smoothing_slope': None, 'initialization_method': None}\n",
      "Loaded best parameters for Italy - GDP (USD) from ../best_params\\GDP (USD)\\Holt_Winters_Italy.json: {'trend': None, 'damped_trend': False, 'smoothing_level': 0.3, 'smoothing_slope': None, 'initialization_method': None}\n"
     ]
    },
    {
     "name": "stderr",
     "output_type": "stream",
     "text": [
      "c:\\Users\\admin\\Desktop\\diplomovka\\Code\\Model_staff\\myenv\\Lib\\site-packages\\statsmodels\\tsa\\base\\tsa_model.py:473: ValueWarning: No frequency information was provided, so inferred frequency YS-JAN will be used.\n",
      "  self._init_dates(dates, freq)\n"
     ]
    },
    {
     "name": "stdout",
     "output_type": "stream",
     "text": [
      "Best Parameters used for Italy - GDP (USD): {'trend': None, 'damped_trend': False, 'smoothing_level': 0.3, 'smoothing_slope': None, 'initialization_method': None}\n",
      "Loaded best parameters for Italy - Inflation (CPI) from ../best_params\\Inflation (CPI)\\Holt_Winters_Italy.json: {'trend': 'add', 'damped_trend': False, 'smoothing_level': 0.1, 'smoothing_slope': 0.3, 'initialization_method': None}\n"
     ]
    },
    {
     "name": "stderr",
     "output_type": "stream",
     "text": [
      "c:\\Users\\admin\\Desktop\\diplomovka\\Code\\Model_staff\\myenv\\Lib\\site-packages\\statsmodels\\tsa\\base\\tsa_model.py:473: ValueWarning: No frequency information was provided, so inferred frequency YS-JAN will be used.\n",
      "  self._init_dates(dates, freq)\n",
      "C:\\Users\\admin\\AppData\\Local\\Temp\\ipykernel_7612\\3673667026.py:138: FutureWarning: the 'smoothing_slope' keyword is deprecated, use 'smoothing_trend' instead.\n",
      "  best_fitted_model = best_model.fit(\n"
     ]
    },
    {
     "name": "stdout",
     "output_type": "stream",
     "text": [
      "Best Parameters used for Italy - Inflation (CPI): {'trend': 'add', 'damped_trend': False, 'smoothing_level': 0.1, 'smoothing_slope': 0.3, 'initialization_method': None}\n",
      "Loaded best parameters for Italy - Unemployment Rate (%) from ../best_params\\Unemployment Rate (%)\\Holt_Winters_Italy.json: {'trend': 'mul', 'damped_trend': False, 'smoothing_level': 0.7, 'smoothing_slope': 0.9, 'initialization_method': None}\n"
     ]
    },
    {
     "name": "stderr",
     "output_type": "stream",
     "text": [
      "c:\\Users\\admin\\Desktop\\diplomovka\\Code\\Model_staff\\myenv\\Lib\\site-packages\\statsmodels\\tsa\\base\\tsa_model.py:473: ValueWarning: No frequency information was provided, so inferred frequency YS-JAN will be used.\n",
      "  self._init_dates(dates, freq)\n",
      "C:\\Users\\admin\\AppData\\Local\\Temp\\ipykernel_7612\\3673667026.py:138: FutureWarning: the 'smoothing_slope' keyword is deprecated, use 'smoothing_trend' instead.\n",
      "  best_fitted_model = best_model.fit(\n"
     ]
    },
    {
     "name": "stdout",
     "output_type": "stream",
     "text": [
      "Best Parameters used for Italy - Unemployment Rate (%): {'trend': 'mul', 'damped_trend': False, 'smoothing_level': 0.7, 'smoothing_slope': 0.9, 'initialization_method': None}\n",
      "Loaded best parameters for Italy - GDP growth (annual %) from ../best_params\\GDP growth (annual %)\\Holt_Winters_Italy.json: {'trend': 'add', 'damped_trend': True, 'smoothing_level': 0.5, 'smoothing_slope': 0.9, 'initialization_method': None}\n"
     ]
    },
    {
     "name": "stderr",
     "output_type": "stream",
     "text": [
      "c:\\Users\\admin\\Desktop\\diplomovka\\Code\\Model_staff\\myenv\\Lib\\site-packages\\statsmodels\\tsa\\base\\tsa_model.py:473: ValueWarning: No frequency information was provided, so inferred frequency YS-JAN will be used.\n",
      "  self._init_dates(dates, freq)\n",
      "C:\\Users\\admin\\AppData\\Local\\Temp\\ipykernel_7612\\3673667026.py:138: FutureWarning: the 'smoothing_slope' keyword is deprecated, use 'smoothing_trend' instead.\n",
      "  best_fitted_model = best_model.fit(\n"
     ]
    },
    {
     "name": "stdout",
     "output_type": "stream",
     "text": [
      "Best Parameters used for Italy - GDP growth (annual %): {'trend': 'add', 'damped_trend': True, 'smoothing_level': 0.5, 'smoothing_slope': 0.9, 'initialization_method': None}\n",
      "Loaded best parameters for Italy - Imports of goods and services (% of GDP) from ../best_params\\Imports of goods and services (% of GDP)\\Holt_Winters_Italy.json: {'trend': 'mul', 'damped_trend': False, 'smoothing_level': 0.1, 'smoothing_slope': 0.1, 'initialization_method': None}\n"
     ]
    },
    {
     "name": "stderr",
     "output_type": "stream",
     "text": [
      "c:\\Users\\admin\\Desktop\\diplomovka\\Code\\Model_staff\\myenv\\Lib\\site-packages\\statsmodels\\tsa\\base\\tsa_model.py:473: ValueWarning: No frequency information was provided, so inferred frequency YS-JAN will be used.\n",
      "  self._init_dates(dates, freq)\n",
      "C:\\Users\\admin\\AppData\\Local\\Temp\\ipykernel_7612\\3673667026.py:138: FutureWarning: the 'smoothing_slope' keyword is deprecated, use 'smoothing_trend' instead.\n",
      "  best_fitted_model = best_model.fit(\n",
      "c:\\Users\\admin\\Desktop\\diplomovka\\Code\\Model_staff\\myenv\\Lib\\site-packages\\statsmodels\\tsa\\holtwinters\\model.py:84: RuntimeWarning: overflow encountered in matmul\n",
      "  return err.T @ err\n"
     ]
    },
    {
     "name": "stdout",
     "output_type": "stream",
     "text": [
      "Best Parameters used for Italy - Imports of goods and services (% of GDP): {'trend': 'mul', 'damped_trend': False, 'smoothing_level': 0.1, 'smoothing_slope': 0.1, 'initialization_method': None}\n",
      "Loaded best parameters for Italy - Exports of goods and services (% of GDP) from ../best_params\\Exports of goods and services (% of GDP)\\Holt_Winters_Italy.json: {'trend': 'mul', 'damped_trend': False, 'smoothing_level': 0.7, 'smoothing_slope': 0.1, 'initialization_method': None}\n"
     ]
    },
    {
     "name": "stderr",
     "output_type": "stream",
     "text": [
      "c:\\Users\\admin\\Desktop\\diplomovka\\Code\\Model_staff\\myenv\\Lib\\site-packages\\statsmodels\\tsa\\base\\tsa_model.py:473: ValueWarning: No frequency information was provided, so inferred frequency YS-JAN will be used.\n",
      "  self._init_dates(dates, freq)\n",
      "C:\\Users\\admin\\AppData\\Local\\Temp\\ipykernel_7612\\3673667026.py:138: FutureWarning: the 'smoothing_slope' keyword is deprecated, use 'smoothing_trend' instead.\n",
      "  best_fitted_model = best_model.fit(\n"
     ]
    },
    {
     "name": "stdout",
     "output_type": "stream",
     "text": [
      "Best Parameters used for Italy - Exports of goods and services (% of GDP): {'trend': 'mul', 'damped_trend': False, 'smoothing_level': 0.7, 'smoothing_slope': 0.1, 'initialization_method': None}\n"
     ]
    }
   ],
   "source": [
    "import os\n",
    "import json\n",
    "import pandas as pd\n",
    "import numpy as np\n",
    "\n",
    "from sklearn.metrics import mean_squared_error\n",
    "\n",
    "from statsmodels.tsa.holtwinters import ExponentialSmoothing\n",
    "\n",
    "\n",
    "\n",
    "import matplotlib.pyplot as plt\n",
    "\n",
    "def save_plot(train, test_y, predictions, country, indicator, model_name):\n",
    "    \"\"\"Function to save the plot in both Indicators and Countries folders.\"\"\"\n",
    "\n",
    "    model_colors = {\n",
    "    \"ARIMA\": \"blue\",\n",
    "    \"Holt_Winters\": \"yellow\",\n",
    "    \"LSTM\": \"black\",\n",
    "    \"XGBoost\": \"pink\",\n",
    "    \"Prophet\": \"brown\"\n",
    "}\n",
    "\n",
    "    # Plotting predicted vs actual\n",
    "    plt.figure(figsize=(10, 6))\n",
    "    if model_name == \"Prophet\":\n",
    "        plt.plot(train['ds'], train['y'], label='Train Data', color='green', linestyle='--')\n",
    "        plt.plot(test_y['ds'], test_y['y'], label='Actual', color='red', linestyle='--')\n",
    "        plt.plot(test_y['ds'], predictions, label=f'Predicted({model_name})', color=f'{model_colors[\"Prophet\"]}', \n",
    "                 linestyle='-', marker='o')\n",
    "    else:\n",
    "        plt.plot(train.index, train, label='Train Data', color='green', linestyle='--')\n",
    "        plt.plot(test_y.index, test_y, label='Actual', color='red', linestyle='--')\n",
    "        plt.plot(test_y.index, predictions, label=f'Predicted({model_name})', color=f'{model_colors[model_name]}', \n",
    "                 linestyle='-', marker='o')\n",
    "    \n",
    "\n",
    "    \n",
    "    plt.title(f'Predicted({model_name}) vs Actual for {country} - {indicator}')\n",
    "    plt.xlabel('Year')\n",
    "    plt.ylabel('Value')\n",
    "    plt.legend()\n",
    "\n",
    "    # Create subfolder for the indicator if it doesn't exist\n",
    "    indicator_folder = os.path.join('../images', 'model_plot', 'Indicators', indicator)\n",
    "    os.makedirs(indicator_folder, exist_ok=True)\n",
    "    \n",
    "    # Save the plot in the Indicators folder with dynamic model name\n",
    "    plot_filename_indicator = os.path.join(indicator_folder, f'{model_name}_{country.replace(\" \", \"_\")}_{indicator.replace(\" \", \"_\")}.png')\n",
    "    plt.savefig(plot_filename_indicator)\n",
    "\n",
    "    # Create subfolder for the country if it doesn't exist\n",
    "    country_folder = os.path.join('../images', 'model_plot', 'Countries', country)\n",
    "    os.makedirs(country_folder, exist_ok=True)\n",
    "    \n",
    "    # Save the same plot in the Countries folder with dynamic model name\n",
    "    plot_filename_country = os.path.join(country_folder, f'{model_name}_{country.replace(\" \", \"_\")}_{indicator.replace(\" \", \"_\")}.png')\n",
    "    plt.savefig(plot_filename_country)\n",
    "\n",
    "    plt.close()\n",
    "\n",
    "\n",
    "def train_holt_winters(train, test_y, country, indicator):\n",
    "    params_dir = os.path.join(\"../best_params\", indicator)\n",
    "    params_file = os.path.join(params_dir, f\"Holt_Winters_{country}.json\")\n",
    "    best_params = None\n",
    "\n",
    "    # Check if the best parameters JSON file exists\n",
    "    if os.path.exists(params_file):\n",
    "        with open(params_file, \"r\") as f:\n",
    "            best_params = json.load(f)\n",
    "        print(f\"Loaded best parameters for {country} - {indicator} from {params_file}: {best_params}\")\n",
    "    else:\n",
    "        # If not, run the grid search\n",
    "        print(f\"No pre-existing parameters for {country} - {indicator}. Running grid search.\")\n",
    "        param_grid = {\n",
    "            'trend': [None, 'add', 'mul'],  # Focus on trend options\n",
    "            'damped': [True, False],       # Damped trend\n",
    "            'smoothing_level': [None, 0.1, 0.3, 0.5, 0.7, 0.9],  # Smoothing for level\n",
    "            'smoothing_slope': [None, 0.1, 0.3, 0.5, 0.7, 0.9],  # Smoothing for trend\n",
    "            'initialization_method': [None],\n",
    "        }\n",
    "\n",
    "        best_rmse = float('inf')\n",
    "        for trend in param_grid['trend']:\n",
    "            for damped in param_grid['damped']:\n",
    "                for alpha in param_grid['smoothing_level']:\n",
    "                    for beta in param_grid['smoothing_slope']:\n",
    "                        for init_level in param_grid['initialization_method']:\n",
    "                            try:\n",
    "                                # Initialize model\n",
    "                                model = ExponentialSmoothing(\n",
    "                                    train,\n",
    "                                    trend=trend,\n",
    "                                    damped_trend=damped,\n",
    "                                    seasonal=None\n",
    "                                )\n",
    "                                # Fit model with specific smoothing parameters\n",
    "                                fitted_model = model.fit(\n",
    "                                    smoothing_level=alpha,\n",
    "                                    smoothing_slope=beta,\n",
    "                                    initial_level=init_level,\n",
    "                                    optimized=True\n",
    "                                )\n",
    "                                # Forecast and calculate RMSE\n",
    "                                predictions = fitted_model.forecast(len(test_y))\n",
    "                                rmse = np.sqrt(mean_squared_error(test_y, predictions))\n",
    "\n",
    "                                # Track the best parameters\n",
    "                                if rmse < best_rmse:\n",
    "                                    best_rmse = rmse\n",
    "                                    best_params = {\n",
    "                                        \"trend\": trend,\n",
    "                                        \"damped_trend\": damped,\n",
    "                                        \"smoothing_level\": alpha,\n",
    "                                        \"smoothing_slope\": beta,\n",
    "                                        \"initialization_method\": init_level\n",
    "                                    }\n",
    "                            except Exception as e:\n",
    "                                # Log errors for debugging\n",
    "                                print(f\"Error with parameters: trend={trend}, damped={damped}, \"\n",
    "                                      f\"alpha={alpha}, beta={beta}. Error: {e}\")\n",
    "                                continue\n",
    "\n",
    "        # Save the best parameters to JSON for future use\n",
    "        os.makedirs(params_dir, exist_ok=True)\n",
    "        with open(params_file, \"w\") as f:\n",
    "            json.dump(best_params, f, indent=4)\n",
    "        print(f\"Saved best parameters for {country} - {indicator} to {params_file}: {best_params}\")\n",
    "\n",
    "    # Train the final model using the best parameters (loaded or discovered)\n",
    "    best_model = ExponentialSmoothing(\n",
    "        train,\n",
    "        trend=best_params[\"trend\"],\n",
    "        damped_trend=best_params[\"damped_trend\"]\n",
    "    )\n",
    "    best_fitted_model = best_model.fit(\n",
    "        smoothing_level=best_params[\"smoothing_level\"],\n",
    "        smoothing_slope=best_params[\"smoothing_slope\"],\n",
    "        optimized=True\n",
    "    )\n",
    "    predictions = best_fitted_model.forecast(len(test_y))\n",
    "\n",
    "    # Call the save_plot function to save the plot\n",
    "    save_plot(train, test_y, predictions, country, indicator, model_name=\"Holt_Winters\")\n",
    "\n",
    "    print(f\"Best Parameters used for {country} - {indicator}: {best_params}\")\n",
    "    return np.sqrt(mean_squared_error(test_y, predictions)), predictions\n",
    "\n",
    "\n",
    "\n",
    "\n",
    "with open(\"../countries.json\", \"r\") as f:\n",
    "    country_names = json.load(f)\n",
    "\n",
    "with open(\"../indicators.json\", \"r\") as f:\n",
    "    indicators = json.load(f)\n",
    "\n",
    "data_folder = \"../data/base\"\n",
    "model_errors_rmse = {}\n",
    "log_data = []\n",
    "country_indicators_plots = {}\n",
    "for country, country_code in country_names.items():\n",
    "    for indicator, indicator_code in indicators.items():\n",
    "        filename = f\"{country.replace(' ', '_')}_{indicator.replace(' ', '_')}.parquet\"\n",
    "        filepath = os.path.join(data_folder, filename)\n",
    "        \n",
    "        if os.path.exists(filepath):\n",
    "            df = pd.read_parquet(filepath)\n",
    "            if 'Year' in df.columns and 'Value' in df.columns:\n",
    "                df = df.set_index('Year').sort_index()\n",
    "                df.index = pd.to_datetime(df.index, format='%Y')\n",
    "                df = df.dropna()\n",
    "                df = df.drop('Indicator', axis = 1)\n",
    "                df_original = df.copy()\n",
    "\n",
    "                \n",
    "                \n",
    "                #df = df.dropna()\n",
    "                train_size = int(len(df) * 0.8)\n",
    "\n",
    "\n",
    "                \n",
    "                model_errors_rmse[(country, indicator)] = {}\n",
    "\n",
    "                model_errors_rmse[(country, indicator)]['Holt-Winters'] , es_pred = train_holt_winters(df_original.iloc[:train_size]['Value'], \n",
    "                                                                                             df_original.iloc[train_size:]['Value'],\n",
    "                                                                                             country,indicator)\n",
    "\n",
    "\n",
    "                \n",
    "                sorted_models = sorted(model_errors_rmse[(country, indicator)].items(), key=lambda x: x[1])\n",
    "                log_current_data = []\n",
    "                for rank, (model_name, rmse) in enumerate(sorted_models, start=1):\n",
    "                    log_data.append([country, indicator, model_name, rmse, rank])\n",
    "                    log_current_data.append([country, indicator, model_name, rmse, rank])\n",
    "\n",
    "\n",
    "\n",
    "\n",
    "from datetime import datetime\n",
    "model =\"ExponentialSmoothing\"\n",
    "log_dir = f\"../data/{model}_train\"\n",
    "os.makedirs(log_dir, exist_ok=True)\n",
    "\n",
    "timestamp = datetime.now().strftime(\"%Y-%m-%d--%H-%M\")\n",
    "log_filename = os.path.join(log_dir, f\"{model}_error_log_{timestamp}.csv\")\n",
    "\n",
    "log_df = pd.DataFrame(log_data, columns=['Country', 'Indicator', 'Model', 'RMSE', 'Rank'])\n",
    "log_df.to_csv(log_filename, index=False)\n"
   ]
  },
  {
   "cell_type": "markdown",
   "metadata": {},
   "source": [
    "### OLD VERSIONS"
   ]
  },
  {
   "cell_type": "code",
   "execution_count": null,
   "metadata": {},
   "outputs": [],
   "source": [
    "import os\n",
    "import json\n",
    "import pandas as pd\n",
    "import numpy as np\n",
    "\n",
    "from sklearn.metrics import mean_squared_error\n",
    "\n",
    "from statsmodels.tsa.holtwinters import ExponentialSmoothing\n",
    "\n",
    "\n",
    "\n",
    "import matplotlib.pyplot as plt\n",
    "\n",
    "def save_plot(train, test_y, predictions, country, indicator, model_name):\n",
    "    \"\"\"Function to save the plot in both Indicators and Countries folders.\"\"\"\n",
    "\n",
    "    model_colors = {\n",
    "    \"ARIMA\": \"blue\",\n",
    "    \"Holt_Winters\": \"yellow\",\n",
    "    \"LSTM\": \"black\",\n",
    "    \"XGBoost\": \"pink\",\n",
    "    \"Prophet\": \"brown\"\n",
    "}\n",
    "\n",
    "    # Plotting predicted vs actual\n",
    "    plt.figure(figsize=(10, 6))\n",
    "    if model_name == \"Prophet\":\n",
    "        plt.plot(train['ds'], train['y'], label='Train Data', color='green', linestyle='--')\n",
    "        plt.plot(test_y['ds'], test_y['y'], label='Actual', color='red', linestyle='--')\n",
    "        plt.plot(test_y['ds'], predictions, label=f'Predicted({model_name})', color=f'{model_colors[\"Prophet\"]}', \n",
    "                 linestyle='-', marker='o')\n",
    "    else:\n",
    "        plt.plot(train.index, train, label='Train Data', color='green', linestyle='--')\n",
    "        plt.plot(test_y.index, test_y, label='Actual', color='red', linestyle='--')\n",
    "        plt.plot(test_y.index, predictions, label=f'Predicted({model_name})', color=f'{model_colors[model_name]}', \n",
    "                 linestyle='-', marker='o')\n",
    "    \n",
    "\n",
    "    \n",
    "    plt.title(f'Predicted({model_name}) vs Actual for {country} - {indicator}')\n",
    "    plt.xlabel('Year')\n",
    "    plt.ylabel('Value')\n",
    "    plt.legend()\n",
    "\n",
    "    # Create subfolder for the indicator if it doesn't exist\n",
    "    indicator_folder = os.path.join('../images', 'model_plot', 'Indicators', indicator)\n",
    "    os.makedirs(indicator_folder, exist_ok=True)\n",
    "    \n",
    "    # Save the plot in the Indicators folder with dynamic model name\n",
    "    plot_filename_indicator = os.path.join(indicator_folder, f'{model_name}_{country.replace(\" \", \"_\")}_{indicator.replace(\" \", \"_\")}.png')\n",
    "    plt.savefig(plot_filename_indicator)\n",
    "\n",
    "    # Create subfolder for the country if it doesn't exist\n",
    "    country_folder = os.path.join('../images', 'model_plot', 'Countries', country)\n",
    "    os.makedirs(country_folder, exist_ok=True)\n",
    "    \n",
    "    # Save the same plot in the Countries folder with dynamic model name\n",
    "    plot_filename_country = os.path.join(country_folder, f'{model_name}_{country.replace(\" \", \"_\")}_{indicator.replace(\" \", \"_\")}.png')\n",
    "    plt.savefig(plot_filename_country)\n",
    "\n",
    "    plt.close()\n",
    "\n",
    "\n",
    "def train_holt_winters(train, test_y, country, indicator):\n",
    "    param_grid = {\n",
    "        'trend': [None, 'add', 'mul'],  # Focus on trend options\n",
    "        'damped': [True, False],       # Damped trend\n",
    "        'smoothing_level': [None, 0.1, 0.3, 0.5, 0.7, 0.9],  # Smoothing for level\n",
    "        'smoothing_slope': [None, 0.1, 0.3, 0.5, 0.7, 0.9],  # Smoothing for trend\n",
    "        'initialization_method': [None, 0.1, 0.2, 0.3, 0.4, 0.5, 0.6, 0.7, 0.8, 0.9],\n",
    "    }\n",
    "\n",
    "    best_rmse = float('inf')\n",
    "    best_params = None\n",
    "\n",
    "    for trend in param_grid['trend']:\n",
    "        for damped in param_grid['damped']:\n",
    "            for alpha in param_grid['smoothing_level']:\n",
    "                for beta in param_grid['smoothing_slope']:\n",
    "                    for init_level in param_grid['initialization_method']:\n",
    "                        try:\n",
    "                            # Initialize model\n",
    "                            model = ExponentialSmoothing(\n",
    "                                train,\n",
    "                                trend=trend,\n",
    "                                damped_trend=damped,\n",
    "                                seasonal=None\n",
    "                            )\n",
    "                            # Fit model with specific smoothing parameters\n",
    "                            fitted_model = model.fit(\n",
    "                                smoothing_level=alpha,\n",
    "                                smoothing_slope=beta,\n",
    "                                initial_level=init_level,\n",
    "                                optimized=True\n",
    "                            )\n",
    "                            # Forecast and calculate RMSE\n",
    "                            predictions = fitted_model.forecast(len(test_y))\n",
    "                            rmse = np.sqrt(mean_squared_error(test_y, predictions))\n",
    "\n",
    "                            # Track the best parameters\n",
    "                            if rmse < best_rmse:\n",
    "                                best_rmse = rmse\n",
    "                                best_params = {\n",
    "                                    \"trend\": trend,\n",
    "                                    \"damped_trend\": damped,\n",
    "                                    \"smoothing_level\": alpha,\n",
    "                                    \"smoothing_slope\": beta,\n",
    "                                    \"initialization_method\": init_level\n",
    "                                }\n",
    "                        except Exception as e:\n",
    "                            # Log errors for debugging\n",
    "                            print(f\"Error with parameters: trend={trend}, damped={damped}, \"\n",
    "                                  f\"alpha={alpha}, beta={beta}. Error: {e}\")\n",
    "                            continue\n",
    "\n",
    "    # Train the final best model\n",
    "    best_model = ExponentialSmoothing(\n",
    "        train,\n",
    "        trend=best_params[\"trend\"],\n",
    "        damped_trend=best_params[\"damped_trend\"]\n",
    "    )\n",
    "    best_fitted_model = best_model.fit(\n",
    "        smoothing_level=best_params[\"smoothing_level\"],\n",
    "        smoothing_slope=best_params[\"smoothing_slope\"],\n",
    "        optimized=True\n",
    "    )\n",
    "    predictions = best_fitted_model.forecast(len(test_y))\n",
    "\n",
    "    # Save the best parameters to JSON\n",
    "    params_dir = os.path.join(\"../best_params\", indicator)\n",
    "    os.makedirs(params_dir, exist_ok=True)\n",
    "    params_file = os.path.join(params_dir, f\"Holt_Winters_{country}.json\")\n",
    "    with open(params_file, \"w\") as f:\n",
    "        json.dump(best_params, f, indent=4)\n",
    "\n",
    "    # Call the save_plot function to save the plot\n",
    "    save_plot(train, test_y, predictions, country, indicator, model_name=\"Holt_Winters\")\n",
    "\n",
    "    print(f\"Best Parameters saved for {country} - {indicator}: {best_params}\")\n",
    "    return best_rmse, predictions\n",
    "\n",
    "\n",
    "\n",
    "with open(\"../countries.json\", \"r\") as f:\n",
    "    country_names = json.load(f)\n",
    "\n",
    "with open(\"../indicators.json\", \"r\") as f:\n",
    "    indicators = json.load(f)\n",
    "\n",
    "data_folder = \"../data/base\"\n",
    "model_errors_rmse = {}\n",
    "log_data = []\n",
    "country_indicators_plots = {}\n",
    "for country, country_code in country_names.items():\n",
    "    for indicator, indicator_code in indicators.items():\n",
    "        filename = f\"{country.replace(' ', '_')}_{indicator.replace(' ', '_')}.parquet\"\n",
    "        filepath = os.path.join(data_folder, filename)\n",
    "        \n",
    "        if os.path.exists(filepath):\n",
    "            df = pd.read_parquet(filepath)\n",
    "            if 'Year' in df.columns and 'Value' in df.columns:\n",
    "                df = df.set_index('Year').sort_index()\n",
    "                df.index = pd.to_datetime(df.index, format='%Y')\n",
    "                df = df.dropna()\n",
    "                df = df.drop('Indicator', axis = 1)\n",
    "                df_original = df.copy()\n",
    "\n",
    "                \n",
    "                \n",
    "                #df = df.dropna()\n",
    "                train_size = int(len(df) * 0.8)\n",
    "\n",
    "\n",
    "                \n",
    "                model_errors_rmse[(country, indicator)] = {}\n",
    "\n",
    "                model_errors_rmse[(country, indicator)]['Holt-Winters'] , es_pred = train_holt_winters(df_original.iloc[:train_size]['Value'], \n",
    "                                                                                             df_original.iloc[train_size:]['Value'],\n",
    "                                                                                             country,indicator)\n",
    "\n",
    "\n",
    "                \n",
    "                sorted_models = sorted(model_errors_rmse[(country, indicator)].items(), key=lambda x: x[1])\n",
    "                log_current_data = []\n",
    "                for rank, (model_name, rmse) in enumerate(sorted_models, start=1):\n",
    "                    log_data.append([country, indicator, model_name, rmse, rank])\n",
    "                    log_current_data.append([country, indicator, model_name, rmse, rank])\n",
    "\n",
    "\n",
    "\n",
    "\n",
    "from datetime import datetime\n",
    "model =\"ExponentialSmoothing\"\n",
    "log_dir = f\"../data/{model}_train\"\n",
    "os.makedirs(log_dir, exist_ok=True)\n",
    "\n",
    "timestamp = datetime.now().strftime(\"%Y-%m-%d--%H-%M\")\n",
    "log_filename = os.path.join(log_dir, f\"{model}_error_log_{timestamp}.csv\")\n",
    "\n",
    "log_df = pd.DataFrame(log_data, columns=['Country', 'Indicator', 'Model', 'RMSE', 'Rank'])\n",
    "log_df.to_csv(log_filename, index=False)\n"
   ]
  }
 ],
 "metadata": {
  "kernelspec": {
   "display_name": "myenv",
   "language": "python",
   "name": "python3"
  },
  "language_info": {
   "codemirror_mode": {
    "name": "ipython",
    "version": 3
   },
   "file_extension": ".py",
   "mimetype": "text/x-python",
   "name": "python",
   "nbconvert_exporter": "python",
   "pygments_lexer": "ipython3",
   "version": "3.12.8"
  }
 },
 "nbformat": 4,
 "nbformat_minor": 2
}
